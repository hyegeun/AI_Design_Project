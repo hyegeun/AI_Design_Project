{
 "cells": [
  {
   "cell_type": "code",
   "execution_count": 3,
   "metadata": {
    "colab": {
     "base_uri": "https://localhost:8080/"
    },
    "executionInfo": {
     "elapsed": 8569,
     "status": "ok",
     "timestamp": 1606875278901,
     "user": {
      "displayName": "설재형",
      "photoUrl": "",
      "userId": "14774941427314282713"
     },
     "user_tz": -540
    },
    "id": "_adAcAZjAbid",
    "outputId": "a1a647cc-8676-42b5-ee8e-5c6880cf2594"
   },
   "outputs": [
    {
     "name": "stdout",
     "output_type": "stream",
     "text": [
      "Collecting bayesian-optimization\n",
      "  Downloading bayesian-optimization-1.2.0.tar.gz (14 kB)\n",
      "Requirement already satisfied: numpy>=1.9.0 in c:\\users\\user\\anaconda3\\lib\\site-packages (from bayesian-optimization) (1.18.5)\n",
      "Requirement already satisfied: scipy>=0.14.0 in c:\\users\\user\\anaconda3\\lib\\site-packages (from bayesian-optimization) (1.5.0)\n",
      "Requirement already satisfied: scikit-learn>=0.18.0 in c:\\users\\user\\anaconda3\\lib\\site-packages (from bayesian-optimization) (0.23.1)\n",
      "Requirement already satisfied: threadpoolctl>=2.0.0 in c:\\users\\user\\anaconda3\\lib\\site-packages (from scikit-learn>=0.18.0->bayesian-optimization) (2.1.0)\n",
      "Requirement already satisfied: joblib>=0.11 in c:\\users\\user\\anaconda3\\lib\\site-packages (from scikit-learn>=0.18.0->bayesian-optimization) (0.16.0)\n",
      "Building wheels for collected packages: bayesian-optimization\n",
      "  Building wheel for bayesian-optimization (setup.py): started\n",
      "  Building wheel for bayesian-optimization (setup.py): finished with status 'done'\n",
      "  Created wheel for bayesian-optimization: filename=bayesian_optimization-1.2.0-py3-none-any.whl size=11689 sha256=c1035d78560ed050ce4c73cdfcc2ad2419f355b3d29354d80aea144a350a6e77\n",
      "  Stored in directory: c:\\users\\user\\appdata\\local\\pip\\cache\\wheels\\37\\fa\\19\\f93e793d3944567a60b3ab93b446cf7370cc82c60c1d1c613f\n",
      "Successfully built bayesian-optimization\n",
      "Installing collected packages: bayesian-optimization\n",
      "Successfully installed bayesian-optimization-1.2.0\n"
     ]
    }
   ],
   "source": [
    "import pandas as pd\n",
    "import numpy as np\n",
    "# 시각화 관련\n",
    "import matplotlib.pyplot as plt\n",
    "from matplotlib import font_manager\n",
    "plt.rc('font', family='Malgun Gothic')\n",
    "plt.rc('axes', unicode_minus=False)\n",
    "import seaborn as sns\n",
    "# score 관련\n",
    "from sklearn.metrics import r2_score\n",
    "from sklearn.metrics import mean_squared_error \n",
    "# 모델링 관련\n",
    "from sklearn.model_selection import KFold, cross_val_score, train_test_split\n",
    "from sklearn.linear_model import LinearRegression\n",
    "import lightgbm as lgb\n",
    "import xgboost as xgb   \n",
    "from sklearn.ensemble import RandomForestRegressor, GradientBoostingRegressor       \n",
    "!pip install bayesian-optimization\n",
    "from bayes_opt import BayesianOptimization "
   ]
  },
  {
   "cell_type": "markdown",
   "metadata": {
    "id": "cvQouCp_RMhC"
   },
   "source": [
    "#raw 데이터"
   ]
  },
  {
   "cell_type": "code",
   "execution_count": 4,
   "metadata": {
    "colab": {
     "base_uri": "https://localhost:8080/",
     "height": 1000
    },
    "executionInfo": {
     "elapsed": 2172,
     "status": "ok",
     "timestamp": 1606875281768,
     "user": {
      "displayName": "설재형",
      "photoUrl": "",
      "userId": "14774941427314282713"
     },
     "user_tz": -540
    },
    "id": "-xdqDdM8Af7F",
    "outputId": "1f3ef0ba-5959-4de6-9c8b-303f45938ad7"
   },
   "outputs": [
    {
     "data": {
      "text/html": [
       "<div>\n",
       "<style scoped>\n",
       "    .dataframe tbody tr th:only-of-type {\n",
       "        vertical-align: middle;\n",
       "    }\n",
       "\n",
       "    .dataframe tbody tr th {\n",
       "        vertical-align: top;\n",
       "    }\n",
       "\n",
       "    .dataframe thead th {\n",
       "        text-align: right;\n",
       "    }\n",
       "</style>\n",
       "<table border=\"1\" class=\"dataframe\">\n",
       "  <thead>\n",
       "    <tr style=\"text-align: right;\">\n",
       "      <th></th>\n",
       "      <th>순번</th>\n",
       "      <th>영화명</th>\n",
       "      <th>감독</th>\n",
       "      <th>제작사</th>\n",
       "      <th>수입사</th>\n",
       "      <th>배급사</th>\n",
       "      <th>개봉일</th>\n",
       "      <th>영화유형</th>\n",
       "      <th>영화형태</th>\n",
       "      <th>국적</th>\n",
       "      <th>전국스크린수</th>\n",
       "      <th>전국매출액</th>\n",
       "      <th>전국관객수</th>\n",
       "      <th>서울매출액</th>\n",
       "      <th>서울관객수</th>\n",
       "      <th>장르</th>\n",
       "      <th>등급</th>\n",
       "      <th>영화구분</th>\n",
       "    </tr>\n",
       "  </thead>\n",
       "  <tbody>\n",
       "    <tr>\n",
       "      <th>0</th>\n",
       "      <td>1</td>\n",
       "      <td>명량</td>\n",
       "      <td>김한민</td>\n",
       "      <td>(주)빅스톤픽쳐스</td>\n",
       "      <td>NaN</td>\n",
       "      <td>씨제이이앤엠(주)</td>\n",
       "      <td>2014-07-30</td>\n",
       "      <td>개봉영화</td>\n",
       "      <td>장편</td>\n",
       "      <td>한국</td>\n",
       "      <td>1,587</td>\n",
       "      <td>135,748,398,910</td>\n",
       "      <td>17,613,682</td>\n",
       "      <td>33,121,225,810</td>\n",
       "      <td>4,163,666</td>\n",
       "      <td>사극</td>\n",
       "      <td>15세이상관람가</td>\n",
       "      <td>일반영화</td>\n",
       "    </tr>\n",
       "    <tr>\n",
       "      <th>1</th>\n",
       "      <td>2</td>\n",
       "      <td>극한직업</td>\n",
       "      <td>이병헌</td>\n",
       "      <td>(주)어바웃필름,영화사 해그림 주식회사,씨제이이앤엠(주)</td>\n",
       "      <td>NaN</td>\n",
       "      <td>씨제이이앤엠(주)</td>\n",
       "      <td>2019-01-23</td>\n",
       "      <td>개봉영화</td>\n",
       "      <td>장편</td>\n",
       "      <td>한국</td>\n",
       "      <td>1,978</td>\n",
       "      <td>139,647,979,516</td>\n",
       "      <td>16,264,944</td>\n",
       "      <td>31,858,660,536</td>\n",
       "      <td>3,638,287</td>\n",
       "      <td>코미디</td>\n",
       "      <td>15세이상관람가</td>\n",
       "      <td>일반영화</td>\n",
       "    </tr>\n",
       "    <tr>\n",
       "      <th>2</th>\n",
       "      <td>3</td>\n",
       "      <td>신과함께-죄와 벌</td>\n",
       "      <td>김용화</td>\n",
       "      <td>리얼라이즈픽쳐스(주),(주)덱스터스튜디오</td>\n",
       "      <td>NaN</td>\n",
       "      <td>롯데쇼핑㈜롯데엔터테인먼트</td>\n",
       "      <td>2017-12-20</td>\n",
       "      <td>개봉영화</td>\n",
       "      <td>장편</td>\n",
       "      <td>한국</td>\n",
       "      <td>1,912</td>\n",
       "      <td>115,698,654,137</td>\n",
       "      <td>14,410,754</td>\n",
       "      <td>27,530,825,087</td>\n",
       "      <td>3,346,172</td>\n",
       "      <td>판타지</td>\n",
       "      <td>12세이상관람가</td>\n",
       "      <td>일반영화</td>\n",
       "    </tr>\n",
       "    <tr>\n",
       "      <th>3</th>\n",
       "      <td>4</td>\n",
       "      <td>국제시장</td>\n",
       "      <td>윤제균</td>\n",
       "      <td>(주)제이케이필름,씨제이이앤엠(주)</td>\n",
       "      <td>NaN</td>\n",
       "      <td>씨제이이앤엠(주)</td>\n",
       "      <td>2014-12-17</td>\n",
       "      <td>개봉영화</td>\n",
       "      <td>장편</td>\n",
       "      <td>한국</td>\n",
       "      <td>966</td>\n",
       "      <td>110,828,014,630</td>\n",
       "      <td>14,245,998</td>\n",
       "      <td>25,842,519,330</td>\n",
       "      <td>3,233,946</td>\n",
       "      <td>드라마</td>\n",
       "      <td>12세이상관람가</td>\n",
       "      <td>일반영화</td>\n",
       "    </tr>\n",
       "    <tr>\n",
       "      <th>4</th>\n",
       "      <td>5</td>\n",
       "      <td>어벤져스: 엔드게임</td>\n",
       "      <td>안소니 루소,조 루소</td>\n",
       "      <td>NaN</td>\n",
       "      <td>월트디즈니컴퍼니코리아 유한책임회사</td>\n",
       "      <td>월트디즈니컴퍼니코리아 유한책임회사</td>\n",
       "      <td>2019-04-24</td>\n",
       "      <td>개봉영화</td>\n",
       "      <td>장편</td>\n",
       "      <td>미국</td>\n",
       "      <td>2,835</td>\n",
       "      <td>122,182,694,160</td>\n",
       "      <td>13,934,592</td>\n",
       "      <td>33,577,136,860</td>\n",
       "      <td>3,597,963</td>\n",
       "      <td>액션</td>\n",
       "      <td>12세이상관람가</td>\n",
       "      <td>일반영화</td>\n",
       "    </tr>\n",
       "    <tr>\n",
       "      <th>...</th>\n",
       "      <td>...</td>\n",
       "      <td>...</td>\n",
       "      <td>...</td>\n",
       "      <td>...</td>\n",
       "      <td>...</td>\n",
       "      <td>...</td>\n",
       "      <td>...</td>\n",
       "      <td>...</td>\n",
       "      <td>...</td>\n",
       "      <td>...</td>\n",
       "      <td>...</td>\n",
       "      <td>...</td>\n",
       "      <td>...</td>\n",
       "      <td>...</td>\n",
       "      <td>...</td>\n",
       "      <td>...</td>\n",
       "      <td>...</td>\n",
       "      <td>...</td>\n",
       "    </tr>\n",
       "    <tr>\n",
       "      <th>7038</th>\n",
       "      <td>7039</td>\n",
       "      <td>S걸의 덫</td>\n",
       "      <td>그레고리 하타나카</td>\n",
       "      <td>NaN</td>\n",
       "      <td>(주)케이알씨지</td>\n",
       "      <td>(주)케이알씨지</td>\n",
       "      <td>2018-04-10</td>\n",
       "      <td>개봉영화</td>\n",
       "      <td>장편</td>\n",
       "      <td>브라질</td>\n",
       "      <td>1</td>\n",
       "      <td>1,000</td>\n",
       "      <td>1</td>\n",
       "      <td>0</td>\n",
       "      <td>0</td>\n",
       "      <td>멜로/로맨스</td>\n",
       "      <td>청소년관람불가</td>\n",
       "      <td>일반영화</td>\n",
       "    </tr>\n",
       "    <tr>\n",
       "      <th>7039</th>\n",
       "      <td>7040</td>\n",
       "      <td>VIP전용 여자</td>\n",
       "      <td>카네다 사토시</td>\n",
       "      <td>NaN</td>\n",
       "      <td>(주)도키엔터테인먼트</td>\n",
       "      <td>(주)도키엔터테인먼트</td>\n",
       "      <td>2016-12-01</td>\n",
       "      <td>개봉영화</td>\n",
       "      <td>장편</td>\n",
       "      <td>일본</td>\n",
       "      <td>1</td>\n",
       "      <td>8,000</td>\n",
       "      <td>1</td>\n",
       "      <td>0</td>\n",
       "      <td>0</td>\n",
       "      <td>성인물(에로)</td>\n",
       "      <td>청소년관람불가</td>\n",
       "      <td>일반영화</td>\n",
       "    </tr>\n",
       "    <tr>\n",
       "      <th>7040</th>\n",
       "      <td>7041</td>\n",
       "      <td>VJ의 은밀한 사생활</td>\n",
       "      <td>오카다 히로</td>\n",
       "      <td>NaN</td>\n",
       "      <td>(주)영진크리에이티브</td>\n",
       "      <td>(주)영진크리에이티브</td>\n",
       "      <td>2017-12-25</td>\n",
       "      <td>개봉영화</td>\n",
       "      <td>장편</td>\n",
       "      <td>일본</td>\n",
       "      <td>1</td>\n",
       "      <td>6,000</td>\n",
       "      <td>1</td>\n",
       "      <td>0</td>\n",
       "      <td>0</td>\n",
       "      <td>멜로/로맨스</td>\n",
       "      <td>청소년관람불가</td>\n",
       "      <td>일반영화</td>\n",
       "    </tr>\n",
       "    <tr>\n",
       "      <th>7041</th>\n",
       "      <td>7042</td>\n",
       "      <td>av감독의 아내</td>\n",
       "      <td>쿠도 마사노리</td>\n",
       "      <td>NaN</td>\n",
       "      <td>(주)도키엔터테인먼트</td>\n",
       "      <td>(주)도키엔터테인먼트</td>\n",
       "      <td>2016-12-22</td>\n",
       "      <td>개봉영화</td>\n",
       "      <td>장편</td>\n",
       "      <td>일본</td>\n",
       "      <td>1</td>\n",
       "      <td>8,000</td>\n",
       "      <td>1</td>\n",
       "      <td>0</td>\n",
       "      <td>0</td>\n",
       "      <td>성인물(에로)</td>\n",
       "      <td>청소년관람불가</td>\n",
       "      <td>일반영화</td>\n",
       "    </tr>\n",
       "    <tr>\n",
       "      <th>7042</th>\n",
       "      <td>7043</td>\n",
       "      <td>만화방</td>\n",
       "      <td>허재형</td>\n",
       "      <td>(주)영진크리에이티브</td>\n",
       "      <td>NaN</td>\n",
       "      <td>(주)영진크리에이티브</td>\n",
       "      <td>2012-02-29</td>\n",
       "      <td>개봉영화</td>\n",
       "      <td>장편</td>\n",
       "      <td>한국</td>\n",
       "      <td>0</td>\n",
       "      <td>0</td>\n",
       "      <td>0</td>\n",
       "      <td>0</td>\n",
       "      <td>0</td>\n",
       "      <td>코미디</td>\n",
       "      <td>청소년관람불가</td>\n",
       "      <td>일반영화</td>\n",
       "    </tr>\n",
       "  </tbody>\n",
       "</table>\n",
       "<p>7043 rows × 18 columns</p>\n",
       "</div>"
      ],
      "text/plain": [
       "        순번          영화명           감독                              제작사  \\\n",
       "0        1           명량          김한민                        (주)빅스톤픽쳐스   \n",
       "1        2         극한직업          이병헌  (주)어바웃필름,영화사 해그림 주식회사,씨제이이앤엠(주)   \n",
       "2        3    신과함께-죄와 벌          김용화           리얼라이즈픽쳐스(주),(주)덱스터스튜디오   \n",
       "3        4         국제시장          윤제균              (주)제이케이필름,씨제이이앤엠(주)   \n",
       "4        5   어벤져스: 엔드게임  안소니 루소,조 루소                              NaN   \n",
       "...    ...          ...          ...                              ...   \n",
       "7038  7039        S걸의 덫    그레고리 하타나카                              NaN   \n",
       "7039  7040     VIP전용 여자      카네다 사토시                              NaN   \n",
       "7040  7041  VJ의 은밀한 사생활       오카다 히로                              NaN   \n",
       "7041  7042     av감독의 아내      쿠도 마사노리                              NaN   \n",
       "7042  7043          만화방          허재형                      (주)영진크리에이티브   \n",
       "\n",
       "                     수입사                 배급사         개봉일  영화유형 영화형태   국적  \\\n",
       "0                    NaN           씨제이이앤엠(주)  2014-07-30  개봉영화   장편   한국   \n",
       "1                    NaN           씨제이이앤엠(주)  2019-01-23  개봉영화   장편   한국   \n",
       "2                    NaN       롯데쇼핑㈜롯데엔터테인먼트  2017-12-20  개봉영화   장편   한국   \n",
       "3                    NaN           씨제이이앤엠(주)  2014-12-17  개봉영화   장편   한국   \n",
       "4     월트디즈니컴퍼니코리아 유한책임회사  월트디즈니컴퍼니코리아 유한책임회사  2019-04-24  개봉영화   장편   미국   \n",
       "...                  ...                 ...         ...   ...  ...  ...   \n",
       "7038            (주)케이알씨지            (주)케이알씨지  2018-04-10  개봉영화   장편  브라질   \n",
       "7039         (주)도키엔터테인먼트         (주)도키엔터테인먼트  2016-12-01  개봉영화   장편   일본   \n",
       "7040         (주)영진크리에이티브         (주)영진크리에이티브  2017-12-25  개봉영화   장편   일본   \n",
       "7041         (주)도키엔터테인먼트         (주)도키엔터테인먼트  2016-12-22  개봉영화   장편   일본   \n",
       "7042                 NaN         (주)영진크리에이티브  2012-02-29  개봉영화   장편   한국   \n",
       "\n",
       "     전국스크린수            전국매출액       전국관객수           서울매출액      서울관객수       장르  \\\n",
       "0     1,587  135,748,398,910  17,613,682  33,121,225,810  4,163,666       사극   \n",
       "1     1,978  139,647,979,516  16,264,944  31,858,660,536  3,638,287      코미디   \n",
       "2     1,912  115,698,654,137  14,410,754  27,530,825,087  3,346,172      판타지   \n",
       "3       966  110,828,014,630  14,245,998  25,842,519,330  3,233,946      드라마   \n",
       "4     2,835  122,182,694,160  13,934,592  33,577,136,860  3,597,963       액션   \n",
       "...     ...              ...         ...             ...        ...      ...   \n",
       "7038      1            1,000           1               0          0   멜로/로맨스   \n",
       "7039      1            8,000           1               0          0  성인물(에로)   \n",
       "7040      1            6,000           1               0          0   멜로/로맨스   \n",
       "7041      1            8,000           1               0          0  성인물(에로)   \n",
       "7042      0                0           0               0          0      코미디   \n",
       "\n",
       "            등급  영화구분  \n",
       "0     15세이상관람가  일반영화  \n",
       "1     15세이상관람가  일반영화  \n",
       "2     12세이상관람가  일반영화  \n",
       "3     12세이상관람가  일반영화  \n",
       "4     12세이상관람가  일반영화  \n",
       "...        ...   ...  \n",
       "7038   청소년관람불가  일반영화  \n",
       "7039   청소년관람불가  일반영화  \n",
       "7040   청소년관람불가  일반영화  \n",
       "7041   청소년관람불가  일반영화  \n",
       "7042   청소년관람불가  일반영화  \n",
       "\n",
       "[7043 rows x 18 columns]"
      ]
     },
     "execution_count": 4,
     "metadata": {},
     "output_type": "execute_result"
    }
   ],
   "source": [
    "movie_raw_data=pd.read_csv(\"movie_data/analysis_movie_data.csv\", encoding='CP949')\n",
    "movie_raw_data"
   ]
  },
  {
   "cell_type": "markdown",
   "metadata": {
    "id": "JCpA7YZX7RTY"
   },
   "source": [
    "# 데이터 전처리 (수치화 과정)"
   ]
  },
  {
   "cell_type": "code",
   "execution_count": 5,
   "metadata": {
    "id": "_u2VSSP37iDQ"
   },
   "outputs": [],
   "source": [
    "# 쉼표를 제거해주는 과정\n",
    "movie_raw_data['전국매출액'] = movie_raw_data['전국매출액'].apply(lambda x: x.replace(',', ''))\n",
    "movie_raw_data['전국스크린수'] = movie_raw_data['전국스크린수'].apply(lambda x: x.replace(',', ''))\n",
    "movie_raw_data['전국관객수'] = movie_raw_data['전국관객수'].apply(lambda x: x.replace(',', ''))"
   ]
  },
  {
   "cell_type": "code",
   "execution_count": 6,
   "metadata": {
    "id": "ayUYJIWp7hK7"
   },
   "outputs": [],
   "source": [
    "# object 데이터를 numeric 하게 바꾸어주는 과정\n",
    "movie_raw_data['전국매출액'] = pd.to_numeric(movie_raw_data['전국매출액'])\n",
    "movie_raw_data['전국스크린수'] = pd.to_numeric(movie_raw_data['전국스크린수'])\n",
    "movie_raw_data['전국관객수'] = pd.to_numeric(movie_raw_data['전국관객수'])"
   ]
  },
  {
   "cell_type": "code",
   "execution_count": 7,
   "metadata": {
    "colab": {
     "base_uri": "https://localhost:8080/",
     "height": 1000
    },
    "executionInfo": {
     "elapsed": 1800,
     "status": "ok",
     "timestamp": 1606875297425,
     "user": {
      "displayName": "설재형",
      "photoUrl": "",
      "userId": "14774941427314282713"
     },
     "user_tz": -540
    },
    "id": "1Im2KpJd8XcT",
    "outputId": "aa8308a7-e175-42bf-a978-cfa661e22189"
   },
   "outputs": [
    {
     "data": {
      "text/html": [
       "<div>\n",
       "<style scoped>\n",
       "    .dataframe tbody tr th:only-of-type {\n",
       "        vertical-align: middle;\n",
       "    }\n",
       "\n",
       "    .dataframe tbody tr th {\n",
       "        vertical-align: top;\n",
       "    }\n",
       "\n",
       "    .dataframe thead th {\n",
       "        text-align: right;\n",
       "    }\n",
       "</style>\n",
       "<table border=\"1\" class=\"dataframe\">\n",
       "  <thead>\n",
       "    <tr style=\"text-align: right;\">\n",
       "      <th></th>\n",
       "      <th>순번</th>\n",
       "      <th>영화명</th>\n",
       "      <th>감독</th>\n",
       "      <th>제작사</th>\n",
       "      <th>수입사</th>\n",
       "      <th>배급사</th>\n",
       "      <th>개봉일</th>\n",
       "      <th>영화유형</th>\n",
       "      <th>영화형태</th>\n",
       "      <th>국적</th>\n",
       "      <th>전국스크린수</th>\n",
       "      <th>전국매출액</th>\n",
       "      <th>전국관객수</th>\n",
       "      <th>서울매출액</th>\n",
       "      <th>서울관객수</th>\n",
       "      <th>장르</th>\n",
       "      <th>등급</th>\n",
       "      <th>영화구분</th>\n",
       "    </tr>\n",
       "  </thead>\n",
       "  <tbody>\n",
       "    <tr>\n",
       "      <th>0</th>\n",
       "      <td>1</td>\n",
       "      <td>명량</td>\n",
       "      <td>김한민</td>\n",
       "      <td>(주)빅스톤픽쳐스</td>\n",
       "      <td>NaN</td>\n",
       "      <td>씨제이이앤엠(주)</td>\n",
       "      <td>2014-07-30</td>\n",
       "      <td>개봉영화</td>\n",
       "      <td>장편</td>\n",
       "      <td>한국</td>\n",
       "      <td>1587</td>\n",
       "      <td>135748398910</td>\n",
       "      <td>17613682</td>\n",
       "      <td>33,121,225,810</td>\n",
       "      <td>4,163,666</td>\n",
       "      <td>사극</td>\n",
       "      <td>15세이상관람가</td>\n",
       "      <td>일반영화</td>\n",
       "    </tr>\n",
       "    <tr>\n",
       "      <th>1</th>\n",
       "      <td>2</td>\n",
       "      <td>극한직업</td>\n",
       "      <td>이병헌</td>\n",
       "      <td>(주)어바웃필름,영화사 해그림 주식회사,씨제이이앤엠(주)</td>\n",
       "      <td>NaN</td>\n",
       "      <td>씨제이이앤엠(주)</td>\n",
       "      <td>2019-01-23</td>\n",
       "      <td>개봉영화</td>\n",
       "      <td>장편</td>\n",
       "      <td>한국</td>\n",
       "      <td>1978</td>\n",
       "      <td>139647979516</td>\n",
       "      <td>16264944</td>\n",
       "      <td>31,858,660,536</td>\n",
       "      <td>3,638,287</td>\n",
       "      <td>코미디</td>\n",
       "      <td>15세이상관람가</td>\n",
       "      <td>일반영화</td>\n",
       "    </tr>\n",
       "    <tr>\n",
       "      <th>2</th>\n",
       "      <td>3</td>\n",
       "      <td>신과함께-죄와 벌</td>\n",
       "      <td>김용화</td>\n",
       "      <td>리얼라이즈픽쳐스(주),(주)덱스터스튜디오</td>\n",
       "      <td>NaN</td>\n",
       "      <td>롯데쇼핑㈜롯데엔터테인먼트</td>\n",
       "      <td>2017-12-20</td>\n",
       "      <td>개봉영화</td>\n",
       "      <td>장편</td>\n",
       "      <td>한국</td>\n",
       "      <td>1912</td>\n",
       "      <td>115698654137</td>\n",
       "      <td>14410754</td>\n",
       "      <td>27,530,825,087</td>\n",
       "      <td>3,346,172</td>\n",
       "      <td>판타지</td>\n",
       "      <td>12세이상관람가</td>\n",
       "      <td>일반영화</td>\n",
       "    </tr>\n",
       "    <tr>\n",
       "      <th>3</th>\n",
       "      <td>4</td>\n",
       "      <td>국제시장</td>\n",
       "      <td>윤제균</td>\n",
       "      <td>(주)제이케이필름,씨제이이앤엠(주)</td>\n",
       "      <td>NaN</td>\n",
       "      <td>씨제이이앤엠(주)</td>\n",
       "      <td>2014-12-17</td>\n",
       "      <td>개봉영화</td>\n",
       "      <td>장편</td>\n",
       "      <td>한국</td>\n",
       "      <td>966</td>\n",
       "      <td>110828014630</td>\n",
       "      <td>14245998</td>\n",
       "      <td>25,842,519,330</td>\n",
       "      <td>3,233,946</td>\n",
       "      <td>드라마</td>\n",
       "      <td>12세이상관람가</td>\n",
       "      <td>일반영화</td>\n",
       "    </tr>\n",
       "    <tr>\n",
       "      <th>4</th>\n",
       "      <td>5</td>\n",
       "      <td>어벤져스: 엔드게임</td>\n",
       "      <td>안소니 루소,조 루소</td>\n",
       "      <td>NaN</td>\n",
       "      <td>월트디즈니컴퍼니코리아 유한책임회사</td>\n",
       "      <td>월트디즈니컴퍼니코리아 유한책임회사</td>\n",
       "      <td>2019-04-24</td>\n",
       "      <td>개봉영화</td>\n",
       "      <td>장편</td>\n",
       "      <td>미국</td>\n",
       "      <td>2835</td>\n",
       "      <td>122182694160</td>\n",
       "      <td>13934592</td>\n",
       "      <td>33,577,136,860</td>\n",
       "      <td>3,597,963</td>\n",
       "      <td>액션</td>\n",
       "      <td>12세이상관람가</td>\n",
       "      <td>일반영화</td>\n",
       "    </tr>\n",
       "  </tbody>\n",
       "</table>\n",
       "</div>"
      ],
      "text/plain": [
       "   순번         영화명           감독                              제작사  \\\n",
       "0   1          명량          김한민                        (주)빅스톤픽쳐스   \n",
       "1   2        극한직업          이병헌  (주)어바웃필름,영화사 해그림 주식회사,씨제이이앤엠(주)   \n",
       "2   3   신과함께-죄와 벌          김용화           리얼라이즈픽쳐스(주),(주)덱스터스튜디오   \n",
       "3   4        국제시장          윤제균              (주)제이케이필름,씨제이이앤엠(주)   \n",
       "4   5  어벤져스: 엔드게임  안소니 루소,조 루소                              NaN   \n",
       "\n",
       "                  수입사                 배급사         개봉일  영화유형 영화형태  국적  전국스크린수  \\\n",
       "0                 NaN           씨제이이앤엠(주)  2014-07-30  개봉영화   장편  한국    1587   \n",
       "1                 NaN           씨제이이앤엠(주)  2019-01-23  개봉영화   장편  한국    1978   \n",
       "2                 NaN       롯데쇼핑㈜롯데엔터테인먼트  2017-12-20  개봉영화   장편  한국    1912   \n",
       "3                 NaN           씨제이이앤엠(주)  2014-12-17  개봉영화   장편  한국     966   \n",
       "4  월트디즈니컴퍼니코리아 유한책임회사  월트디즈니컴퍼니코리아 유한책임회사  2019-04-24  개봉영화   장편  미국    2835   \n",
       "\n",
       "          전국매출액     전국관객수           서울매출액      서울관객수   장르        등급  영화구분  \n",
       "0  135748398910  17613682  33,121,225,810  4,163,666   사극  15세이상관람가  일반영화  \n",
       "1  139647979516  16264944  31,858,660,536  3,638,287  코미디  15세이상관람가  일반영화  \n",
       "2  115698654137  14410754  27,530,825,087  3,346,172  판타지  12세이상관람가  일반영화  \n",
       "3  110828014630  14245998  25,842,519,330  3,233,946  드라마  12세이상관람가  일반영화  \n",
       "4  122182694160  13934592  33,577,136,860  3,597,963   액션  12세이상관람가  일반영화  "
      ]
     },
     "execution_count": 7,
     "metadata": {},
     "output_type": "execute_result"
    }
   ],
   "source": [
    "movie_raw_data.head()"
   ]
  },
  {
   "cell_type": "code",
   "execution_count": 8,
   "metadata": {
    "colab": {
     "base_uri": "https://localhost:8080/",
     "height": 828
    },
    "executionInfo": {
     "elapsed": 1179,
     "status": "ok",
     "timestamp": 1606875343634,
     "user": {
      "displayName": "설재형",
      "photoUrl": "",
      "userId": "14774941427314282713"
     },
     "user_tz": -540
    },
    "id": "tNr52RLX0zUI",
    "outputId": "486c39b5-02f0-44a0-ff1a-8616dafbb4f5"
   },
   "outputs": [
    {
     "name": "stdout",
     "output_type": "stream",
     "text": [
      "전국관객수 -> Skewness: 8.161363, Kurtosis: 84.552661\n"
     ]
    },
    {
     "data": {
      "image/png": "[encoded data removed]",
      "text/plain": [
       "<Figure size 576x432 with 1 Axes>"
      ]
     },
     "metadata": {
      "needs_background": "light"
     },
     "output_type": "display_data"
    }
   ],
   "source": [
    "f, ax = plt.subplots(figsize = (8,6))\n",
    "sns.distplot(movie_raw_data['전국관객수'])\n",
    "print(\"%s -> Skewness: %f, Kurtosis: %f\" %  ('전국관객수',movie_raw_data['전국관객수'].skew(), movie_raw_data['전국관객수'].kurt()))"
   ]
  },
  {
   "cell_type": "code",
   "execution_count": 9,
   "metadata": {
    "id": "rHLMoG5J1lNz"
   },
   "outputs": [],
   "source": [
    "movie_raw_data.to_csv('movie_data/movie_raw_data_fixed.csv', index = False,encoding='utf-8-sig')"
   ]
  },
  {
   "cell_type": "markdown",
   "metadata": {
    "id": "0roK5GhnSBTs"
   },
   "source": [
    "# 1차로 전처리 된 데이터 (최종 관객수 만명 이상의 영화)"
   ]
  },
  {
   "cell_type": "code",
   "execution_count": 10,
   "metadata": {
    "id": "I7ta5kPJ1uR6"
   },
   "outputs": [],
   "source": [
    "movie_data_fix1=pd.read_csv('movie_data/movie_data.csv')"
   ]
  },
  {
   "cell_type": "markdown",
   "metadata": {
    "id": "BDdfbB0Y-AXp"
   },
   "source": [
    "# 처리된 데이터 레이블 정보\n",
    "title : 영화 제목\n",
    "\n",
    "release-time : 영화 개봉일\n",
    "\n",
    "genre : 영화 장르\n",
    "\n",
    "national : 영화 제작 국가\n",
    "\n",
    "total_revenue : 전체 매출액\n",
    "\n",
    "movie_rating : 관객 평점\n",
    "\n",
    "num_off_screen : 전국 스크린수\n",
    "\n",
    "screen_share : 스크린 점유율\n",
    "\n",
    "fsd_num_off_box : 개봉 2일차 누적 관객수\n",
    "\n",
    "num_off_box : 최종 영화 관객수"
   ]
  },
  {
   "cell_type": "code",
   "execution_count": 11,
   "metadata": {
    "colab": {
     "base_uri": "https://localhost:8080/"
    },
    "executionInfo": {
     "elapsed": 1211,
     "status": "ok",
     "timestamp": 1606875356381,
     "user": {
      "displayName": "설재형",
      "photoUrl": "",
      "userId": "14774941427314282713"
     },
     "user_tz": -540
    },
    "id": "BeSsXNGIRvtf",
    "outputId": "96891704-12b1-488a-97bd-4b4dadaa117e"
   },
   "outputs": [
    {
     "name": "stdout",
     "output_type": "stream",
     "text": [
      "<class 'pandas.core.frame.DataFrame'>\n",
      "RangeIndex: 1325 entries, 0 to 1324\n",
      "Data columns (total 10 columns):\n",
      " #   Column           Non-Null Count  Dtype  \n",
      "---  ------           --------------  -----  \n",
      " 0   title            1325 non-null   object \n",
      " 1   release-time     1325 non-null   object \n",
      " 2   genre            1325 non-null   object \n",
      " 3   national         1325 non-null   object \n",
      " 4   total_revenue    1325 non-null   float64\n",
      " 5   movie_rating     1325 non-null   float64\n",
      " 6   num_off_screen   1325 non-null   int64  \n",
      " 7   screen_share     1325 non-null   float64\n",
      " 8   fsd_num_off_box  1325 non-null   int64  \n",
      " 9   num_off_box      1325 non-null   int64  \n",
      "dtypes: float64(3), int64(3), object(4)\n",
      "memory usage: 103.6+ KB\n"
     ]
    }
   ],
   "source": [
    "movie_data_fix1.info()"
   ]
  },
  {
   "cell_type": "code",
   "execution_count": 12,
   "metadata": {
    "colab": {
     "base_uri": "https://localhost:8080/",
     "height": 892
    },
    "executionInfo": {
     "elapsed": 990,
     "status": "ok",
     "timestamp": 1606875358875,
     "user": {
      "displayName": "설재형",
      "photoUrl": "",
      "userId": "14774941427314282713"
     },
     "user_tz": -540
    },
    "id": "Vg_aQKK817o5",
    "outputId": "4690291e-78d5-4ce8-ca57-c2c795cee6a7"
   },
   "outputs": [
    {
     "data": {
      "text/html": [
       "<div>\n",
       "<style scoped>\n",
       "    .dataframe tbody tr th:only-of-type {\n",
       "        vertical-align: middle;\n",
       "    }\n",
       "\n",
       "    .dataframe tbody tr th {\n",
       "        vertical-align: top;\n",
       "    }\n",
       "\n",
       "    .dataframe thead th {\n",
       "        text-align: right;\n",
       "    }\n",
       "</style>\n",
       "<table border=\"1\" class=\"dataframe\">\n",
       "  <thead>\n",
       "    <tr style=\"text-align: right;\">\n",
       "      <th></th>\n",
       "      <th>title</th>\n",
       "      <th>release-time</th>\n",
       "      <th>genre</th>\n",
       "      <th>national</th>\n",
       "      <th>total_revenue</th>\n",
       "      <th>movie_rating</th>\n",
       "      <th>num_off_screen</th>\n",
       "      <th>screen_share</th>\n",
       "      <th>fsd_num_off_box</th>\n",
       "      <th>num_off_box</th>\n",
       "    </tr>\n",
       "  </thead>\n",
       "  <tbody>\n",
       "    <tr>\n",
       "      <th>0</th>\n",
       "      <td>명량</td>\n",
       "      <td>2014.7.30</td>\n",
       "      <td>사극</td>\n",
       "      <td>한국</td>\n",
       "      <td>1.360000e+11</td>\n",
       "      <td>8.44</td>\n",
       "      <td>1587</td>\n",
       "      <td>39.8</td>\n",
       "      <td>1410271</td>\n",
       "      <td>17613682</td>\n",
       "    </tr>\n",
       "    <tr>\n",
       "      <th>1</th>\n",
       "      <td>극한직업</td>\n",
       "      <td>2019.1.23</td>\n",
       "      <td>코미디</td>\n",
       "      <td>한국</td>\n",
       "      <td>1.400000e+11</td>\n",
       "      <td>8.50</td>\n",
       "      <td>1978</td>\n",
       "      <td>31.4</td>\n",
       "      <td>724697</td>\n",
       "      <td>16264944</td>\n",
       "    </tr>\n",
       "    <tr>\n",
       "      <th>2</th>\n",
       "      <td>신과함께-죄와 벌</td>\n",
       "      <td>2017.12.20</td>\n",
       "      <td>판타지</td>\n",
       "      <td>한국</td>\n",
       "      <td>1.160000e+11</td>\n",
       "      <td>7.83</td>\n",
       "      <td>1912</td>\n",
       "      <td>30.4</td>\n",
       "      <td>824013</td>\n",
       "      <td>14410754</td>\n",
       "    </tr>\n",
       "    <tr>\n",
       "      <th>3</th>\n",
       "      <td>국제시장</td>\n",
       "      <td>2014.12.17</td>\n",
       "      <td>드라마</td>\n",
       "      <td>한국</td>\n",
       "      <td>1.110000e+11</td>\n",
       "      <td>9.02</td>\n",
       "      <td>966</td>\n",
       "      <td>23.5</td>\n",
       "      <td>416356</td>\n",
       "      <td>14245998</td>\n",
       "    </tr>\n",
       "    <tr>\n",
       "      <th>4</th>\n",
       "      <td>어벤져스: 엔드게임</td>\n",
       "      <td>2019.4.24</td>\n",
       "      <td>액션</td>\n",
       "      <td>미국</td>\n",
       "      <td>1.220000e+11</td>\n",
       "      <td>9.38</td>\n",
       "      <td>2835</td>\n",
       "      <td>58.0</td>\n",
       "      <td>2171533</td>\n",
       "      <td>13934592</td>\n",
       "    </tr>\n",
       "    <tr>\n",
       "      <th>...</th>\n",
       "      <td>...</td>\n",
       "      <td>...</td>\n",
       "      <td>...</td>\n",
       "      <td>...</td>\n",
       "      <td>...</td>\n",
       "      <td>...</td>\n",
       "      <td>...</td>\n",
       "      <td>...</td>\n",
       "      <td>...</td>\n",
       "      <td>...</td>\n",
       "    </tr>\n",
       "    <tr>\n",
       "      <th>1320</th>\n",
       "      <td>폴라로이드</td>\n",
       "      <td>2019.6.6</td>\n",
       "      <td>공포(호러)</td>\n",
       "      <td>미국</td>\n",
       "      <td>8.981266e+07</td>\n",
       "      <td>5.25</td>\n",
       "      <td>141</td>\n",
       "      <td>2.4</td>\n",
       "      <td>5482</td>\n",
       "      <td>10359</td>\n",
       "    </tr>\n",
       "    <tr>\n",
       "      <th>1321</th>\n",
       "      <td>당신에게도 사랑이 다시 찾아올까요?</td>\n",
       "      <td>2013.10.17</td>\n",
       "      <td>멜로/로맨스</td>\n",
       "      <td>미국</td>\n",
       "      <td>7.043050e+07</td>\n",
       "      <td>6.77</td>\n",
       "      <td>104</td>\n",
       "      <td>2.9</td>\n",
       "      <td>3941</td>\n",
       "      <td>10328</td>\n",
       "    </tr>\n",
       "    <tr>\n",
       "      <th>1322</th>\n",
       "      <td>토마스와 친구들: 우정의 대모험</td>\n",
       "      <td>2018.12.13</td>\n",
       "      <td>애니메이션</td>\n",
       "      <td>영국</td>\n",
       "      <td>7.370775e+07</td>\n",
       "      <td>8.44</td>\n",
       "      <td>196</td>\n",
       "      <td>2.7</td>\n",
       "      <td>3096</td>\n",
       "      <td>10315</td>\n",
       "    </tr>\n",
       "    <tr>\n",
       "      <th>1323</th>\n",
       "      <td>드래프트 데이</td>\n",
       "      <td>2014.7.10</td>\n",
       "      <td>드라마</td>\n",
       "      <td>미국</td>\n",
       "      <td>7.421620e+07</td>\n",
       "      <td>8.35</td>\n",
       "      <td>82</td>\n",
       "      <td>2.3</td>\n",
       "      <td>4108</td>\n",
       "      <td>10119</td>\n",
       "    </tr>\n",
       "    <tr>\n",
       "      <th>1324</th>\n",
       "      <td>폴라로이드</td>\n",
       "      <td>2015.7.16</td>\n",
       "      <td>드라마</td>\n",
       "      <td>한국</td>\n",
       "      <td>6.531700e+07</td>\n",
       "      <td>6.51</td>\n",
       "      <td>27</td>\n",
       "      <td>0.6</td>\n",
       "      <td>6084</td>\n",
       "      <td>10094</td>\n",
       "    </tr>\n",
       "  </tbody>\n",
       "</table>\n",
       "<p>1325 rows × 10 columns</p>\n",
       "</div>"
      ],
      "text/plain": [
       "                    title release-time   genre national  total_revenue  \\\n",
       "0                      명량    2014.7.30      사극       한국   1.360000e+11   \n",
       "1                    극한직업    2019.1.23     코미디       한국   1.400000e+11   \n",
       "2               신과함께-죄와 벌   2017.12.20     판타지       한국   1.160000e+11   \n",
       "3                    국제시장   2014.12.17     드라마       한국   1.110000e+11   \n",
       "4              어벤져스: 엔드게임    2019.4.24      액션       미국   1.220000e+11   \n",
       "...                   ...          ...     ...      ...            ...   \n",
       "1320                폴라로이드     2019.6.6  공포(호러)       미국   8.981266e+07   \n",
       "1321  당신에게도 사랑이 다시 찾아올까요?   2013.10.17  멜로/로맨스       미국   7.043050e+07   \n",
       "1322    토마스와 친구들: 우정의 대모험   2018.12.13   애니메이션       영국   7.370775e+07   \n",
       "1323              드래프트 데이    2014.7.10     드라마       미국   7.421620e+07   \n",
       "1324                폴라로이드    2015.7.16     드라마       한국   6.531700e+07   \n",
       "\n",
       "      movie_rating  num_off_screen  screen_share  fsd_num_off_box  num_off_box  \n",
       "0             8.44            1587          39.8          1410271     17613682  \n",
       "1             8.50            1978          31.4           724697     16264944  \n",
       "2             7.83            1912          30.4           824013     14410754  \n",
       "3             9.02             966          23.5           416356     14245998  \n",
       "4             9.38            2835          58.0          2171533     13934592  \n",
       "...            ...             ...           ...              ...          ...  \n",
       "1320          5.25             141           2.4             5482        10359  \n",
       "1321          6.77             104           2.9             3941        10328  \n",
       "1322          8.44             196           2.7             3096        10315  \n",
       "1323          8.35              82           2.3             4108        10119  \n",
       "1324          6.51              27           0.6             6084        10094  \n",
       "\n",
       "[1325 rows x 10 columns]"
      ]
     },
     "execution_count": 12,
     "metadata": {},
     "output_type": "execute_result"
    }
   ],
   "source": [
    "movie_data_fix1"
   ]
  },
  {
   "cell_type": "markdown",
   "metadata": {
    "id": "Q6pXmZvH5AX-"
   },
   "source": [
    "# 최종 관객수"
   ]
  },
  {
   "cell_type": "code",
   "execution_count": 13,
   "metadata": {
    "colab": {
     "base_uri": "https://localhost:8080/",
     "height": 473
    },
    "executionInfo": {
     "elapsed": 970,
     "status": "ok",
     "timestamp": 1606875363137,
     "user": {
      "displayName": "설재형",
      "photoUrl": "",
      "userId": "14774941427314282713"
     },
     "user_tz": -540
    },
    "id": "PDBOA_w4qGyY",
    "outputId": "014917ad-92f8-48d7-9722-0c693a75ff05"
   },
   "outputs": [
    {
     "name": "stdout",
     "output_type": "stream",
     "text": [
      "num_off_box -> Skewness: 3.491110, Kurtosis: 15.056236\n"
     ]
    },
    {
     "data": {
      "image/png": "[encoded data removed]",
      "text/plain": [
       "<Figure size 576x432 with 1 Axes>"
      ]
     },
     "metadata": {
      "needs_background": "light"
     },
     "output_type": "display_data"
    }
   ],
   "source": [
    "# 최종 관객수 시각화\n",
    "f, ax = plt.subplots(figsize = (8,6))\n",
    "sns.distplot(movie_data_fix1['num_off_box'])\n",
    "print(\"%s -> Skewness: %f, Kurtosis: %f\" %  ('num_off_box',movie_data_fix1['num_off_box'].skew(), movie_data_fix1['num_off_box'].kurt()))"
   ]
  },
  {
   "cell_type": "markdown",
   "metadata": {
    "id": "0Br_0GlU2ea-"
   },
   "source": [
    "# Numeric data"
   ]
  },
  {
   "cell_type": "markdown",
   "metadata": {
    "id": "-3eM8ZMK5I8A"
   },
   "source": [
    "# 개봉 2일차 누적관객수"
   ]
  },
  {
   "cell_type": "code",
   "execution_count": 14,
   "metadata": {
    "colab": {
     "base_uri": "https://localhost:8080/",
     "height": 473
    },
    "executionInfo": {
     "elapsed": 1208,
     "status": "ok",
     "timestamp": 1606875367849,
     "user": {
      "displayName": "설재형",
      "photoUrl": "",
      "userId": "14774941427314282713"
     },
     "user_tz": -540
    },
    "id": "ILlBdslts3-f",
    "outputId": "16d069c8-76b1-44e3-8f5d-3a7b2d30d23c"
   },
   "outputs": [
    {
     "name": "stdout",
     "output_type": "stream",
     "text": [
      "fsd_num_off_box -> Skewness: 3.553009, Kurtosis: 18.570440\n"
     ]
    },
    {
     "data": {
      "image/png": "[encoded data removed]",
      "text/plain": [
       "<Figure size 576x432 with 1 Axes>"
      ]
     },
     "metadata": {
      "needs_background": "light"
     },
     "output_type": "display_data"
    }
   ],
   "source": [
    "# 개봉 2일차 누적관객수 시각화\n",
    "f, ax = plt.subplots(figsize = (8,6))\n",
    "sns.distplot(movie_data_fix1['fsd_num_off_box'])\n",
    "print(\"%s -> Skewness: %f, Kurtosis: %f\" %  ('fsd_num_off_box',movie_data_fix1['fsd_num_off_box'].skew(), movie_data_fix1['fsd_num_off_box'].kurt()))"
   ]
  },
  {
   "cell_type": "markdown",
   "metadata": {
    "id": "2SU6zX2m5TCB"
   },
   "source": [
    "# 스크린 점유율"
   ]
  },
  {
   "cell_type": "code",
   "execution_count": 15,
   "metadata": {
    "colab": {
     "base_uri": "https://localhost:8080/",
     "height": 463
    },
    "executionInfo": {
     "elapsed": 1039,
     "status": "ok",
     "timestamp": 1606875371367,
     "user": {
      "displayName": "설재형",
      "photoUrl": "",
      "userId": "14774941427314282713"
     },
     "user_tz": -540
    },
    "id": "VD3v7Dkcum7j",
    "outputId": "02336832-6453-417d-dec0-7227d6edcd09"
   },
   "outputs": [
    {
     "name": "stdout",
     "output_type": "stream",
     "text": [
      "screen_share -> Skewness: 1.402762, Kurtosis: 2.988233\n"
     ]
    },
    {
     "data": {
      "image/png": "[encoded data removed]",
      "text/plain": [
       "<Figure size 576x432 with 1 Axes>"
      ]
     },
     "metadata": {
      "needs_background": "light"
     },
     "output_type": "display_data"
    }
   ],
   "source": [
    "# 스크린 점유율 시각화\n",
    "f, ax = plt.subplots(figsize = (8,6))\n",
    "sns.distplot(movie_data_fix1['screen_share'])\n",
    "print(\"%s -> Skewness: %f, Kurtosis: %f\" %  ('screen_share',movie_data_fix1['screen_share'].skew(), movie_data_fix1['screen_share'].kurt()))"
   ]
  },
  {
   "cell_type": "markdown",
   "metadata": {
    "id": "-ED_q-5N5Wpq"
   },
   "source": [
    "# 전국 스크린수"
   ]
  },
  {
   "cell_type": "code",
   "execution_count": 16,
   "metadata": {
    "colab": {
     "base_uri": "https://localhost:8080/",
     "height": 463
    },
    "executionInfo": {
     "elapsed": 1364,
     "status": "ok",
     "timestamp": 1606875375350,
     "user": {
      "displayName": "설재형",
      "photoUrl": "",
      "userId": "14774941427314282713"
     },
     "user_tz": -540
    },
    "id": "zVFpKLSjw2MW",
    "outputId": "bb0a18dd-8966-464c-f866-fc57c59bfe56"
   },
   "outputs": [
    {
     "name": "stdout",
     "output_type": "stream",
     "text": [
      "num_off_screen -> Skewness: 1.517136, Kurtosis: 3.306422\n"
     ]
    },
    {
     "data": {
      "image/png": "[encoded data removed]",
      "text/plain": [
       "<Figure size 576x432 with 1 Axes>"
      ]
     },
     "metadata": {
      "needs_background": "light"
     },
     "output_type": "display_data"
    }
   ],
   "source": [
    "# 전국 스크린수 시각화\n",
    "f, ax = plt.subplots(figsize = (8,6))\n",
    "sns.distplot(movie_data_fix1['num_off_screen'])\n",
    "print(\"%s -> Skewness: %f, Kurtosis: %f\" %  ('num_off_screen',movie_data_fix1['num_off_screen'].skew(), movie_data_fix1['num_off_screen'].kurt()))"
   ]
  },
  {
   "cell_type": "markdown",
   "metadata": {
    "id": "tL4cBxV35gj6"
   },
   "source": [
    "# 영화 평점"
   ]
  },
  {
   "cell_type": "code",
   "execution_count": 17,
   "metadata": {
    "colab": {
     "base_uri": "https://localhost:8080/",
     "height": 463
    },
    "executionInfo": {
     "elapsed": 949,
     "status": "ok",
     "timestamp": 1606875378704,
     "user": {
      "displayName": "설재형",
      "photoUrl": "",
      "userId": "14774941427314282713"
     },
     "user_tz": -540
    },
    "id": "sLmL3AWFyazk",
    "outputId": "97f763a0-1004-4999-d8e2-ba51f41a35f2"
   },
   "outputs": [
    {
     "name": "stdout",
     "output_type": "stream",
     "text": [
      "movie_rating -> Skewness: -1.165120, Kurtosis: 1.766752\n"
     ]
    },
    {
     "data": {
      "image/png": "[encoded data removed]",
      "text/plain": [
       "<Figure size 576x432 with 1 Axes>"
      ]
     },
     "metadata": {
      "needs_background": "light"
     },
     "output_type": "display_data"
    }
   ],
   "source": [
    "# 영화 평점 시각화\n",
    "f, ax = plt.subplots(figsize = (8,6))\n",
    "sns.distplot(movie_data_fix1['movie_rating'])\n",
    "print(\"%s -> Skewness: %f, Kurtosis: %f\" %  ('movie_rating',movie_data_fix1['movie_rating'].skew(),movie_data_fix1['movie_rating'].kurt()))"
   ]
  },
  {
   "cell_type": "code",
   "execution_count": 18,
   "metadata": {
    "colab": {
     "base_uri": "https://localhost:8080/",
     "height": 892
    },
    "executionInfo": {
     "elapsed": 992,
     "status": "ok",
     "timestamp": 1606875381477,
     "user": {
      "displayName": "설재형",
      "photoUrl": "",
      "userId": "14774941427314282713"
     },
     "user_tz": -540
    },
    "id": "LEvuzKDxv4XY",
    "outputId": "2f074225-246a-4d54-b87d-58241d3600be"
   },
   "outputs": [
    {
     "data": {
      "text/html": [
       "<div>\n",
       "<style scoped>\n",
       "    .dataframe tbody tr th:only-of-type {\n",
       "        vertical-align: middle;\n",
       "    }\n",
       "\n",
       "    .dataframe tbody tr th {\n",
       "        vertical-align: top;\n",
       "    }\n",
       "\n",
       "    .dataframe thead th {\n",
       "        text-align: right;\n",
       "    }\n",
       "</style>\n",
       "<table border=\"1\" class=\"dataframe\">\n",
       "  <thead>\n",
       "    <tr style=\"text-align: right;\">\n",
       "      <th></th>\n",
       "      <th>title</th>\n",
       "      <th>release-time</th>\n",
       "      <th>genre</th>\n",
       "      <th>national</th>\n",
       "      <th>total_revenue</th>\n",
       "      <th>movie_rating</th>\n",
       "      <th>num_off_screen</th>\n",
       "      <th>screen_share</th>\n",
       "      <th>fsd_num_off_box</th>\n",
       "      <th>num_off_box</th>\n",
       "    </tr>\n",
       "  </thead>\n",
       "  <tbody>\n",
       "    <tr>\n",
       "      <th>0</th>\n",
       "      <td>명량</td>\n",
       "      <td>2014.7.30</td>\n",
       "      <td>사극</td>\n",
       "      <td>한국</td>\n",
       "      <td>1.360000e+11</td>\n",
       "      <td>8.44</td>\n",
       "      <td>1587</td>\n",
       "      <td>39.8</td>\n",
       "      <td>1410271</td>\n",
       "      <td>17613682</td>\n",
       "    </tr>\n",
       "    <tr>\n",
       "      <th>1</th>\n",
       "      <td>극한직업</td>\n",
       "      <td>2019.1.23</td>\n",
       "      <td>코미디</td>\n",
       "      <td>한국</td>\n",
       "      <td>1.400000e+11</td>\n",
       "      <td>8.50</td>\n",
       "      <td>1978</td>\n",
       "      <td>31.4</td>\n",
       "      <td>724697</td>\n",
       "      <td>16264944</td>\n",
       "    </tr>\n",
       "    <tr>\n",
       "      <th>2</th>\n",
       "      <td>신과함께-죄와 벌</td>\n",
       "      <td>2017.12.20</td>\n",
       "      <td>판타지</td>\n",
       "      <td>한국</td>\n",
       "      <td>1.160000e+11</td>\n",
       "      <td>7.83</td>\n",
       "      <td>1912</td>\n",
       "      <td>30.4</td>\n",
       "      <td>824013</td>\n",
       "      <td>14410754</td>\n",
       "    </tr>\n",
       "    <tr>\n",
       "      <th>3</th>\n",
       "      <td>국제시장</td>\n",
       "      <td>2014.12.17</td>\n",
       "      <td>드라마</td>\n",
       "      <td>한국</td>\n",
       "      <td>1.110000e+11</td>\n",
       "      <td>9.02</td>\n",
       "      <td>966</td>\n",
       "      <td>23.5</td>\n",
       "      <td>416356</td>\n",
       "      <td>14245998</td>\n",
       "    </tr>\n",
       "    <tr>\n",
       "      <th>4</th>\n",
       "      <td>어벤져스: 엔드게임</td>\n",
       "      <td>2019.4.24</td>\n",
       "      <td>액션</td>\n",
       "      <td>미국</td>\n",
       "      <td>1.220000e+11</td>\n",
       "      <td>9.38</td>\n",
       "      <td>2835</td>\n",
       "      <td>58.0</td>\n",
       "      <td>2171533</td>\n",
       "      <td>13934592</td>\n",
       "    </tr>\n",
       "    <tr>\n",
       "      <th>...</th>\n",
       "      <td>...</td>\n",
       "      <td>...</td>\n",
       "      <td>...</td>\n",
       "      <td>...</td>\n",
       "      <td>...</td>\n",
       "      <td>...</td>\n",
       "      <td>...</td>\n",
       "      <td>...</td>\n",
       "      <td>...</td>\n",
       "      <td>...</td>\n",
       "    </tr>\n",
       "    <tr>\n",
       "      <th>1320</th>\n",
       "      <td>폴라로이드</td>\n",
       "      <td>2019.6.6</td>\n",
       "      <td>공포(호러)</td>\n",
       "      <td>미국</td>\n",
       "      <td>8.981266e+07</td>\n",
       "      <td>5.25</td>\n",
       "      <td>141</td>\n",
       "      <td>2.4</td>\n",
       "      <td>5482</td>\n",
       "      <td>10359</td>\n",
       "    </tr>\n",
       "    <tr>\n",
       "      <th>1321</th>\n",
       "      <td>당신에게도 사랑이 다시 찾아올까요?</td>\n",
       "      <td>2013.10.17</td>\n",
       "      <td>멜로/로맨스</td>\n",
       "      <td>미국</td>\n",
       "      <td>7.043050e+07</td>\n",
       "      <td>6.77</td>\n",
       "      <td>104</td>\n",
       "      <td>2.9</td>\n",
       "      <td>3941</td>\n",
       "      <td>10328</td>\n",
       "    </tr>\n",
       "    <tr>\n",
       "      <th>1322</th>\n",
       "      <td>토마스와 친구들: 우정의 대모험</td>\n",
       "      <td>2018.12.13</td>\n",
       "      <td>애니메이션</td>\n",
       "      <td>영국</td>\n",
       "      <td>7.370775e+07</td>\n",
       "      <td>8.44</td>\n",
       "      <td>196</td>\n",
       "      <td>2.7</td>\n",
       "      <td>3096</td>\n",
       "      <td>10315</td>\n",
       "    </tr>\n",
       "    <tr>\n",
       "      <th>1323</th>\n",
       "      <td>드래프트 데이</td>\n",
       "      <td>2014.7.10</td>\n",
       "      <td>드라마</td>\n",
       "      <td>미국</td>\n",
       "      <td>7.421620e+07</td>\n",
       "      <td>8.35</td>\n",
       "      <td>82</td>\n",
       "      <td>2.3</td>\n",
       "      <td>4108</td>\n",
       "      <td>10119</td>\n",
       "    </tr>\n",
       "    <tr>\n",
       "      <th>1324</th>\n",
       "      <td>폴라로이드</td>\n",
       "      <td>2015.7.16</td>\n",
       "      <td>드라마</td>\n",
       "      <td>한국</td>\n",
       "      <td>6.531700e+07</td>\n",
       "      <td>6.51</td>\n",
       "      <td>27</td>\n",
       "      <td>0.6</td>\n",
       "      <td>6084</td>\n",
       "      <td>10094</td>\n",
       "    </tr>\n",
       "  </tbody>\n",
       "</table>\n",
       "<p>1325 rows × 10 columns</p>\n",
       "</div>"
      ],
      "text/plain": [
       "                    title release-time   genre national  total_revenue  \\\n",
       "0                      명량    2014.7.30      사극       한국   1.360000e+11   \n",
       "1                    극한직업    2019.1.23     코미디       한국   1.400000e+11   \n",
       "2               신과함께-죄와 벌   2017.12.20     판타지       한국   1.160000e+11   \n",
       "3                    국제시장   2014.12.17     드라마       한국   1.110000e+11   \n",
       "4              어벤져스: 엔드게임    2019.4.24      액션       미국   1.220000e+11   \n",
       "...                   ...          ...     ...      ...            ...   \n",
       "1320                폴라로이드     2019.6.6  공포(호러)       미국   8.981266e+07   \n",
       "1321  당신에게도 사랑이 다시 찾아올까요?   2013.10.17  멜로/로맨스       미국   7.043050e+07   \n",
       "1322    토마스와 친구들: 우정의 대모험   2018.12.13   애니메이션       영국   7.370775e+07   \n",
       "1323              드래프트 데이    2014.7.10     드라마       미국   7.421620e+07   \n",
       "1324                폴라로이드    2015.7.16     드라마       한국   6.531700e+07   \n",
       "\n",
       "      movie_rating  num_off_screen  screen_share  fsd_num_off_box  num_off_box  \n",
       "0             8.44            1587          39.8          1410271     17613682  \n",
       "1             8.50            1978          31.4           724697     16264944  \n",
       "2             7.83            1912          30.4           824013     14410754  \n",
       "3             9.02             966          23.5           416356     14245998  \n",
       "4             9.38            2835          58.0          2171533     13934592  \n",
       "...            ...             ...           ...              ...          ...  \n",
       "1320          5.25             141           2.4             5482        10359  \n",
       "1321          6.77             104           2.9             3941        10328  \n",
       "1322          8.44             196           2.7             3096        10315  \n",
       "1323          8.35              82           2.3             4108        10119  \n",
       "1324          6.51              27           0.6             6084        10094  \n",
       "\n",
       "[1325 rows x 10 columns]"
      ]
     },
     "execution_count": 18,
     "metadata": {},
     "output_type": "execute_result"
    }
   ],
   "source": [
    "movie_data_fix1"
   ]
  },
  {
   "cell_type": "markdown",
   "metadata": {
    "id": "uBGUeZShSdxZ"
   },
   "source": [
    "# 데이터 각 colum 별 상관계수"
   ]
  },
  {
   "cell_type": "code",
   "execution_count": 19,
   "metadata": {
    "colab": {
     "base_uri": "https://localhost:8080/",
     "height": 361
    },
    "executionInfo": {
     "elapsed": 1147,
     "status": "ok",
     "timestamp": 1606875385193,
     "user": {
      "displayName": "설재형",
      "photoUrl": "",
      "userId": "14774941427314282713"
     },
     "user_tz": -540
    },
    "id": "Rv84-0su2Uc0",
    "outputId": "b283266c-3185-431c-89f6-b64c4225b027"
   },
   "outputs": [
    {
     "data": {
      "text/plain": [
       "<matplotlib.axes._subplots.AxesSubplot at 0x1eb9642dd00>"
      ]
     },
     "execution_count": 19,
     "metadata": {},
     "output_type": "execute_result"
    },
    {
     "data": {
      "image/png": "[encoded data removed]",
      "text/plain": [
       "<Figure size 432x288 with 2 Axes>"
      ]
     },
     "metadata": {
      "needs_background": "light"
     },
     "output_type": "display_data"
    }
   ],
   "source": [
    "# 데이터 별 각 colum 별 상관계수\n",
    "# 초반 이틀 누적 관객수, 스크린 점유율, 스크린수, 영화 평점순으로 중요한 특징 공간임을 알 수 있습니다.\n",
    "sns.heatmap(movie_data_fix1.corr(), annot = True)"
   ]
  },
  {
   "cell_type": "markdown",
   "metadata": {
    "id": "vcxd9kg75q2S"
   },
   "source": [
    "# 범주형 데이터"
   ]
  },
  {
   "cell_type": "code",
   "execution_count": 20,
   "metadata": {
    "colab": {
     "base_uri": "https://localhost:8080/"
    },
    "executionInfo": {
     "elapsed": 1097,
     "status": "ok",
     "timestamp": 1606875388897,
     "user": {
      "displayName": "설재형",
      "photoUrl": "",
      "userId": "14774941427314282713"
     },
     "user_tz": -540
    },
    "id": "oeXeFul89FS6",
    "outputId": "ccbf1851-81ab-496a-c726-b2e51019950f"
   },
   "outputs": [
    {
     "data": {
      "text/plain": [
       "array(['사극', '코미디', '판타지', '드라마', '액션', '어드벤처', '애니메이션', 'SF', '범죄', '전쟁',\n",
       "       '미스터리', '멜로/로맨스', '스릴러', '공포(호러)', '뮤지컬', '다큐멘터리', '가족', '공연',\n",
       "       '기타', '서부극(웨스턴)'], dtype=object)"
      ]
     },
     "execution_count": 20,
     "metadata": {},
     "output_type": "execute_result"
    }
   ],
   "source": [
    "movie_data_fix1['genre'].unique()"
   ]
  },
  {
   "cell_type": "code",
   "execution_count": 21,
   "metadata": {
    "colab": {
     "base_uri": "https://localhost:8080/",
     "height": 366
    },
    "executionInfo": {
     "elapsed": 1083,
     "status": "ok",
     "timestamp": 1606875391274,
     "user": {
      "displayName": "설재형",
      "photoUrl": "",
      "userId": "14774941427314282713"
     },
     "user_tz": -540
    },
    "id": "dEsyVxCt9LZZ",
    "outputId": "1ddc9d5a-96a2-4ee9-a7f5-34cb1690f9bf"
   },
   "outputs": [
    {
     "data": {
      "text/html": [
       "<div>\n",
       "<style scoped>\n",
       "    .dataframe tbody tr th:only-of-type {\n",
       "        vertical-align: middle;\n",
       "    }\n",
       "\n",
       "    .dataframe tbody tr th {\n",
       "        vertical-align: top;\n",
       "    }\n",
       "\n",
       "    .dataframe thead th {\n",
       "        text-align: right;\n",
       "    }\n",
       "</style>\n",
       "<table border=\"1\" class=\"dataframe\">\n",
       "  <thead>\n",
       "    <tr style=\"text-align: right;\">\n",
       "      <th></th>\n",
       "      <th>title</th>\n",
       "      <th>release-time</th>\n",
       "      <th>genre</th>\n",
       "      <th>national</th>\n",
       "      <th>total_revenue</th>\n",
       "      <th>movie_rating</th>\n",
       "      <th>num_off_screen</th>\n",
       "      <th>screen_share</th>\n",
       "      <th>fsd_num_off_box</th>\n",
       "      <th>num_off_box</th>\n",
       "    </tr>\n",
       "  </thead>\n",
       "  <tbody>\n",
       "    <tr>\n",
       "      <th>0</th>\n",
       "      <td>명량</td>\n",
       "      <td>2014.7.30</td>\n",
       "      <td>historical_drama</td>\n",
       "      <td>한국</td>\n",
       "      <td>1.360000e+11</td>\n",
       "      <td>8.44</td>\n",
       "      <td>1587</td>\n",
       "      <td>39.8</td>\n",
       "      <td>1410271</td>\n",
       "      <td>17613682</td>\n",
       "    </tr>\n",
       "    <tr>\n",
       "      <th>1</th>\n",
       "      <td>극한직업</td>\n",
       "      <td>2019.1.23</td>\n",
       "      <td>comedy</td>\n",
       "      <td>한국</td>\n",
       "      <td>1.400000e+11</td>\n",
       "      <td>8.50</td>\n",
       "      <td>1978</td>\n",
       "      <td>31.4</td>\n",
       "      <td>724697</td>\n",
       "      <td>16264944</td>\n",
       "    </tr>\n",
       "    <tr>\n",
       "      <th>2</th>\n",
       "      <td>신과함께-죄와 벌</td>\n",
       "      <td>2017.12.20</td>\n",
       "      <td>fantasy</td>\n",
       "      <td>한국</td>\n",
       "      <td>1.160000e+11</td>\n",
       "      <td>7.83</td>\n",
       "      <td>1912</td>\n",
       "      <td>30.4</td>\n",
       "      <td>824013</td>\n",
       "      <td>14410754</td>\n",
       "    </tr>\n",
       "    <tr>\n",
       "      <th>3</th>\n",
       "      <td>국제시장</td>\n",
       "      <td>2014.12.17</td>\n",
       "      <td>dramas</td>\n",
       "      <td>한국</td>\n",
       "      <td>1.110000e+11</td>\n",
       "      <td>9.02</td>\n",
       "      <td>966</td>\n",
       "      <td>23.5</td>\n",
       "      <td>416356</td>\n",
       "      <td>14245998</td>\n",
       "    </tr>\n",
       "    <tr>\n",
       "      <th>4</th>\n",
       "      <td>어벤져스: 엔드게임</td>\n",
       "      <td>2019.4.24</td>\n",
       "      <td>action</td>\n",
       "      <td>미국</td>\n",
       "      <td>1.220000e+11</td>\n",
       "      <td>9.38</td>\n",
       "      <td>2835</td>\n",
       "      <td>58.0</td>\n",
       "      <td>2171533</td>\n",
       "      <td>13934592</td>\n",
       "    </tr>\n",
       "  </tbody>\n",
       "</table>\n",
       "</div>"
      ],
      "text/plain": [
       "        title release-time             genre national  total_revenue  \\\n",
       "0          명량    2014.7.30  historical_drama       한국   1.360000e+11   \n",
       "1        극한직업    2019.1.23            comedy       한국   1.400000e+11   \n",
       "2   신과함께-죄와 벌   2017.12.20           fantasy       한국   1.160000e+11   \n",
       "3        국제시장   2014.12.17            dramas       한국   1.110000e+11   \n",
       "4  어벤져스: 엔드게임    2019.4.24            action       미국   1.220000e+11   \n",
       "\n",
       "   movie_rating  num_off_screen  screen_share  fsd_num_off_box  num_off_box  \n",
       "0          8.44            1587          39.8          1410271     17613682  \n",
       "1          8.50            1978          31.4           724697     16264944  \n",
       "2          7.83            1912          30.4           824013     14410754  \n",
       "3          9.02             966          23.5           416356     14245998  \n",
       "4          9.38            2835          58.0          2171533     13934592  "
      ]
     },
     "execution_count": 21,
     "metadata": {},
     "output_type": "execute_result"
    }
   ],
   "source": [
    "# 한글로 명시된 장르명들을 영어로 바꾸어주는 과정\n",
    "replace_name = {'사극' : 'historical_drama', '코미디' : 'comedy', '판타지' : 'fantasy', '드라마' : 'dramas',\n",
    "               '액션' : 'action', '어드벤처' : 'adventure', '애니메이션' : 'animation','범죄': 'crime','전쟁': 'war','미스터리' :'mystery','멜로/로맨스' : 'melo/romance', '스릴러': 'thriller', '공포(호러)' : 'horror',\n",
    "               '뮤지컬': 'musical','다큐멘터리': 'documentry','가족' : 'family','공연':'show','기타': 'others','서부극(웨스턴)' : 'western'}\n",
    "movie_data_fix1.replace({'genre' : replace_name}, inplace = True)\n",
    "movie_data_fix1.head()"
   ]
  },
  {
   "cell_type": "code",
   "execution_count": 22,
   "metadata": {
    "colab": {
     "base_uri": "https://localhost:8080/",
     "height": 228
    },
    "executionInfo": {
     "elapsed": 1021,
     "status": "ok",
     "timestamp": 1606875393615,
     "user": {
      "displayName": "설재형",
      "photoUrl": "",
      "userId": "14774941427314282713"
     },
     "user_tz": -540
    },
    "id": "N0wI3Jv18Wrz",
    "outputId": "ad06c71c-d40b-4a83-de06-3ebb299394aa"
   },
   "outputs": [
    {
     "data": {
      "text/plain": [
       "<matplotlib.axes._subplots.AxesSubplot at 0x1eb96b9aac0>"
      ]
     },
     "execution_count": 22,
     "metadata": {},
     "output_type": "execute_result"
    },
    {
     "data": {
      "image/png": "[encoded data removed]",
      "text/plain": [
       "<Figure size 1800x432 with 1 Axes>"
      ]
     },
     "metadata": {
      "needs_background": "light"
     },
     "output_type": "display_data"
    }
   ],
   "source": [
    "# 장르데이터 시각화\n",
    "f, ax = plt.subplots(figsize = (25,6))\n",
    "sns.boxplot(x='genre', y='num_off_box', data=movie_data_fix1[['genre', 'num_off_box']])"
   ]
  },
  {
   "cell_type": "code",
   "execution_count": 23,
   "metadata": {
    "colab": {
     "base_uri": "https://localhost:8080/",
     "height": 663
    },
    "executionInfo": {
     "elapsed": 1151,
     "status": "ok",
     "timestamp": 1606875396761,
     "user": {
      "displayName": "설재형",
      "photoUrl": "",
      "userId": "14774941427314282713"
     },
     "user_tz": -540
    },
    "id": "bvTrHHbEotq1",
    "outputId": "dfa0fc77-f765-4237-a88d-f7c09bfba247"
   },
   "outputs": [
    {
     "data": {
      "text/html": [
       "<div>\n",
       "<style scoped>\n",
       "    .dataframe tbody tr th:only-of-type {\n",
       "        vertical-align: middle;\n",
       "    }\n",
       "\n",
       "    .dataframe tbody tr th {\n",
       "        vertical-align: top;\n",
       "    }\n",
       "\n",
       "    .dataframe thead th {\n",
       "        text-align: right;\n",
       "    }\n",
       "</style>\n",
       "<table border=\"1\" class=\"dataframe\">\n",
       "  <thead>\n",
       "    <tr style=\"text-align: right;\">\n",
       "      <th></th>\n",
       "      <th>screen_share</th>\n",
       "      <th>num_off_screen</th>\n",
       "      <th>num_off_box</th>\n",
       "      <th>fsd_num_off_box</th>\n",
       "      <th>movie_rating</th>\n",
       "    </tr>\n",
       "    <tr>\n",
       "      <th>genre</th>\n",
       "      <th></th>\n",
       "      <th></th>\n",
       "      <th></th>\n",
       "      <th></th>\n",
       "      <th></th>\n",
       "    </tr>\n",
       "  </thead>\n",
       "  <tbody>\n",
       "    <tr>\n",
       "      <th>show</th>\n",
       "      <td>2.450000</td>\n",
       "      <td>120.750000</td>\n",
       "      <td>1.119295e+05</td>\n",
       "      <td>53099.000000</td>\n",
       "      <td>9.060000</td>\n",
       "    </tr>\n",
       "    <tr>\n",
       "      <th>family</th>\n",
       "      <td>6.481818</td>\n",
       "      <td>308.363636</td>\n",
       "      <td>1.773730e+05</td>\n",
       "      <td>27656.818182</td>\n",
       "      <td>8.026364</td>\n",
       "    </tr>\n",
       "    <tr>\n",
       "      <th>western</th>\n",
       "      <td>9.900000</td>\n",
       "      <td>342.000000</td>\n",
       "      <td>2.601440e+05</td>\n",
       "      <td>51385.000000</td>\n",
       "      <td>8.530000</td>\n",
       "    </tr>\n",
       "    <tr>\n",
       "      <th>documentry</th>\n",
       "      <td>3.242857</td>\n",
       "      <td>163.000000</td>\n",
       "      <td>2.959676e+05</td>\n",
       "      <td>35190.285714</td>\n",
       "      <td>8.622857</td>\n",
       "    </tr>\n",
       "    <tr>\n",
       "      <th>others</th>\n",
       "      <td>4.300000</td>\n",
       "      <td>243.000000</td>\n",
       "      <td>3.150100e+05</td>\n",
       "      <td>118701.000000</td>\n",
       "      <td>9.320000</td>\n",
       "    </tr>\n",
       "    <tr>\n",
       "      <th>animation</th>\n",
       "      <td>6.896678</td>\n",
       "      <td>355.441860</td>\n",
       "      <td>4.487058e+05</td>\n",
       "      <td>49341.292359</td>\n",
       "      <td>8.028505</td>\n",
       "    </tr>\n",
       "    <tr>\n",
       "      <th>horror</th>\n",
       "      <td>8.101429</td>\n",
       "      <td>411.357143</td>\n",
       "      <td>4.793752e+05</td>\n",
       "      <td>76455.085714</td>\n",
       "      <td>6.315286</td>\n",
       "    </tr>\n",
       "    <tr>\n",
       "      <th>musical</th>\n",
       "      <td>7.225000</td>\n",
       "      <td>346.500000</td>\n",
       "      <td>6.841278e+05</td>\n",
       "      <td>133204.250000</td>\n",
       "      <td>7.677500</td>\n",
       "    </tr>\n",
       "    <tr>\n",
       "      <th>thriller</th>\n",
       "      <td>10.230508</td>\n",
       "      <td>482.881356</td>\n",
       "      <td>7.600463e+05</td>\n",
       "      <td>132411.406780</td>\n",
       "      <td>6.853390</td>\n",
       "    </tr>\n",
       "    <tr>\n",
       "      <th>mystery</th>\n",
       "      <td>11.730556</td>\n",
       "      <td>570.055556</td>\n",
       "      <td>1.004664e+06</td>\n",
       "      <td>142455.555556</td>\n",
       "      <td>6.903611</td>\n",
       "    </tr>\n",
       "    <tr>\n",
       "      <th>melo/romance</th>\n",
       "      <td>11.396078</td>\n",
       "      <td>492.862745</td>\n",
       "      <td>1.104967e+06</td>\n",
       "      <td>126793.509804</td>\n",
       "      <td>7.404314</td>\n",
       "    </tr>\n",
       "    <tr>\n",
       "      <th>SF</th>\n",
       "      <td>12.742105</td>\n",
       "      <td>550.184211</td>\n",
       "      <td>1.106840e+06</td>\n",
       "      <td>193373.289474</td>\n",
       "      <td>7.197368</td>\n",
       "    </tr>\n",
       "    <tr>\n",
       "      <th>comedy</th>\n",
       "      <td>10.348515</td>\n",
       "      <td>473.039604</td>\n",
       "      <td>1.188674e+06</td>\n",
       "      <td>119876.841584</td>\n",
       "      <td>7.321980</td>\n",
       "    </tr>\n",
       "    <tr>\n",
       "      <th>dramas</th>\n",
       "      <td>11.173797</td>\n",
       "      <td>524.197861</td>\n",
       "      <td>1.278936e+06</td>\n",
       "      <td>148655.689840</td>\n",
       "      <td>8.015561</td>\n",
       "    </tr>\n",
       "    <tr>\n",
       "      <th>war</th>\n",
       "      <td>9.066667</td>\n",
       "      <td>395.333333</td>\n",
       "      <td>1.318389e+06</td>\n",
       "      <td>164855.833333</td>\n",
       "      <td>7.693333</td>\n",
       "    </tr>\n",
       "    <tr>\n",
       "      <th>fantasy</th>\n",
       "      <td>11.040625</td>\n",
       "      <td>545.937500</td>\n",
       "      <td>1.348794e+06</td>\n",
       "      <td>192902.406250</td>\n",
       "      <td>7.493750</td>\n",
       "    </tr>\n",
       "    <tr>\n",
       "      <th>crime</th>\n",
       "      <td>13.561111</td>\n",
       "      <td>676.361111</td>\n",
       "      <td>1.673431e+06</td>\n",
       "      <td>252988.652778</td>\n",
       "      <td>7.159028</td>\n",
       "    </tr>\n",
       "    <tr>\n",
       "      <th>action</th>\n",
       "      <td>14.766202</td>\n",
       "      <td>689.693380</td>\n",
       "      <td>1.766664e+06</td>\n",
       "      <td>264573.045296</td>\n",
       "      <td>7.583554</td>\n",
       "    </tr>\n",
       "    <tr>\n",
       "      <th>adventure</th>\n",
       "      <td>12.862069</td>\n",
       "      <td>648.206897</td>\n",
       "      <td>1.863396e+06</td>\n",
       "      <td>180566.620690</td>\n",
       "      <td>7.913103</td>\n",
       "    </tr>\n",
       "    <tr>\n",
       "      <th>historical_drama</th>\n",
       "      <td>19.257143</td>\n",
       "      <td>894.142857</td>\n",
       "      <td>3.286932e+06</td>\n",
       "      <td>370817.392857</td>\n",
       "      <td>6.935714</td>\n",
       "    </tr>\n",
       "  </tbody>\n",
       "</table>\n",
       "</div>"
      ],
      "text/plain": [
       "                  screen_share  num_off_screen   num_off_box  fsd_num_off_box  \\\n",
       "genre                                                                           \n",
       "show                  2.450000      120.750000  1.119295e+05     53099.000000   \n",
       "family                6.481818      308.363636  1.773730e+05     27656.818182   \n",
       "western               9.900000      342.000000  2.601440e+05     51385.000000   \n",
       "documentry            3.242857      163.000000  2.959676e+05     35190.285714   \n",
       "others                4.300000      243.000000  3.150100e+05    118701.000000   \n",
       "animation             6.896678      355.441860  4.487058e+05     49341.292359   \n",
       "horror                8.101429      411.357143  4.793752e+05     76455.085714   \n",
       "musical               7.225000      346.500000  6.841278e+05    133204.250000   \n",
       "thriller             10.230508      482.881356  7.600463e+05    132411.406780   \n",
       "mystery              11.730556      570.055556  1.004664e+06    142455.555556   \n",
       "melo/romance         11.396078      492.862745  1.104967e+06    126793.509804   \n",
       "SF                   12.742105      550.184211  1.106840e+06    193373.289474   \n",
       "comedy               10.348515      473.039604  1.188674e+06    119876.841584   \n",
       "dramas               11.173797      524.197861  1.278936e+06    148655.689840   \n",
       "war                   9.066667      395.333333  1.318389e+06    164855.833333   \n",
       "fantasy              11.040625      545.937500  1.348794e+06    192902.406250   \n",
       "crime                13.561111      676.361111  1.673431e+06    252988.652778   \n",
       "action               14.766202      689.693380  1.766664e+06    264573.045296   \n",
       "adventure            12.862069      648.206897  1.863396e+06    180566.620690   \n",
       "historical_drama     19.257143      894.142857  3.286932e+06    370817.392857   \n",
       "\n",
       "                  movie_rating  \n",
       "genre                           \n",
       "show                  9.060000  \n",
       "family                8.026364  \n",
       "western               8.530000  \n",
       "documentry            8.622857  \n",
       "others                9.320000  \n",
       "animation             8.028505  \n",
       "horror                6.315286  \n",
       "musical               7.677500  \n",
       "thriller              6.853390  \n",
       "mystery               6.903611  \n",
       "melo/romance          7.404314  \n",
       "SF                    7.197368  \n",
       "comedy                7.321980  \n",
       "dramas                8.015561  \n",
       "war                   7.693333  \n",
       "fantasy               7.493750  \n",
       "crime                 7.159028  \n",
       "action                7.583554  \n",
       "adventure             7.913103  \n",
       "historical_drama      6.935714  "
      ]
     },
     "execution_count": 23,
     "metadata": {},
     "output_type": "execute_result"
    }
   ],
   "source": [
    "movie_data_fix1[['genre','screen_share','num_off_screen','num_off_box','fsd_num_off_box','movie_rating']].groupby('genre').mean().sort_values('num_off_box')"
   ]
  },
  {
   "cell_type": "code",
   "execution_count": 24,
   "metadata": {
    "colab": {
     "base_uri": "https://localhost:8080/"
    },
    "executionInfo": {
     "elapsed": 1068,
     "status": "ok",
     "timestamp": 1606875399594,
     "user": {
      "displayName": "설재형",
      "photoUrl": "",
      "userId": "14774941427314282713"
     },
     "user_tz": -540
    },
    "id": "SIHTurM_3D0W",
    "outputId": "ee78a59d-58b5-4330-c919-1c4c860e2642"
   },
   "outputs": [
    {
     "data": {
      "text/plain": [
       "array(['한국', '미국', '일본', '영국', '프랑스', '벨기에', '아이슬란드', '스페인', '독일',\n",
       "       '남아프리카공화국', '핀란드', '중국', '인도', '러시아', '호주', '덴마크', '캐나다', '페루',\n",
       "       '이탈리아', '멕시코', '뉴질랜드', '스웨덴', '태국', '터키', '체코', '홍콩', '인도네시아',\n",
       "       '노르웨이', '이스라엘', '아일랜드'], dtype=object)"
      ]
     },
     "execution_count": 24,
     "metadata": {},
     "output_type": "execute_result"
    }
   ],
   "source": [
    "movie_data_fix1['national'].unique()"
   ]
  },
  {
   "cell_type": "code",
   "execution_count": 25,
   "metadata": {
    "colab": {
     "base_uri": "https://localhost:8080/",
     "height": 366
    },
    "executionInfo": {
     "elapsed": 927,
     "status": "ok",
     "timestamp": 1606875401601,
     "user": {
      "displayName": "설재형",
      "photoUrl": "",
      "userId": "14774941427314282713"
     },
     "user_tz": -540
    },
    "id": "aQo6LR1O3Sfu",
    "outputId": "db8ad461-895c-42c4-efaa-61c064e97431"
   },
   "outputs": [
    {
     "data": {
      "text/html": [
       "<div>\n",
       "<style scoped>\n",
       "    .dataframe tbody tr th:only-of-type {\n",
       "        vertical-align: middle;\n",
       "    }\n",
       "\n",
       "    .dataframe tbody tr th {\n",
       "        vertical-align: top;\n",
       "    }\n",
       "\n",
       "    .dataframe thead th {\n",
       "        text-align: right;\n",
       "    }\n",
       "</style>\n",
       "<table border=\"1\" class=\"dataframe\">\n",
       "  <thead>\n",
       "    <tr style=\"text-align: right;\">\n",
       "      <th></th>\n",
       "      <th>title</th>\n",
       "      <th>release-time</th>\n",
       "      <th>genre</th>\n",
       "      <th>national</th>\n",
       "      <th>total_revenue</th>\n",
       "      <th>movie_rating</th>\n",
       "      <th>num_off_screen</th>\n",
       "      <th>screen_share</th>\n",
       "      <th>fsd_num_off_box</th>\n",
       "      <th>num_off_box</th>\n",
       "    </tr>\n",
       "  </thead>\n",
       "  <tbody>\n",
       "    <tr>\n",
       "      <th>0</th>\n",
       "      <td>명량</td>\n",
       "      <td>2014.7.30</td>\n",
       "      <td>historical_drama</td>\n",
       "      <td>SouthKorea</td>\n",
       "      <td>1.360000e+11</td>\n",
       "      <td>8.44</td>\n",
       "      <td>1587</td>\n",
       "      <td>39.8</td>\n",
       "      <td>1410271</td>\n",
       "      <td>17613682</td>\n",
       "    </tr>\n",
       "    <tr>\n",
       "      <th>1</th>\n",
       "      <td>극한직업</td>\n",
       "      <td>2019.1.23</td>\n",
       "      <td>comedy</td>\n",
       "      <td>SouthKorea</td>\n",
       "      <td>1.400000e+11</td>\n",
       "      <td>8.50</td>\n",
       "      <td>1978</td>\n",
       "      <td>31.4</td>\n",
       "      <td>724697</td>\n",
       "      <td>16264944</td>\n",
       "    </tr>\n",
       "    <tr>\n",
       "      <th>2</th>\n",
       "      <td>신과함께-죄와 벌</td>\n",
       "      <td>2017.12.20</td>\n",
       "      <td>fantasy</td>\n",
       "      <td>SouthKorea</td>\n",
       "      <td>1.160000e+11</td>\n",
       "      <td>7.83</td>\n",
       "      <td>1912</td>\n",
       "      <td>30.4</td>\n",
       "      <td>824013</td>\n",
       "      <td>14410754</td>\n",
       "    </tr>\n",
       "    <tr>\n",
       "      <th>3</th>\n",
       "      <td>국제시장</td>\n",
       "      <td>2014.12.17</td>\n",
       "      <td>dramas</td>\n",
       "      <td>SouthKorea</td>\n",
       "      <td>1.110000e+11</td>\n",
       "      <td>9.02</td>\n",
       "      <td>966</td>\n",
       "      <td>23.5</td>\n",
       "      <td>416356</td>\n",
       "      <td>14245998</td>\n",
       "    </tr>\n",
       "    <tr>\n",
       "      <th>4</th>\n",
       "      <td>어벤져스: 엔드게임</td>\n",
       "      <td>2019.4.24</td>\n",
       "      <td>action</td>\n",
       "      <td>America</td>\n",
       "      <td>1.220000e+11</td>\n",
       "      <td>9.38</td>\n",
       "      <td>2835</td>\n",
       "      <td>58.0</td>\n",
       "      <td>2171533</td>\n",
       "      <td>13934592</td>\n",
       "    </tr>\n",
       "  </tbody>\n",
       "</table>\n",
       "</div>"
      ],
      "text/plain": [
       "        title release-time             genre    national  total_revenue  \\\n",
       "0          명량    2014.7.30  historical_drama  SouthKorea   1.360000e+11   \n",
       "1        극한직업    2019.1.23            comedy  SouthKorea   1.400000e+11   \n",
       "2   신과함께-죄와 벌   2017.12.20           fantasy  SouthKorea   1.160000e+11   \n",
       "3        국제시장   2014.12.17            dramas  SouthKorea   1.110000e+11   \n",
       "4  어벤져스: 엔드게임    2019.4.24            action     America   1.220000e+11   \n",
       "\n",
       "   movie_rating  num_off_screen  screen_share  fsd_num_off_box  num_off_box  \n",
       "0          8.44            1587          39.8          1410271     17613682  \n",
       "1          8.50            1978          31.4           724697     16264944  \n",
       "2          7.83            1912          30.4           824013     14410754  \n",
       "3          9.02             966          23.5           416356     14245998  \n",
       "4          9.38            2835          58.0          2171533     13934592  "
      ]
     },
     "execution_count": 25,
     "metadata": {},
     "output_type": "execute_result"
    }
   ],
   "source": [
    "# # 한글로 명시된 국가명들을 영어로 바꾸어주는 과정\n",
    "replace_name = {'한국' : 'SouthKorea', '미국' : 'America', '일본' : 'Japan', '영국':'England','프랑스': 'France',\n",
    "               '벨기에' : 'Belgium', '아이슬란드' : 'Iceland', '스페인' : 'Spain','독일': 'German','남아프리카공화국': 'SouthAfrica','핀란드' :'Finland','중국' : 'China', '인도': 'India', '러시아' : 'Russia',\n",
    "               '호주': 'Australia','덴마크': 'Denmark','캐나다' : 'Canada','페루':'Peru','이탈리아': 'Italy','멕시코' : 'Mexico','뉴질랜드' : 'NewZealand', '스웨덴' :'Sweden' , '태국' : 'Thailand', '터키' :'Turkey' , '체코' :'Czech' , '홍콩' :'Hongkong' , '인도네시아' :'Indonesia' ,\n",
    "                '노르웨이' :'Norway' , '이스라엘' : 'Israel', '아일랜드' :'Ireland'}\n",
    "movie_data_fix1.replace({'national' : replace_name}, inplace = True)\n",
    "movie_data_fix1.head()"
   ]
  },
  {
   "cell_type": "code",
   "execution_count": 26,
   "metadata": {
    "colab": {
     "base_uri": "https://localhost:8080/",
     "height": 196
    },
    "executionInfo": {
     "elapsed": 1438,
     "status": "ok",
     "timestamp": 1606875404567,
     "user": {
      "displayName": "설재형",
      "photoUrl": "",
      "userId": "14774941427314282713"
     },
     "user_tz": -540
    },
    "id": "LdnUDK6V3SKl",
    "outputId": "592ddb1e-8412-470d-d353-b7b86e2049c5"
   },
   "outputs": [
    {
     "data": {
      "text/plain": [
       "<matplotlib.axes._subplots.AxesSubplot at 0x1eb972a78e0>"
      ]
     },
     "execution_count": 26,
     "metadata": {},
     "output_type": "execute_result"
    },
    {
     "data": {
      "image/png": "[encoded data removed]",
      "text/plain": [
       "<Figure size 2160x432 with 1 Axes>"
      ]
     },
     "metadata": {
      "needs_background": "light"
     },
     "output_type": "display_data"
    }
   ],
   "source": [
    "f, ax = plt.subplots(figsize = (30,6))\n",
    "sns.boxplot(x='national', y='num_off_box', data=movie_data_fix1[['national', 'num_off_box']])"
   ]
  },
  {
   "cell_type": "code",
   "execution_count": 27,
   "metadata": {
    "colab": {
     "base_uri": "https://localhost:8080/",
     "height": 956
    },
    "executionInfo": {
     "elapsed": 1176,
     "status": "ok",
     "timestamp": 1606875407634,
     "user": {
      "displayName": "설재형",
      "photoUrl": "",
      "userId": "14774941427314282713"
     },
     "user_tz": -540
    },
    "id": "IYM72n4inKpS",
    "outputId": "8b285733-6ea0-4e7f-af6e-923e6ada7a14"
   },
   "outputs": [
    {
     "data": {
      "text/html": [
       "<div>\n",
       "<style scoped>\n",
       "    .dataframe tbody tr th:only-of-type {\n",
       "        vertical-align: middle;\n",
       "    }\n",
       "\n",
       "    .dataframe tbody tr th {\n",
       "        vertical-align: top;\n",
       "    }\n",
       "\n",
       "    .dataframe thead th {\n",
       "        text-align: right;\n",
       "    }\n",
       "</style>\n",
       "<table border=\"1\" class=\"dataframe\">\n",
       "  <thead>\n",
       "    <tr style=\"text-align: right;\">\n",
       "      <th></th>\n",
       "      <th>screen_share</th>\n",
       "      <th>num_off_screen</th>\n",
       "      <th>num_off_box</th>\n",
       "      <th>fsd_num_off_box</th>\n",
       "      <th>movie_rating</th>\n",
       "    </tr>\n",
       "    <tr>\n",
       "      <th>national</th>\n",
       "      <th></th>\n",
       "      <th></th>\n",
       "      <th></th>\n",
       "      <th></th>\n",
       "      <th></th>\n",
       "    </tr>\n",
       "  </thead>\n",
       "  <tbody>\n",
       "    <tr>\n",
       "      <th>Ireland</th>\n",
       "      <td>2.200000</td>\n",
       "      <td>129.000000</td>\n",
       "      <td>1.222000e+04</td>\n",
       "      <td>700.000000</td>\n",
       "      <td>6.530000</td>\n",
       "    </tr>\n",
       "    <tr>\n",
       "      <th>Israel</th>\n",
       "      <td>3.200000</td>\n",
       "      <td>142.000000</td>\n",
       "      <td>1.474600e+04</td>\n",
       "      <td>2722.000000</td>\n",
       "      <td>6.170000</td>\n",
       "    </tr>\n",
       "    <tr>\n",
       "      <th>Hongkong</th>\n",
       "      <td>3.633333</td>\n",
       "      <td>156.000000</td>\n",
       "      <td>1.569033e+04</td>\n",
       "      <td>6999.333333</td>\n",
       "      <td>7.166667</td>\n",
       "    </tr>\n",
       "    <tr>\n",
       "      <th>Norway</th>\n",
       "      <td>4.150000</td>\n",
       "      <td>203.000000</td>\n",
       "      <td>1.687600e+04</td>\n",
       "      <td>1479.500000</td>\n",
       "      <td>7.795000</td>\n",
       "    </tr>\n",
       "    <tr>\n",
       "      <th>Indonesia</th>\n",
       "      <td>3.800000</td>\n",
       "      <td>120.000000</td>\n",
       "      <td>2.170500e+04</td>\n",
       "      <td>8387.000000</td>\n",
       "      <td>7.850000</td>\n",
       "    </tr>\n",
       "    <tr>\n",
       "      <th>Czech</th>\n",
       "      <td>5.400000</td>\n",
       "      <td>354.000000</td>\n",
       "      <td>2.527800e+04</td>\n",
       "      <td>4165.000000</td>\n",
       "      <td>7.570000</td>\n",
       "    </tr>\n",
       "    <tr>\n",
       "      <th>Turkey</th>\n",
       "      <td>5.000000</td>\n",
       "      <td>320.000000</td>\n",
       "      <td>2.712800e+04</td>\n",
       "      <td>6207.000000</td>\n",
       "      <td>4.530000</td>\n",
       "    </tr>\n",
       "    <tr>\n",
       "      <th>Thailand</th>\n",
       "      <td>2.200000</td>\n",
       "      <td>104.000000</td>\n",
       "      <td>2.746300e+04</td>\n",
       "      <td>2374.000000</td>\n",
       "      <td>8.540000</td>\n",
       "    </tr>\n",
       "    <tr>\n",
       "      <th>NewZealand</th>\n",
       "      <td>1.066667</td>\n",
       "      <td>62.666667</td>\n",
       "      <td>3.118233e+04</td>\n",
       "      <td>8705.333333</td>\n",
       "      <td>9.330000</td>\n",
       "    </tr>\n",
       "    <tr>\n",
       "      <th>Peru</th>\n",
       "      <td>3.600000</td>\n",
       "      <td>135.500000</td>\n",
       "      <td>3.260650e+04</td>\n",
       "      <td>3352.500000</td>\n",
       "      <td>6.825000</td>\n",
       "    </tr>\n",
       "    <tr>\n",
       "      <th>Sweden</th>\n",
       "      <td>3.800000</td>\n",
       "      <td>160.000000</td>\n",
       "      <td>3.488800e+04</td>\n",
       "      <td>7226.000000</td>\n",
       "      <td>6.230000</td>\n",
       "    </tr>\n",
       "    <tr>\n",
       "      <th>Mexico</th>\n",
       "      <td>0.500000</td>\n",
       "      <td>32.000000</td>\n",
       "      <td>4.256900e+04</td>\n",
       "      <td>2693.000000</td>\n",
       "      <td>9.040000</td>\n",
       "    </tr>\n",
       "    <tr>\n",
       "      <th>Italy</th>\n",
       "      <td>7.000000</td>\n",
       "      <td>275.000000</td>\n",
       "      <td>4.419800e+04</td>\n",
       "      <td>2790.000000</td>\n",
       "      <td>5.190000</td>\n",
       "    </tr>\n",
       "    <tr>\n",
       "      <th>Russia</th>\n",
       "      <td>4.444444</td>\n",
       "      <td>226.333333</td>\n",
       "      <td>5.306378e+04</td>\n",
       "      <td>7110.444444</td>\n",
       "      <td>6.913333</td>\n",
       "    </tr>\n",
       "    <tr>\n",
       "      <th>China</th>\n",
       "      <td>4.363636</td>\n",
       "      <td>205.954545</td>\n",
       "      <td>5.644673e+04</td>\n",
       "      <td>11557.045455</td>\n",
       "      <td>6.566364</td>\n",
       "    </tr>\n",
       "    <tr>\n",
       "      <th>Australia</th>\n",
       "      <td>4.600000</td>\n",
       "      <td>200.000000</td>\n",
       "      <td>7.543267e+04</td>\n",
       "      <td>11893.333333</td>\n",
       "      <td>7.566667</td>\n",
       "    </tr>\n",
       "    <tr>\n",
       "      <th>Canada</th>\n",
       "      <td>1.666667</td>\n",
       "      <td>177.666667</td>\n",
       "      <td>8.379533e+04</td>\n",
       "      <td>10024.333333</td>\n",
       "      <td>7.403333</td>\n",
       "    </tr>\n",
       "    <tr>\n",
       "      <th>Denmark</th>\n",
       "      <td>5.700000</td>\n",
       "      <td>267.000000</td>\n",
       "      <td>1.055760e+05</td>\n",
       "      <td>13083.500000</td>\n",
       "      <td>7.610000</td>\n",
       "    </tr>\n",
       "    <tr>\n",
       "      <th>India</th>\n",
       "      <td>4.933333</td>\n",
       "      <td>193.333333</td>\n",
       "      <td>1.219333e+05</td>\n",
       "      <td>17216.666667</td>\n",
       "      <td>8.376667</td>\n",
       "    </tr>\n",
       "    <tr>\n",
       "      <th>Japan</th>\n",
       "      <td>4.913433</td>\n",
       "      <td>249.313433</td>\n",
       "      <td>1.596465e+05</td>\n",
       "      <td>24487.470149</td>\n",
       "      <td>7.848358</td>\n",
       "    </tr>\n",
       "    <tr>\n",
       "      <th>Spain</th>\n",
       "      <td>6.916667</td>\n",
       "      <td>269.833333</td>\n",
       "      <td>2.078538e+05</td>\n",
       "      <td>43974.833333</td>\n",
       "      <td>7.728333</td>\n",
       "    </tr>\n",
       "    <tr>\n",
       "      <th>German</th>\n",
       "      <td>6.250000</td>\n",
       "      <td>312.625000</td>\n",
       "      <td>2.245472e+05</td>\n",
       "      <td>32326.250000</td>\n",
       "      <td>7.663750</td>\n",
       "    </tr>\n",
       "    <tr>\n",
       "      <th>France</th>\n",
       "      <td>6.965000</td>\n",
       "      <td>325.350000</td>\n",
       "      <td>3.082267e+05</td>\n",
       "      <td>50729.400000</td>\n",
       "      <td>7.700000</td>\n",
       "    </tr>\n",
       "    <tr>\n",
       "      <th>England</th>\n",
       "      <td>6.990909</td>\n",
       "      <td>346.818182</td>\n",
       "      <td>3.726280e+05</td>\n",
       "      <td>69503.757576</td>\n",
       "      <td>7.692121</td>\n",
       "    </tr>\n",
       "    <tr>\n",
       "      <th>Finland</th>\n",
       "      <td>7.100000</td>\n",
       "      <td>306.000000</td>\n",
       "      <td>4.072640e+05</td>\n",
       "      <td>96141.000000</td>\n",
       "      <td>8.400000</td>\n",
       "    </tr>\n",
       "    <tr>\n",
       "      <th>SouthAfrica</th>\n",
       "      <td>6.800000</td>\n",
       "      <td>273.000000</td>\n",
       "      <td>4.726920e+05</td>\n",
       "      <td>104840.000000</td>\n",
       "      <td>8.700000</td>\n",
       "    </tr>\n",
       "    <tr>\n",
       "      <th>Belgium</th>\n",
       "      <td>7.700000</td>\n",
       "      <td>384.250000</td>\n",
       "      <td>6.795595e+05</td>\n",
       "      <td>99295.000000</td>\n",
       "      <td>8.725000</td>\n",
       "    </tr>\n",
       "    <tr>\n",
       "      <th>Iceland</th>\n",
       "      <td>10.400000</td>\n",
       "      <td>383.000000</td>\n",
       "      <td>7.653150e+05</td>\n",
       "      <td>20696.000000</td>\n",
       "      <td>5.640000</td>\n",
       "    </tr>\n",
       "    <tr>\n",
       "      <th>America</th>\n",
       "      <td>11.462585</td>\n",
       "      <td>545.413265</td>\n",
       "      <td>1.103967e+06</td>\n",
       "      <td>155155.807823</td>\n",
       "      <td>7.739507</td>\n",
       "    </tr>\n",
       "    <tr>\n",
       "      <th>SouthKorea</th>\n",
       "      <td>13.656838</td>\n",
       "      <td>648.455128</td>\n",
       "      <td>1.794971e+06</td>\n",
       "      <td>225943.581197</td>\n",
       "      <td>7.325021</td>\n",
       "    </tr>\n",
       "  </tbody>\n",
       "</table>\n",
       "</div>"
      ],
      "text/plain": [
       "             screen_share  num_off_screen   num_off_box  fsd_num_off_box  \\\n",
       "national                                                                   \n",
       "Ireland          2.200000      129.000000  1.222000e+04       700.000000   \n",
       "Israel           3.200000      142.000000  1.474600e+04      2722.000000   \n",
       "Hongkong         3.633333      156.000000  1.569033e+04      6999.333333   \n",
       "Norway           4.150000      203.000000  1.687600e+04      1479.500000   \n",
       "Indonesia        3.800000      120.000000  2.170500e+04      8387.000000   \n",
       "Czech            5.400000      354.000000  2.527800e+04      4165.000000   \n",
       "Turkey           5.000000      320.000000  2.712800e+04      6207.000000   \n",
       "Thailand         2.200000      104.000000  2.746300e+04      2374.000000   \n",
       "NewZealand       1.066667       62.666667  3.118233e+04      8705.333333   \n",
       "Peru             3.600000      135.500000  3.260650e+04      3352.500000   \n",
       "Sweden           3.800000      160.000000  3.488800e+04      7226.000000   \n",
       "Mexico           0.500000       32.000000  4.256900e+04      2693.000000   \n",
       "Italy            7.000000      275.000000  4.419800e+04      2790.000000   \n",
       "Russia           4.444444      226.333333  5.306378e+04      7110.444444   \n",
       "China            4.363636      205.954545  5.644673e+04     11557.045455   \n",
       "Australia        4.600000      200.000000  7.543267e+04     11893.333333   \n",
       "Canada           1.666667      177.666667  8.379533e+04     10024.333333   \n",
       "Denmark          5.700000      267.000000  1.055760e+05     13083.500000   \n",
       "India            4.933333      193.333333  1.219333e+05     17216.666667   \n",
       "Japan            4.913433      249.313433  1.596465e+05     24487.470149   \n",
       "Spain            6.916667      269.833333  2.078538e+05     43974.833333   \n",
       "German           6.250000      312.625000  2.245472e+05     32326.250000   \n",
       "France           6.965000      325.350000  3.082267e+05     50729.400000   \n",
       "England          6.990909      346.818182  3.726280e+05     69503.757576   \n",
       "Finland          7.100000      306.000000  4.072640e+05     96141.000000   \n",
       "SouthAfrica      6.800000      273.000000  4.726920e+05    104840.000000   \n",
       "Belgium          7.700000      384.250000  6.795595e+05     99295.000000   \n",
       "Iceland         10.400000      383.000000  7.653150e+05     20696.000000   \n",
       "America         11.462585      545.413265  1.103967e+06    155155.807823   \n",
       "SouthKorea      13.656838      648.455128  1.794971e+06    225943.581197   \n",
       "\n",
       "             movie_rating  \n",
       "national                   \n",
       "Ireland          6.530000  \n",
       "Israel           6.170000  \n",
       "Hongkong         7.166667  \n",
       "Norway           7.795000  \n",
       "Indonesia        7.850000  \n",
       "Czech            7.570000  \n",
       "Turkey           4.530000  \n",
       "Thailand         8.540000  \n",
       "NewZealand       9.330000  \n",
       "Peru             6.825000  \n",
       "Sweden           6.230000  \n",
       "Mexico           9.040000  \n",
       "Italy            5.190000  \n",
       "Russia           6.913333  \n",
       "China            6.566364  \n",
       "Australia        7.566667  \n",
       "Canada           7.403333  \n",
       "Denmark          7.610000  \n",
       "India            8.376667  \n",
       "Japan            7.848358  \n",
       "Spain            7.728333  \n",
       "German           7.663750  \n",
       "France           7.700000  \n",
       "England          7.692121  \n",
       "Finland          8.400000  \n",
       "SouthAfrica      8.700000  \n",
       "Belgium          8.725000  \n",
       "Iceland          5.640000  \n",
       "America          7.739507  \n",
       "SouthKorea       7.325021  "
      ]
     },
     "execution_count": 27,
     "metadata": {},
     "output_type": "execute_result"
    }
   ],
   "source": [
    "movie_data_fix1[['national','genre','screen_share','num_off_screen','num_off_box','fsd_num_off_box','movie_rating']].groupby('national').mean().sort_values('num_off_box')"
   ]
  },
  {
   "cell_type": "code",
   "execution_count": 28,
   "metadata": {
    "id": "26wUT0QY7nb0"
   },
   "outputs": [],
   "source": [
    "movie_data_fix1.to_csv('movie_data_fixed_english.csv', index = False,encoding='utf-8-sig')"
   ]
  },
  {
   "cell_type": "markdown",
   "metadata": {
    "id": "2lpnB-lFDJfu"
   },
   "source": [
    "# 최종 전처리 데이터"
   ]
  },
  {
   "cell_type": "code",
   "execution_count": 29,
   "metadata": {
    "id": "CmyYXQ2baawe"
   },
   "outputs": [],
   "source": [
    "movie_data=pd.read_csv('movie_data/movie_data_fixed_final.csv')"
   ]
  },
  {
   "cell_type": "code",
   "execution_count": 30,
   "metadata": {
    "colab": {
     "base_uri": "https://localhost:8080/",
     "height": 366
    },
    "executionInfo": {
     "elapsed": 904,
     "status": "ok",
     "timestamp": 1606875418240,
     "user": {
      "displayName": "설재형",
      "photoUrl": "",
      "userId": "14774941427314282713"
     },
     "user_tz": -540
    },
    "id": "ny91u8ZxCnH9",
    "outputId": "a53b88da-08f7-4fc1-943a-ee6e6c331446"
   },
   "outputs": [
    {
     "data": {
      "text/html": [
       "<div>\n",
       "<style scoped>\n",
       "    .dataframe tbody tr th:only-of-type {\n",
       "        vertical-align: middle;\n",
       "    }\n",
       "\n",
       "    .dataframe tbody tr th {\n",
       "        vertical-align: top;\n",
       "    }\n",
       "\n",
       "    .dataframe thead th {\n",
       "        text-align: right;\n",
       "    }\n",
       "</style>\n",
       "<table border=\"1\" class=\"dataframe\">\n",
       "  <thead>\n",
       "    <tr style=\"text-align: right;\">\n",
       "      <th></th>\n",
       "      <th>title</th>\n",
       "      <th>release-time</th>\n",
       "      <th>genre</th>\n",
       "      <th>historical_drama</th>\n",
       "      <th>adventure</th>\n",
       "      <th>action</th>\n",
       "      <th>crime</th>\n",
       "      <th>fantasy</th>\n",
       "      <th>war</th>\n",
       "      <th>drama</th>\n",
       "      <th>...</th>\n",
       "      <th>korea</th>\n",
       "      <th>america</th>\n",
       "      <th>japan</th>\n",
       "      <th>others</th>\n",
       "      <th>national</th>\n",
       "      <th>movie_rating</th>\n",
       "      <th>num_off_screen</th>\n",
       "      <th>screen_share</th>\n",
       "      <th>fsd_num_off_box</th>\n",
       "      <th>num_off_box</th>\n",
       "    </tr>\n",
       "  </thead>\n",
       "  <tbody>\n",
       "    <tr>\n",
       "      <th>0</th>\n",
       "      <td>명량</td>\n",
       "      <td>0</td>\n",
       "      <td>historical_drama</td>\n",
       "      <td>1</td>\n",
       "      <td>0</td>\n",
       "      <td>0</td>\n",
       "      <td>0</td>\n",
       "      <td>0</td>\n",
       "      <td>0</td>\n",
       "      <td>0</td>\n",
       "      <td>...</td>\n",
       "      <td>1</td>\n",
       "      <td>0</td>\n",
       "      <td>0</td>\n",
       "      <td>0</td>\n",
       "      <td>SouthKorea</td>\n",
       "      <td>8.44</td>\n",
       "      <td>1587</td>\n",
       "      <td>39.8</td>\n",
       "      <td>1410271</td>\n",
       "      <td>17613682</td>\n",
       "    </tr>\n",
       "    <tr>\n",
       "      <th>1</th>\n",
       "      <td>극한직업</td>\n",
       "      <td>1</td>\n",
       "      <td>comedy</td>\n",
       "      <td>0</td>\n",
       "      <td>0</td>\n",
       "      <td>0</td>\n",
       "      <td>0</td>\n",
       "      <td>0</td>\n",
       "      <td>0</td>\n",
       "      <td>0</td>\n",
       "      <td>...</td>\n",
       "      <td>1</td>\n",
       "      <td>0</td>\n",
       "      <td>0</td>\n",
       "      <td>0</td>\n",
       "      <td>SouthKorea</td>\n",
       "      <td>8.50</td>\n",
       "      <td>1978</td>\n",
       "      <td>31.4</td>\n",
       "      <td>724697</td>\n",
       "      <td>16264944</td>\n",
       "    </tr>\n",
       "    <tr>\n",
       "      <th>2</th>\n",
       "      <td>신과함께-죄와 벌</td>\n",
       "      <td>0</td>\n",
       "      <td>fantasy</td>\n",
       "      <td>0</td>\n",
       "      <td>0</td>\n",
       "      <td>0</td>\n",
       "      <td>0</td>\n",
       "      <td>1</td>\n",
       "      <td>0</td>\n",
       "      <td>0</td>\n",
       "      <td>...</td>\n",
       "      <td>1</td>\n",
       "      <td>0</td>\n",
       "      <td>0</td>\n",
       "      <td>0</td>\n",
       "      <td>SouthKorea</td>\n",
       "      <td>7.83</td>\n",
       "      <td>1912</td>\n",
       "      <td>30.4</td>\n",
       "      <td>824013</td>\n",
       "      <td>14410754</td>\n",
       "    </tr>\n",
       "    <tr>\n",
       "      <th>3</th>\n",
       "      <td>국제시장</td>\n",
       "      <td>0</td>\n",
       "      <td>dramas</td>\n",
       "      <td>0</td>\n",
       "      <td>0</td>\n",
       "      <td>0</td>\n",
       "      <td>0</td>\n",
       "      <td>0</td>\n",
       "      <td>0</td>\n",
       "      <td>1</td>\n",
       "      <td>...</td>\n",
       "      <td>1</td>\n",
       "      <td>0</td>\n",
       "      <td>0</td>\n",
       "      <td>0</td>\n",
       "      <td>SouthKorea</td>\n",
       "      <td>9.02</td>\n",
       "      <td>966</td>\n",
       "      <td>23.5</td>\n",
       "      <td>416356</td>\n",
       "      <td>14245998</td>\n",
       "    </tr>\n",
       "    <tr>\n",
       "      <th>4</th>\n",
       "      <td>어벤져스: 엔드게임</td>\n",
       "      <td>0</td>\n",
       "      <td>action</td>\n",
       "      <td>0</td>\n",
       "      <td>0</td>\n",
       "      <td>1</td>\n",
       "      <td>0</td>\n",
       "      <td>0</td>\n",
       "      <td>0</td>\n",
       "      <td>0</td>\n",
       "      <td>...</td>\n",
       "      <td>0</td>\n",
       "      <td>1</td>\n",
       "      <td>0</td>\n",
       "      <td>0</td>\n",
       "      <td>America</td>\n",
       "      <td>9.38</td>\n",
       "      <td>2835</td>\n",
       "      <td>58.0</td>\n",
       "      <td>2171533</td>\n",
       "      <td>13934592</td>\n",
       "    </tr>\n",
       "  </tbody>\n",
       "</table>\n",
       "<p>5 rows × 32 columns</p>\n",
       "</div>"
      ],
      "text/plain": [
       "        title  release-time             genre  historical_drama  adventure  \\\n",
       "0          명량             0  historical_drama                 1          0   \n",
       "1        극한직업             1            comedy                 0          0   \n",
       "2   신과함께-죄와 벌             0           fantasy                 0          0   \n",
       "3        국제시장             0            dramas                 0          0   \n",
       "4  어벤져스: 엔드게임             0            action                 0          0   \n",
       "\n",
       "   action  crime  fantasy  war  drama  ...  korea  america  japan  others  \\\n",
       "0       0      0        0    0      0  ...      1        0      0       0   \n",
       "1       0      0        0    0      0  ...      1        0      0       0   \n",
       "2       0      0        1    0      0  ...      1        0      0       0   \n",
       "3       0      0        0    0      1  ...      1        0      0       0   \n",
       "4       1      0        0    0      0  ...      0        1      0       0   \n",
       "\n",
       "     national  movie_rating  num_off_screen  screen_share  fsd_num_off_box  \\\n",
       "0  SouthKorea          8.44            1587          39.8          1410271   \n",
       "1  SouthKorea          8.50            1978          31.4           724697   \n",
       "2  SouthKorea          7.83            1912          30.4           824013   \n",
       "3  SouthKorea          9.02             966          23.5           416356   \n",
       "4     America          9.38            2835          58.0          2171533   \n",
       "\n",
       "   num_off_box  \n",
       "0     17613682  \n",
       "1     16264944  \n",
       "2     14410754  \n",
       "3     14245998  \n",
       "4     13934592  \n",
       "\n",
       "[5 rows x 32 columns]"
      ]
     },
     "execution_count": 30,
     "metadata": {},
     "output_type": "execute_result"
    }
   ],
   "source": [
    "movie_data.head()"
   ]
  },
  {
   "cell_type": "markdown",
   "metadata": {
    "id": "InNIHFyroi2k"
   },
   "source": [
    "# 최종 처리된 데이터 레이블 정보\n",
    "\n",
    "release-time : 개봉일 기준 2주 이내에 추석이나 설이 있는 경우 1 아니면 0\n",
    "\n",
    "genre : 장르\n",
    "\n",
    "historical_drama : 장르가 사극인 경우\n",
    "\n",
    "adventure : 장르가 어드벤쳐인 경우\n",
    "\n",
    "historical_drama ~show : 장르가 사극 ~ 공연\n",
    "\n",
    "korea : 국가가 한국인 경우\n",
    "\n",
    "america : 국가가 미국인 경우\n",
    "\n",
    "japan : 국가가 일본인 경우\n",
    "\n",
    "others : 국가가 그외인 경우\n",
    "\n",
    "national : 국가\n",
    "\n",
    "movie_rating :영화 평점\n",
    "\n",
    "num_off_screnn : 전국 스크린수\n",
    "\n",
    "screen_share : 스크린 점유율\n",
    "\n",
    "fsd_num_off_box : 개봉 2일차 누적 관객수\n",
    "\n",
    "num_off_box : 최종 관객수\n"
   ]
  },
  {
   "cell_type": "code",
   "execution_count": 31,
   "metadata": {
    "colab": {
     "base_uri": "https://localhost:8080/"
    },
    "executionInfo": {
     "elapsed": 1315,
     "status": "ok",
     "timestamp": 1606875421676,
     "user": {
      "displayName": "설재형",
      "photoUrl": "",
      "userId": "14774941427314282713"
     },
     "user_tz": -540
    },
    "id": "HgNWbghGoar5",
    "outputId": "c9154d1c-9a6f-4dd7-9b37-dee4976b941d"
   },
   "outputs": [
    {
     "name": "stdout",
     "output_type": "stream",
     "text": [
      "<class 'pandas.core.frame.DataFrame'>\n",
      "RangeIndex: 1325 entries, 0 to 1324\n",
      "Data columns (total 32 columns):\n",
      " #   Column            Non-Null Count  Dtype  \n",
      "---  ------            --------------  -----  \n",
      " 0   title             1325 non-null   object \n",
      " 1   release-time      1325 non-null   int64  \n",
      " 2   genre             1325 non-null   object \n",
      " 3   historical_drama  1325 non-null   int64  \n",
      " 4   adventure         1325 non-null   int64  \n",
      " 5   action            1325 non-null   int64  \n",
      " 6   crime             1325 non-null   int64  \n",
      " 7   fantasy           1325 non-null   int64  \n",
      " 8   war               1325 non-null   int64  \n",
      " 9   drama             1325 non-null   int64  \n",
      " 10  comedy            1325 non-null   int64  \n",
      " 11  SF                1325 non-null   int64  \n",
      " 12  melo/romance      1325 non-null   int64  \n",
      " 13  mystery           1325 non-null   int64  \n",
      " 14  thriller          1325 non-null   int64  \n",
      " 15  musical           1325 non-null   int64  \n",
      " 16  horror            1325 non-null   int64  \n",
      " 17  animation         1325 non-null   int64  \n",
      " 18  documentry        1325 non-null   int64  \n",
      " 19  western           1325 non-null   int64  \n",
      " 20  family            1325 non-null   int64  \n",
      " 21  show              1325 non-null   int64  \n",
      " 22  korea             1325 non-null   int64  \n",
      " 23  america           1325 non-null   int64  \n",
      " 24  japan             1325 non-null   int64  \n",
      " 25  others            1325 non-null   int64  \n",
      " 26  national          1325 non-null   object \n",
      " 27  movie_rating      1325 non-null   float64\n",
      " 28  num_off_screen    1325 non-null   int64  \n",
      " 29  screen_share      1325 non-null   float64\n",
      " 30  fsd_num_off_box   1325 non-null   int64  \n",
      " 31  num_off_box       1325 non-null   int64  \n",
      "dtypes: float64(2), int64(27), object(3)\n",
      "memory usage: 331.4+ KB\n"
     ]
    }
   ],
   "source": [
    "movie_data.info()"
   ]
  },
  {
   "cell_type": "code",
   "execution_count": 32,
   "metadata": {
    "colab": {
     "base_uri": "https://localhost:8080/"
    },
    "executionInfo": {
     "elapsed": 1282,
     "status": "ok",
     "timestamp": 1606875423906,
     "user": {
      "displayName": "설재형",
      "photoUrl": "",
      "userId": "14774941427314282713"
     },
     "user_tz": -540
    },
    "id": "1Ivco7TYELhd",
    "outputId": "9f74e1af-a518-49ad-87c0-22d2a579f96b"
   },
   "outputs": [
    {
     "data": {
      "text/plain": [
       "title               0.0\n",
       "release-time        0.0\n",
       "genre               0.0\n",
       "historical_drama    0.0\n",
       "adventure           0.0\n",
       "action              0.0\n",
       "crime               0.0\n",
       "fantasy             0.0\n",
       "war                 0.0\n",
       "drama               0.0\n",
       "comedy              0.0\n",
       "SF                  0.0\n",
       "melo/romance        0.0\n",
       "mystery             0.0\n",
       "thriller            0.0\n",
       "musical             0.0\n",
       "horror              0.0\n",
       "animation           0.0\n",
       "documentry          0.0\n",
       "western             0.0\n",
       "family              0.0\n",
       "show                0.0\n",
       "korea               0.0\n",
       "america             0.0\n",
       "japan               0.0\n",
       "others              0.0\n",
       "national            0.0\n",
       "movie_rating        0.0\n",
       "num_off_screen      0.0\n",
       "screen_share        0.0\n",
       "fsd_num_off_box     0.0\n",
       "num_off_box         0.0\n",
       "dtype: float64"
      ]
     },
     "execution_count": 32,
     "metadata": {},
     "output_type": "execute_result"
    }
   ],
   "source": [
    "# 결측치 확인\n",
    "movie_data.isna().sum() / 600"
   ]
  },
  {
   "cell_type": "code",
   "execution_count": 33,
   "metadata": {
    "colab": {
     "base_uri": "https://localhost:8080/",
     "height": 319
    },
    "executionInfo": {
     "elapsed": 1265,
     "status": "ok",
     "timestamp": 1606875426034,
     "user": {
      "displayName": "설재형",
      "photoUrl": "",
      "userId": "14774941427314282713"
     },
     "user_tz": -540
    },
    "id": "DF6p_U5UvoST",
    "outputId": "33822e80-be29-4d93-a3bf-4f542c673dee"
   },
   "outputs": [
    {
     "data": {
      "text/html": [
       "<div>\n",
       "<style scoped>\n",
       "    .dataframe tbody tr th:only-of-type {\n",
       "        vertical-align: middle;\n",
       "    }\n",
       "\n",
       "    .dataframe tbody tr th {\n",
       "        vertical-align: top;\n",
       "    }\n",
       "\n",
       "    .dataframe thead th {\n",
       "        text-align: right;\n",
       "    }\n",
       "</style>\n",
       "<table border=\"1\" class=\"dataframe\">\n",
       "  <thead>\n",
       "    <tr style=\"text-align: right;\">\n",
       "      <th></th>\n",
       "      <th>release-time</th>\n",
       "      <th>historical_drama</th>\n",
       "      <th>adventure</th>\n",
       "      <th>action</th>\n",
       "      <th>crime</th>\n",
       "      <th>fantasy</th>\n",
       "      <th>war</th>\n",
       "      <th>drama</th>\n",
       "      <th>comedy</th>\n",
       "      <th>SF</th>\n",
       "      <th>...</th>\n",
       "      <th>show</th>\n",
       "      <th>korea</th>\n",
       "      <th>america</th>\n",
       "      <th>japan</th>\n",
       "      <th>others</th>\n",
       "      <th>movie_rating</th>\n",
       "      <th>num_off_screen</th>\n",
       "      <th>screen_share</th>\n",
       "      <th>fsd_num_off_box</th>\n",
       "      <th>num_off_box</th>\n",
       "    </tr>\n",
       "  </thead>\n",
       "  <tbody>\n",
       "    <tr>\n",
       "      <th>count</th>\n",
       "      <td>1325.000000</td>\n",
       "      <td>1325.000000</td>\n",
       "      <td>1325.000000</td>\n",
       "      <td>1325.000000</td>\n",
       "      <td>1325.000000</td>\n",
       "      <td>1325.000000</td>\n",
       "      <td>1325.000000</td>\n",
       "      <td>1325.000000</td>\n",
       "      <td>1325.000000</td>\n",
       "      <td>1325.000000</td>\n",
       "      <td>...</td>\n",
       "      <td>1325.000000</td>\n",
       "      <td>1325.000000</td>\n",
       "      <td>1325.000000</td>\n",
       "      <td>1325.000000</td>\n",
       "      <td>1325.000000</td>\n",
       "      <td>1325.000000</td>\n",
       "      <td>1325.000000</td>\n",
       "      <td>1325.000000</td>\n",
       "      <td>1.325000e+03</td>\n",
       "      <td>1.325000e+03</td>\n",
       "    </tr>\n",
       "    <tr>\n",
       "      <th>mean</th>\n",
       "      <td>0.089811</td>\n",
       "      <td>0.021132</td>\n",
       "      <td>0.021887</td>\n",
       "      <td>0.216604</td>\n",
       "      <td>0.054340</td>\n",
       "      <td>0.024151</td>\n",
       "      <td>0.004528</td>\n",
       "      <td>0.141132</td>\n",
       "      <td>0.076226</td>\n",
       "      <td>0.028679</td>\n",
       "      <td>...</td>\n",
       "      <td>0.003774</td>\n",
       "      <td>0.353208</td>\n",
       "      <td>0.443774</td>\n",
       "      <td>0.140377</td>\n",
       "      <td>0.062642</td>\n",
       "      <td>7.574415</td>\n",
       "      <td>523.730566</td>\n",
       "      <td>10.981208</td>\n",
       "      <td>1.549131e+05</td>\n",
       "      <td>1.162041e+06</td>\n",
       "    </tr>\n",
       "    <tr>\n",
       "      <th>std</th>\n",
       "      <td>0.286019</td>\n",
       "      <td>0.143879</td>\n",
       "      <td>0.146369</td>\n",
       "      <td>0.412086</td>\n",
       "      <td>0.226772</td>\n",
       "      <td>0.153576</td>\n",
       "      <td>0.067165</td>\n",
       "      <td>0.348289</td>\n",
       "      <td>0.265460</td>\n",
       "      <td>0.166966</td>\n",
       "      <td>...</td>\n",
       "      <td>0.061337</td>\n",
       "      <td>0.478147</td>\n",
       "      <td>0.497016</td>\n",
       "      <td>0.347509</td>\n",
       "      <td>0.242409</td>\n",
       "      <td>1.254508</td>\n",
       "      <td>383.697236</td>\n",
       "      <td>7.677534</td>\n",
       "      <td>2.408750e+05</td>\n",
       "      <td>2.127589e+06</td>\n",
       "    </tr>\n",
       "    <tr>\n",
       "      <th>min</th>\n",
       "      <td>0.000000</td>\n",
       "      <td>0.000000</td>\n",
       "      <td>0.000000</td>\n",
       "      <td>0.000000</td>\n",
       "      <td>0.000000</td>\n",
       "      <td>0.000000</td>\n",
       "      <td>0.000000</td>\n",
       "      <td>0.000000</td>\n",
       "      <td>0.000000</td>\n",
       "      <td>0.000000</td>\n",
       "      <td>...</td>\n",
       "      <td>0.000000</td>\n",
       "      <td>0.000000</td>\n",
       "      <td>0.000000</td>\n",
       "      <td>0.000000</td>\n",
       "      <td>0.000000</td>\n",
       "      <td>1.270000</td>\n",
       "      <td>1.000000</td>\n",
       "      <td>0.000000</td>\n",
       "      <td>2.990000e+02</td>\n",
       "      <td>1.009400e+04</td>\n",
       "    </tr>\n",
       "    <tr>\n",
       "      <th>25%</th>\n",
       "      <td>0.000000</td>\n",
       "      <td>0.000000</td>\n",
       "      <td>0.000000</td>\n",
       "      <td>0.000000</td>\n",
       "      <td>0.000000</td>\n",
       "      <td>0.000000</td>\n",
       "      <td>0.000000</td>\n",
       "      <td>0.000000</td>\n",
       "      <td>0.000000</td>\n",
       "      <td>0.000000</td>\n",
       "      <td>...</td>\n",
       "      <td>0.000000</td>\n",
       "      <td>0.000000</td>\n",
       "      <td>0.000000</td>\n",
       "      <td>0.000000</td>\n",
       "      <td>0.000000</td>\n",
       "      <td>6.910000</td>\n",
       "      <td>251.000000</td>\n",
       "      <td>5.500000</td>\n",
       "      <td>1.670000e+04</td>\n",
       "      <td>6.607400e+04</td>\n",
       "    </tr>\n",
       "    <tr>\n",
       "      <th>50%</th>\n",
       "      <td>0.000000</td>\n",
       "      <td>0.000000</td>\n",
       "      <td>0.000000</td>\n",
       "      <td>0.000000</td>\n",
       "      <td>0.000000</td>\n",
       "      <td>0.000000</td>\n",
       "      <td>0.000000</td>\n",
       "      <td>0.000000</td>\n",
       "      <td>0.000000</td>\n",
       "      <td>0.000000</td>\n",
       "      <td>...</td>\n",
       "      <td>0.000000</td>\n",
       "      <td>0.000000</td>\n",
       "      <td>0.000000</td>\n",
       "      <td>0.000000</td>\n",
       "      <td>0.000000</td>\n",
       "      <td>7.840000</td>\n",
       "      <td>435.000000</td>\n",
       "      <td>9.200000</td>\n",
       "      <td>6.001000e+04</td>\n",
       "      <td>3.109560e+05</td>\n",
       "    </tr>\n",
       "    <tr>\n",
       "      <th>75%</th>\n",
       "      <td>0.000000</td>\n",
       "      <td>0.000000</td>\n",
       "      <td>0.000000</td>\n",
       "      <td>0.000000</td>\n",
       "      <td>0.000000</td>\n",
       "      <td>0.000000</td>\n",
       "      <td>0.000000</td>\n",
       "      <td>0.000000</td>\n",
       "      <td>0.000000</td>\n",
       "      <td>0.000000</td>\n",
       "      <td>...</td>\n",
       "      <td>0.000000</td>\n",
       "      <td>1.000000</td>\n",
       "      <td>1.000000</td>\n",
       "      <td>0.000000</td>\n",
       "      <td>0.000000</td>\n",
       "      <td>8.480000</td>\n",
       "      <td>691.000000</td>\n",
       "      <td>14.900000</td>\n",
       "      <td>1.977510e+05</td>\n",
       "      <td>1.221420e+06</td>\n",
       "    </tr>\n",
       "    <tr>\n",
       "      <th>max</th>\n",
       "      <td>1.000000</td>\n",
       "      <td>1.000000</td>\n",
       "      <td>1.000000</td>\n",
       "      <td>1.000000</td>\n",
       "      <td>1.000000</td>\n",
       "      <td>1.000000</td>\n",
       "      <td>1.000000</td>\n",
       "      <td>1.000000</td>\n",
       "      <td>1.000000</td>\n",
       "      <td>1.000000</td>\n",
       "      <td>...</td>\n",
       "      <td>1.000000</td>\n",
       "      <td>1.000000</td>\n",
       "      <td>1.000000</td>\n",
       "      <td>1.000000</td>\n",
       "      <td>1.000000</td>\n",
       "      <td>9.440000</td>\n",
       "      <td>2835.000000</td>\n",
       "      <td>58.000000</td>\n",
       "      <td>2.346364e+06</td>\n",
       "      <td>1.761368e+07</td>\n",
       "    </tr>\n",
       "  </tbody>\n",
       "</table>\n",
       "<p>8 rows × 29 columns</p>\n",
       "</div>"
      ],
      "text/plain": [
       "       release-time  historical_drama    adventure       action        crime  \\\n",
       "count   1325.000000       1325.000000  1325.000000  1325.000000  1325.000000   \n",
       "mean       0.089811          0.021132     0.021887     0.216604     0.054340   \n",
       "std        0.286019          0.143879     0.146369     0.412086     0.226772   \n",
       "min        0.000000          0.000000     0.000000     0.000000     0.000000   \n",
       "25%        0.000000          0.000000     0.000000     0.000000     0.000000   \n",
       "50%        0.000000          0.000000     0.000000     0.000000     0.000000   \n",
       "75%        0.000000          0.000000     0.000000     0.000000     0.000000   \n",
       "max        1.000000          1.000000     1.000000     1.000000     1.000000   \n",
       "\n",
       "           fantasy          war        drama       comedy           SF  ...  \\\n",
       "count  1325.000000  1325.000000  1325.000000  1325.000000  1325.000000  ...   \n",
       "mean      0.024151     0.004528     0.141132     0.076226     0.028679  ...   \n",
       "std       0.153576     0.067165     0.348289     0.265460     0.166966  ...   \n",
       "min       0.000000     0.000000     0.000000     0.000000     0.000000  ...   \n",
       "25%       0.000000     0.000000     0.000000     0.000000     0.000000  ...   \n",
       "50%       0.000000     0.000000     0.000000     0.000000     0.000000  ...   \n",
       "75%       0.000000     0.000000     0.000000     0.000000     0.000000  ...   \n",
       "max       1.000000     1.000000     1.000000     1.000000     1.000000  ...   \n",
       "\n",
       "              show        korea      america        japan       others  \\\n",
       "count  1325.000000  1325.000000  1325.000000  1325.000000  1325.000000   \n",
       "mean      0.003774     0.353208     0.443774     0.140377     0.062642   \n",
       "std       0.061337     0.478147     0.497016     0.347509     0.242409   \n",
       "min       0.000000     0.000000     0.000000     0.000000     0.000000   \n",
       "25%       0.000000     0.000000     0.000000     0.000000     0.000000   \n",
       "50%       0.000000     0.000000     0.000000     0.000000     0.000000   \n",
       "75%       0.000000     1.000000     1.000000     0.000000     0.000000   \n",
       "max       1.000000     1.000000     1.000000     1.000000     1.000000   \n",
       "\n",
       "       movie_rating  num_off_screen  screen_share  fsd_num_off_box  \\\n",
       "count   1325.000000     1325.000000   1325.000000     1.325000e+03   \n",
       "mean       7.574415      523.730566     10.981208     1.549131e+05   \n",
       "std        1.254508      383.697236      7.677534     2.408750e+05   \n",
       "min        1.270000        1.000000      0.000000     2.990000e+02   \n",
       "25%        6.910000      251.000000      5.500000     1.670000e+04   \n",
       "50%        7.840000      435.000000      9.200000     6.001000e+04   \n",
       "75%        8.480000      691.000000     14.900000     1.977510e+05   \n",
       "max        9.440000     2835.000000     58.000000     2.346364e+06   \n",
       "\n",
       "        num_off_box  \n",
       "count  1.325000e+03  \n",
       "mean   1.162041e+06  \n",
       "std    2.127589e+06  \n",
       "min    1.009400e+04  \n",
       "25%    6.607400e+04  \n",
       "50%    3.109560e+05  \n",
       "75%    1.221420e+06  \n",
       "max    1.761368e+07  \n",
       "\n",
       "[8 rows x 29 columns]"
      ]
     },
     "execution_count": 33,
     "metadata": {},
     "output_type": "execute_result"
    }
   ],
   "source": [
    "movie_data.describe()"
   ]
  },
  {
   "cell_type": "code",
   "execution_count": 34,
   "metadata": {
    "colab": {
     "base_uri": "https://localhost:8080/",
     "height": 371
    },
    "executionInfo": {
     "elapsed": 3796,
     "status": "ok",
     "timestamp": 1606875431476,
     "user": {
      "displayName": "설재형",
      "photoUrl": "",
      "userId": "14774941427314282713"
     },
     "user_tz": -540
    },
    "id": "Og1xyK8hblif",
    "outputId": "a9abdd9e-425e-40aa-98fe-512a1bb7b97a"
   },
   "outputs": [
    {
     "data": {
      "image/png": "[encoded data removed]",
      "text/plain": [
       "<Figure size 1800x720 with 2 Axes>"
      ]
     },
     "metadata": {
      "needs_background": "light"
     },
     "output_type": "display_data"
    }
   ],
   "source": [
    "fig, ax = plt.subplots(figsize=(25,10))\n",
    "mask = np.zeros_like(movie_data.corr(), dtype=np.bool)\n",
    "mask[np.triu_indices_from(mask)] = True\n",
    "sns.heatmap(movie_data.corr(), cmap = 'RdYlBu_r', annot = True, mask=mask,linewidths=.5,cbar_kws={\"shrink\": .5},vmin = -1,vmax = 1)  \n",
    "plt.show()\n"
   ]
  },
  {
   "cell_type": "markdown",
   "metadata": {
    "id": "eKkPIi-qSjxA"
   },
   "source": [
    "# train 데이터와 test 데이터로 분리 (train 80%, test 20% ,랜덤 샘플링)"
   ]
  },
  {
   "cell_type": "code",
   "execution_count": 35,
   "metadata": {
    "id": "OeRHWflxa2pr"
   },
   "outputs": [],
   "source": [
    "# shuffle = True\n",
    "movie_data_train, movie_data_test= train_test_split(movie_data,test_size=0.2,shuffle=True,random_state=1004)"
   ]
  },
  {
   "cell_type": "code",
   "execution_count": 36,
   "metadata": {
    "colab": {
     "base_uri": "https://localhost:8080/"
    },
    "executionInfo": {
     "elapsed": 1182,
     "status": "ok",
     "timestamp": 1606875436085,
     "user": {
      "displayName": "설재형",
      "photoUrl": "",
      "userId": "14774941427314282713"
     },
     "user_tz": -540
    },
    "id": "o-M4TAvnc7FT",
    "outputId": "55135f8c-d49e-406d-aa54-dcfec7fa2b75"
   },
   "outputs": [
    {
     "data": {
      "text/plain": [
       "(1060, 32)"
      ]
     },
     "execution_count": 36,
     "metadata": {},
     "output_type": "execute_result"
    }
   ],
   "source": [
    "movie_data_train.shape"
   ]
  },
  {
   "cell_type": "code",
   "execution_count": 37,
   "metadata": {
    "colab": {
     "base_uri": "https://localhost:8080/"
    },
    "executionInfo": {
     "elapsed": 2098,
     "status": "ok",
     "timestamp": 1606875438933,
     "user": {
      "displayName": "설재형",
      "photoUrl": "",
      "userId": "14774941427314282713"
     },
     "user_tz": -540
    },
    "id": "QVdZYqHSdITG",
    "outputId": "f14699c3-90fa-434b-ba21-2170a0270904"
   },
   "outputs": [
    {
     "data": {
      "text/plain": [
       "(265, 32)"
      ]
     },
     "execution_count": 37,
     "metadata": {},
     "output_type": "execute_result"
    }
   ],
   "source": [
    "movie_data_test.shape"
   ]
  },
  {
   "cell_type": "code",
   "execution_count": 38,
   "metadata": {
    "colab": {
     "base_uri": "https://localhost:8080/",
     "height": 349
    },
    "executionInfo": {
     "elapsed": 1158,
     "status": "ok",
     "timestamp": 1606875441302,
     "user": {
      "displayName": "설재형",
      "photoUrl": "",
      "userId": "14774941427314282713"
     },
     "user_tz": -540
    },
    "id": "PKtfkTztdTg-",
    "outputId": "cbfbc5f4-cf45-42fb-c404-41bb84a7ed86"
   },
   "outputs": [
    {
     "data": {
      "text/html": [
       "<div>\n",
       "<style scoped>\n",
       "    .dataframe tbody tr th:only-of-type {\n",
       "        vertical-align: middle;\n",
       "    }\n",
       "\n",
       "    .dataframe tbody tr th {\n",
       "        vertical-align: top;\n",
       "    }\n",
       "\n",
       "    .dataframe thead th {\n",
       "        text-align: right;\n",
       "    }\n",
       "</style>\n",
       "<table border=\"1\" class=\"dataframe\">\n",
       "  <thead>\n",
       "    <tr style=\"text-align: right;\">\n",
       "      <th></th>\n",
       "      <th>title</th>\n",
       "      <th>release-time</th>\n",
       "      <th>genre</th>\n",
       "      <th>historical_drama</th>\n",
       "      <th>adventure</th>\n",
       "      <th>action</th>\n",
       "      <th>crime</th>\n",
       "      <th>fantasy</th>\n",
       "      <th>war</th>\n",
       "      <th>drama</th>\n",
       "      <th>...</th>\n",
       "      <th>korea</th>\n",
       "      <th>america</th>\n",
       "      <th>japan</th>\n",
       "      <th>others</th>\n",
       "      <th>national</th>\n",
       "      <th>movie_rating</th>\n",
       "      <th>num_off_screen</th>\n",
       "      <th>screen_share</th>\n",
       "      <th>fsd_num_off_box</th>\n",
       "      <th>num_off_box</th>\n",
       "    </tr>\n",
       "  </thead>\n",
       "  <tbody>\n",
       "    <tr>\n",
       "      <th>1324</th>\n",
       "      <td>폴라로이드</td>\n",
       "      <td>0</td>\n",
       "      <td>dramas</td>\n",
       "      <td>0</td>\n",
       "      <td>0</td>\n",
       "      <td>0</td>\n",
       "      <td>0</td>\n",
       "      <td>0</td>\n",
       "      <td>0</td>\n",
       "      <td>1</td>\n",
       "      <td>...</td>\n",
       "      <td>1</td>\n",
       "      <td>0</td>\n",
       "      <td>0</td>\n",
       "      <td>0</td>\n",
       "      <td>SouthKorea</td>\n",
       "      <td>6.51</td>\n",
       "      <td>27</td>\n",
       "      <td>0.6</td>\n",
       "      <td>6084</td>\n",
       "      <td>10094</td>\n",
       "    </tr>\n",
       "    <tr>\n",
       "      <th>409</th>\n",
       "      <td>더 킹</td>\n",
       "      <td>1</td>\n",
       "      <td>crime</td>\n",
       "      <td>0</td>\n",
       "      <td>0</td>\n",
       "      <td>0</td>\n",
       "      <td>1</td>\n",
       "      <td>0</td>\n",
       "      <td>0</td>\n",
       "      <td>0</td>\n",
       "      <td>...</td>\n",
       "      <td>1</td>\n",
       "      <td>0</td>\n",
       "      <td>0</td>\n",
       "      <td>0</td>\n",
       "      <td>SouthKorea</td>\n",
       "      <td>8.09</td>\n",
       "      <td>1310</td>\n",
       "      <td>22.2</td>\n",
       "      <td>541017</td>\n",
       "      <td>905885</td>\n",
       "    </tr>\n",
       "    <tr>\n",
       "      <th>962</th>\n",
       "      <td>엑스 마키나</td>\n",
       "      <td>0</td>\n",
       "      <td>SF</td>\n",
       "      <td>0</td>\n",
       "      <td>0</td>\n",
       "      <td>0</td>\n",
       "      <td>0</td>\n",
       "      <td>0</td>\n",
       "      <td>0</td>\n",
       "      <td>0</td>\n",
       "      <td>...</td>\n",
       "      <td>0</td>\n",
       "      <td>1</td>\n",
       "      <td>0</td>\n",
       "      <td>0</td>\n",
       "      <td>America</td>\n",
       "      <td>7.61</td>\n",
       "      <td>207</td>\n",
       "      <td>4.3</td>\n",
       "      <td>17707</td>\n",
       "      <td>78049</td>\n",
       "    </tr>\n",
       "    <tr>\n",
       "      <th>9</th>\n",
       "      <td>알라딘</td>\n",
       "      <td>0</td>\n",
       "      <td>adventure</td>\n",
       "      <td>0</td>\n",
       "      <td>1</td>\n",
       "      <td>0</td>\n",
       "      <td>0</td>\n",
       "      <td>0</td>\n",
       "      <td>0</td>\n",
       "      <td>0</td>\n",
       "      <td>...</td>\n",
       "      <td>0</td>\n",
       "      <td>1</td>\n",
       "      <td>0</td>\n",
       "      <td>0</td>\n",
       "      <td>America</td>\n",
       "      <td>9.38</td>\n",
       "      <td>1311</td>\n",
       "      <td>19.9</td>\n",
       "      <td>185003</td>\n",
       "      <td>12552283</td>\n",
       "    </tr>\n",
       "    <tr>\n",
       "      <th>1118</th>\n",
       "      <td>몬스터 왕국</td>\n",
       "      <td>0</td>\n",
       "      <td>animation</td>\n",
       "      <td>0</td>\n",
       "      <td>0</td>\n",
       "      <td>0</td>\n",
       "      <td>0</td>\n",
       "      <td>0</td>\n",
       "      <td>0</td>\n",
       "      <td>0</td>\n",
       "      <td>...</td>\n",
       "      <td>0</td>\n",
       "      <td>0</td>\n",
       "      <td>1</td>\n",
       "      <td>0</td>\n",
       "      <td>Sweden</td>\n",
       "      <td>6.23</td>\n",
       "      <td>160</td>\n",
       "      <td>3.8</td>\n",
       "      <td>7226</td>\n",
       "      <td>34888</td>\n",
       "    </tr>\n",
       "  </tbody>\n",
       "</table>\n",
       "<p>5 rows × 32 columns</p>\n",
       "</div>"
      ],
      "text/plain": [
       "       title  release-time      genre  historical_drama  adventure  action  \\\n",
       "1324   폴라로이드             0     dramas                 0          0       0   \n",
       "409      더 킹             1      crime                 0          0       0   \n",
       "962   엑스 마키나             0         SF                 0          0       0   \n",
       "9        알라딘             0  adventure                 0          1       0   \n",
       "1118  몬스터 왕국             0  animation                 0          0       0   \n",
       "\n",
       "      crime  fantasy  war  drama  ...  korea  america  japan  others  \\\n",
       "1324      0        0    0      1  ...      1        0      0       0   \n",
       "409       1        0    0      0  ...      1        0      0       0   \n",
       "962       0        0    0      0  ...      0        1      0       0   \n",
       "9         0        0    0      0  ...      0        1      0       0   \n",
       "1118      0        0    0      0  ...      0        0      1       0   \n",
       "\n",
       "        national  movie_rating  num_off_screen  screen_share  fsd_num_off_box  \\\n",
       "1324  SouthKorea          6.51              27           0.6             6084   \n",
       "409   SouthKorea          8.09            1310          22.2           541017   \n",
       "962      America          7.61             207           4.3            17707   \n",
       "9        America          9.38            1311          19.9           185003   \n",
       "1118      Sweden          6.23             160           3.8             7226   \n",
       "\n",
       "      num_off_box  \n",
       "1324        10094  \n",
       "409        905885  \n",
       "962         78049  \n",
       "9        12552283  \n",
       "1118        34888  \n",
       "\n",
       "[5 rows x 32 columns]"
      ]
     },
     "execution_count": 38,
     "metadata": {},
     "output_type": "execute_result"
    }
   ],
   "source": [
    "movie_data_train.head()"
   ]
  },
  {
   "cell_type": "code",
   "execution_count": 39,
   "metadata": {
    "colab": {
     "base_uri": "https://localhost:8080/",
     "height": 619
    },
    "executionInfo": {
     "elapsed": 1139,
     "status": "ok",
     "timestamp": 1606875444152,
     "user": {
      "displayName": "설재형",
      "photoUrl": "",
      "userId": "14774941427314282713"
     },
     "user_tz": -540
    },
    "id": "5i5nz8Q9dev7",
    "outputId": "dc011fb0-2087-421a-ca88-ec16221f2d9a"
   },
   "outputs": [
    {
     "data": {
      "text/html": [
       "<div>\n",
       "<style scoped>\n",
       "    .dataframe tbody tr th:only-of-type {\n",
       "        vertical-align: middle;\n",
       "    }\n",
       "\n",
       "    .dataframe tbody tr th {\n",
       "        vertical-align: top;\n",
       "    }\n",
       "\n",
       "    .dataframe thead th {\n",
       "        text-align: right;\n",
       "    }\n",
       "</style>\n",
       "<table border=\"1\" class=\"dataframe\">\n",
       "  <thead>\n",
       "    <tr style=\"text-align: right;\">\n",
       "      <th></th>\n",
       "      <th>title</th>\n",
       "      <th>release-time</th>\n",
       "      <th>genre</th>\n",
       "      <th>historical_drama</th>\n",
       "      <th>adventure</th>\n",
       "      <th>action</th>\n",
       "      <th>crime</th>\n",
       "      <th>fantasy</th>\n",
       "      <th>war</th>\n",
       "      <th>drama</th>\n",
       "      <th>...</th>\n",
       "      <th>korea</th>\n",
       "      <th>america</th>\n",
       "      <th>japan</th>\n",
       "      <th>others</th>\n",
       "      <th>national</th>\n",
       "      <th>movie_rating</th>\n",
       "      <th>num_off_screen</th>\n",
       "      <th>screen_share</th>\n",
       "      <th>fsd_num_off_box</th>\n",
       "      <th>num_off_box</th>\n",
       "    </tr>\n",
       "  </thead>\n",
       "  <tbody>\n",
       "    <tr>\n",
       "      <th>162</th>\n",
       "      <td>메이즈 러너: 스코치 트라이얼</td>\n",
       "      <td>1</td>\n",
       "      <td>action</td>\n",
       "      <td>0</td>\n",
       "      <td>0</td>\n",
       "      <td>1</td>\n",
       "      <td>0</td>\n",
       "      <td>0</td>\n",
       "      <td>0</td>\n",
       "      <td>0</td>\n",
       "      <td>...</td>\n",
       "      <td>0</td>\n",
       "      <td>1</td>\n",
       "      <td>0</td>\n",
       "      <td>0</td>\n",
       "      <td>America</td>\n",
       "      <td>8.07</td>\n",
       "      <td>804</td>\n",
       "      <td>19.8</td>\n",
       "      <td>237867</td>\n",
       "      <td>2744413</td>\n",
       "    </tr>\n",
       "    <tr>\n",
       "      <th>1018</th>\n",
       "      <td>극장판 프리파라 모두의 동경♪ 렛츠고☆프리파리</td>\n",
       "      <td>0</td>\n",
       "      <td>animation</td>\n",
       "      <td>0</td>\n",
       "      <td>0</td>\n",
       "      <td>0</td>\n",
       "      <td>0</td>\n",
       "      <td>0</td>\n",
       "      <td>0</td>\n",
       "      <td>0</td>\n",
       "      <td>...</td>\n",
       "      <td>0</td>\n",
       "      <td>0</td>\n",
       "      <td>1</td>\n",
       "      <td>0</td>\n",
       "      <td>Japan</td>\n",
       "      <td>8.15</td>\n",
       "      <td>191</td>\n",
       "      <td>3.3</td>\n",
       "      <td>21458</td>\n",
       "      <td>56539</td>\n",
       "    </tr>\n",
       "    <tr>\n",
       "      <th>131</th>\n",
       "      <td>스타워즈: 깨어난 포스</td>\n",
       "      <td>0</td>\n",
       "      <td>action</td>\n",
       "      <td>0</td>\n",
       "      <td>0</td>\n",
       "      <td>1</td>\n",
       "      <td>0</td>\n",
       "      <td>0</td>\n",
       "      <td>0</td>\n",
       "      <td>0</td>\n",
       "      <td>...</td>\n",
       "      <td>0</td>\n",
       "      <td>1</td>\n",
       "      <td>0</td>\n",
       "      <td>0</td>\n",
       "      <td>America</td>\n",
       "      <td>7.75</td>\n",
       "      <td>940</td>\n",
       "      <td>22.4</td>\n",
       "      <td>338231</td>\n",
       "      <td>3273879</td>\n",
       "    </tr>\n",
       "    <tr>\n",
       "      <th>1081</th>\n",
       "      <td>약장수</td>\n",
       "      <td>0</td>\n",
       "      <td>dramas</td>\n",
       "      <td>0</td>\n",
       "      <td>0</td>\n",
       "      <td>0</td>\n",
       "      <td>0</td>\n",
       "      <td>0</td>\n",
       "      <td>0</td>\n",
       "      <td>1</td>\n",
       "      <td>...</td>\n",
       "      <td>1</td>\n",
       "      <td>0</td>\n",
       "      <td>0</td>\n",
       "      <td>0</td>\n",
       "      <td>SouthKorea</td>\n",
       "      <td>8.61</td>\n",
       "      <td>282</td>\n",
       "      <td>7.2</td>\n",
       "      <td>11942</td>\n",
       "      <td>43562</td>\n",
       "    </tr>\n",
       "    <tr>\n",
       "      <th>356</th>\n",
       "      <td>헝거게임: 캣칭 파이어</td>\n",
       "      <td>0</td>\n",
       "      <td>fantasy</td>\n",
       "      <td>0</td>\n",
       "      <td>0</td>\n",
       "      <td>0</td>\n",
       "      <td>0</td>\n",
       "      <td>1</td>\n",
       "      <td>0</td>\n",
       "      <td>0</td>\n",
       "      <td>...</td>\n",
       "      <td>0</td>\n",
       "      <td>1</td>\n",
       "      <td>0</td>\n",
       "      <td>0</td>\n",
       "      <td>America</td>\n",
       "      <td>8.33</td>\n",
       "      <td>630</td>\n",
       "      <td>16.7</td>\n",
       "      <td>170752</td>\n",
       "      <td>1125739</td>\n",
       "    </tr>\n",
       "  </tbody>\n",
       "</table>\n",
       "<p>5 rows × 32 columns</p>\n",
       "</div>"
      ],
      "text/plain": [
       "                          title  release-time      genre  historical_drama  \\\n",
       "162            메이즈 러너: 스코치 트라이얼             1     action                 0   \n",
       "1018  극장판 프리파라 모두의 동경♪ 렛츠고☆프리파리             0  animation                 0   \n",
       "131                스타워즈: 깨어난 포스             0     action                 0   \n",
       "1081                        약장수             0     dramas                 0   \n",
       "356                헝거게임: 캣칭 파이어             0    fantasy                 0   \n",
       "\n",
       "      adventure  action  crime  fantasy  war  drama  ...  korea  america  \\\n",
       "162           0       1      0        0    0      0  ...      0        1   \n",
       "1018          0       0      0        0    0      0  ...      0        0   \n",
       "131           0       1      0        0    0      0  ...      0        1   \n",
       "1081          0       0      0        0    0      1  ...      1        0   \n",
       "356           0       0      0        1    0      0  ...      0        1   \n",
       "\n",
       "      japan  others    national  movie_rating  num_off_screen  screen_share  \\\n",
       "162       0       0     America          8.07             804          19.8   \n",
       "1018      1       0       Japan          8.15             191           3.3   \n",
       "131       0       0     America          7.75             940          22.4   \n",
       "1081      0       0  SouthKorea          8.61             282           7.2   \n",
       "356       0       0     America          8.33             630          16.7   \n",
       "\n",
       "      fsd_num_off_box  num_off_box  \n",
       "162            237867      2744413  \n",
       "1018            21458        56539  \n",
       "131            338231      3273879  \n",
       "1081            11942        43562  \n",
       "356            170752      1125739  \n",
       "\n",
       "[5 rows x 32 columns]"
      ]
     },
     "execution_count": 39,
     "metadata": {},
     "output_type": "execute_result"
    }
   ],
   "source": [
    "movie_data_test.head()"
   ]
  },
  {
   "cell_type": "code",
   "execution_count": 40,
   "metadata": {
    "id": "JCbFftQ_LysV"
   },
   "outputs": [],
   "source": [
    "movie_data_test.to_csv('movie_data/movie_data_test.csv', index = False, encoding='cp949')\n",
    "show_test_data=pd.read_csv('movie_data/movie_data_test_show.csv',encoding='cp949')"
   ]
  },
  {
   "cell_type": "markdown",
   "metadata": {
    "id": "6RFfvWP6S0xy"
   },
   "source": [
    "# 모델링 \n",
    "(특징공간 : 관객 평점 , 전국 스크린수, 스크린 점유율, 초반 이틀 누적 관객수, 범주형 자료인 (장르, 국가)\n",
    "\n",
    "LinearRegression\n",
    "\n",
    "lightgbm\n",
    "\n",
    "XGBOOST\n",
    "\n",
    "RandomForest\n"
   ]
  },
  {
   "cell_type": "code",
   "execution_count": 41,
   "metadata": {
    "id": "_FcW_Z_Uhtwq"
   },
   "outputs": [],
   "source": [
    "model_linear = LinearRegression()\n",
    "model_lgbm = lgb.LGBMRegressor(random_state=777, n_estimators=1000)\n",
    "model_xgb = xgb.XGBRegressor(random_state=777, n_estimators=1000)\n",
    "model_rf = RandomForestRegressor(random_state=777, n_estimators=1000)"
   ]
  },
  {
   "cell_type": "code",
   "execution_count": 42,
   "metadata": {
    "id": "x3sVtPbexSZD"
   },
   "outputs": [],
   "source": [
    "# 특징공간 설정\n",
    "features = ['movie_rating', 'num_off_screen', 'screen_share', 'fsd_num_off_box','korea','america','japan','others','release-time','historical_drama','adventure','action','crime','fantasy','war','drama','comedy','SF','melo/romance','mystery','thriller','musical','horror','animation','documentry',\t'western',\t'family',\t'show']\n",
    "target = ['num_off_box']"
   ]
  },
  {
   "cell_type": "code",
   "execution_count": 43,
   "metadata": {
    "id": "stYfLdQf6uC-"
   },
   "outputs": [],
   "source": [
    "x_train, x_test, y_train =movie_data_train[features], movie_data_test[features], movie_data_train[target]"
   ]
  },
  {
   "cell_type": "code",
   "execution_count": 44,
   "metadata": {
    "colab": {
     "base_uri": "https://localhost:8080/"
    },
    "executionInfo": {
     "elapsed": 9658,
     "status": "ok",
     "timestamp": 1606875462706,
     "user": {
      "displayName": "설재형",
      "photoUrl": "",
      "userId": "14774941427314282713"
     },
     "user_tz": -540
    },
    "id": "_Ey7sKOzCmqg",
    "outputId": "fe689980-d2f6-4c93-89aa-75ef21c378c4"
   },
   "outputs": [
    {
     "name": "stderr",
     "output_type": "stream",
     "text": [
      "<ipython-input-44-e6b4fa20f3d6>:5: DataConversionWarning: A column-vector y was passed when a 1d array was expected. Please change the shape of y to (n_samples,), for example using ravel().\n",
      "  model_rf.fit(x_train, y_train)     # // RandomForest\n"
     ]
    },
    {
     "data": {
      "text/plain": [
       "RandomForestRegressor(n_estimators=1000, random_state=777)"
      ]
     },
     "execution_count": 44,
     "metadata": {},
     "output_type": "execute_result"
    }
   ],
   "source": [
    "# 모델링\n",
    "model_linear.fit(x_train, y_train) # // LinerRegression\n",
    "model_lgbm.fit(x_train, y_train)   # // Lightgbm\n",
    "model_xgb.fit(x_train, y_train)     # // XGB\n",
    "model_rf.fit(x_train, y_train)     # // RandomForest"
   ]
  },
  {
   "cell_type": "code",
   "execution_count": 45,
   "metadata": {
    "id": "7XIvVuQtGci2"
   },
   "outputs": [],
   "source": [
    "singleLR = show_test_data.copy()\n",
    "singleLGBM = show_test_data.copy()\n",
    "singleXGB = show_test_data.copy()\n",
    "singleRF = show_test_data.copy()"
   ]
  },
  {
   "cell_type": "code",
   "execution_count": 46,
   "metadata": {
    "id": "wk9y7-wqCSSn"
   },
   "outputs": [],
   "source": [
    "# 테스트 데이터 모델에 적용\n",
    "singleLR['num_off_box'] = model_linear.predict(x_test)\n",
    "singleLGBM['num_off_box'] =model_lgbm.predict(x_test)\n",
    "singleXGB['num_off_box'] = model_xgb.predict(x_test)\n",
    "singleRF['num_off_box'] = model_rf.predict(x_test)"
   ]
  },
  {
   "cell_type": "markdown",
   "metadata": {
    "id": "wbYTYJPyqRq5"
   },
   "source": [
    "# 모델들의 mse rmse 결정계수"
   ]
  },
  {
   "cell_type": "code",
   "execution_count": 47,
   "metadata": {
    "colab": {
     "base_uri": "https://localhost:8080/"
    },
    "executionInfo": {
     "elapsed": 1115,
     "status": "ok",
     "timestamp": 1606875470509,
     "user": {
      "displayName": "설재형",
      "photoUrl": "",
      "userId": "14774941427314282713"
     },
     "user_tz": -540
    },
    "id": "aJCFLHJ4r76J",
    "outputId": "6c53c112-4233-4d0f-fdc2-e190adf27b1a"
   },
   "outputs": [
    {
     "name": "stdout",
     "output_type": "stream",
     "text": [
      "LinerRegression\n",
      "LinerRegression 모델의 Mean_Squared_Error =  635578289415.2357\n",
      "LinerRegression 모델의 RMSE =  797231.6410023097\n",
      "LinerRegression 모델의 결정계수 = 0.7904912697738412\n",
      "\n",
      "Lightgbm\n",
      "Lightgbm 모델의 Mean_Squared_Error =  535777211421.58704\n",
      "Lightgbm 모델의 RMSE =  731968.0398908049\n",
      "Lightgbm 모델의 결정계수 = 0.8233891794001891\n",
      "\n",
      "XGB\n",
      "XGB 모델의 Mean_Squared_Error =  626982230332.7844\n",
      "XGB 모델의 RMSE =  791822.0951279298\n",
      "XGB 모델의 결정계수 = 0.79332483009726\n",
      "\n",
      "RandomForest\n",
      "RandomForest 모델의 Mean_Squared_Error =  457921099219.44366\n",
      "RandomForest 모델의 RMSE =  676698.6768270229\n",
      "RandomForest 모델의 결정계수 =  0.8490532643437195\n",
      "\n"
     ]
    }
   ],
   "source": [
    "# 모델들의 mse rmse 결정계수\n",
    "\n",
    "#LinerRegression\n",
    "print(\"LinerRegression\")\n",
    "print('LinerRegression 모델의 Mean_Squared_Error = ', mean_squared_error(movie_data_test['num_off_box'], singleLR['num_off_box']))\n",
    "print('LinerRegression 모델의 RMSE = ',  mean_squared_error(movie_data_test['num_off_box'], singleLR['num_off_box'])**0.5)\n",
    "print(\"LinerRegression 모델의 결정계수 =\",r2_score(movie_data_test['num_off_box'], singleLR['num_off_box']))\n",
    "print(\"\")\n",
    "#Lightgbm\n",
    "print(\"Lightgbm\")\n",
    "print('Lightgbm 모델의 Mean_Squared_Error = ', mean_squared_error(movie_data_test['num_off_box'], singleLGBM['num_off_box']))\n",
    "print('Lightgbm 모델의 RMSE = ',  mean_squared_error(movie_data_test['num_off_box'], singleLGBM['num_off_box'])**0.5)\n",
    "print(\"Lightgbm 모델의 결정계수 =\" ,r2_score(movie_data_test['num_off_box'], singleLGBM['num_off_box']))\n",
    "print(\"\")\n",
    "#XGB\n",
    "print(\"XGB\")\n",
    "print('XGB 모델의 Mean_Squared_Error = ', mean_squared_error(movie_data_test['num_off_box'], singleXGB['num_off_box']))\n",
    "print('XGB 모델의 RMSE = ',  mean_squared_error(movie_data_test['num_off_box'], singleXGB['num_off_box'])**0.5)\n",
    "print(\"XGB 모델의 결정계수 =\", r2_score(movie_data_test['num_off_box'], singleXGB['num_off_box']))\n",
    "print(\"\")\n",
    "#RandomForest\n",
    "print(\"RandomForest\")\n",
    "print('RandomForest 모델의 Mean_Squared_Error = ', mean_squared_error(movie_data_test['num_off_box'], singleRF['num_off_box']))\n",
    "print('RandomForest 모델의 RMSE = ',  mean_squared_error(movie_data_test['num_off_box'], singleRF['num_off_box'])**0.5)\n",
    "print(\"RandomForest 모델의 결정계수 = \",r2_score(movie_data_test['num_off_box'], singleRF['num_off_box']))\n",
    "print(\"\")"
   ]
  },
  {
   "cell_type": "code",
   "execution_count": 48,
   "metadata": {
    "colab": {
     "base_uri": "https://localhost:8080/",
     "height": 419
    },
    "executionInfo": {
     "elapsed": 1085,
     "status": "ok",
     "timestamp": 1606875472884,
     "user": {
      "displayName": "설재형",
      "photoUrl": "",
      "userId": "14774941427314282713"
     },
     "user_tz": -540
    },
    "id": "ICMiswHSG85F",
    "outputId": "9ffd35fc-bf72-45d6-bb43-dc0673615786"
   },
   "outputs": [
    {
     "data": {
      "text/html": [
       "<div>\n",
       "<style scoped>\n",
       "    .dataframe tbody tr th:only-of-type {\n",
       "        vertical-align: middle;\n",
       "    }\n",
       "\n",
       "    .dataframe tbody tr th {\n",
       "        vertical-align: top;\n",
       "    }\n",
       "\n",
       "    .dataframe thead th {\n",
       "        text-align: right;\n",
       "    }\n",
       "</style>\n",
       "<table border=\"1\" class=\"dataframe\">\n",
       "  <thead>\n",
       "    <tr style=\"text-align: right;\">\n",
       "      <th></th>\n",
       "      <th>title</th>\n",
       "      <th>genre</th>\n",
       "      <th>national</th>\n",
       "      <th>num_off_box</th>\n",
       "    </tr>\n",
       "  </thead>\n",
       "  <tbody>\n",
       "    <tr>\n",
       "      <th>0</th>\n",
       "      <td>메이즈 러너: 스코치 트라이얼</td>\n",
       "      <td>action</td>\n",
       "      <td>America</td>\n",
       "      <td>2.595008e+06</td>\n",
       "    </tr>\n",
       "    <tr>\n",
       "      <th>1</th>\n",
       "      <td>극장판 프리파라 모두의 동경♪ 렛츠고☆프리파리</td>\n",
       "      <td>animation</td>\n",
       "      <td>Japan</td>\n",
       "      <td>-1.050971e+04</td>\n",
       "    </tr>\n",
       "    <tr>\n",
       "      <th>2</th>\n",
       "      <td>스타워즈: 깨어난 포스</td>\n",
       "      <td>action</td>\n",
       "      <td>America</td>\n",
       "      <td>2.914215e+06</td>\n",
       "    </tr>\n",
       "    <tr>\n",
       "      <th>3</th>\n",
       "      <td>약장수</td>\n",
       "      <td>dramas</td>\n",
       "      <td>SouthKorea</td>\n",
       "      <td>4.227718e+05</td>\n",
       "    </tr>\n",
       "    <tr>\n",
       "      <th>4</th>\n",
       "      <td>헝거게임: 캣칭 파이어</td>\n",
       "      <td>fantasy</td>\n",
       "      <td>America</td>\n",
       "      <td>1.961248e+06</td>\n",
       "    </tr>\n",
       "    <tr>\n",
       "      <th>...</th>\n",
       "      <td>...</td>\n",
       "      <td>...</td>\n",
       "      <td>...</td>\n",
       "      <td>...</td>\n",
       "    </tr>\n",
       "    <tr>\n",
       "      <th>260</th>\n",
       "      <td>범죄도시</td>\n",
       "      <td>crime</td>\n",
       "      <td>SouthKorea</td>\n",
       "      <td>3.988801e+06</td>\n",
       "    </tr>\n",
       "    <tr>\n",
       "      <th>261</th>\n",
       "      <td>빅뱅 메이드</td>\n",
       "      <td>documentry</td>\n",
       "      <td>SouthKorea</td>\n",
       "      <td>2.743677e+04</td>\n",
       "    </tr>\n",
       "    <tr>\n",
       "      <th>262</th>\n",
       "      <td>그레이의 50가지 그림자</td>\n",
       "      <td>dramas</td>\n",
       "      <td>America</td>\n",
       "      <td>5.564340e+05</td>\n",
       "    </tr>\n",
       "    <tr>\n",
       "      <th>263</th>\n",
       "      <td>블랙 팬서</td>\n",
       "      <td>action</td>\n",
       "      <td>America</td>\n",
       "      <td>7.494303e+06</td>\n",
       "    </tr>\n",
       "    <tr>\n",
       "      <th>264</th>\n",
       "      <td>마이 리틀 히어로</td>\n",
       "      <td>dramas</td>\n",
       "      <td>SouthKorea</td>\n",
       "      <td>7.668434e+05</td>\n",
       "    </tr>\n",
       "  </tbody>\n",
       "</table>\n",
       "<p>265 rows × 4 columns</p>\n",
       "</div>"
      ],
      "text/plain": [
       "                         title       genre    national   num_off_box\n",
       "0             메이즈 러너: 스코치 트라이얼      action     America  2.595008e+06\n",
       "1    극장판 프리파라 모두의 동경♪ 렛츠고☆프리파리   animation       Japan -1.050971e+04\n",
       "2                 스타워즈: 깨어난 포스      action     America  2.914215e+06\n",
       "3                          약장수      dramas  SouthKorea  4.227718e+05\n",
       "4                 헝거게임: 캣칭 파이어     fantasy     America  1.961248e+06\n",
       "..                         ...         ...         ...           ...\n",
       "260                       범죄도시       crime  SouthKorea  3.988801e+06\n",
       "261                     빅뱅 메이드  documentry  SouthKorea  2.743677e+04\n",
       "262              그레이의 50가지 그림자      dramas     America  5.564340e+05\n",
       "263                      블랙 팬서      action     America  7.494303e+06\n",
       "264                  마이 리틀 히어로      dramas  SouthKorea  7.668434e+05\n",
       "\n",
       "[265 rows x 4 columns]"
      ]
     },
     "execution_count": 48,
     "metadata": {},
     "output_type": "execute_result"
    }
   ],
   "source": [
    "singleLR"
   ]
  },
  {
   "cell_type": "code",
   "execution_count": 49,
   "metadata": {
    "colab": {
     "base_uri": "https://localhost:8080/",
     "height": 419
    },
    "executionInfo": {
     "elapsed": 1059,
     "status": "ok",
     "timestamp": 1606875475709,
     "user": {
      "displayName": "설재형",
      "photoUrl": "",
      "userId": "14774941427314282713"
     },
     "user_tz": -540
    },
    "id": "rxSO6W4AVwSW",
    "outputId": "40cf87fd-2701-4123-cefc-e3e6c8064ca3"
   },
   "outputs": [
    {
     "data": {
      "text/html": [
       "<div>\n",
       "<style scoped>\n",
       "    .dataframe tbody tr th:only-of-type {\n",
       "        vertical-align: middle;\n",
       "    }\n",
       "\n",
       "    .dataframe tbody tr th {\n",
       "        vertical-align: top;\n",
       "    }\n",
       "\n",
       "    .dataframe thead th {\n",
       "        text-align: right;\n",
       "    }\n",
       "</style>\n",
       "<table border=\"1\" class=\"dataframe\">\n",
       "  <thead>\n",
       "    <tr style=\"text-align: right;\">\n",
       "      <th></th>\n",
       "      <th>title</th>\n",
       "      <th>genre</th>\n",
       "      <th>national</th>\n",
       "      <th>num_off_box</th>\n",
       "    </tr>\n",
       "  </thead>\n",
       "  <tbody>\n",
       "    <tr>\n",
       "      <th>0</th>\n",
       "      <td>메이즈 러너: 스코치 트라이얼</td>\n",
       "      <td>action</td>\n",
       "      <td>America</td>\n",
       "      <td>1.784199e+06</td>\n",
       "    </tr>\n",
       "    <tr>\n",
       "      <th>1</th>\n",
       "      <td>극장판 프리파라 모두의 동경♪ 렛츠고☆프리파리</td>\n",
       "      <td>animation</td>\n",
       "      <td>Japan</td>\n",
       "      <td>1.595314e+05</td>\n",
       "    </tr>\n",
       "    <tr>\n",
       "      <th>2</th>\n",
       "      <td>스타워즈: 깨어난 포스</td>\n",
       "      <td>action</td>\n",
       "      <td>America</td>\n",
       "      <td>1.795713e+06</td>\n",
       "    </tr>\n",
       "    <tr>\n",
       "      <th>3</th>\n",
       "      <td>약장수</td>\n",
       "      <td>dramas</td>\n",
       "      <td>SouthKorea</td>\n",
       "      <td>1.170576e+05</td>\n",
       "    </tr>\n",
       "    <tr>\n",
       "      <th>4</th>\n",
       "      <td>헝거게임: 캣칭 파이어</td>\n",
       "      <td>fantasy</td>\n",
       "      <td>America</td>\n",
       "      <td>2.000151e+06</td>\n",
       "    </tr>\n",
       "    <tr>\n",
       "      <th>...</th>\n",
       "      <td>...</td>\n",
       "      <td>...</td>\n",
       "      <td>...</td>\n",
       "      <td>...</td>\n",
       "    </tr>\n",
       "    <tr>\n",
       "      <th>260</th>\n",
       "      <td>범죄도시</td>\n",
       "      <td>crime</td>\n",
       "      <td>SouthKorea</td>\n",
       "      <td>8.249927e+06</td>\n",
       "    </tr>\n",
       "    <tr>\n",
       "      <th>261</th>\n",
       "      <td>빅뱅 메이드</td>\n",
       "      <td>documentry</td>\n",
       "      <td>SouthKorea</td>\n",
       "      <td>-3.304525e+04</td>\n",
       "    </tr>\n",
       "    <tr>\n",
       "      <th>262</th>\n",
       "      <td>그레이의 50가지 그림자</td>\n",
       "      <td>dramas</td>\n",
       "      <td>America</td>\n",
       "      <td>5.556553e+05</td>\n",
       "    </tr>\n",
       "    <tr>\n",
       "      <th>263</th>\n",
       "      <td>블랙 팬서</td>\n",
       "      <td>action</td>\n",
       "      <td>America</td>\n",
       "      <td>5.220425e+06</td>\n",
       "    </tr>\n",
       "    <tr>\n",
       "      <th>264</th>\n",
       "      <td>마이 리틀 히어로</td>\n",
       "      <td>dramas</td>\n",
       "      <td>SouthKorea</td>\n",
       "      <td>1.028469e+05</td>\n",
       "    </tr>\n",
       "  </tbody>\n",
       "</table>\n",
       "<p>265 rows × 4 columns</p>\n",
       "</div>"
      ],
      "text/plain": [
       "                         title       genre    national   num_off_box\n",
       "0             메이즈 러너: 스코치 트라이얼      action     America  1.784199e+06\n",
       "1    극장판 프리파라 모두의 동경♪ 렛츠고☆프리파리   animation       Japan  1.595314e+05\n",
       "2                 스타워즈: 깨어난 포스      action     America  1.795713e+06\n",
       "3                          약장수      dramas  SouthKorea  1.170576e+05\n",
       "4                 헝거게임: 캣칭 파이어     fantasy     America  2.000151e+06\n",
       "..                         ...         ...         ...           ...\n",
       "260                       범죄도시       crime  SouthKorea  8.249927e+06\n",
       "261                     빅뱅 메이드  documentry  SouthKorea -3.304525e+04\n",
       "262              그레이의 50가지 그림자      dramas     America  5.556553e+05\n",
       "263                      블랙 팬서      action     America  5.220425e+06\n",
       "264                  마이 리틀 히어로      dramas  SouthKorea  1.028469e+05\n",
       "\n",
       "[265 rows x 4 columns]"
      ]
     },
     "execution_count": 49,
     "metadata": {},
     "output_type": "execute_result"
    }
   ],
   "source": [
    "singleLGBM"
   ]
  },
  {
   "cell_type": "code",
   "execution_count": 50,
   "metadata": {
    "colab": {
     "base_uri": "https://localhost:8080/",
     "height": 419
    },
    "executionInfo": {
     "elapsed": 1006,
     "status": "ok",
     "timestamp": 1606875478575,
     "user": {
      "displayName": "설재형",
      "photoUrl": "",
      "userId": "14774941427314282713"
     },
     "user_tz": -540
    },
    "id": "r-Pi_WRqaHsl",
    "outputId": "77b602f8-50e7-4094-94de-863cc38a9922"
   },
   "outputs": [
    {
     "data": {
      "text/html": [
       "<div>\n",
       "<style scoped>\n",
       "    .dataframe tbody tr th:only-of-type {\n",
       "        vertical-align: middle;\n",
       "    }\n",
       "\n",
       "    .dataframe tbody tr th {\n",
       "        vertical-align: top;\n",
       "    }\n",
       "\n",
       "    .dataframe thead th {\n",
       "        text-align: right;\n",
       "    }\n",
       "</style>\n",
       "<table border=\"1\" class=\"dataframe\">\n",
       "  <thead>\n",
       "    <tr style=\"text-align: right;\">\n",
       "      <th></th>\n",
       "      <th>title</th>\n",
       "      <th>genre</th>\n",
       "      <th>national</th>\n",
       "      <th>num_off_box</th>\n",
       "    </tr>\n",
       "  </thead>\n",
       "  <tbody>\n",
       "    <tr>\n",
       "      <th>0</th>\n",
       "      <td>메이즈 러너: 스코치 트라이얼</td>\n",
       "      <td>action</td>\n",
       "      <td>America</td>\n",
       "      <td>2.458652e+06</td>\n",
       "    </tr>\n",
       "    <tr>\n",
       "      <th>1</th>\n",
       "      <td>극장판 프리파라 모두의 동경♪ 렛츠고☆프리파리</td>\n",
       "      <td>animation</td>\n",
       "      <td>Japan</td>\n",
       "      <td>2.119584e+05</td>\n",
       "    </tr>\n",
       "    <tr>\n",
       "      <th>2</th>\n",
       "      <td>스타워즈: 깨어난 포스</td>\n",
       "      <td>action</td>\n",
       "      <td>America</td>\n",
       "      <td>2.323735e+06</td>\n",
       "    </tr>\n",
       "    <tr>\n",
       "      <th>3</th>\n",
       "      <td>약장수</td>\n",
       "      <td>dramas</td>\n",
       "      <td>SouthKorea</td>\n",
       "      <td>1.739542e+05</td>\n",
       "    </tr>\n",
       "    <tr>\n",
       "      <th>4</th>\n",
       "      <td>헝거게임: 캣칭 파이어</td>\n",
       "      <td>fantasy</td>\n",
       "      <td>America</td>\n",
       "      <td>1.719043e+06</td>\n",
       "    </tr>\n",
       "    <tr>\n",
       "      <th>...</th>\n",
       "      <td>...</td>\n",
       "      <td>...</td>\n",
       "      <td>...</td>\n",
       "      <td>...</td>\n",
       "    </tr>\n",
       "    <tr>\n",
       "      <th>260</th>\n",
       "      <td>범죄도시</td>\n",
       "      <td>crime</td>\n",
       "      <td>SouthKorea</td>\n",
       "      <td>9.115255e+06</td>\n",
       "    </tr>\n",
       "    <tr>\n",
       "      <th>261</th>\n",
       "      <td>빅뱅 메이드</td>\n",
       "      <td>documentry</td>\n",
       "      <td>SouthKorea</td>\n",
       "      <td>2.660953e+04</td>\n",
       "    </tr>\n",
       "    <tr>\n",
       "      <th>262</th>\n",
       "      <td>그레이의 50가지 그림자</td>\n",
       "      <td>dramas</td>\n",
       "      <td>America</td>\n",
       "      <td>5.568878e+05</td>\n",
       "    </tr>\n",
       "    <tr>\n",
       "      <th>263</th>\n",
       "      <td>블랙 팬서</td>\n",
       "      <td>action</td>\n",
       "      <td>America</td>\n",
       "      <td>6.239690e+06</td>\n",
       "    </tr>\n",
       "    <tr>\n",
       "      <th>264</th>\n",
       "      <td>마이 리틀 히어로</td>\n",
       "      <td>dramas</td>\n",
       "      <td>SouthKorea</td>\n",
       "      <td>2.082473e+05</td>\n",
       "    </tr>\n",
       "  </tbody>\n",
       "</table>\n",
       "<p>265 rows × 4 columns</p>\n",
       "</div>"
      ],
      "text/plain": [
       "                         title       genre    national   num_off_box\n",
       "0             메이즈 러너: 스코치 트라이얼      action     America  2.458652e+06\n",
       "1    극장판 프리파라 모두의 동경♪ 렛츠고☆프리파리   animation       Japan  2.119584e+05\n",
       "2                 스타워즈: 깨어난 포스      action     America  2.323735e+06\n",
       "3                          약장수      dramas  SouthKorea  1.739542e+05\n",
       "4                 헝거게임: 캣칭 파이어     fantasy     America  1.719043e+06\n",
       "..                         ...         ...         ...           ...\n",
       "260                       범죄도시       crime  SouthKorea  9.115255e+06\n",
       "261                     빅뱅 메이드  documentry  SouthKorea  2.660953e+04\n",
       "262              그레이의 50가지 그림자      dramas     America  5.568878e+05\n",
       "263                      블랙 팬서      action     America  6.239690e+06\n",
       "264                  마이 리틀 히어로      dramas  SouthKorea  2.082473e+05\n",
       "\n",
       "[265 rows x 4 columns]"
      ]
     },
     "execution_count": 50,
     "metadata": {},
     "output_type": "execute_result"
    }
   ],
   "source": [
    "singleXGB"
   ]
  },
  {
   "cell_type": "code",
   "execution_count": 51,
   "metadata": {
    "colab": {
     "base_uri": "https://localhost:8080/",
     "height": 419
    },
    "executionInfo": {
     "elapsed": 1388,
     "status": "ok",
     "timestamp": 1606875481768,
     "user": {
      "displayName": "설재형",
      "photoUrl": "",
      "userId": "14774941427314282713"
     },
     "user_tz": -540
    },
    "id": "TwLfskKIaPkP",
    "outputId": "19865911-8c7f-47c1-92f8-920e3e536f5a"
   },
   "outputs": [
    {
     "data": {
      "text/html": [
       "<div>\n",
       "<style scoped>\n",
       "    .dataframe tbody tr th:only-of-type {\n",
       "        vertical-align: middle;\n",
       "    }\n",
       "\n",
       "    .dataframe tbody tr th {\n",
       "        vertical-align: top;\n",
       "    }\n",
       "\n",
       "    .dataframe thead th {\n",
       "        text-align: right;\n",
       "    }\n",
       "</style>\n",
       "<table border=\"1\" class=\"dataframe\">\n",
       "  <thead>\n",
       "    <tr style=\"text-align: right;\">\n",
       "      <th></th>\n",
       "      <th>title</th>\n",
       "      <th>genre</th>\n",
       "      <th>national</th>\n",
       "      <th>num_off_box</th>\n",
       "    </tr>\n",
       "  </thead>\n",
       "  <tbody>\n",
       "    <tr>\n",
       "      <th>0</th>\n",
       "      <td>메이즈 러너: 스코치 트라이얼</td>\n",
       "      <td>action</td>\n",
       "      <td>America</td>\n",
       "      <td>2776414.765</td>\n",
       "    </tr>\n",
       "    <tr>\n",
       "      <th>1</th>\n",
       "      <td>극장판 프리파라 모두의 동경♪ 렛츠고☆프리파리</td>\n",
       "      <td>animation</td>\n",
       "      <td>Japan</td>\n",
       "      <td>150934.627</td>\n",
       "    </tr>\n",
       "    <tr>\n",
       "      <th>2</th>\n",
       "      <td>스타워즈: 깨어난 포스</td>\n",
       "      <td>action</td>\n",
       "      <td>America</td>\n",
       "      <td>2458185.102</td>\n",
       "    </tr>\n",
       "    <tr>\n",
       "      <th>3</th>\n",
       "      <td>약장수</td>\n",
       "      <td>dramas</td>\n",
       "      <td>SouthKorea</td>\n",
       "      <td>82777.398</td>\n",
       "    </tr>\n",
       "    <tr>\n",
       "      <th>4</th>\n",
       "      <td>헝거게임: 캣칭 파이어</td>\n",
       "      <td>fantasy</td>\n",
       "      <td>America</td>\n",
       "      <td>1985394.207</td>\n",
       "    </tr>\n",
       "    <tr>\n",
       "      <th>...</th>\n",
       "      <td>...</td>\n",
       "      <td>...</td>\n",
       "      <td>...</td>\n",
       "      <td>...</td>\n",
       "    </tr>\n",
       "    <tr>\n",
       "      <th>260</th>\n",
       "      <td>범죄도시</td>\n",
       "      <td>crime</td>\n",
       "      <td>SouthKorea</td>\n",
       "      <td>8289540.792</td>\n",
       "    </tr>\n",
       "    <tr>\n",
       "      <th>261</th>\n",
       "      <td>빅뱅 메이드</td>\n",
       "      <td>documentry</td>\n",
       "      <td>SouthKorea</td>\n",
       "      <td>69803.926</td>\n",
       "    </tr>\n",
       "    <tr>\n",
       "      <th>262</th>\n",
       "      <td>그레이의 50가지 그림자</td>\n",
       "      <td>dramas</td>\n",
       "      <td>America</td>\n",
       "      <td>554214.489</td>\n",
       "    </tr>\n",
       "    <tr>\n",
       "      <th>263</th>\n",
       "      <td>블랙 팬서</td>\n",
       "      <td>action</td>\n",
       "      <td>America</td>\n",
       "      <td>6804521.082</td>\n",
       "    </tr>\n",
       "    <tr>\n",
       "      <th>264</th>\n",
       "      <td>마이 리틀 히어로</td>\n",
       "      <td>dramas</td>\n",
       "      <td>SouthKorea</td>\n",
       "      <td>261045.260</td>\n",
       "    </tr>\n",
       "  </tbody>\n",
       "</table>\n",
       "<p>265 rows × 4 columns</p>\n",
       "</div>"
      ],
      "text/plain": [
       "                         title       genre    national  num_off_box\n",
       "0             메이즈 러너: 스코치 트라이얼      action     America  2776414.765\n",
       "1    극장판 프리파라 모두의 동경♪ 렛츠고☆프리파리   animation       Japan   150934.627\n",
       "2                 스타워즈: 깨어난 포스      action     America  2458185.102\n",
       "3                          약장수      dramas  SouthKorea    82777.398\n",
       "4                 헝거게임: 캣칭 파이어     fantasy     America  1985394.207\n",
       "..                         ...         ...         ...          ...\n",
       "260                       범죄도시       crime  SouthKorea  8289540.792\n",
       "261                     빅뱅 메이드  documentry  SouthKorea    69803.926\n",
       "262              그레이의 50가지 그림자      dramas     America   554214.489\n",
       "263                      블랙 팬서      action     America  6804521.082\n",
       "264                  마이 리틀 히어로      dramas  SouthKorea   261045.260\n",
       "\n",
       "[265 rows x 4 columns]"
      ]
     },
     "execution_count": 51,
     "metadata": {},
     "output_type": "execute_result"
    }
   ],
   "source": [
    "singleRF"
   ]
  },
  {
   "cell_type": "markdown",
   "metadata": {
    "id": "sD-EZlrhA6ex"
   },
   "source": [
    "# XGBoostRegressor + BayesianOptimization"
   ]
  },
  {
   "cell_type": "code",
   "execution_count": 52,
   "metadata": {
    "id": "V_y-cwmIxqS2"
   },
   "outputs": [],
   "source": [
    "# 하이퍼 파라미터 범위\n",
    "\n",
    "pbounds = { 'learning_rate': (0.0001, 0.4),\n",
    "            'n_estimators': (10, 1000),\n",
    "            'max_depth': (3,10),   \n",
    "            'subsample': (0.5, 1),  \n",
    "            'colsample_bytree': (0.5, 1),   \n",
    "            'gamma': (0, 5)}\n",
    "\n",
    "def xgb_opt(learning_rate, n_estimators, max_depth, subsample, colsample_bytree, gamma):\n",
    "    \n",
    "    params = {\n",
    "        'learning_rate': learning_rate,                      # 학습률\n",
    "        'n_estimators' : int(round(n_estimators)),           # 생성할 tree의 갯수\n",
    "        'max_depth' : int(round(max_depth)),                 # 최대 깊이\n",
    "        'subsample': subsample,                              # 각 트리마다의 관측 데이터 샘플링 비율\n",
    "        'colsample': colsample_bytree,                       # 각 트리마다의 feature 샘플링 비율\n",
    "        'gamma': gamma,                                      # 분할을 수행하는데 필요한 최소 손실 감소\n",
    "        'n_jobs' : -1,                                       # 사용할 cpu 갯수( -1 있는거 다 사용)\n",
    "        'random_state' : 777                                 # 랜덤 샘플링시 고정할 시드 값\n",
    "    }\n",
    "    \n",
    "    m_xgb = xgb.XGBRegressor(**params)\n",
    "    \n",
    "    kf = KFold(n_splits = 5 , shuffle=True, random_state=50)\n",
    "\n",
    "    score = cross_val_score(m_xgb, x_train, y_train, scoring='neg_mean_squared_error', cv=kf, n_jobs=-1)\n",
    "    \n",
    "    return np.mean(score)\n",
    "\n",
    "BO_xgb = BayesianOptimization(f = xgb_opt, pbounds = pbounds, random_state=0)"
   ]
  },
  {
   "cell_type": "code",
   "execution_count": 53,
   "metadata": {
    "colab": {
     "base_uri": "https://localhost:8080/"
    },
    "executionInfo": {
     "elapsed": 468829,
     "status": "ok",
     "timestamp": 1606875955298,
     "user": {
      "displayName": "설재형",
      "photoUrl": "",
      "userId": "14774941427314282713"
     },
     "user_tz": -540
    },
    "id": "RkEKqE_r2mg2",
    "outputId": "4cbc4723-b5a8-4b2b-c925-4814e7296629"
   },
   "outputs": [
    {
     "name": "stdout",
     "output_type": "stream",
     "text": [
      "|   iter    |  target   | colsam... |   gamma   | learni... | max_depth | n_esti... | subsample |\n",
      "-------------------------------------------------------------------------------------------------\n",
      "| \u001b[0m 1       \u001b[0m | \u001b[0m-1.172e+1\u001b[0m | \u001b[0m 0.7744  \u001b[0m | \u001b[0m 3.576   \u001b[0m | \u001b[0m 0.2411  \u001b[0m | \u001b[0m 6.814   \u001b[0m | \u001b[0m 429.4   \u001b[0m | \u001b[0m 0.8229  \u001b[0m |\n",
      "| \u001b[0m 2       \u001b[0m | \u001b[0m-1.303e+1\u001b[0m | \u001b[0m 0.7188  \u001b[0m | \u001b[0m 4.459   \u001b[0m | \u001b[0m 0.3855  \u001b[0m | \u001b[0m 5.684   \u001b[0m | \u001b[0m 793.8   \u001b[0m | \u001b[0m 0.7644  \u001b[0m |\n",
      "| \u001b[0m 3       \u001b[0m | \u001b[0m-2.362e+1\u001b[0m | \u001b[0m 0.784   \u001b[0m | \u001b[0m 4.628   \u001b[0m | \u001b[0m 0.02851 \u001b[0m | \u001b[0m 3.61    \u001b[0m | \u001b[0m 30.02   \u001b[0m | \u001b[0m 0.9163  \u001b[0m |\n",
      "| \u001b[0m 4       \u001b[0m | \u001b[0m-1.485e+1\u001b[0m | \u001b[0m 0.8891  \u001b[0m | \u001b[0m 4.35    \u001b[0m | \u001b[0m 0.3914  \u001b[0m | \u001b[0m 8.594   \u001b[0m | \u001b[0m 466.9   \u001b[0m | \u001b[0m 0.8903  \u001b[0m |\n",
      "| \u001b[95m 5       \u001b[0m | \u001b[95m-1.143e+1\u001b[0m | \u001b[95m 0.5591  \u001b[0m | \u001b[95m 3.2     \u001b[0m | \u001b[95m 0.05743 \u001b[0m | \u001b[95m 9.613   \u001b[0m | \u001b[95m 526.6   \u001b[0m | \u001b[95m 0.7073  \u001b[0m |\n",
      "| \u001b[0m 6       \u001b[0m | \u001b[0m-1.171e+1\u001b[0m | \u001b[0m 0.6323  \u001b[0m | \u001b[0m 3.871   \u001b[0m | \u001b[0m 0.1825  \u001b[0m | \u001b[0m 6.979   \u001b[0m | \u001b[0m 28.6    \u001b[0m | \u001b[0m 0.8088  \u001b[0m |\n",
      "| \u001b[0m 7       \u001b[0m | \u001b[0m-1.255e+1\u001b[0m | \u001b[0m 0.806   \u001b[0m | \u001b[0m 3.085   \u001b[0m | \u001b[0m 0.3775  \u001b[0m | \u001b[0m 7.773   \u001b[0m | \u001b[0m 365.9   \u001b[0m | \u001b[0m 0.7185  \u001b[0m |\n",
      "| \u001b[0m 8       \u001b[0m | \u001b[0m-1.21e+12\u001b[0m | \u001b[0m 0.8488  \u001b[0m | \u001b[0m 0.3011  \u001b[0m | \u001b[0m 0.2667  \u001b[0m | \u001b[0m 7.694   \u001b[0m | \u001b[0m 218.3   \u001b[0m | \u001b[0m 0.5645  \u001b[0m |\n",
      "| \u001b[95m 9       \u001b[0m | \u001b[95m-1.134e+1\u001b[0m | \u001b[95m 0.6577  \u001b[0m | \u001b[95m 1.819   \u001b[0m | \u001b[95m 0.2281  \u001b[0m | \u001b[95m 6.07    \u001b[0m | \u001b[95m 988.5   \u001b[0m | \u001b[95m 0.551   \u001b[0m |\n",
      "| \u001b[0m 10      \u001b[0m | \u001b[0m-1.162e+1\u001b[0m | \u001b[0m 0.6044  \u001b[0m | \u001b[0m 0.8065  \u001b[0m | \u001b[0m 0.2613  \u001b[0m | \u001b[0m 4.773   \u001b[0m | \u001b[0m 471.6   \u001b[0m | \u001b[0m 0.6222  \u001b[0m |\n",
      "| \u001b[0m 11      \u001b[0m | \u001b[0m-1.392e+1\u001b[0m | \u001b[0m 0.6562  \u001b[0m | \u001b[0m 3.529   \u001b[0m | \u001b[0m 0.324   \u001b[0m | \u001b[0m 6.999   \u001b[0m | \u001b[0m 429.4   \u001b[0m | \u001b[0m 0.9441  \u001b[0m |\n",
      "| \u001b[0m 12      \u001b[0m | \u001b[0m-1.18e+12\u001b[0m | \u001b[0m 0.6523  \u001b[0m | \u001b[0m 2.78    \u001b[0m | \u001b[0m 0.09947 \u001b[0m | \u001b[0m 9.04    \u001b[0m | \u001b[0m 526.2   \u001b[0m | \u001b[0m 0.738   \u001b[0m |\n",
      "| \u001b[0m 13      \u001b[0m | \u001b[0m-1.2e+12 \u001b[0m | \u001b[0m 0.8029  \u001b[0m | \u001b[0m 0.06451 \u001b[0m | \u001b[0m 0.2462  \u001b[0m | \u001b[0m 5.891   \u001b[0m | \u001b[0m 991.8   \u001b[0m | \u001b[0m 0.7121  \u001b[0m |\n",
      "| \u001b[0m 14      \u001b[0m | \u001b[0m-1.226e+1\u001b[0m | \u001b[0m 0.7093  \u001b[0m | \u001b[0m 1.212   \u001b[0m | \u001b[0m 0.2845  \u001b[0m | \u001b[0m 6.217   \u001b[0m | \u001b[0m 988.1   \u001b[0m | \u001b[0m 0.6727  \u001b[0m |\n",
      "| \u001b[95m 15      \u001b[0m | \u001b[95m-1.078e+1\u001b[0m | \u001b[95m 0.5826  \u001b[0m | \u001b[95m 0.9489  \u001b[0m | \u001b[95m 0.1858  \u001b[0m | \u001b[95m 9.269   \u001b[0m | \u001b[95m 475.1   \u001b[0m | \u001b[95m 0.5954  \u001b[0m |\n",
      "| \u001b[0m 16      \u001b[0m | \u001b[0m-1.256e+1\u001b[0m | \u001b[0m 0.6539  \u001b[0m | \u001b[0m 0.3662  \u001b[0m | \u001b[0m 0.04801 \u001b[0m | \u001b[0m 9.157   \u001b[0m | \u001b[0m 475.3   \u001b[0m | \u001b[0m 0.8371  \u001b[0m |\n",
      "| \u001b[0m 17      \u001b[0m | \u001b[0m-1.335e+1\u001b[0m | \u001b[0m 0.8284  \u001b[0m | \u001b[0m 0.6582  \u001b[0m | \u001b[0m 0.2546  \u001b[0m | \u001b[0m 8.454   \u001b[0m | \u001b[0m 259.9   \u001b[0m | \u001b[0m 0.6211  \u001b[0m |\n",
      "| \u001b[0m 18      \u001b[0m | \u001b[0m-1.335e+1\u001b[0m | \u001b[0m 0.8942  \u001b[0m | \u001b[0m 4.637   \u001b[0m | \u001b[0m 0.3964  \u001b[0m | \u001b[0m 8.625   \u001b[0m | \u001b[0m 739.7   \u001b[0m | \u001b[0m 0.5565  \u001b[0m |\n",
      "| \u001b[0m 19      \u001b[0m | \u001b[0m-1.321e+1\u001b[0m | \u001b[0m 0.6447  \u001b[0m | \u001b[0m 1.047   \u001b[0m | \u001b[0m 0.1862  \u001b[0m | \u001b[0m 8.984   \u001b[0m | \u001b[0m 475.9   \u001b[0m | \u001b[0m 0.8561  \u001b[0m |\n",
      "| \u001b[0m 20      \u001b[0m | \u001b[0m-1.158e+1\u001b[0m | \u001b[0m 0.6222  \u001b[0m | \u001b[0m 1.587   \u001b[0m | \u001b[0m 0.07093 \u001b[0m | \u001b[0m 9.277   \u001b[0m | \u001b[0m 209.3   \u001b[0m | \u001b[0m 0.7708  \u001b[0m |\n",
      "| \u001b[0m 21      \u001b[0m | \u001b[0m-1.162e+1\u001b[0m | \u001b[0m 0.6763  \u001b[0m | \u001b[0m 1.268   \u001b[0m | \u001b[0m 0.237   \u001b[0m | \u001b[0m 3.674   \u001b[0m | \u001b[0m 22.41   \u001b[0m | \u001b[0m 0.631   \u001b[0m |\n",
      "| \u001b[95m 22      \u001b[0m | \u001b[95m-1.069e+1\u001b[0m | \u001b[95m 0.5685  \u001b[0m | \u001b[95m 1.303   \u001b[0m | \u001b[95m 0.09046 \u001b[0m | \u001b[95m 3.906   \u001b[0m | \u001b[95m 975.3   \u001b[0m | \u001b[95m 0.7801  \u001b[0m |\n",
      "| \u001b[0m 23      \u001b[0m | \u001b[0m-1.292e+1\u001b[0m | \u001b[0m 0.9633  \u001b[0m | \u001b[0m 2.674   \u001b[0m | \u001b[0m 0.1394  \u001b[0m | \u001b[0m 6.91    \u001b[0m | \u001b[0m 278.4   \u001b[0m | \u001b[0m 0.9328  \u001b[0m |\n",
      "| \u001b[0m 24      \u001b[0m | \u001b[0m-1.193e+1\u001b[0m | \u001b[0m 0.77    \u001b[0m | \u001b[0m 0.8961  \u001b[0m | \u001b[0m 0.235   \u001b[0m | \u001b[0m 4.921   \u001b[0m | \u001b[0m 92.3    \u001b[0m | \u001b[0m 0.5401  \u001b[0m |\n",
      "| \u001b[0m 25      \u001b[0m | \u001b[0m-1.26e+12\u001b[0m | \u001b[0m 0.6604  \u001b[0m | \u001b[0m 0.2138  \u001b[0m | \u001b[0m 0.3475  \u001b[0m | \u001b[0m 5.718   \u001b[0m | \u001b[0m 468.4   \u001b[0m | \u001b[0m 0.6738  \u001b[0m |\n",
      "| \u001b[0m 26      \u001b[0m | \u001b[0m-1.303e+1\u001b[0m | \u001b[0m 0.7654  \u001b[0m | \u001b[0m 2.584   \u001b[0m | \u001b[0m 0.3877  \u001b[0m | \u001b[0m 8.046   \u001b[0m | \u001b[0m 339.5   \u001b[0m | \u001b[0m 0.7723  \u001b[0m |\n",
      "| \u001b[0m 27      \u001b[0m | \u001b[0m-1.207e+1\u001b[0m | \u001b[0m 0.8226  \u001b[0m | \u001b[0m 4.199   \u001b[0m | \u001b[0m 0.3302  \u001b[0m | \u001b[0m 8.236   \u001b[0m | \u001b[0m 138.9   \u001b[0m | \u001b[0m 0.6549  \u001b[0m |\n",
      "| \u001b[95m 28      \u001b[0m | \u001b[95m-1.063e+1\u001b[0m | \u001b[95m 0.9865  \u001b[0m | \u001b[95m 3.461   \u001b[0m | \u001b[95m 0.1694  \u001b[0m | \u001b[95m 3.623   \u001b[0m | \u001b[95m 84.8    \u001b[0m | \u001b[95m 0.6782  \u001b[0m |\n",
      "| \u001b[95m 29      \u001b[0m | \u001b[95m-1.062e+1\u001b[0m | \u001b[95m 0.7622  \u001b[0m | \u001b[95m 4.669   \u001b[0m | \u001b[95m 0.07994 \u001b[0m | \u001b[95m 4.633   \u001b[0m | \u001b[95m 881.6   \u001b[0m | \u001b[95m 0.7464  \u001b[0m |\n",
      "| \u001b[0m 30      \u001b[0m | \u001b[0m-1.114e+1\u001b[0m | \u001b[0m 0.8238  \u001b[0m | \u001b[0m 2.171   \u001b[0m | \u001b[0m 0.1585  \u001b[0m | \u001b[0m 4.978   \u001b[0m | \u001b[0m 780.3   \u001b[0m | \u001b[0m 0.6838  \u001b[0m |\n",
      "| \u001b[0m 31      \u001b[0m | \u001b[0m-1.135e+1\u001b[0m | \u001b[0m 0.5481  \u001b[0m | \u001b[0m 3.855   \u001b[0m | \u001b[0m 0.1873  \u001b[0m | \u001b[0m 6.521   \u001b[0m | \u001b[0m 576.7   \u001b[0m | \u001b[0m 0.5173  \u001b[0m |\n",
      "| \u001b[0m 32      \u001b[0m | \u001b[0m-1.159e+1\u001b[0m | \u001b[0m 0.6058  \u001b[0m | \u001b[0m 2.319   \u001b[0m | \u001b[0m 0.2198  \u001b[0m | \u001b[0m 7.26    \u001b[0m | \u001b[0m 627.3   \u001b[0m | \u001b[0m 0.6712  \u001b[0m |\n",
      "| \u001b[0m 33      \u001b[0m | \u001b[0m-1.295e+1\u001b[0m | \u001b[0m 0.5008  \u001b[0m | \u001b[0m 3.633   \u001b[0m | \u001b[0m 0.276   \u001b[0m | \u001b[0m 9.575   \u001b[0m | \u001b[0m 17.09   \u001b[0m | \u001b[0m 0.864   \u001b[0m |\n",
      "| \u001b[0m 34      \u001b[0m | \u001b[0m-1.362e+1\u001b[0m | \u001b[0m 0.804   \u001b[0m | \u001b[0m 0.9569  \u001b[0m | \u001b[0m 0.3166  \u001b[0m | \u001b[0m 9.364   \u001b[0m | \u001b[0m 453.6   \u001b[0m | \u001b[0m 0.8186  \u001b[0m |\n",
      "| \u001b[0m 35      \u001b[0m | \u001b[0m-1.071e+1\u001b[0m | \u001b[0m 0.7848  \u001b[0m | \u001b[0m 4.055   \u001b[0m | \u001b[0m 0.05912 \u001b[0m | \u001b[0m 4.73    \u001b[0m | \u001b[0m 584.2   \u001b[0m | \u001b[0m 0.5864  \u001b[0m |\n",
      "| \u001b[0m 36      \u001b[0m | \u001b[0m-1.222e+1\u001b[0m | \u001b[0m 0.9731  \u001b[0m | \u001b[0m 0.7687  \u001b[0m | \u001b[0m 0.1774  \u001b[0m | \u001b[0m 8.39    \u001b[0m | \u001b[0m 123.2   \u001b[0m | \u001b[0m 0.7616  \u001b[0m |\n",
      "| \u001b[0m 37      \u001b[0m | \u001b[0m-1.116e+1\u001b[0m | \u001b[0m 0.8103  \u001b[0m | \u001b[0m 1.147   \u001b[0m | \u001b[0m 0.3172  \u001b[0m | \u001b[0m 4.818   \u001b[0m | \u001b[0m 66.68   \u001b[0m | \u001b[0m 0.6811  \u001b[0m |\n",
      "| \u001b[0m 38      \u001b[0m | \u001b[0m-1.206e+1\u001b[0m | \u001b[0m 0.7169  \u001b[0m | \u001b[0m 4.386   \u001b[0m | \u001b[0m 0.07111 \u001b[0m | \u001b[0m 5.799   \u001b[0m | \u001b[0m 415.0   \u001b[0m | \u001b[0m 0.8423  \u001b[0m |\n",
      "| \u001b[0m 39      \u001b[0m | \u001b[0m-1.26e+12\u001b[0m | \u001b[0m 0.677   \u001b[0m | \u001b[0m 0.8638  \u001b[0m | \u001b[0m 0.3964  \u001b[0m | \u001b[0m 7.174   \u001b[0m | \u001b[0m 477.5   \u001b[0m | \u001b[0m 0.6568  \u001b[0m |\n",
      "| \u001b[0m 40      \u001b[0m | \u001b[0m-1.166e+1\u001b[0m | \u001b[0m 0.9558  \u001b[0m | \u001b[0m 3.069   \u001b[0m | \u001b[0m 0.1855  \u001b[0m | \u001b[0m 8.033   \u001b[0m | \u001b[0m 933.4   \u001b[0m | \u001b[0m 0.8382  \u001b[0m |\n",
      "| \u001b[0m 41      \u001b[0m | \u001b[0m-1.267e+1\u001b[0m | \u001b[0m 0.9037  \u001b[0m | \u001b[0m 3.698   \u001b[0m | \u001b[0m 0.06231 \u001b[0m | \u001b[0m 3.979   \u001b[0m | \u001b[0m 38.39   \u001b[0m | \u001b[0m 0.8858  \u001b[0m |\n",
      "| \u001b[0m 42      \u001b[0m | \u001b[0m-1.297e+1\u001b[0m | \u001b[0m 0.7118  \u001b[0m | \u001b[0m 3.738   \u001b[0m | \u001b[0m 0.01336 \u001b[0m | \u001b[0m 4.11    \u001b[0m | \u001b[0m 176.9   \u001b[0m | \u001b[0m 0.9082  \u001b[0m |\n",
      "| \u001b[0m 43      \u001b[0m | \u001b[0m-1.162e+1\u001b[0m | \u001b[0m 0.5461  \u001b[0m | \u001b[0m 3.793   \u001b[0m | \u001b[0m 0.1534  \u001b[0m | \u001b[0m 7.751   \u001b[0m | \u001b[0m 260.9   \u001b[0m | \u001b[0m 0.8149  \u001b[0m |\n",
      "| \u001b[0m 44      \u001b[0m | \u001b[0m-1.192e+1\u001b[0m | \u001b[0m 0.9426  \u001b[0m | \u001b[0m 4.489   \u001b[0m | \u001b[0m 0.1348  \u001b[0m | \u001b[0m 9.345   \u001b[0m | \u001b[0m 597.7   \u001b[0m | \u001b[0m 0.5062  \u001b[0m |\n",
      "| \u001b[0m 45      \u001b[0m | \u001b[0m-1.102e+1\u001b[0m | \u001b[0m 0.7332  \u001b[0m | \u001b[0m 0.3382  \u001b[0m | \u001b[0m 0.06643 \u001b[0m | \u001b[0m 8.631   \u001b[0m | \u001b[0m 608.3   \u001b[0m | \u001b[0m 0.6133  \u001b[0m |\n",
      "| \u001b[0m 46      \u001b[0m | \u001b[0m-1.127e+1\u001b[0m | \u001b[0m 0.7022  \u001b[0m | \u001b[0m 2.139   \u001b[0m | \u001b[0m 0.07126 \u001b[0m | \u001b[0m 3.294   \u001b[0m | \u001b[0m 682.5   \u001b[0m | \u001b[0m 0.7706  \u001b[0m |\n",
      "| \u001b[0m 47      \u001b[0m | \u001b[0m-1.264e+1\u001b[0m | \u001b[0m 0.9015  \u001b[0m | \u001b[0m 3.885   \u001b[0m | \u001b[0m 0.3239  \u001b[0m | \u001b[0m 7.048   \u001b[0m | \u001b[0m 47.64   \u001b[0m | \u001b[0m 0.9714  \u001b[0m |\n",
      "| \u001b[0m 48      \u001b[0m | \u001b[0m-1.221e+1\u001b[0m | \u001b[0m 0.877   \u001b[0m | \u001b[0m 2.288   \u001b[0m | \u001b[0m 0.3283  \u001b[0m | \u001b[0m 5.173   \u001b[0m | \u001b[0m 435.1   \u001b[0m | \u001b[0m 0.723   \u001b[0m |\n",
      "| \u001b[0m 49      \u001b[0m | \u001b[0m-1.094e+1\u001b[0m | \u001b[0m 0.8663  \u001b[0m | \u001b[0m 1.528   \u001b[0m | \u001b[0m 0.2196  \u001b[0m | \u001b[0m 5.12    \u001b[0m | \u001b[0m 624.2   \u001b[0m | \u001b[0m 0.521   \u001b[0m |\n",
      "| \u001b[0m 50      \u001b[0m | \u001b[0m-1.179e+1\u001b[0m | \u001b[0m 0.9966  \u001b[0m | \u001b[0m 3.74    \u001b[0m | \u001b[0m 0.2556  \u001b[0m | \u001b[0m 7.286   \u001b[0m | \u001b[0m 482.8   \u001b[0m | \u001b[0m 0.7119  \u001b[0m |\n"
     ]
    },
    {
     "name": "stdout",
     "output_type": "stream",
     "text": [
      "| \u001b[0m 51      \u001b[0m | \u001b[0m-1.071e+1\u001b[0m | \u001b[0m 0.9778  \u001b[0m | \u001b[0m 2.854   \u001b[0m | \u001b[0m 0.09423 \u001b[0m | \u001b[0m 3.171   \u001b[0m | \u001b[0m 424.5   \u001b[0m | \u001b[0m 0.7539  \u001b[0m |\n",
      "| \u001b[0m 52      \u001b[0m | \u001b[0m-1.242e+1\u001b[0m | \u001b[0m 0.9508  \u001b[0m | \u001b[0m 2.954   \u001b[0m | \u001b[0m 0.2099  \u001b[0m | \u001b[0m 6.357   \u001b[0m | \u001b[0m 808.8   \u001b[0m | \u001b[0m 0.9693  \u001b[0m |\n",
      "| \u001b[0m 53      \u001b[0m | \u001b[0m-1.31e+12\u001b[0m | \u001b[0m 0.5435  \u001b[0m | \u001b[0m 3.354   \u001b[0m | \u001b[0m 0.153   \u001b[0m | \u001b[0m 8.749   \u001b[0m | \u001b[0m 824.4   \u001b[0m | \u001b[0m 0.9266  \u001b[0m |\n",
      "| \u001b[0m 54      \u001b[0m | \u001b[0m-1.203e+1\u001b[0m | \u001b[0m 0.5314  \u001b[0m | \u001b[0m 2.793   \u001b[0m | \u001b[0m 0.04949 \u001b[0m | \u001b[0m 8.447   \u001b[0m | \u001b[0m 826.1   \u001b[0m | \u001b[0m 0.8195  \u001b[0m |\n",
      "| \u001b[0m 55      \u001b[0m | \u001b[0m-1.194e+1\u001b[0m | \u001b[0m 0.7347  \u001b[0m | \u001b[0m 0.4609  \u001b[0m | \u001b[0m 0.1768  \u001b[0m | \u001b[0m 9.702   \u001b[0m | \u001b[0m 530.6   \u001b[0m | \u001b[0m 0.7509  \u001b[0m |\n",
      "| \u001b[0m 56      \u001b[0m | \u001b[0m-1.323e+1\u001b[0m | \u001b[0m 0.6326  \u001b[0m | \u001b[0m 1.772   \u001b[0m | \u001b[0m 0.248   \u001b[0m | \u001b[0m 6.358   \u001b[0m | \u001b[0m 853.4   \u001b[0m | \u001b[0m 0.8869  \u001b[0m |\n",
      "| \u001b[0m 57      \u001b[0m | \u001b[0m-1.279e+1\u001b[0m | \u001b[0m 0.7255  \u001b[0m | \u001b[0m 3.821   \u001b[0m | \u001b[0m 0.3667  \u001b[0m | \u001b[0m 7.328   \u001b[0m | \u001b[0m 482.1   \u001b[0m | \u001b[0m 0.6121  \u001b[0m |\n",
      "| \u001b[0m 58      \u001b[0m | \u001b[0m-1.19e+12\u001b[0m | \u001b[0m 0.6505  \u001b[0m | \u001b[0m 3.637   \u001b[0m | \u001b[0m 0.3586  \u001b[0m | \u001b[0m 5.197   \u001b[0m | \u001b[0m 716.6   \u001b[0m | \u001b[0m 0.6423  \u001b[0m |\n",
      "| \u001b[0m 59      \u001b[0m | \u001b[0m-1.293e+1\u001b[0m | \u001b[0m 0.9102  \u001b[0m | \u001b[0m 2.483   \u001b[0m | \u001b[0m 0.01012 \u001b[0m | \u001b[0m 6.92    \u001b[0m | \u001b[0m 303.1   \u001b[0m | \u001b[0m 0.8884  \u001b[0m |\n",
      "| \u001b[0m 60      \u001b[0m | \u001b[0m-1.202e+1\u001b[0m | \u001b[0m 0.7459  \u001b[0m | \u001b[0m 4.32    \u001b[0m | \u001b[0m 0.1787  \u001b[0m | \u001b[0m 7.116   \u001b[0m | \u001b[0m 621.3   \u001b[0m | \u001b[0m 0.8459  \u001b[0m |\n",
      "| \u001b[0m 61      \u001b[0m | \u001b[0m-1.215e+1\u001b[0m | \u001b[0m 0.8894  \u001b[0m | \u001b[0m 1.969   \u001b[0m | \u001b[0m 0.3242  \u001b[0m | \u001b[0m 6.787   \u001b[0m | \u001b[0m 780.7   \u001b[0m | \u001b[0m 0.6235  \u001b[0m |\n",
      "| \u001b[0m 62      \u001b[0m | \u001b[0m-1.306e+1\u001b[0m | \u001b[0m 0.6017  \u001b[0m | \u001b[0m 0.3469  \u001b[0m | \u001b[0m 0.3987  \u001b[0m | \u001b[0m 3.798   \u001b[0m | \u001b[0m 978.1   \u001b[0m | \u001b[0m 0.9252  \u001b[0m |\n",
      "| \u001b[0m 63      \u001b[0m | \u001b[0m-1.307e+1\u001b[0m | \u001b[0m 0.7417  \u001b[0m | \u001b[0m 4.158   \u001b[0m | \u001b[0m 0.342   \u001b[0m | \u001b[0m 8.615   \u001b[0m | \u001b[0m 360.8   \u001b[0m | \u001b[0m 0.8536  \u001b[0m |\n",
      "| \u001b[0m 64      \u001b[0m | \u001b[0m-1.2e+12 \u001b[0m | \u001b[0m 0.5612  \u001b[0m | \u001b[0m 1.477   \u001b[0m | \u001b[0m 0.2425  \u001b[0m | \u001b[0m 4.423   \u001b[0m | \u001b[0m 704.5   \u001b[0m | \u001b[0m 0.8098  \u001b[0m |\n",
      "| \u001b[0m 65      \u001b[0m | \u001b[0m-1.246e+1\u001b[0m | \u001b[0m 0.7064  \u001b[0m | \u001b[0m 2.615   \u001b[0m | \u001b[0m 0.3114  \u001b[0m | \u001b[0m 9.183   \u001b[0m | \u001b[0m 776.2   \u001b[0m | \u001b[0m 0.6872  \u001b[0m |\n",
      "| \u001b[0m 66      \u001b[0m | \u001b[0m-1.068e+1\u001b[0m | \u001b[0m 0.8339  \u001b[0m | \u001b[0m 1.344   \u001b[0m | \u001b[0m 0.1105  \u001b[0m | \u001b[0m 5.971   \u001b[0m | \u001b[0m 95.57   \u001b[0m | \u001b[0m 0.5266  \u001b[0m |\n",
      "| \u001b[0m 67      \u001b[0m | \u001b[0m-1.353e+1\u001b[0m | \u001b[0m 0.6138  \u001b[0m | \u001b[0m 2.572   \u001b[0m | \u001b[0m 0.3256  \u001b[0m | \u001b[0m 6.787   \u001b[0m | \u001b[0m 584.7   \u001b[0m | \u001b[0m 0.8942  \u001b[0m |\n",
      "| \u001b[0m 68      \u001b[0m | \u001b[0m-1.258e+1\u001b[0m | \u001b[0m 0.9839  \u001b[0m | \u001b[0m 3.004   \u001b[0m | \u001b[0m 0.01237 \u001b[0m | \u001b[0m 7.887   \u001b[0m | \u001b[0m 257.8   \u001b[0m | \u001b[0m 0.835   \u001b[0m |\n",
      "| \u001b[0m 69      \u001b[0m | \u001b[0m-1.157e+1\u001b[0m | \u001b[0m 0.8051  \u001b[0m | \u001b[0m 1.526   \u001b[0m | \u001b[0m 0.272   \u001b[0m | \u001b[0m 3.384   \u001b[0m | \u001b[0m 573.3   \u001b[0m | \u001b[0m 0.6406  \u001b[0m |\n",
      "| \u001b[0m 70      \u001b[0m | \u001b[0m-1.189e+1\u001b[0m | \u001b[0m 0.6727  \u001b[0m | \u001b[0m 2.754   \u001b[0m | \u001b[0m 0.3145  \u001b[0m | \u001b[0m 3.93    \u001b[0m | \u001b[0m 109.4   \u001b[0m | \u001b[0m 0.6592  \u001b[0m |\n",
      "| \u001b[0m 71      \u001b[0m | \u001b[0m-1.279e+1\u001b[0m | \u001b[0m 0.5796  \u001b[0m | \u001b[0m 1.257   \u001b[0m | \u001b[0m 0.2778  \u001b[0m | \u001b[0m 6.882   \u001b[0m | \u001b[0m 251.6   \u001b[0m | \u001b[0m 0.6725  \u001b[0m |\n",
      "| \u001b[0m 72      \u001b[0m | \u001b[0m-1.144e+1\u001b[0m | \u001b[0m 0.8041  \u001b[0m | \u001b[0m 4.133   \u001b[0m | \u001b[0m 0.05888 \u001b[0m | \u001b[0m 4.757   \u001b[0m | \u001b[0m 362.5   \u001b[0m | \u001b[0m 0.827   \u001b[0m |\n",
      "| \u001b[0m 73      \u001b[0m | \u001b[0m-1.169e+1\u001b[0m | \u001b[0m 0.6579  \u001b[0m | \u001b[0m 4.975   \u001b[0m | \u001b[0m 0.1884  \u001b[0m | \u001b[0m 3.074   \u001b[0m | \u001b[0m 19.21   \u001b[0m | \u001b[0m 0.8752  \u001b[0m |\n",
      "| \u001b[0m 74      \u001b[0m | \u001b[0m-1.276e+1\u001b[0m | \u001b[0m 0.8501  \u001b[0m | \u001b[0m 4.471   \u001b[0m | \u001b[0m 0.2514  \u001b[0m | \u001b[0m 8.328   \u001b[0m | \u001b[0m 873.6   \u001b[0m | \u001b[0m 0.5026  \u001b[0m |\n",
      "| \u001b[0m 75      \u001b[0m | \u001b[0m-1.3e+12 \u001b[0m | \u001b[0m 0.5862  \u001b[0m | \u001b[0m 0.9857  \u001b[0m | \u001b[0m 0.1036  \u001b[0m | \u001b[0m 7.683   \u001b[0m | \u001b[0m 244.4   \u001b[0m | \u001b[0m 0.8893  \u001b[0m |\n",
      "| \u001b[0m 76      \u001b[0m | \u001b[0m-1.104e+1\u001b[0m | \u001b[0m 0.5532  \u001b[0m | \u001b[0m 4.907   \u001b[0m | \u001b[0m 0.1178  \u001b[0m | \u001b[0m 9.752   \u001b[0m | \u001b[0m 708.6   \u001b[0m | \u001b[0m 0.6002  \u001b[0m |\n",
      "| \u001b[0m 77      \u001b[0m | \u001b[0m-1.233e+1\u001b[0m | \u001b[0m 0.731   \u001b[0m | \u001b[0m 3.945   \u001b[0m | \u001b[0m 0.2327  \u001b[0m | \u001b[0m 3.766   \u001b[0m | \u001b[0m 985.0   \u001b[0m | \u001b[0m 0.9128  \u001b[0m |\n",
      "| \u001b[0m 78      \u001b[0m | \u001b[0m-1.16e+12\u001b[0m | \u001b[0m 0.7096  \u001b[0m | \u001b[0m 0.8473  \u001b[0m | \u001b[0m 0.04948 \u001b[0m | \u001b[0m 5.685   \u001b[0m | \u001b[0m 952.7   \u001b[0m | \u001b[0m 0.7611  \u001b[0m |\n",
      "| \u001b[0m 79      \u001b[0m | \u001b[0m-1.401e+1\u001b[0m | \u001b[0m 0.7862  \u001b[0m | \u001b[0m 1.519   \u001b[0m | \u001b[0m 0.3404  \u001b[0m | \u001b[0m 9.166   \u001b[0m | \u001b[0m 228.3   \u001b[0m | \u001b[0m 0.9325  \u001b[0m |\n",
      "| \u001b[0m 80      \u001b[0m | \u001b[0m-1.151e+1\u001b[0m | \u001b[0m 0.5228  \u001b[0m | \u001b[0m 1.792   \u001b[0m | \u001b[0m 0.2102  \u001b[0m | \u001b[0m 4.75    \u001b[0m | \u001b[0m 698.7   \u001b[0m | \u001b[0m 0.5494  \u001b[0m |\n",
      "| \u001b[0m 81      \u001b[0m | \u001b[0m-1.175e+1\u001b[0m | \u001b[0m 0.8631  \u001b[0m | \u001b[0m 0.6171  \u001b[0m | \u001b[0m 0.3651  \u001b[0m | \u001b[0m 6.223   \u001b[0m | \u001b[0m 290.1   \u001b[0m | \u001b[0m 0.5566  \u001b[0m |\n",
      "| \u001b[0m 82      \u001b[0m | \u001b[0m-1.299e+1\u001b[0m | \u001b[0m 0.5252  \u001b[0m | \u001b[0m 1.983   \u001b[0m | \u001b[0m 0.06607 \u001b[0m | \u001b[0m 6.91    \u001b[0m | \u001b[0m 381.5   \u001b[0m | \u001b[0m 0.9685  \u001b[0m |\n",
      "| \u001b[0m 83      \u001b[0m | \u001b[0m-1.384e+1\u001b[0m | \u001b[0m 0.5462  \u001b[0m | \u001b[0m 2.413   \u001b[0m | \u001b[0m 0.3166  \u001b[0m | \u001b[0m 9.598   \u001b[0m | \u001b[0m 481.6   \u001b[0m | \u001b[0m 0.8992  \u001b[0m |\n",
      "| \u001b[0m 84      \u001b[0m | \u001b[0m-1.177e+1\u001b[0m | \u001b[0m 0.509   \u001b[0m | \u001b[0m 0.9565  \u001b[0m | \u001b[0m 0.267   \u001b[0m | \u001b[0m 4.449   \u001b[0m | \u001b[0m 149.7   \u001b[0m | \u001b[0m 0.9779  \u001b[0m |\n",
      "| \u001b[0m 85      \u001b[0m | \u001b[0m-1.276e+1\u001b[0m | \u001b[0m 0.5962  \u001b[0m | \u001b[0m 0.4892  \u001b[0m | \u001b[0m 0.06852 \u001b[0m | \u001b[0m 7.003   \u001b[0m | \u001b[0m 405.2   \u001b[0m | \u001b[0m 0.8974  \u001b[0m |\n",
      "| \u001b[0m 86      \u001b[0m | \u001b[0m-1.328e+1\u001b[0m | \u001b[0m 0.8677  \u001b[0m | \u001b[0m 0.4062  \u001b[0m | \u001b[0m 0.104   \u001b[0m | \u001b[0m 7.111   \u001b[0m | \u001b[0m 508.3   \u001b[0m | \u001b[0m 0.9784  \u001b[0m |\n",
      "| \u001b[0m 87      \u001b[0m | \u001b[0m-1.284e+1\u001b[0m | \u001b[0m 0.8238  \u001b[0m | \u001b[0m 4.471   \u001b[0m | \u001b[0m 0.3871  \u001b[0m | \u001b[0m 6.493   \u001b[0m | \u001b[0m 350.4   \u001b[0m | \u001b[0m 0.875   \u001b[0m |\n",
      "| \u001b[0m 88      \u001b[0m | \u001b[0m-1.063e+1\u001b[0m | \u001b[0m 0.6679  \u001b[0m | \u001b[0m 3.529   \u001b[0m | \u001b[0m 0.1015  \u001b[0m | \u001b[0m 4.239   \u001b[0m | \u001b[0m 624.6   \u001b[0m | \u001b[0m 0.7272  \u001b[0m |\n",
      "| \u001b[0m 89      \u001b[0m | \u001b[0m-1.191e+1\u001b[0m | \u001b[0m 0.6872  \u001b[0m | \u001b[0m 3.766   \u001b[0m | \u001b[0m 0.2388  \u001b[0m | \u001b[0m 3.922   \u001b[0m | \u001b[0m 938.6   \u001b[0m | \u001b[0m 0.804   \u001b[0m |\n",
      "| \u001b[0m 90      \u001b[0m | \u001b[0m-1.185e+1\u001b[0m | \u001b[0m 0.7264  \u001b[0m | \u001b[0m 3.309   \u001b[0m | \u001b[0m 0.2388  \u001b[0m | \u001b[0m 8.557   \u001b[0m | \u001b[0m 701.8   \u001b[0m | \u001b[0m 0.8316  \u001b[0m |\n",
      "| \u001b[0m 91      \u001b[0m | \u001b[0m-1.295e+1\u001b[0m | \u001b[0m 0.9044  \u001b[0m | \u001b[0m 4.969   \u001b[0m | \u001b[0m 0.1938  \u001b[0m | \u001b[0m 8.322   \u001b[0m | \u001b[0m 461.2   \u001b[0m | \u001b[0m 0.5292  \u001b[0m |\n",
      "| \u001b[0m 92      \u001b[0m | \u001b[0m-1.277e+1\u001b[0m | \u001b[0m 0.5095  \u001b[0m | \u001b[0m 3.902   \u001b[0m | \u001b[0m 0.3015  \u001b[0m | \u001b[0m 7.247   \u001b[0m | \u001b[0m 96.93   \u001b[0m | \u001b[0m 0.8469  \u001b[0m |\n",
      "| \u001b[0m 93      \u001b[0m | \u001b[0m-1.207e+1\u001b[0m | \u001b[0m 0.6566  \u001b[0m | \u001b[0m 0.9207  \u001b[0m | \u001b[0m 0.08165 \u001b[0m | \u001b[0m 8.152   \u001b[0m | \u001b[0m 302.6   \u001b[0m | \u001b[0m 0.7993  \u001b[0m |\n",
      "| \u001b[0m 94      \u001b[0m | \u001b[0m-1.131e+1\u001b[0m | \u001b[0m 0.7161  \u001b[0m | \u001b[0m 0.4881  \u001b[0m | \u001b[0m 0.06592 \u001b[0m | \u001b[0m 9.043   \u001b[0m | \u001b[0m 450.1   \u001b[0m | \u001b[0m 0.6109  \u001b[0m |\n",
      "| \u001b[0m 95      \u001b[0m | \u001b[0m-1.237e+1\u001b[0m | \u001b[0m 0.9628  \u001b[0m | \u001b[0m 0.6252  \u001b[0m | \u001b[0m 0.3122  \u001b[0m | \u001b[0m 3.132   \u001b[0m | \u001b[0m 922.1   \u001b[0m | \u001b[0m 0.8209  \u001b[0m |\n",
      "| \u001b[0m 96      \u001b[0m | \u001b[0m-1.066e+1\u001b[0m | \u001b[0m 0.5753  \u001b[0m | \u001b[0m 2.009   \u001b[0m | \u001b[0m 0.0142  \u001b[0m | \u001b[0m 6.281   \u001b[0m | \u001b[0m 761.7   \u001b[0m | \u001b[0m 0.5075  \u001b[0m |\n",
      "| \u001b[0m 97      \u001b[0m | \u001b[0m-1.088e+1\u001b[0m | \u001b[0m 0.9948  \u001b[0m | \u001b[0m 2.42    \u001b[0m | \u001b[0m 0.1548  \u001b[0m | \u001b[0m 4.552   \u001b[0m | \u001b[0m 862.9   \u001b[0m | \u001b[0m 0.7773  \u001b[0m |\n",
      "| \u001b[0m 98      \u001b[0m | \u001b[0m-1.159e+1\u001b[0m | \u001b[0m 0.8619  \u001b[0m | \u001b[0m 1.898   \u001b[0m | \u001b[0m 0.1388  \u001b[0m | \u001b[0m 4.236   \u001b[0m | \u001b[0m 995.4   \u001b[0m | \u001b[0m 0.8781  \u001b[0m |\n",
      "| \u001b[0m 99      \u001b[0m | \u001b[0m-1.356e+1\u001b[0m | \u001b[0m 0.6463  \u001b[0m | \u001b[0m 4.031   \u001b[0m | \u001b[0m 0.3737  \u001b[0m | \u001b[0m 8.106   \u001b[0m | \u001b[0m 716.0   \u001b[0m | \u001b[0m 0.7858  \u001b[0m |\n",
      "| \u001b[0m 100     \u001b[0m | \u001b[0m-1.117e+1\u001b[0m | \u001b[0m 0.9457  \u001b[0m | \u001b[0m 1.378   \u001b[0m | \u001b[0m 0.0672  \u001b[0m | \u001b[0m 4.102   \u001b[0m | \u001b[0m 835.6   \u001b[0m | \u001b[0m 0.8386  \u001b[0m |\n",
      "| \u001b[0m 101     \u001b[0m | \u001b[0m-1.107e+1\u001b[0m | \u001b[0m 0.8936  \u001b[0m | \u001b[0m 2.888   \u001b[0m | \u001b[0m 0.0926  \u001b[0m | \u001b[0m 3.597   \u001b[0m | \u001b[0m 763.5   \u001b[0m | \u001b[0m 0.5709  \u001b[0m |\n"
     ]
    },
    {
     "name": "stdout",
     "output_type": "stream",
     "text": [
      "| \u001b[0m 102     \u001b[0m | \u001b[0m-1.254e+1\u001b[0m | \u001b[0m 0.9627  \u001b[0m | \u001b[0m 3.993   \u001b[0m | \u001b[0m 0.06622 \u001b[0m | \u001b[0m 6.533   \u001b[0m | \u001b[0m 405.8   \u001b[0m | \u001b[0m 0.8894  \u001b[0m |\n",
      "| \u001b[0m 103     \u001b[0m | \u001b[0m-1.137e+1\u001b[0m | \u001b[0m 0.5499  \u001b[0m | \u001b[0m 0.7784  \u001b[0m | \u001b[0m 0.1716  \u001b[0m | \u001b[0m 4.159   \u001b[0m | \u001b[0m 439.3   \u001b[0m | \u001b[0m 0.6607  \u001b[0m |\n",
      "| \u001b[0m 104     \u001b[0m | \u001b[0m-1.15e+12\u001b[0m | \u001b[0m 0.7266  \u001b[0m | \u001b[0m 1.311   \u001b[0m | \u001b[0m 0.04109 \u001b[0m | \u001b[0m 6.031   \u001b[0m | \u001b[0m 896.7   \u001b[0m | \u001b[0m 0.721   \u001b[0m |\n",
      "| \u001b[0m 105     \u001b[0m | \u001b[0m-1.11e+12\u001b[0m | \u001b[0m 0.749   \u001b[0m | \u001b[0m 4.206   \u001b[0m | \u001b[0m 0.2247  \u001b[0m | \u001b[0m 5.411   \u001b[0m | \u001b[0m 417.2   \u001b[0m | \u001b[0m 0.5792  \u001b[0m |\n",
      "| \u001b[0m 106     \u001b[0m | \u001b[0m-1.381e+1\u001b[0m | \u001b[0m 0.6241  \u001b[0m | \u001b[0m 4.461   \u001b[0m | \u001b[0m 0.38    \u001b[0m | \u001b[0m 7.937   \u001b[0m | \u001b[0m 148.5   \u001b[0m | \u001b[0m 0.6827  \u001b[0m |\n",
      "| \u001b[0m 107     \u001b[0m | \u001b[0m-1.082e+1\u001b[0m | \u001b[0m 0.6074  \u001b[0m | \u001b[0m 0.1722  \u001b[0m | \u001b[0m 0.06266 \u001b[0m | \u001b[0m 9.04    \u001b[0m | \u001b[0m 918.4   \u001b[0m | \u001b[0m 0.5544  \u001b[0m |\n",
      "| \u001b[0m 108     \u001b[0m | \u001b[0m-1.306e+1\u001b[0m | \u001b[0m 0.6143  \u001b[0m | \u001b[0m 2.46    \u001b[0m | \u001b[0m 0.3953  \u001b[0m | \u001b[0m 4.499   \u001b[0m | \u001b[0m 191.6   \u001b[0m | \u001b[0m 0.7605  \u001b[0m |\n",
      "| \u001b[0m 109     \u001b[0m | \u001b[0m-1.213e+1\u001b[0m | \u001b[0m 0.522   \u001b[0m | \u001b[0m 3.492   \u001b[0m | \u001b[0m 0.3763  \u001b[0m | \u001b[0m 4.05    \u001b[0m | \u001b[0m 150.4   \u001b[0m | \u001b[0m 0.7801  \u001b[0m |\n",
      "| \u001b[0m 110     \u001b[0m | \u001b[0m-1.164e+1\u001b[0m | \u001b[0m 0.8509  \u001b[0m | \u001b[0m 0.886   \u001b[0m | \u001b[0m 0.2973  \u001b[0m | \u001b[0m 6.652   \u001b[0m | \u001b[0m 290.0   \u001b[0m | \u001b[0m 0.6633  \u001b[0m |\n",
      "=================================================================================================\n"
     ]
    }
   ],
   "source": [
    "BO_xgb.maximize(init_points = 10, n_iter = 100)"
   ]
  },
  {
   "cell_type": "code",
   "execution_count": 54,
   "metadata": {
    "colab": {
     "base_uri": "https://localhost:8080/"
    },
    "executionInfo": {
     "elapsed": 1020,
     "status": "ok",
     "timestamp": 1606875991712,
     "user": {
      "displayName": "설재형",
      "photoUrl": "",
      "userId": "14774941427314282713"
     },
     "user_tz": -540
    },
    "id": "PMMasymv7voX",
    "outputId": "c4920ede-e659-42f6-bd49-f7b5bf6f3a5b"
   },
   "outputs": [
    {
     "data": {
      "text/plain": [
       "{'target': -1061599499599.6699,\n",
       " 'params': {'colsample_bytree': 0.7622323087547037,\n",
       "  'gamma': 4.668891654884576,\n",
       "  'learning_rate': 0.0799426516186475,\n",
       "  'max_depth': 4.633081788197476,\n",
       "  'n_estimators': 881.5694627831114,\n",
       "  'subsample': 0.7463609410494453}}"
      ]
     },
     "execution_count": 54,
     "metadata": {},
     "output_type": "execute_result"
    }
   ],
   "source": [
    "BO_xgb.max"
   ]
  },
  {
   "cell_type": "code",
   "execution_count": 55,
   "metadata": {
    "id": "mfm6xc-l8CVm"
   },
   "outputs": [],
   "source": [
    "params = BO_xgb.max['params']\n",
    "params['max_depth'] = int(round(params['max_depth']))\n",
    "params['n_estimators'] = int(round(params['n_estimators']))"
   ]
  },
  {
   "cell_type": "code",
   "execution_count": 56,
   "metadata": {
    "colab": {
     "base_uri": "https://localhost:8080/"
    },
    "executionInfo": {
     "elapsed": 2915,
     "status": "ok",
     "timestamp": 1606875997639,
     "user": {
      "displayName": "설재형",
      "photoUrl": "",
      "userId": "14774941427314282713"
     },
     "user_tz": -540
    },
    "id": "a9q1RDUV8GFH",
    "outputId": "06310a6d-baef-4b4b-9697-9e57d95c4203"
   },
   "outputs": [
    {
     "data": {
      "text/plain": [
       "XGBRegressor(base_score=0.5, booster='gbtree', colsample_bylevel=1,\n",
       "             colsample_bynode=1, colsample_bytree=0.7622323087547037,\n",
       "             gamma=4.668891654884576, gpu_id=-1, importance_type='gain',\n",
       "             interaction_constraints='', learning_rate=0.0799426516186475,\n",
       "             max_delta_step=0, max_depth=5, min_child_weight=1, missing=nan,\n",
       "             monotone_constraints='()', n_estimators=882, n_jobs=8,\n",
       "             num_parallel_tree=1, random_state=777, reg_alpha=0, reg_lambda=1,\n",
       "             scale_pos_weight=1, subsample=0.7463609410494453,\n",
       "             tree_method='exact', validate_parameters=1, verbosity=None)"
      ]
     },
     "execution_count": 56,
     "metadata": {},
     "output_type": "execute_result"
    }
   ],
   "source": [
    "final_xgb=xgb.XGBRegressor(random_state = 777, **params)\n",
    "final_xgb.fit(x_train, y_train)"
   ]
  },
  {
   "cell_type": "code",
   "execution_count": 57,
   "metadata": {
    "id": "KU2uiOIJ8vjG"
   },
   "outputs": [],
   "source": [
    "finalxgb = show_test_data.copy()\n",
    "finalxgb['num_off_box'] = final_xgb.predict(x_test)"
   ]
  },
  {
   "cell_type": "code",
   "execution_count": 58,
   "metadata": {
    "colab": {
     "base_uri": "https://localhost:8080/"
    },
    "executionInfo": {
     "elapsed": 1246,
     "status": "ok",
     "timestamp": 1606876002726,
     "user": {
      "displayName": "설재형",
      "photoUrl": "",
      "userId": "14774941427314282713"
     },
     "user_tz": -540
    },
    "id": "y18b1bAj9ZFF",
    "outputId": "1f669167-03d5-4c2c-e558-48e31066510e"
   },
   "outputs": [
    {
     "name": "stdout",
     "output_type": "stream",
     "text": [
      "파라미터 조정후 XGB 모델의 Mean_Squared_Error =  439073119270.50684\n",
      "파라미터 조정후 XGB 모델의 RMSE =  662625.9271040538\n",
      "파라미터 조정후 XGB 모델의 결정계수 = 0.8552662146791739\n"
     ]
    }
   ],
   "source": [
    "print('파라미터 조정후 XGB 모델의 Mean_Squared_Error = ', mean_squared_error(movie_data_test['num_off_box'], finalxgb['num_off_box']))\n",
    "print('파라미터 조정후 XGB 모델의 RMSE = ',  mean_squared_error(movie_data_test['num_off_box'], finalxgb['num_off_box'])**0.5)\n",
    "print(\"파라미터 조정후 XGB 모델의 결정계수 =\", r2_score(movie_data_test['num_off_box'], finalxgb['num_off_box']))"
   ]
  },
  {
   "cell_type": "markdown",
   "metadata": {
    "id": "05_M069lpjCF"
   },
   "source": [
    "# LGBMRegressor + BayesianOptimization"
   ]
  },
  {
   "cell_type": "code",
   "execution_count": 59,
   "metadata": {
    "id": "RmVi4rSQW1HZ"
   },
   "outputs": [],
   "source": [
    "pbounds = { 'learning_rate': (0.0005, 0.2),\n",
    "            'n_estimators': (10, 1000),\n",
    "            'max_depth': (3,10),   \n",
    "            'subsample': (0.5,1), \n",
    "            'colsample_bytree': (0.5,1),   \n",
    "            'num_leaves': (2,16),\n",
    "            'min_child_weight': (1, 10)}\n",
    "\n",
    "\n",
    "def lgbm_opt(learning_rate, n_estimators, max_depth, subsample, colsample_bytree, num_leaves, min_child_weight):\n",
    "\n",
    "    params = {\n",
    "        'learning_rate': learning_rate,               # 학습률\n",
    "        'n_estimators' : int(round(n_estimators)),    # 생성할 tree의 갯수\n",
    "        'max_depth' : int(round(max_depth)),          # 최대 깊이\n",
    "        'subsample': subsample,                       # 각 트리마다의 관측 데이터 샘플링 비율\n",
    "        'colsample_bytree' : colsample_bytree,        # 각 트리마다의 feature 샘플링 비율\n",
    "        'num_leaves' : int(round(num_leaves)),        # 노드의 개수\n",
    "        'min_child_weight' : min_child_weight,        # child의 관측에서 요구되는 최소 가중치의 합\n",
    "        'n_jobs' : -1                                 # cpu 사용 개수 (-1 이면 있는거 다 사용)\n",
    "    }\n",
    "    \n",
    "    m_lgb = lgb.LGBMRegressor(**params)\n",
    "    \n",
    "    kf = KFold(n_splits=5 , shuffle=True, random_state=50)\n",
    "\n",
    "    score = cross_val_score(m_lgb, x_train, y_train, scoring='neg_mean_squared_error', cv=kf, n_jobs=-1)\n",
    "    \n",
    "    return np.mean(score)\n",
    "\n",
    "BO_lgbm = BayesianOptimization(f = lgbm_opt, pbounds = pbounds, random_state=1)  "
   ]
  },
  {
   "cell_type": "code",
   "execution_count": 60,
   "metadata": {
    "colab": {
     "base_uri": "https://localhost:8080/"
    },
    "executionInfo": {
     "elapsed": 134352,
     "status": "ok",
     "timestamp": 1606876874576,
     "user": {
      "displayName": "설재형",
      "photoUrl": "",
      "userId": "14774941427314282713"
     },
     "user_tz": -540
    },
    "id": "vTB7kmg41L2-",
    "outputId": "00160c21-488f-4113-b93b-4633f772a230"
   },
   "outputs": [
    {
     "name": "stdout",
     "output_type": "stream",
     "text": [
      "|   iter    |  target   | colsam... | learni... | max_depth | min_ch... | n_esti... | num_le... | subsample |\n",
      "-------------------------------------------------------------------------------------------------------------\n",
      "| \u001b[0m 1       \u001b[0m | \u001b[0m-1.212e+1\u001b[0m | \u001b[0m 0.7085  \u001b[0m | \u001b[0m 0.1442  \u001b[0m | \u001b[0m 3.001   \u001b[0m | \u001b[0m 3.721   \u001b[0m | \u001b[0m 155.3   \u001b[0m | \u001b[0m 3.293   \u001b[0m | \u001b[0m 0.5931  \u001b[0m |\n",
      "| \u001b[95m 2       \u001b[0m | \u001b[95m-1.174e+1\u001b[0m | \u001b[95m 0.6728  \u001b[0m | \u001b[95m 0.07966 \u001b[0m | \u001b[95m 6.772   \u001b[0m | \u001b[95m 4.773   \u001b[0m | \u001b[95m 688.4   \u001b[0m | \u001b[95m 4.862   \u001b[0m | \u001b[95m 0.9391  \u001b[0m |\n",
      "| \u001b[0m 3       \u001b[0m | \u001b[0m-1.208e+1\u001b[0m | \u001b[0m 0.5137  \u001b[0m | \u001b[0m 0.1343  \u001b[0m | \u001b[0m 5.921   \u001b[0m | \u001b[0m 6.028   \u001b[0m | \u001b[0m 149.0   \u001b[0m | \u001b[0m 4.773   \u001b[0m | \u001b[0m 0.9004  \u001b[0m |\n",
      "| \u001b[0m 4       \u001b[0m | \u001b[0m-1.203e+1\u001b[0m | \u001b[0m 0.9841  \u001b[0m | \u001b[0m 0.06303 \u001b[0m | \u001b[0m 7.846   \u001b[0m | \u001b[0m 8.888   \u001b[0m | \u001b[0m 895.7   \u001b[0m | \u001b[0m 3.191   \u001b[0m | \u001b[0m 0.5195  \u001b[0m |\n",
      "| \u001b[0m 5       \u001b[0m | \u001b[0m-1.3e+12 \u001b[0m | \u001b[0m 0.5849  \u001b[0m | \u001b[0m 0.1757  \u001b[0m | \u001b[0m 3.688   \u001b[0m | \u001b[0m 4.79    \u001b[0m | \u001b[0m 958.3   \u001b[0m | \u001b[0m 9.464   \u001b[0m | \u001b[0m 0.8459  \u001b[0m |\n",
      "| \u001b[0m 6       \u001b[0m | \u001b[0m-1.303e+1\u001b[0m | \u001b[0m 0.6578  \u001b[0m | \u001b[0m 0.1375  \u001b[0m | \u001b[0m 8.842   \u001b[0m | \u001b[0m 1.165   \u001b[0m | \u001b[0m 752.6   \u001b[0m | \u001b[0m 15.84   \u001b[0m | \u001b[0m 0.8741  \u001b[0m |\n",
      "| \u001b[0m 7       \u001b[0m | \u001b[0m-1.26e+12\u001b[0m | \u001b[0m 0.6402  \u001b[0m | \u001b[0m 0.158   \u001b[0m | \u001b[0m 3.723   \u001b[0m | \u001b[0m 5.031   \u001b[0m | \u001b[0m 909.5   \u001b[0m | \u001b[0m 6.111   \u001b[0m | \u001b[0m 0.6439  \u001b[0m |\n",
      "| \u001b[0m 8       \u001b[0m | \u001b[0m-1.843e+1\u001b[0m | \u001b[0m 0.565   \u001b[0m | \u001b[0m 0.004364\u001b[0m | \u001b[0m 7.752   \u001b[0m | \u001b[0m 2.905   \u001b[0m | \u001b[0m 272.9   \u001b[0m | \u001b[0m 8.882   \u001b[0m | \u001b[0m 0.5267  \u001b[0m |\n",
      "| \u001b[0m 9       \u001b[0m | \u001b[0m-1.252e+1\u001b[0m | \u001b[0m 0.7871  \u001b[0m | \u001b[0m 0.02977 \u001b[0m | \u001b[0m 7.125   \u001b[0m | \u001b[0m 7.298   \u001b[0m | \u001b[0m 111.3   \u001b[0m | \u001b[0m 7.797   \u001b[0m | \u001b[0m 0.8472  \u001b[0m |\n",
      "| \u001b[95m 10      \u001b[0m | \u001b[95m-1.166e+1\u001b[0m | \u001b[95m 0.7071  \u001b[0m | \u001b[95m 0.01047 \u001b[0m | \u001b[95m 6.751   \u001b[0m | \u001b[95m 6.974   \u001b[0m | \u001b[95m 519.7   \u001b[0m | \u001b[95m 15.22   \u001b[0m | \u001b[95m 0.7933  \u001b[0m |\n",
      "| \u001b[0m 11      \u001b[0m | \u001b[0m-1.265e+1\u001b[0m | \u001b[0m 0.9373  \u001b[0m | \u001b[0m 0.09076 \u001b[0m | \u001b[0m 5.894   \u001b[0m | \u001b[0m 6.404   \u001b[0m | \u001b[0m 520.3   \u001b[0m | \u001b[0m 15.57   \u001b[0m | \u001b[0m 0.9721  \u001b[0m |\n",
      "| \u001b[0m 12      \u001b[0m | \u001b[0m-1.281e+1\u001b[0m | \u001b[0m 0.6094  \u001b[0m | \u001b[0m 0.1923  \u001b[0m | \u001b[0m 9.301   \u001b[0m | \u001b[0m 7.719   \u001b[0m | \u001b[0m 517.1   \u001b[0m | \u001b[0m 14.11   \u001b[0m | \u001b[0m 0.7957  \u001b[0m |\n",
      "| \u001b[0m 13      \u001b[0m | \u001b[0m-1.273e+1\u001b[0m | \u001b[0m 0.8975  \u001b[0m | \u001b[0m 0.1396  \u001b[0m | \u001b[0m 7.76    \u001b[0m | \u001b[0m 9.391   \u001b[0m | \u001b[0m 520.9   \u001b[0m | \u001b[0m 13.56   \u001b[0m | \u001b[0m 0.9496  \u001b[0m |\n",
      "| \u001b[0m 14      \u001b[0m | \u001b[0m-1.168e+1\u001b[0m | \u001b[0m 0.6694  \u001b[0m | \u001b[0m 0.1185  \u001b[0m | \u001b[0m 6.513   \u001b[0m | \u001b[0m 2.19    \u001b[0m | \u001b[0m 691.4   \u001b[0m | \u001b[0m 5.056   \u001b[0m | \u001b[0m 0.9682  \u001b[0m |\n",
      "| \u001b[0m 15      \u001b[0m | \u001b[0m-1.172e+1\u001b[0m | \u001b[0m 0.7134  \u001b[0m | \u001b[0m 0.05411 \u001b[0m | \u001b[0m 4.704   \u001b[0m | \u001b[0m 6.1     \u001b[0m | \u001b[0m 692.1   \u001b[0m | \u001b[0m 4.873   \u001b[0m | \u001b[0m 0.7819  \u001b[0m |\n",
      "| \u001b[0m 16      \u001b[0m | \u001b[0m-1.273e+1\u001b[0m | \u001b[0m 0.6907  \u001b[0m | \u001b[0m 0.1303  \u001b[0m | \u001b[0m 6.211   \u001b[0m | \u001b[0m 4.688   \u001b[0m | \u001b[0m 690.8   \u001b[0m | \u001b[0m 9.059   \u001b[0m | \u001b[0m 0.6475  \u001b[0m |\n",
      "| \u001b[0m 17      \u001b[0m | \u001b[0m-3.725e+1\u001b[0m | \u001b[0m 1.0     \u001b[0m | \u001b[0m 0.0005  \u001b[0m | \u001b[0m 8.153   \u001b[0m | \u001b[0m 5.085   \u001b[0m | \u001b[0m 691.8   \u001b[0m | \u001b[0m 2.0     \u001b[0m | \u001b[0m 1.0     \u001b[0m |\n",
      "| \u001b[0m 18      \u001b[0m | \u001b[0m-1.225e+1\u001b[0m | \u001b[0m 0.5047  \u001b[0m | \u001b[0m 0.126   \u001b[0m | \u001b[0m 4.641   \u001b[0m | \u001b[0m 3.953   \u001b[0m | \u001b[0m 690.1   \u001b[0m | \u001b[0m 6.157   \u001b[0m | \u001b[0m 0.858   \u001b[0m |\n",
      "| \u001b[0m 19      \u001b[0m | \u001b[0m-1.256e+1\u001b[0m | \u001b[0m 0.7432  \u001b[0m | \u001b[0m 0.1528  \u001b[0m | \u001b[0m 6.246   \u001b[0m | \u001b[0m 2.49    \u001b[0m | \u001b[0m 687.6   \u001b[0m | \u001b[0m 6.252   \u001b[0m | \u001b[0m 0.5223  \u001b[0m |\n",
      "| \u001b[0m 20      \u001b[0m | \u001b[0m-1.189e+1\u001b[0m | \u001b[0m 0.6494  \u001b[0m | \u001b[0m 0.06659 \u001b[0m | \u001b[0m 4.574   \u001b[0m | \u001b[0m 7.559   \u001b[0m | \u001b[0m 689.2   \u001b[0m | \u001b[0m 6.546   \u001b[0m | \u001b[0m 0.6422  \u001b[0m |\n",
      "| \u001b[0m 21      \u001b[0m | \u001b[0m-1.245e+1\u001b[0m | \u001b[0m 0.5     \u001b[0m | \u001b[0m 0.1036  \u001b[0m | \u001b[0m 6.843   \u001b[0m | \u001b[0m 6.253   \u001b[0m | \u001b[0m 686.4   \u001b[0m | \u001b[0m 7.337   \u001b[0m | \u001b[0m 1.0     \u001b[0m |\n",
      "| \u001b[0m 22      \u001b[0m | \u001b[0m-1.189e+1\u001b[0m | \u001b[0m 0.6793  \u001b[0m | \u001b[0m 0.05181 \u001b[0m | \u001b[0m 6.959   \u001b[0m | \u001b[0m 1.242   \u001b[0m | \u001b[0m 693.2   \u001b[0m | \u001b[0m 7.895   \u001b[0m | \u001b[0m 0.7402  \u001b[0m |\n",
      "| \u001b[0m 23      \u001b[0m | \u001b[0m-1.214e+1\u001b[0m | \u001b[0m 0.5     \u001b[0m | \u001b[0m 0.08818 \u001b[0m | \u001b[0m 3.0     \u001b[0m | \u001b[0m 6.899   \u001b[0m | \u001b[0m 693.2   \u001b[0m | \u001b[0m 7.494   \u001b[0m | \u001b[0m 0.5502  \u001b[0m |\n",
      "| \u001b[0m 24      \u001b[0m | \u001b[0m-1.187e+1\u001b[0m | \u001b[0m 0.573   \u001b[0m | \u001b[0m 0.1457  \u001b[0m | \u001b[0m 6.244   \u001b[0m | \u001b[0m 5.159   \u001b[0m | \u001b[0m 153.3   \u001b[0m | \u001b[0m 5.169   \u001b[0m | \u001b[0m 0.8636  \u001b[0m |\n",
      "| \u001b[0m 25      \u001b[0m | \u001b[0m-1.179e+1\u001b[0m | \u001b[0m 0.6544  \u001b[0m | \u001b[0m 0.04085 \u001b[0m | \u001b[0m 3.985   \u001b[0m | \u001b[0m 3.731   \u001b[0m | \u001b[0m 695.7   \u001b[0m | \u001b[0m 6.997   \u001b[0m | \u001b[0m 0.9114  \u001b[0m |\n",
      "| \u001b[0m 26      \u001b[0m | \u001b[0m-1.262e+1\u001b[0m | \u001b[0m 0.9099  \u001b[0m | \u001b[0m 0.01982 \u001b[0m | \u001b[0m 3.718   \u001b[0m | \u001b[0m 6.515   \u001b[0m | \u001b[0m 151.4   \u001b[0m | \u001b[0m 8.284   \u001b[0m | \u001b[0m 0.5327  \u001b[0m |\n",
      "| \u001b[0m 27      \u001b[0m | \u001b[0m-1.196e+1\u001b[0m | \u001b[0m 0.7748  \u001b[0m | \u001b[0m 0.07024 \u001b[0m | \u001b[0m 4.371   \u001b[0m | \u001b[0m 6.904   \u001b[0m | \u001b[0m 684.9   \u001b[0m | \u001b[0m 4.163   \u001b[0m | \u001b[0m 0.8807  \u001b[0m |\n",
      "| \u001b[0m 28      \u001b[0m | \u001b[0m-1.17e+12\u001b[0m | \u001b[0m 0.6152  \u001b[0m | \u001b[0m 0.1533  \u001b[0m | \u001b[0m 4.249   \u001b[0m | \u001b[0m 8.851   \u001b[0m | \u001b[0m 153.0   \u001b[0m | \u001b[0m 5.044   \u001b[0m | \u001b[0m 0.9797  \u001b[0m |\n",
      "| \u001b[0m 29      \u001b[0m | \u001b[0m-1.308e+1\u001b[0m | \u001b[0m 0.6888  \u001b[0m | \u001b[0m 0.06321 \u001b[0m | \u001b[0m 8.402   \u001b[0m | \u001b[0m 8.46    \u001b[0m | \u001b[0m 152.2   \u001b[0m | \u001b[0m 3.199   \u001b[0m | \u001b[0m 0.6839  \u001b[0m |\n",
      "| \u001b[0m 30      \u001b[0m | \u001b[0m-4.489e+1\u001b[0m | \u001b[0m 0.5     \u001b[0m | \u001b[0m 0.0005  \u001b[0m | \u001b[0m 3.832   \u001b[0m | \u001b[0m 6.837   \u001b[0m | \u001b[0m 156.4   \u001b[0m | \u001b[0m 6.392   \u001b[0m | \u001b[0m 0.5     \u001b[0m |\n",
      "| \u001b[0m 31      \u001b[0m | \u001b[0m-1.194e+1\u001b[0m | \u001b[0m 0.5112  \u001b[0m | \u001b[0m 0.1296  \u001b[0m | \u001b[0m 5.555   \u001b[0m | \u001b[0m 8.683   \u001b[0m | \u001b[0m 148.4   \u001b[0m | \u001b[0m 7.176   \u001b[0m | \u001b[0m 0.78    \u001b[0m |\n",
      "| \u001b[0m 32      \u001b[0m | \u001b[0m-1.209e+1\u001b[0m | \u001b[0m 0.6852  \u001b[0m | \u001b[0m 0.1285  \u001b[0m | \u001b[0m 3.722   \u001b[0m | \u001b[0m 2.033   \u001b[0m | \u001b[0m 692.9   \u001b[0m | \u001b[0m 5.574   \u001b[0m | \u001b[0m 0.9949  \u001b[0m |\n",
      "| \u001b[0m 33      \u001b[0m | \u001b[0m-1.176e+1\u001b[0m | \u001b[0m 0.7774  \u001b[0m | \u001b[0m 0.1802  \u001b[0m | \u001b[0m 7.084   \u001b[0m | \u001b[0m 3.381   \u001b[0m | \u001b[0m 151.0   \u001b[0m | \u001b[0m 7.417   \u001b[0m | \u001b[0m 0.8744  \u001b[0m |\n",
      "| \u001b[95m 34      \u001b[0m | \u001b[95m-1.162e+1\u001b[0m | \u001b[95m 0.8678  \u001b[0m | \u001b[95m 0.07613 \u001b[0m | \u001b[95m 3.474   \u001b[0m | \u001b[95m 9.948   \u001b[0m | \u001b[95m 149.5   \u001b[0m | \u001b[95m 5.142   \u001b[0m | \u001b[95m 0.6779  \u001b[0m |\n",
      "| \u001b[0m 35      \u001b[0m | \u001b[0m-1.252e+1\u001b[0m | \u001b[0m 0.7387  \u001b[0m | \u001b[0m 0.09283 \u001b[0m | \u001b[0m 3.155   \u001b[0m | \u001b[0m 3.101   \u001b[0m | \u001b[0m 150.9   \u001b[0m | \u001b[0m 2.628   \u001b[0m | \u001b[0m 0.9883  \u001b[0m |\n",
      "| \u001b[0m 36      \u001b[0m | \u001b[0m-1.556e+1\u001b[0m | \u001b[0m 0.5771  \u001b[0m | \u001b[0m 0.1349  \u001b[0m | \u001b[0m 6.968   \u001b[0m | \u001b[0m 1.505   \u001b[0m | \u001b[0m 151.4   \u001b[0m | \u001b[0m 2.453   \u001b[0m | \u001b[0m 0.7348  \u001b[0m |\n",
      "| \u001b[0m 37      \u001b[0m | \u001b[0m-1.58e+12\u001b[0m | \u001b[0m 0.7014  \u001b[0m | \u001b[0m 0.04632 \u001b[0m | \u001b[0m 3.691   \u001b[0m | \u001b[0m 6.506   \u001b[0m | \u001b[0m 150.7   \u001b[0m | \u001b[0m 2.367   \u001b[0m | \u001b[0m 0.5214  \u001b[0m |\n",
      "| \u001b[0m 38      \u001b[0m | \u001b[0m-1.165e+1\u001b[0m | \u001b[0m 0.8172  \u001b[0m | \u001b[0m 0.1523  \u001b[0m | \u001b[0m 6.641   \u001b[0m | \u001b[0m 7.898   \u001b[0m | \u001b[0m 150.7   \u001b[0m | \u001b[0m 6.384   \u001b[0m | \u001b[0m 0.6457  \u001b[0m |\n",
      "| \u001b[95m 39      \u001b[0m | \u001b[95m-1.16e+12\u001b[0m | \u001b[95m 0.6406  \u001b[0m | \u001b[95m 0.08282 \u001b[0m | \u001b[95m 9.886   \u001b[0m | \u001b[95m 5.675   \u001b[0m | \u001b[95m 151.8   \u001b[0m | \u001b[95m 5.57    \u001b[0m | \u001b[95m 0.8618  \u001b[0m |\n",
      "| \u001b[0m 40      \u001b[0m | \u001b[0m-1.197e+1\u001b[0m | \u001b[0m 0.5208  \u001b[0m | \u001b[0m 0.09037 \u001b[0m | \u001b[0m 3.328   \u001b[0m | \u001b[0m 2.656   \u001b[0m | \u001b[0m 149.2   \u001b[0m | \u001b[0m 7.397   \u001b[0m | \u001b[0m 0.9137  \u001b[0m |\n",
      "| \u001b[0m 41      \u001b[0m | \u001b[0m-1.178e+1\u001b[0m | \u001b[0m 0.7372  \u001b[0m | \u001b[0m 0.188   \u001b[0m | \u001b[0m 6.204   \u001b[0m | \u001b[0m 5.419   \u001b[0m | \u001b[0m 147.5   \u001b[0m | \u001b[0m 10.02   \u001b[0m | \u001b[0m 0.8846  \u001b[0m |\n",
      "| \u001b[0m 42      \u001b[0m | \u001b[0m-1.181e+1\u001b[0m | \u001b[0m 0.6751  \u001b[0m | \u001b[0m 0.1281  \u001b[0m | \u001b[0m 3.928   \u001b[0m | \u001b[0m 3.172   \u001b[0m | \u001b[0m 149.3   \u001b[0m | \u001b[0m 12.61   \u001b[0m | \u001b[0m 0.9681  \u001b[0m |\n",
      "| \u001b[0m 43      \u001b[0m | \u001b[0m-3.283e+1\u001b[0m | \u001b[0m 0.6024  \u001b[0m | \u001b[0m 0.002337\u001b[0m | \u001b[0m 7.742   \u001b[0m | \u001b[0m 3.504   \u001b[0m | \u001b[0m 150.7   \u001b[0m | \u001b[0m 12.19   \u001b[0m | \u001b[0m 0.9415  \u001b[0m |\n",
      "| \u001b[0m 44      \u001b[0m | \u001b[0m-1.2e+12 \u001b[0m | \u001b[0m 0.8598  \u001b[0m | \u001b[0m 0.1521  \u001b[0m | \u001b[0m 3.148   \u001b[0m | \u001b[0m 3.833   \u001b[0m | \u001b[0m 145.8   \u001b[0m | \u001b[0m 13.17   \u001b[0m | \u001b[0m 0.8323  \u001b[0m |\n"
     ]
    },
    {
     "name": "stdout",
     "output_type": "stream",
     "text": [
      "| \u001b[0m 45      \u001b[0m | \u001b[0m-2.576e+1\u001b[0m | \u001b[0m 0.9013  \u001b[0m | \u001b[0m 0.003962\u001b[0m | \u001b[0m 5.149   \u001b[0m | \u001b[0m 5.37    \u001b[0m | \u001b[0m 144.6   \u001b[0m | \u001b[0m 9.998   \u001b[0m | \u001b[0m 0.583   \u001b[0m |\n",
      "| \u001b[0m 46      \u001b[0m | \u001b[0m-1.291e+1\u001b[0m | \u001b[0m 0.9067  \u001b[0m | \u001b[0m 0.1716  \u001b[0m | \u001b[0m 5.977   \u001b[0m | \u001b[0m 4.817   \u001b[0m | \u001b[0m 693.7   \u001b[0m | \u001b[0m 6.776   \u001b[0m | \u001b[0m 0.7885  \u001b[0m |\n",
      "| \u001b[0m 47      \u001b[0m | \u001b[0m-3.422e+1\u001b[0m | \u001b[0m 0.5     \u001b[0m | \u001b[0m 0.0005  \u001b[0m | \u001b[0m 3.739   \u001b[0m | \u001b[0m 5.082   \u001b[0m | \u001b[0m 686.9   \u001b[0m | \u001b[0m 5.823   \u001b[0m | \u001b[0m 1.0     \u001b[0m |\n",
      "| \u001b[0m 48      \u001b[0m | \u001b[0m-1.187e+1\u001b[0m | \u001b[0m 0.7781  \u001b[0m | \u001b[0m 0.1073  \u001b[0m | \u001b[0m 8.362   \u001b[0m | \u001b[0m 5.147   \u001b[0m | \u001b[0m 150.9   \u001b[0m | \u001b[0m 5.637   \u001b[0m | \u001b[0m 0.8298  \u001b[0m |\n",
      "| \u001b[0m 49      \u001b[0m | \u001b[0m-1.166e+1\u001b[0m | \u001b[0m 0.7331  \u001b[0m | \u001b[0m 0.1349  \u001b[0m | \u001b[0m 5.014   \u001b[0m | \u001b[0m 4.62    \u001b[0m | \u001b[0m 150.5   \u001b[0m | \u001b[0m 7.94    \u001b[0m | \u001b[0m 0.9025  \u001b[0m |\n",
      "| \u001b[0m 50      \u001b[0m | \u001b[0m-1.288e+1\u001b[0m | \u001b[0m 0.5     \u001b[0m | \u001b[0m 0.2     \u001b[0m | \u001b[0m 5.104   \u001b[0m | \u001b[0m 6.452   \u001b[0m | \u001b[0m 691.4   \u001b[0m | \u001b[0m 7.194   \u001b[0m | \u001b[0m 0.5     \u001b[0m |\n",
      "| \u001b[0m 51      \u001b[0m | \u001b[0m-1.163e+1\u001b[0m | \u001b[0m 0.9856  \u001b[0m | \u001b[0m 0.08466 \u001b[0m | \u001b[0m 5.534   \u001b[0m | \u001b[0m 9.242   \u001b[0m | \u001b[0m 149.6   \u001b[0m | \u001b[0m 3.855   \u001b[0m | \u001b[0m 0.7431  \u001b[0m |\n",
      "| \u001b[95m 52      \u001b[0m | \u001b[95m-1.144e+1\u001b[0m | \u001b[95m 0.9913  \u001b[0m | \u001b[95m 0.1944  \u001b[0m | \u001b[95m 8.482   \u001b[0m | \u001b[95m 7.372   \u001b[0m | \u001b[95m 148.1   \u001b[0m | \u001b[95m 5.487   \u001b[0m | \u001b[95m 0.5319  \u001b[0m |\n",
      "| \u001b[0m 53      \u001b[0m | \u001b[0m-1.247e+1\u001b[0m | \u001b[0m 0.5477  \u001b[0m | \u001b[0m 0.08528 \u001b[0m | \u001b[0m 8.136   \u001b[0m | \u001b[0m 7.456   \u001b[0m | \u001b[0m 689.1   \u001b[0m | \u001b[0m 7.468   \u001b[0m | \u001b[0m 0.6555  \u001b[0m |\n",
      "| \u001b[0m 54      \u001b[0m | \u001b[0m-2.08e+12\u001b[0m | \u001b[0m 0.9088  \u001b[0m | \u001b[0m 0.005996\u001b[0m | \u001b[0m 6.325   \u001b[0m | \u001b[0m 3.906   \u001b[0m | \u001b[0m 148.0   \u001b[0m | \u001b[0m 7.075   \u001b[0m | \u001b[0m 0.5819  \u001b[0m |\n",
      "| \u001b[0m 55      \u001b[0m | \u001b[0m-1.15e+12\u001b[0m | \u001b[0m 0.5758  \u001b[0m | \u001b[0m 0.08102 \u001b[0m | \u001b[0m 4.768   \u001b[0m | \u001b[0m 7.917   \u001b[0m | \u001b[0m 151.2   \u001b[0m | \u001b[0m 5.489   \u001b[0m | \u001b[0m 0.6752  \u001b[0m |\n",
      "| \u001b[0m 56      \u001b[0m | \u001b[0m-1.198e+1\u001b[0m | \u001b[0m 0.9894  \u001b[0m | \u001b[0m 0.1549  \u001b[0m | \u001b[0m 5.812   \u001b[0m | \u001b[0m 8.53    \u001b[0m | \u001b[0m 683.7   \u001b[0m | \u001b[0m 3.342   \u001b[0m | \u001b[0m 0.7583  \u001b[0m |\n",
      "| \u001b[0m 57      \u001b[0m | \u001b[0m-1.268e+1\u001b[0m | \u001b[0m 0.5     \u001b[0m | \u001b[0m 0.2     \u001b[0m | \u001b[0m 7.914   \u001b[0m | \u001b[0m 3.459   \u001b[0m | \u001b[0m 689.6   \u001b[0m | \u001b[0m 6.966   \u001b[0m | \u001b[0m 1.0     \u001b[0m |\n",
      "| \u001b[0m 58      \u001b[0m | \u001b[0m-1.207e+1\u001b[0m | \u001b[0m 0.862   \u001b[0m | \u001b[0m 0.1127  \u001b[0m | \u001b[0m 8.219   \u001b[0m | \u001b[0m 7.693   \u001b[0m | \u001b[0m 685.4   \u001b[0m | \u001b[0m 4.32    \u001b[0m | \u001b[0m 0.5689  \u001b[0m |\n",
      "| \u001b[0m 59      \u001b[0m | \u001b[0m-1.2e+12 \u001b[0m | \u001b[0m 0.9352  \u001b[0m | \u001b[0m 0.1109  \u001b[0m | \u001b[0m 4.663   \u001b[0m | \u001b[0m 1.867   \u001b[0m | \u001b[0m 151.7   \u001b[0m | \u001b[0m 5.946   \u001b[0m | \u001b[0m 0.8068  \u001b[0m |\n",
      "| \u001b[0m 60      \u001b[0m | \u001b[0m-1.167e+1\u001b[0m | \u001b[0m 0.6094  \u001b[0m | \u001b[0m 0.08617 \u001b[0m | \u001b[0m 4.151   \u001b[0m | \u001b[0m 1.405   \u001b[0m | \u001b[0m 692.0   \u001b[0m | \u001b[0m 9.165   \u001b[0m | \u001b[0m 0.5653  \u001b[0m |\n",
      "| \u001b[0m 61      \u001b[0m | \u001b[0m-1.271e+1\u001b[0m | \u001b[0m 1.0     \u001b[0m | \u001b[0m 0.2     \u001b[0m | \u001b[0m 9.18    \u001b[0m | \u001b[0m 4.719   \u001b[0m | \u001b[0m 686.6   \u001b[0m | \u001b[0m 5.883   \u001b[0m | \u001b[0m 0.5     \u001b[0m |\n",
      "| \u001b[0m 62      \u001b[0m | \u001b[0m-1.232e+1\u001b[0m | \u001b[0m 0.6888  \u001b[0m | \u001b[0m 0.1292  \u001b[0m | \u001b[0m 5.036   \u001b[0m | \u001b[0m 1.89    \u001b[0m | \u001b[0m 695.9   \u001b[0m | \u001b[0m 9.578   \u001b[0m | \u001b[0m 0.6067  \u001b[0m |\n",
      "| \u001b[0m 63      \u001b[0m | \u001b[0m-1.226e+1\u001b[0m | \u001b[0m 0.8453  \u001b[0m | \u001b[0m 0.1237  \u001b[0m | \u001b[0m 5.641   \u001b[0m | \u001b[0m 9.961   \u001b[0m | \u001b[0m 684.3   \u001b[0m | \u001b[0m 6.771   \u001b[0m | \u001b[0m 0.9769  \u001b[0m |\n",
      "| \u001b[0m 64      \u001b[0m | \u001b[0m-1.248e+1\u001b[0m | \u001b[0m 0.5699  \u001b[0m | \u001b[0m 0.005939\u001b[0m | \u001b[0m 7.477   \u001b[0m | \u001b[0m 7.503   \u001b[0m | \u001b[0m 682.9   \u001b[0m | \u001b[0m 7.036   \u001b[0m | \u001b[0m 0.5069  \u001b[0m |\n",
      "| \u001b[0m 65      \u001b[0m | \u001b[0m-1.195e+1\u001b[0m | \u001b[0m 0.6535  \u001b[0m | \u001b[0m 0.1079  \u001b[0m | \u001b[0m 3.91    \u001b[0m | \u001b[0m 9.949   \u001b[0m | \u001b[0m 691.8   \u001b[0m | \u001b[0m 6.603   \u001b[0m | \u001b[0m 0.9162  \u001b[0m |\n",
      "| \u001b[0m 66      \u001b[0m | \u001b[0m-1.621e+1\u001b[0m | \u001b[0m 0.7783  \u001b[0m | \u001b[0m 0.002537\u001b[0m | \u001b[0m 4.144   \u001b[0m | \u001b[0m 5.862   \u001b[0m | \u001b[0m 681.4   \u001b[0m | \u001b[0m 3.627   \u001b[0m | \u001b[0m 0.6239  \u001b[0m |\n",
      "| \u001b[0m 67      \u001b[0m | \u001b[0m-1.237e+1\u001b[0m | \u001b[0m 0.9778  \u001b[0m | \u001b[0m 0.138   \u001b[0m | \u001b[0m 5.537   \u001b[0m | \u001b[0m 9.541   \u001b[0m | \u001b[0m 687.2   \u001b[0m | \u001b[0m 2.863   \u001b[0m | \u001b[0m 0.8753  \u001b[0m |\n",
      "| \u001b[0m 68      \u001b[0m | \u001b[0m-1.235e+1\u001b[0m | \u001b[0m 0.833   \u001b[0m | \u001b[0m 0.1484  \u001b[0m | \u001b[0m 9.846   \u001b[0m | \u001b[0m 8.673   \u001b[0m | \u001b[0m 148.2   \u001b[0m | \u001b[0m 2.778   \u001b[0m | \u001b[0m 0.5803  \u001b[0m |\n",
      "| \u001b[0m 69      \u001b[0m | \u001b[0m-1.276e+1\u001b[0m | \u001b[0m 0.5     \u001b[0m | \u001b[0m 0.2     \u001b[0m | \u001b[0m 5.631   \u001b[0m | \u001b[0m 1.0     \u001b[0m | \u001b[0m 695.7   \u001b[0m | \u001b[0m 6.013   \u001b[0m | \u001b[0m 0.5     \u001b[0m |\n",
      "| \u001b[0m 70      \u001b[0m | \u001b[0m-1.182e+1\u001b[0m | \u001b[0m 0.5852  \u001b[0m | \u001b[0m 0.08523 \u001b[0m | \u001b[0m 3.078   \u001b[0m | \u001b[0m 5.821   \u001b[0m | \u001b[0m 148.5   \u001b[0m | \u001b[0m 12.76   \u001b[0m | \u001b[0m 0.8216  \u001b[0m |\n",
      "| \u001b[0m 71      \u001b[0m | \u001b[0m-1.307e+1\u001b[0m | \u001b[0m 0.8363  \u001b[0m | \u001b[0m 0.1538  \u001b[0m | \u001b[0m 6.613   \u001b[0m | \u001b[0m 1.605   \u001b[0m | \u001b[0m 689.6   \u001b[0m | \u001b[0m 10.62   \u001b[0m | \u001b[0m 0.9245  \u001b[0m |\n",
      "| \u001b[0m 72      \u001b[0m | \u001b[0m-1.208e+1\u001b[0m | \u001b[0m 0.6205  \u001b[0m | \u001b[0m 0.05462 \u001b[0m | \u001b[0m 3.517   \u001b[0m | \u001b[0m 9.942   \u001b[0m | \u001b[0m 685.1   \u001b[0m | \u001b[0m 4.163   \u001b[0m | \u001b[0m 0.8552  \u001b[0m |\n",
      "| \u001b[0m 73      \u001b[0m | \u001b[0m-1.316e+1\u001b[0m | \u001b[0m 0.5     \u001b[0m | \u001b[0m 0.2     \u001b[0m | \u001b[0m 8.737   \u001b[0m | \u001b[0m 9.158   \u001b[0m | \u001b[0m 685.9   \u001b[0m | \u001b[0m 7.628   \u001b[0m | \u001b[0m 1.0     \u001b[0m |\n",
      "| \u001b[0m 74      \u001b[0m | \u001b[0m-3.25e+12\u001b[0m | \u001b[0m 1.0     \u001b[0m | \u001b[0m 0.0005  \u001b[0m | \u001b[0m 3.0     \u001b[0m | \u001b[0m 4.012   \u001b[0m | \u001b[0m 693.6   \u001b[0m | \u001b[0m 9.662   \u001b[0m | \u001b[0m 1.0     \u001b[0m |\n",
      "| \u001b[0m 75      \u001b[0m | \u001b[0m-1.173e+1\u001b[0m | \u001b[0m 0.579   \u001b[0m | \u001b[0m 0.08076 \u001b[0m | \u001b[0m 3.665   \u001b[0m | \u001b[0m 8.411   \u001b[0m | \u001b[0m 693.1   \u001b[0m | \u001b[0m 5.06    \u001b[0m | \u001b[0m 0.861   \u001b[0m |\n",
      "| \u001b[0m 76      \u001b[0m | \u001b[0m-1.255e+1\u001b[0m | \u001b[0m 0.6394  \u001b[0m | \u001b[0m 0.09845 \u001b[0m | \u001b[0m 6.389   \u001b[0m | \u001b[0m 3.163   \u001b[0m | \u001b[0m 697.4   \u001b[0m | \u001b[0m 7.069   \u001b[0m | \u001b[0m 0.8778  \u001b[0m |\n",
      "| \u001b[0m 77      \u001b[0m | \u001b[0m-1.195e+1\u001b[0m | \u001b[0m 0.7932  \u001b[0m | \u001b[0m 0.09656 \u001b[0m | \u001b[0m 9.469   \u001b[0m | \u001b[0m 9.026   \u001b[0m | \u001b[0m 148.3   \u001b[0m | \u001b[0m 7.819   \u001b[0m | \u001b[0m 0.5823  \u001b[0m |\n",
      "| \u001b[0m 78      \u001b[0m | \u001b[0m-1.205e+1\u001b[0m | \u001b[0m 0.6567  \u001b[0m | \u001b[0m 0.1574  \u001b[0m | \u001b[0m 8.748   \u001b[0m | \u001b[0m 8.836   \u001b[0m | \u001b[0m 145.6   \u001b[0m | \u001b[0m 5.741   \u001b[0m | \u001b[0m 0.9147  \u001b[0m |\n",
      "| \u001b[0m 79      \u001b[0m | \u001b[0m-1.166e+1\u001b[0m | \u001b[0m 0.6552  \u001b[0m | \u001b[0m 0.03901 \u001b[0m | \u001b[0m 4.674   \u001b[0m | \u001b[0m 6.821   \u001b[0m | \u001b[0m 149.1   \u001b[0m | \u001b[0m 10.01   \u001b[0m | \u001b[0m 0.8047  \u001b[0m |\n",
      "| \u001b[0m 80      \u001b[0m | \u001b[0m-1.18e+12\u001b[0m | \u001b[0m 0.9369  \u001b[0m | \u001b[0m 0.08522 \u001b[0m | \u001b[0m 7.853   \u001b[0m | \u001b[0m 9.619   \u001b[0m | \u001b[0m 147.8   \u001b[0m | \u001b[0m 4.358   \u001b[0m | \u001b[0m 0.7659  \u001b[0m |\n",
      "| \u001b[0m 81      \u001b[0m | \u001b[0m-1.192e+1\u001b[0m | \u001b[0m 0.8371  \u001b[0m | \u001b[0m 0.105   \u001b[0m | \u001b[0m 4.107   \u001b[0m | \u001b[0m 6.654   \u001b[0m | \u001b[0m 695.9   \u001b[0m | \u001b[0m 6.188   \u001b[0m | \u001b[0m 0.6094  \u001b[0m |\n",
      "| \u001b[0m 82      \u001b[0m | \u001b[0m-1.292e+1\u001b[0m | \u001b[0m 0.5973  \u001b[0m | \u001b[0m 0.1776  \u001b[0m | \u001b[0m 6.129   \u001b[0m | \u001b[0m 9.392   \u001b[0m | \u001b[0m 688.4   \u001b[0m | \u001b[0m 8.035   \u001b[0m | \u001b[0m 0.5392  \u001b[0m |\n",
      "| \u001b[0m 83      \u001b[0m | \u001b[0m-1.222e+1\u001b[0m | \u001b[0m 0.7778  \u001b[0m | \u001b[0m 0.1998  \u001b[0m | \u001b[0m 5.193   \u001b[0m | \u001b[0m 9.948   \u001b[0m | \u001b[0m 145.8   \u001b[0m | \u001b[0m 3.262   \u001b[0m | \u001b[0m 0.8971  \u001b[0m |\n",
      "| \u001b[0m 84      \u001b[0m | \u001b[0m-1.207e+1\u001b[0m | \u001b[0m 0.79    \u001b[0m | \u001b[0m 0.03178 \u001b[0m | \u001b[0m 3.075   \u001b[0m | \u001b[0m 5.5     \u001b[0m | \u001b[0m 147.5   \u001b[0m | \u001b[0m 15.71   \u001b[0m | \u001b[0m 0.773   \u001b[0m |\n",
      "| \u001b[0m 85      \u001b[0m | \u001b[0m-1.195e+1\u001b[0m | \u001b[0m 0.7973  \u001b[0m | \u001b[0m 0.1079  \u001b[0m | \u001b[0m 3.043   \u001b[0m | \u001b[0m 4.427   \u001b[0m | \u001b[0m 699.4   \u001b[0m | \u001b[0m 5.62    \u001b[0m | \u001b[0m 0.5832  \u001b[0m |\n",
      "| \u001b[0m 86      \u001b[0m | \u001b[0m-1.177e+1\u001b[0m | \u001b[0m 0.6165  \u001b[0m | \u001b[0m 0.08995 \u001b[0m | \u001b[0m 3.194   \u001b[0m | \u001b[0m 4.493   \u001b[0m | \u001b[0m 696.7   \u001b[0m | \u001b[0m 3.576   \u001b[0m | \u001b[0m 0.6227  \u001b[0m |\n",
      "| \u001b[0m 87      \u001b[0m | \u001b[0m-3.671e+1\u001b[0m | \u001b[0m 0.5     \u001b[0m | \u001b[0m 0.0005  \u001b[0m | \u001b[0m 9.676   \u001b[0m | \u001b[0m 5.813   \u001b[0m | \u001b[0m 520.9   \u001b[0m | \u001b[0m 14.33   \u001b[0m | \u001b[0m 0.5     \u001b[0m |\n",
      "| \u001b[0m 88      \u001b[0m | \u001b[0m-1.27e+12\u001b[0m | \u001b[0m 0.8848  \u001b[0m | \u001b[0m 0.1181  \u001b[0m | \u001b[0m 5.672   \u001b[0m | \u001b[0m 9.052   \u001b[0m | \u001b[0m 518.2   \u001b[0m | \u001b[0m 14.97   \u001b[0m | \u001b[0m 1.0     \u001b[0m |\n",
      "| \u001b[0m 89      \u001b[0m | \u001b[0m-1.56e+12\u001b[0m | \u001b[0m 0.6547  \u001b[0m | \u001b[0m 0.06347 \u001b[0m | \u001b[0m 3.571   \u001b[0m | \u001b[0m 1.518   \u001b[0m | \u001b[0m 698.7   \u001b[0m | \u001b[0m 2.464   \u001b[0m | \u001b[0m 0.8866  \u001b[0m |\n"
     ]
    },
    {
     "name": "stdout",
     "output_type": "stream",
     "text": [
      "| \u001b[0m 90      \u001b[0m | \u001b[0m-1.192e+1\u001b[0m | \u001b[0m 0.754   \u001b[0m | \u001b[0m 0.12    \u001b[0m | \u001b[0m 9.822   \u001b[0m | \u001b[0m 8.943   \u001b[0m | \u001b[0m 150.5   \u001b[0m | \u001b[0m 5.823   \u001b[0m | \u001b[0m 0.9247  \u001b[0m |\n",
      "| \u001b[0m 91      \u001b[0m | \u001b[0m-1.264e+1\u001b[0m | \u001b[0m 1.0     \u001b[0m | \u001b[0m 0.2     \u001b[0m | \u001b[0m 6.743   \u001b[0m | \u001b[0m 10.0    \u001b[0m | \u001b[0m 150.3   \u001b[0m | \u001b[0m 9.502   \u001b[0m | \u001b[0m 1.0     \u001b[0m |\n",
      "| \u001b[0m 92      \u001b[0m | \u001b[0m-1.205e+1\u001b[0m | \u001b[0m 0.7603  \u001b[0m | \u001b[0m 0.04503 \u001b[0m | \u001b[0m 6.085   \u001b[0m | \u001b[0m 6.292   \u001b[0m | \u001b[0m 517.0   \u001b[0m | \u001b[0m 15.35   \u001b[0m | \u001b[0m 0.5421  \u001b[0m |\n",
      "| \u001b[0m 93      \u001b[0m | \u001b[0m-3.682e+1\u001b[0m | \u001b[0m 0.5     \u001b[0m | \u001b[0m 0.0005  \u001b[0m | \u001b[0m 7.918   \u001b[0m | \u001b[0m 8.752   \u001b[0m | \u001b[0m 514.7   \u001b[0m | \u001b[0m 16.0    \u001b[0m | \u001b[0m 1.0     \u001b[0m |\n",
      "| \u001b[0m 94      \u001b[0m | \u001b[0m-1.213e+1\u001b[0m | \u001b[0m 0.9743  \u001b[0m | \u001b[0m 0.08292 \u001b[0m | \u001b[0m 4.388   \u001b[0m | \u001b[0m 7.394   \u001b[0m | \u001b[0m 518.6   \u001b[0m | \u001b[0m 12.97   \u001b[0m | \u001b[0m 0.9002  \u001b[0m |\n",
      "| \u001b[0m 95      \u001b[0m | \u001b[0m-1.259e+1\u001b[0m | \u001b[0m 0.5     \u001b[0m | \u001b[0m 0.2     \u001b[0m | \u001b[0m 8.224   \u001b[0m | \u001b[0m 1.0     \u001b[0m | \u001b[0m 696.3   \u001b[0m | \u001b[0m 9.895   \u001b[0m | \u001b[0m 0.5     \u001b[0m |\n",
      "| \u001b[0m 96      \u001b[0m | \u001b[0m-1.353e+1\u001b[0m | \u001b[0m 1.0     \u001b[0m | \u001b[0m 0.2     \u001b[0m | \u001b[0m 7.134   \u001b[0m | \u001b[0m 9.277   \u001b[0m | \u001b[0m 518.2   \u001b[0m | \u001b[0m 11.2    \u001b[0m | \u001b[0m 0.8841  \u001b[0m |\n",
      "| \u001b[0m 97      \u001b[0m | \u001b[0m-1.271e+1\u001b[0m | \u001b[0m 0.5832  \u001b[0m | \u001b[0m 0.1839  \u001b[0m | \u001b[0m 8.222   \u001b[0m | \u001b[0m 5.301   \u001b[0m | \u001b[0m 687.7   \u001b[0m | \u001b[0m 10.68   \u001b[0m | \u001b[0m 0.6569  \u001b[0m |\n",
      "| \u001b[0m 98      \u001b[0m | \u001b[0m-1.175e+1\u001b[0m | \u001b[0m 0.9306  \u001b[0m | \u001b[0m 0.05311 \u001b[0m | \u001b[0m 3.813   \u001b[0m | \u001b[0m 1.822   \u001b[0m | \u001b[0m 145.8   \u001b[0m | \u001b[0m 15.67   \u001b[0m | \u001b[0m 0.8935  \u001b[0m |\n",
      "| \u001b[0m 99      \u001b[0m | \u001b[0m-3.422e+1\u001b[0m | \u001b[0m 0.5     \u001b[0m | \u001b[0m 0.0005  \u001b[0m | \u001b[0m 5.667   \u001b[0m | \u001b[0m 6.21    \u001b[0m | \u001b[0m 698.6   \u001b[0m | \u001b[0m 4.525   \u001b[0m | \u001b[0m 1.0     \u001b[0m |\n",
      "| \u001b[0m 100     \u001b[0m | \u001b[0m-1.258e+1\u001b[0m | \u001b[0m 0.9719  \u001b[0m | \u001b[0m 0.1921  \u001b[0m | \u001b[0m 3.273   \u001b[0m | \u001b[0m 2.569   \u001b[0m | \u001b[0m 699.7   \u001b[0m | \u001b[0m 8.469   \u001b[0m | \u001b[0m 0.843   \u001b[0m |\n",
      "| \u001b[0m 101     \u001b[0m | \u001b[0m-1.236e+1\u001b[0m | \u001b[0m 0.6716  \u001b[0m | \u001b[0m 0.08897 \u001b[0m | \u001b[0m 8.908   \u001b[0m | \u001b[0m 6.091   \u001b[0m | \u001b[0m 684.7   \u001b[0m | \u001b[0m 9.914   \u001b[0m | \u001b[0m 0.7037  \u001b[0m |\n",
      "| \u001b[0m 102     \u001b[0m | \u001b[0m-1.252e+1\u001b[0m | \u001b[0m 0.6382  \u001b[0m | \u001b[0m 0.162   \u001b[0m | \u001b[0m 3.14    \u001b[0m | \u001b[0m 9.992   \u001b[0m | \u001b[0m 694.7   \u001b[0m | \u001b[0m 6.784   \u001b[0m | \u001b[0m 0.7768  \u001b[0m |\n",
      "| \u001b[0m 103     \u001b[0m | \u001b[0m-1.2e+12 \u001b[0m | \u001b[0m 0.8916  \u001b[0m | \u001b[0m 0.159   \u001b[0m | \u001b[0m 9.558   \u001b[0m | \u001b[0m 3.258   \u001b[0m | \u001b[0m 154.1   \u001b[0m | \u001b[0m 6.707   \u001b[0m | \u001b[0m 0.8252  \u001b[0m |\n",
      "| \u001b[0m 104     \u001b[0m | \u001b[0m-1.211e+1\u001b[0m | \u001b[0m 0.9283  \u001b[0m | \u001b[0m 0.06413 \u001b[0m | \u001b[0m 4.423   \u001b[0m | \u001b[0m 1.106   \u001b[0m | \u001b[0m 688.9   \u001b[0m | \u001b[0m 7.938   \u001b[0m | \u001b[0m 0.7212  \u001b[0m |\n",
      "| \u001b[0m 105     \u001b[0m | \u001b[0m-1.181e+1\u001b[0m | \u001b[0m 0.89    \u001b[0m | \u001b[0m 0.01356 \u001b[0m | \u001b[0m 3.167   \u001b[0m | \u001b[0m 3.626   \u001b[0m | \u001b[0m 693.7   \u001b[0m | \u001b[0m 3.534   \u001b[0m | \u001b[0m 0.5262  \u001b[0m |\n",
      "| \u001b[0m 106     \u001b[0m | \u001b[0m-1.307e+1\u001b[0m | \u001b[0m 0.8816  \u001b[0m | \u001b[0m 0.06528 \u001b[0m | \u001b[0m 6.245   \u001b[0m | \u001b[0m 7.057   \u001b[0m | \u001b[0m 145.5   \u001b[0m | \u001b[0m 3.162   \u001b[0m | \u001b[0m 0.5818  \u001b[0m |\n",
      "| \u001b[0m 107     \u001b[0m | \u001b[0m-3.227e+1\u001b[0m | \u001b[0m 1.0     \u001b[0m | \u001b[0m 0.0005  \u001b[0m | \u001b[0m 8.527   \u001b[0m | \u001b[0m 2.197   \u001b[0m | \u001b[0m 685.9   \u001b[0m | \u001b[0m 8.948   \u001b[0m | \u001b[0m 0.5     \u001b[0m |\n",
      "| \u001b[0m 108     \u001b[0m | \u001b[0m-1.283e+1\u001b[0m | \u001b[0m 0.6279  \u001b[0m | \u001b[0m 0.1557  \u001b[0m | \u001b[0m 8.799   \u001b[0m | \u001b[0m 8.134   \u001b[0m | \u001b[0m 688.8   \u001b[0m | \u001b[0m 11.79   \u001b[0m | \u001b[0m 0.999   \u001b[0m |\n",
      "| \u001b[0m 109     \u001b[0m | \u001b[0m-1.183e+1\u001b[0m | \u001b[0m 0.7837  \u001b[0m | \u001b[0m 0.05922 \u001b[0m | \u001b[0m 3.496   \u001b[0m | \u001b[0m 1.843   \u001b[0m | \u001b[0m 697.8   \u001b[0m | \u001b[0m 6.95    \u001b[0m | \u001b[0m 0.6992  \u001b[0m |\n",
      "| \u001b[0m 110     \u001b[0m | \u001b[0m-3.704e+1\u001b[0m | \u001b[0m 0.5     \u001b[0m | \u001b[0m 0.0005  \u001b[0m | \u001b[0m 3.069   \u001b[0m | \u001b[0m 6.101   \u001b[0m | \u001b[0m 518.2   \u001b[0m | \u001b[0m 15.95   \u001b[0m | \u001b[0m 0.5     \u001b[0m |\n",
      "=============================================================================================================\n"
     ]
    }
   ],
   "source": [
    "BO_lgbm.maximize(init_points=10, n_iter = 100)"
   ]
  },
  {
   "cell_type": "code",
   "execution_count": 61,
   "metadata": {
    "colab": {
     "base_uri": "https://localhost:8080/"
    },
    "executionInfo": {
     "elapsed": 1081,
     "status": "ok",
     "timestamp": 1606876881344,
     "user": {
      "displayName": "설재형",
      "photoUrl": "",
      "userId": "14774941427314282713"
     },
     "user_tz": -540
    },
    "id": "mVZ2N5lX1OX1",
    "outputId": "5460a2e2-3390-4234-8287-1e9ce76ff531"
   },
   "outputs": [
    {
     "data": {
      "text/plain": [
       "{'target': -1143814140760.9097,\n",
       " 'params': {'colsample_bytree': 0.9912664767877215,\n",
       "  'learning_rate': 0.19443159578980238,\n",
       "  'max_depth': 8.481756199865636,\n",
       "  'min_child_weight': 7.3717217915267526,\n",
       "  'n_estimators': 148.1347345645211,\n",
       "  'num_leaves': 5.4870988863479955,\n",
       "  'subsample': 0.5319290011403701}}"
      ]
     },
     "execution_count": 61,
     "metadata": {},
     "output_type": "execute_result"
    }
   ],
   "source": [
    "BO_lgbm.max"
   ]
  },
  {
   "cell_type": "code",
   "execution_count": 62,
   "metadata": {
    "id": "h2F6qBXJ1VQ5"
   },
   "outputs": [],
   "source": [
    "params = BO_lgbm.max['params']\n",
    "params['max_depth'] = int(round(params['max_depth']))\n",
    "params['n_estimators'] = int(round(params['n_estimators']))\n",
    "params['num_leaves'] = int(round(params['num_leaves']))"
   ]
  },
  {
   "cell_type": "code",
   "execution_count": 63,
   "metadata": {
    "id": "G0-r3iDb1rxr"
   },
   "outputs": [],
   "source": [
    "final_lgb=lgb.LGBMRegressor(random_state=777, **params)\n",
    "final_lgb.fit(x_train, y_train)\n",
    "finallgb = show_test_data.copy()\n",
    "finallgb['num_off_box'] = final_lgb.predict(x_test)"
   ]
  },
  {
   "cell_type": "code",
   "execution_count": 64,
   "metadata": {
    "colab": {
     "base_uri": "https://localhost:8080/"
    },
    "executionInfo": {
     "elapsed": 1147,
     "status": "ok",
     "timestamp": 1606877729416,
     "user": {
      "displayName": "설재형",
      "photoUrl": "",
      "userId": "14774941427314282713"
     },
     "user_tz": -540
    },
    "id": "FrPE8QL314Qq",
    "outputId": "ebf2f05d-c818-4bf9-cc45-6aa87a8b96d0"
   },
   "outputs": [
    {
     "name": "stdout",
     "output_type": "stream",
     "text": [
      "파라미터 조정후 lgb 모델의 Mean_Squared_Error =  542290670108.6666\n",
      "파라미터 조정후 lgb 모델의 RMSE =  736403.8770326149\n",
      "파라미터 조정후 lgb 모델의 결정계수 = 0.8212421166674986\n"
     ]
    }
   ],
   "source": [
    "print('파라미터 조정후 lgb 모델의 Mean_Squared_Error = ', mean_squared_error(movie_data_test['num_off_box'], finallgb['num_off_box']))\n",
    "print('파라미터 조정후 lgb 모델의 RMSE = ',  mean_squared_error(movie_data_test['num_off_box'], finallgb['num_off_box'])**0.5)\n",
    "print(\"파라미터 조정후 lgb 모델의 결정계수 =\", r2_score(movie_data_test['num_off_box'], finallgb['num_off_box']))"
   ]
  },
  {
   "cell_type": "markdown",
   "metadata": {
    "id": "Mcq0s14b85dE"
   },
   "source": [
    "#  GradientBoostingRegressor + BayesianOptimization\n",
    "\n"
   ]
  },
  {
   "cell_type": "code",
   "execution_count": 65,
   "metadata": {
    "id": "W2sdA31Q9Dkd"
   },
   "outputs": [],
   "source": [
    "pbounds = { 'learning_rate': (0.0005, 0.2),\n",
    "            'n_estimators': (10, 500),\n",
    "            'max_depth': (3,10),   \n",
    "            'subsample': (0.5,1), \n",
    "            'min_samples_split': (2,5),   \n",
    "            'min_samples_leaf': (1,5)}\n",
    "\n",
    "def gbm_opt(learning_rate, n_estimators, max_depth, subsample, min_samples_split, min_samples_leaf):\n",
    "\n",
    "    params = {\n",
    "        'learning_rate': learning_rate,\n",
    "        'n_estimators' : int(round(n_estimators)),\n",
    "        'max_depth' : int(round(max_depth)),\n",
    "        'subsample': subsample,\n",
    "        'min_samples_split' : int(round(min_samples_split)),\n",
    "        'min_samples_leaf' : int(round(min_samples_leaf))\n",
    "    }\n",
    "    \n",
    "    gbm = GradientBoostingRegressor(**params)\n",
    "    kf = KFold(n_splits = 5 , shuffle = True, random_state=50)\n",
    "    score = cross_val_score(gbm, x_train, y_train, scoring='neg_mean_squared_error', cv = kf, n_jobs=-1)\n",
    "    return np.mean(score)\n",
    "\n",
    "BO_gbm = BayesianOptimization(f = gbm_opt, pbounds = pbounds, random_state=0)    "
   ]
  },
  {
   "cell_type": "code",
   "execution_count": 66,
   "metadata": {
    "colab": {
     "base_uri": "https://localhost:8080/"
    },
    "executionInfo": {
     "elapsed": 588239,
     "status": "ok",
     "timestamp": 1606877526445,
     "user": {
      "displayName": "설재형",
      "photoUrl": "",
      "userId": "14774941427314282713"
     },
     "user_tz": -540
    },
    "id": "JgMr51QD_dp1",
    "outputId": "cadd5366-1360-457c-9a52-e69556616eaf"
   },
   "outputs": [
    {
     "name": "stdout",
     "output_type": "stream",
     "text": [
      "|   iter    |  target   | learni... | max_depth | min_sa... | min_sa... | n_esti... | subsample |\n",
      "-------------------------------------------------------------------------------------------------\n",
      "| \u001b[0m 1       \u001b[0m | \u001b[0m-1.184e+1\u001b[0m | \u001b[0m 0.11    \u001b[0m | \u001b[0m 8.006   \u001b[0m | \u001b[0m 3.411   \u001b[0m | \u001b[0m 3.635   \u001b[0m | \u001b[0m 217.6   \u001b[0m | \u001b[0m 0.8229  \u001b[0m |\n",
      "| \u001b[95m 2       \u001b[0m | \u001b[95m-1.125e+1\u001b[0m | \u001b[95m 0.0878  \u001b[0m | \u001b[95m 9.242   \u001b[0m | \u001b[95m 4.855   \u001b[0m | \u001b[95m 3.15    \u001b[0m | \u001b[95m 397.9   \u001b[0m | \u001b[95m 0.7644  \u001b[0m |\n",
      "| \u001b[0m 3       \u001b[0m | \u001b[0m-1.466e+1\u001b[0m | \u001b[0m 0.1138  \u001b[0m | \u001b[0m 9.479   \u001b[0m | \u001b[0m 1.284   \u001b[0m | \u001b[0m 2.261   \u001b[0m | \u001b[0m 19.91   \u001b[0m | \u001b[0m 0.9163  \u001b[0m |\n",
      "| \u001b[95m 4       \u001b[0m | \u001b[95m-1.099e+1\u001b[0m | \u001b[95m 0.1557  \u001b[0m | \u001b[95m 9.09    \u001b[0m | \u001b[95m 4.914   \u001b[0m | \u001b[95m 4.397   \u001b[0m | \u001b[95m 236.1   \u001b[0m | \u001b[95m 0.8903  \u001b[0m |\n",
      "| \u001b[0m 5       \u001b[0m | \u001b[0m-1.15e+12\u001b[0m | \u001b[0m 0.0241  \u001b[0m | \u001b[0m 7.479   \u001b[0m | \u001b[0m 1.573   \u001b[0m | \u001b[0m 4.834   \u001b[0m | \u001b[0m 265.7   \u001b[0m | \u001b[0m 0.7073  \u001b[0m |\n",
      "| \u001b[0m 6       \u001b[0m | \u001b[0m-1.65e+12\u001b[0m | \u001b[0m 0.05328 \u001b[0m | \u001b[0m 8.42    \u001b[0m | \u001b[0m 2.825   \u001b[0m | \u001b[0m 3.705   \u001b[0m | \u001b[0m 19.21   \u001b[0m | \u001b[0m 0.8088  \u001b[0m |\n",
      "| \u001b[0m 7       \u001b[0m | \u001b[0m-1.125e+1\u001b[0m | \u001b[0m 0.1226  \u001b[0m | \u001b[0m 7.319   \u001b[0m | \u001b[0m 4.775   \u001b[0m | \u001b[0m 4.045   \u001b[0m | \u001b[0m 186.2   \u001b[0m | \u001b[0m 0.7185  \u001b[0m |\n",
      "| \u001b[95m 8       \u001b[0m | \u001b[95m-1.077e+1\u001b[0m | \u001b[95m 0.1397  \u001b[0m | \u001b[95m 3.422   \u001b[0m | \u001b[95m 3.667   \u001b[0m | \u001b[95m 4.012   \u001b[0m | \u001b[95m 113.1   \u001b[0m | \u001b[95m 0.5645  \u001b[0m |\n",
      "| \u001b[0m 9       \u001b[0m | \u001b[0m-1.085e+1\u001b[0m | \u001b[0m 0.06343 \u001b[0m | \u001b[0m 5.546   \u001b[0m | \u001b[0m 3.281   \u001b[0m | \u001b[0m 3.316   \u001b[0m | \u001b[0m 494.3   \u001b[0m | \u001b[0m 0.551   \u001b[0m |\n",
      "| \u001b[95m 10      \u001b[0m | \u001b[95m-1.058e+1\u001b[0m | \u001b[95m 0.04217 \u001b[0m | \u001b[95m 4.129   \u001b[0m | \u001b[95m 3.612   \u001b[0m | \u001b[95m 2.76    \u001b[0m | \u001b[95m 238.5   \u001b[0m | \u001b[95m 0.6222  \u001b[0m |\n",
      "| \u001b[95m 11      \u001b[0m | \u001b[95m-1.037e+1\u001b[0m | \u001b[95m 0.03056 \u001b[0m | \u001b[95m 3.943   \u001b[0m | \u001b[95m 3.222   \u001b[0m | \u001b[95m 2.613   \u001b[0m | \u001b[95m 232.8   \u001b[0m | \u001b[95m 0.6108  \u001b[0m |\n",
      "| \u001b[0m 12      \u001b[0m | \u001b[0m-1.194e+1\u001b[0m | \u001b[0m 0.06685 \u001b[0m | \u001b[0m 9.844   \u001b[0m | \u001b[0m 1.418   \u001b[0m | \u001b[0m 2.849   \u001b[0m | \u001b[0m 229.2   \u001b[0m | \u001b[0m 0.6357  \u001b[0m |\n",
      "| \u001b[0m 13      \u001b[0m | \u001b[0m-1.234e+1\u001b[0m | \u001b[0m 0.1584  \u001b[0m | \u001b[0m 9.571   \u001b[0m | \u001b[0m 1.257   \u001b[0m | \u001b[0m 2.129   \u001b[0m | \u001b[0m 243.0   \u001b[0m | \u001b[0m 0.7678  \u001b[0m |\n",
      "| \u001b[0m 14      \u001b[0m | \u001b[0m-1.091e+1\u001b[0m | \u001b[0m 0.1256  \u001b[0m | \u001b[0m 5.088   \u001b[0m | \u001b[0m 3.605   \u001b[0m | \u001b[0m 2.712   \u001b[0m | \u001b[0m 119.3   \u001b[0m | \u001b[0m 0.6341  \u001b[0m |\n",
      "| \u001b[0m 15      \u001b[0m | \u001b[0m-1.167e+1\u001b[0m | \u001b[0m 0.1443  \u001b[0m | \u001b[0m 9.943   \u001b[0m | \u001b[0m 4.055   \u001b[0m | \u001b[0m 4.808   \u001b[0m | \u001b[0m 114.3   \u001b[0m | \u001b[0m 0.8865  \u001b[0m |\n",
      "| \u001b[0m 16      \u001b[0m | \u001b[0m-1.104e+1\u001b[0m | \u001b[0m 0.08348 \u001b[0m | \u001b[0m 9.967   \u001b[0m | \u001b[0m 4.983   \u001b[0m | \u001b[0m 2.013   \u001b[0m | \u001b[0m 499.6   \u001b[0m | \u001b[0m 0.5713  \u001b[0m |\n",
      "| \u001b[0m 17      \u001b[0m | \u001b[0m-3.572e+1\u001b[0m | \u001b[0m 0.0005  \u001b[0m | \u001b[0m 3.0     \u001b[0m | \u001b[0m 1.0     \u001b[0m | \u001b[0m 5.0     \u001b[0m | \u001b[0m 500.0   \u001b[0m | \u001b[0m 0.5     \u001b[0m |\n",
      "| \u001b[0m 18      \u001b[0m | \u001b[0m-1.131e+1\u001b[0m | \u001b[0m 0.1197  \u001b[0m | \u001b[0m 9.979   \u001b[0m | \u001b[0m 5.0     \u001b[0m | \u001b[0m 2.0     \u001b[0m | \u001b[0m 493.4   \u001b[0m | \u001b[0m 0.5991  \u001b[0m |\n",
      "| \u001b[0m 19      \u001b[0m | \u001b[0m-1.06e+12\u001b[0m | \u001b[0m 0.1165  \u001b[0m | \u001b[0m 4.88    \u001b[0m | \u001b[0m 4.632   \u001b[0m | \u001b[0m 3.764   \u001b[0m | \u001b[0m 489.0   \u001b[0m | \u001b[0m 0.6447  \u001b[0m |\n",
      "| \u001b[0m 20      \u001b[0m | \u001b[0m-3.524e+1\u001b[0m | \u001b[0m 0.0005  \u001b[0m | \u001b[0m 8.497   \u001b[0m | \u001b[0m 1.0     \u001b[0m | \u001b[0m 2.0     \u001b[0m | \u001b[0m 489.3   \u001b[0m | \u001b[0m 1.0     \u001b[0m |\n",
      "| \u001b[0m 21      \u001b[0m | \u001b[0m-1.037e+1\u001b[0m | \u001b[0m 0.07038 \u001b[0m | \u001b[0m 5.498   \u001b[0m | \u001b[0m 3.827   \u001b[0m | \u001b[0m 3.173   \u001b[0m | \u001b[0m 235.6   \u001b[0m | \u001b[0m 0.6949  \u001b[0m |\n",
      "| \u001b[0m 22      \u001b[0m | \u001b[0m-1.285e+1\u001b[0m | \u001b[0m 0.06287 \u001b[0m | \u001b[0m 7.83    \u001b[0m | \u001b[0m 1.194   \u001b[0m | \u001b[0m 4.844   \u001b[0m | \u001b[0m 233.6   \u001b[0m | \u001b[0m 0.7878  \u001b[0m |\n",
      "| \u001b[0m 23      \u001b[0m | \u001b[0m-1.412e+1\u001b[0m | \u001b[0m 0.1984  \u001b[0m | \u001b[0m 5.953   \u001b[0m | \u001b[0m 1.003   \u001b[0m | \u001b[0m 4.664   \u001b[0m | \u001b[0m 115.9   \u001b[0m | \u001b[0m 0.996   \u001b[0m |\n",
      "| \u001b[0m 24      \u001b[0m | \u001b[0m-1.19e+12\u001b[0m | \u001b[0m 0.2     \u001b[0m | \u001b[0m 7.826   \u001b[0m | \u001b[0m 5.0     \u001b[0m | \u001b[0m 2.0     \u001b[0m | \u001b[0m 231.9   \u001b[0m | \u001b[0m 1.0     \u001b[0m |\n",
      "| \u001b[0m 25      \u001b[0m | \u001b[0m-1.209e+1\u001b[0m | \u001b[0m 0.2     \u001b[0m | \u001b[0m 10.0    \u001b[0m | \u001b[0m 5.0     \u001b[0m | \u001b[0m 5.0     \u001b[0m | \u001b[0m 496.2   \u001b[0m | \u001b[0m 1.0     \u001b[0m |\n",
      "| \u001b[0m 26      \u001b[0m | \u001b[0m-1.144e+1\u001b[0m | \u001b[0m 0.1811  \u001b[0m | \u001b[0m 6.492   \u001b[0m | \u001b[0m 4.813   \u001b[0m | \u001b[0m 3.21    \u001b[0m | \u001b[0m 109.2   \u001b[0m | \u001b[0m 0.813   \u001b[0m |\n",
      "| \u001b[0m 27      \u001b[0m | \u001b[0m-4.182e+1\u001b[0m | \u001b[0m 0.0005  \u001b[0m | \u001b[0m 3.803   \u001b[0m | \u001b[0m 3.159   \u001b[0m | \u001b[0m 3.331   \u001b[0m | \u001b[0m 227.1   \u001b[0m | \u001b[0m 0.5     \u001b[0m |\n",
      "| \u001b[0m 28      \u001b[0m | \u001b[0m-1.238e+1\u001b[0m | \u001b[0m 0.2     \u001b[0m | \u001b[0m 7.386   \u001b[0m | \u001b[0m 5.0     \u001b[0m | \u001b[0m 5.0     \u001b[0m | \u001b[0m 241.0   \u001b[0m | \u001b[0m 1.0     \u001b[0m |\n",
      "| \u001b[0m 29      \u001b[0m | \u001b[0m-4.557e+1\u001b[0m | \u001b[0m 0.0005  \u001b[0m | \u001b[0m 3.0     \u001b[0m | \u001b[0m 1.0     \u001b[0m | \u001b[0m 2.0     \u001b[0m | \u001b[0m 109.2   \u001b[0m | \u001b[0m 0.5     \u001b[0m |\n",
      "| \u001b[0m 30      \u001b[0m | \u001b[0m-1.297e+1\u001b[0m | \u001b[0m 0.05927 \u001b[0m | \u001b[0m 7.437   \u001b[0m | \u001b[0m 1.614   \u001b[0m | \u001b[0m 3.005   \u001b[0m | \u001b[0m 238.3   \u001b[0m | \u001b[0m 0.9141  \u001b[0m |\n",
      "| \u001b[0m 31      \u001b[0m | \u001b[0m-1.135e+1\u001b[0m | \u001b[0m 0.09668 \u001b[0m | \u001b[0m 5.637   \u001b[0m | \u001b[0m 4.89    \u001b[0m | \u001b[0m 2.568   \u001b[0m | \u001b[0m 115.2   \u001b[0m | \u001b[0m 0.8224  \u001b[0m |\n",
      "| \u001b[0m 32      \u001b[0m | \u001b[0m-1.218e+1\u001b[0m | \u001b[0m 0.2     \u001b[0m | \u001b[0m 3.0     \u001b[0m | \u001b[0m 5.0     \u001b[0m | \u001b[0m 5.0     \u001b[0m | \u001b[0m 492.1   \u001b[0m | \u001b[0m 1.0     \u001b[0m |\n",
      "| \u001b[0m 33      \u001b[0m | \u001b[0m-2.256e+1\u001b[0m | \u001b[0m 0.005291\u001b[0m | \u001b[0m 9.311   \u001b[0m | \u001b[0m 4.745   \u001b[0m | \u001b[0m 4.676   \u001b[0m | \u001b[0m 120.3   \u001b[0m | \u001b[0m 0.6825  \u001b[0m |\n",
      "| \u001b[0m 34      \u001b[0m | \u001b[0m-1.085e+1\u001b[0m | \u001b[0m 0.02862 \u001b[0m | \u001b[0m 9.989   \u001b[0m | \u001b[0m 4.931   \u001b[0m | \u001b[0m 4.144   \u001b[0m | \u001b[0m 110.0   \u001b[0m | \u001b[0m 0.6411  \u001b[0m |\n",
      "| \u001b[0m 35      \u001b[0m | \u001b[0m-1.181e+1\u001b[0m | \u001b[0m 0.1812  \u001b[0m | \u001b[0m 3.039   \u001b[0m | \u001b[0m 4.816   \u001b[0m | \u001b[0m 4.487   \u001b[0m | \u001b[0m 116.3   \u001b[0m | \u001b[0m 0.6592  \u001b[0m |\n",
      "| \u001b[0m 36      \u001b[0m | \u001b[0m-1.141e+1\u001b[0m | \u001b[0m 0.08877 \u001b[0m | \u001b[0m 3.291   \u001b[0m | \u001b[0m 2.783   \u001b[0m | \u001b[0m 2.696   \u001b[0m | \u001b[0m 244.0   \u001b[0m | \u001b[0m 0.538   \u001b[0m |\n",
      "| \u001b[0m 37      \u001b[0m | \u001b[0m-1.073e+1\u001b[0m | \u001b[0m 0.06853 \u001b[0m | \u001b[0m 7.348   \u001b[0m | \u001b[0m 4.676   \u001b[0m | \u001b[0m 4.699   \u001b[0m | \u001b[0m 247.2   \u001b[0m | \u001b[0m 0.7466  \u001b[0m |\n",
      "| \u001b[0m 38      \u001b[0m | \u001b[0m-1.403e+1\u001b[0m | \u001b[0m 0.2     \u001b[0m | \u001b[0m 5.986   \u001b[0m | \u001b[0m 1.0     \u001b[0m | \u001b[0m 2.0     \u001b[0m | \u001b[0m 248.6   \u001b[0m | \u001b[0m 1.0     \u001b[0m |\n",
      "| \u001b[0m 39      \u001b[0m | \u001b[0m-1.148e+1\u001b[0m | \u001b[0m 0.1514  \u001b[0m | \u001b[0m 5.969   \u001b[0m | \u001b[0m 3.613   \u001b[0m | \u001b[0m 4.2     \u001b[0m | \u001b[0m 181.0   \u001b[0m | \u001b[0m 0.8209  \u001b[0m |\n",
      "| \u001b[0m 40      \u001b[0m | \u001b[0m-1.214e+1\u001b[0m | \u001b[0m 0.1932  \u001b[0m | \u001b[0m 3.0     \u001b[0m | \u001b[0m 1.739   \u001b[0m | \u001b[0m 5.0     \u001b[0m | \u001b[0m 185.3   \u001b[0m | \u001b[0m 0.5     \u001b[0m |\n",
      "| \u001b[0m 41      \u001b[0m | \u001b[0m-1.555e+1\u001b[0m | \u001b[0m 0.02558 \u001b[0m | \u001b[0m 9.611   \u001b[0m | \u001b[0m 1.07    \u001b[0m | \u001b[0m 2.111   \u001b[0m | \u001b[0m 182.1   \u001b[0m | \u001b[0m 0.975   \u001b[0m |\n",
      "| \u001b[0m 42      \u001b[0m | \u001b[0m-1.176e+1\u001b[0m | \u001b[0m 0.1935  \u001b[0m | \u001b[0m 4.24    \u001b[0m | \u001b[0m 4.716   \u001b[0m | \u001b[0m 3.706   \u001b[0m | \u001b[0m 190.4   \u001b[0m | \u001b[0m 0.5335  \u001b[0m |\n",
      "| \u001b[0m 43      \u001b[0m | \u001b[0m-1.444e+1\u001b[0m | \u001b[0m 0.1994  \u001b[0m | \u001b[0m 8.535   \u001b[0m | \u001b[0m 1.439   \u001b[0m | \u001b[0m 4.911   \u001b[0m | \u001b[0m 190.7   \u001b[0m | \u001b[0m 0.5004  \u001b[0m |\n",
      "| \u001b[0m 44      \u001b[0m | \u001b[0m-1.126e+1\u001b[0m | \u001b[0m 0.06843 \u001b[0m | \u001b[0m 8.386   \u001b[0m | \u001b[0m 4.913   \u001b[0m | \u001b[0m 2.155   \u001b[0m | \u001b[0m 392.8   \u001b[0m | \u001b[0m 0.7928  \u001b[0m |\n",
      "| \u001b[0m 45      \u001b[0m | \u001b[0m-1.103e+1\u001b[0m | \u001b[0m 0.05677 \u001b[0m | \u001b[0m 4.688   \u001b[0m | \u001b[0m 2.898   \u001b[0m | \u001b[0m 2.716   \u001b[0m | \u001b[0m 396.0   \u001b[0m | \u001b[0m 0.8915  \u001b[0m |\n",
      "| \u001b[0m 46      \u001b[0m | \u001b[0m-1.408e+1\u001b[0m | \u001b[0m 0.03749 \u001b[0m | \u001b[0m 7.834   \u001b[0m | \u001b[0m 1.33    \u001b[0m | \u001b[0m 4.97    \u001b[0m | \u001b[0m 393.8   \u001b[0m | \u001b[0m 0.9662  \u001b[0m |\n",
      "| \u001b[0m 47      \u001b[0m | \u001b[0m-1.23e+12\u001b[0m | \u001b[0m 0.2     \u001b[0m | \u001b[0m 3.0     \u001b[0m | \u001b[0m 5.0     \u001b[0m | \u001b[0m 2.0     \u001b[0m | \u001b[0m 391.6   \u001b[0m | \u001b[0m 0.5     \u001b[0m |\n",
      "| \u001b[0m 48      \u001b[0m | \u001b[0m-1.219e+1\u001b[0m | \u001b[0m 0.1908  \u001b[0m | \u001b[0m 5.11    \u001b[0m | \u001b[0m 3.821   \u001b[0m | \u001b[0m 2.506   \u001b[0m | \u001b[0m 401.5   \u001b[0m | \u001b[0m 0.502   \u001b[0m |\n",
      "| \u001b[0m 49      \u001b[0m | \u001b[0m-1.257e+1\u001b[0m | \u001b[0m 0.05067 \u001b[0m | \u001b[0m 9.936   \u001b[0m | \u001b[0m 1.342   \u001b[0m | \u001b[0m 4.413   \u001b[0m | \u001b[0m 401.2   \u001b[0m | \u001b[0m 0.5856  \u001b[0m |\n",
      "| \u001b[0m 50      \u001b[0m | \u001b[0m-1.108e+1\u001b[0m | \u001b[0m 0.01535 \u001b[0m | \u001b[0m 9.949   \u001b[0m | \u001b[0m 4.726   \u001b[0m | \u001b[0m 4.945   \u001b[0m | \u001b[0m 251.4   \u001b[0m | \u001b[0m 0.858   \u001b[0m |\n"
     ]
    },
    {
     "name": "stdout",
     "output_type": "stream",
     "text": [
      "| \u001b[0m 51      \u001b[0m | \u001b[0m-1.053e+1\u001b[0m | \u001b[0m 0.115   \u001b[0m | \u001b[0m 4.706   \u001b[0m | \u001b[0m 4.525   \u001b[0m | \u001b[0m 4.34    \u001b[0m | \u001b[0m 251.7   \u001b[0m | \u001b[0m 0.7749  \u001b[0m |\n",
      "| \u001b[0m 52      \u001b[0m | \u001b[0m-1.081e+1\u001b[0m | \u001b[0m 0.199   \u001b[0m | \u001b[0m 6.546   \u001b[0m | \u001b[0m 4.75    \u001b[0m | \u001b[0m 4.858   \u001b[0m | \u001b[0m 256.9   \u001b[0m | \u001b[0m 0.5754  \u001b[0m |\n",
      "| \u001b[0m 53      \u001b[0m | \u001b[0m-3.586e+1\u001b[0m | \u001b[0m 0.000896\u001b[0m | \u001b[0m 8.455   \u001b[0m | \u001b[0m 1.48    \u001b[0m | \u001b[0m 2.231   \u001b[0m | \u001b[0m 255.3   \u001b[0m | \u001b[0m 0.9968  \u001b[0m |\n",
      "| \u001b[0m 54      \u001b[0m | \u001b[0m-1.095e+1\u001b[0m | \u001b[0m 0.09158 \u001b[0m | \u001b[0m 3.396   \u001b[0m | \u001b[0m 4.089   \u001b[0m | \u001b[0m 4.451   \u001b[0m | \u001b[0m 247.6   \u001b[0m | \u001b[0m 0.6921  \u001b[0m |\n",
      "| \u001b[0m 55      \u001b[0m | \u001b[0m-1.172e+1\u001b[0m | \u001b[0m 0.2     \u001b[0m | \u001b[0m 3.0     \u001b[0m | \u001b[0m 5.0     \u001b[0m | \u001b[0m 5.0     \u001b[0m | \u001b[0m 259.3   \u001b[0m | \u001b[0m 0.5     \u001b[0m |\n",
      "| \u001b[0m 56      \u001b[0m | \u001b[0m-1.193e+1\u001b[0m | \u001b[0m 0.2     \u001b[0m | \u001b[0m 3.719   \u001b[0m | \u001b[0m 5.0     \u001b[0m | \u001b[0m 5.0     \u001b[0m | \u001b[0m 265.0   \u001b[0m | \u001b[0m 0.5     \u001b[0m |\n",
      "| \u001b[0m 57      \u001b[0m | \u001b[0m-1.188e+1\u001b[0m | \u001b[0m 0.1567  \u001b[0m | \u001b[0m 5.29    \u001b[0m | \u001b[0m 3.145   \u001b[0m | \u001b[0m 2.202   \u001b[0m | \u001b[0m 269.5   \u001b[0m | \u001b[0m 0.9074  \u001b[0m |\n",
      "| \u001b[0m 58      \u001b[0m | \u001b[0m-1.177e+1\u001b[0m | \u001b[0m 0.08684 \u001b[0m | \u001b[0m 3.074   \u001b[0m | \u001b[0m 1.077   \u001b[0m | \u001b[0m 2.43    \u001b[0m | \u001b[0m 235.8   \u001b[0m | \u001b[0m 0.7127  \u001b[0m |\n",
      "| \u001b[0m 59      \u001b[0m | \u001b[0m-4.097e+1\u001b[0m | \u001b[0m 0.0005  \u001b[0m | \u001b[0m 3.0     \u001b[0m | \u001b[0m 1.0     \u001b[0m | \u001b[0m 2.0     \u001b[0m | \u001b[0m 264.9   \u001b[0m | \u001b[0m 1.0     \u001b[0m |\n",
      "| \u001b[0m 60      \u001b[0m | \u001b[0m-1.084e+1\u001b[0m | \u001b[0m 0.1186  \u001b[0m | \u001b[0m 7.825   \u001b[0m | \u001b[0m 4.943   \u001b[0m | \u001b[0m 4.734   \u001b[0m | \u001b[0m 268.7   \u001b[0m | \u001b[0m 0.6901  \u001b[0m |\n",
      "| \u001b[0m 61      \u001b[0m | \u001b[0m-1.144e+1\u001b[0m | \u001b[0m 0.1679  \u001b[0m | \u001b[0m 9.74    \u001b[0m | \u001b[0m 4.617   \u001b[0m | \u001b[0m 4.77    \u001b[0m | \u001b[0m 263.7   \u001b[0m | \u001b[0m 0.526   \u001b[0m |\n",
      "| \u001b[0m 62      \u001b[0m | \u001b[0m-1.235e+1\u001b[0m | \u001b[0m 0.1173  \u001b[0m | \u001b[0m 9.785   \u001b[0m | \u001b[0m 1.875   \u001b[0m | \u001b[0m 2.734   \u001b[0m | \u001b[0m 270.0   \u001b[0m | \u001b[0m 0.6517  \u001b[0m |\n",
      "| \u001b[0m 63      \u001b[0m | \u001b[0m-1.218e+1\u001b[0m | \u001b[0m 0.2     \u001b[0m | \u001b[0m 5.931   \u001b[0m | \u001b[0m 5.0     \u001b[0m | \u001b[0m 3.741   \u001b[0m | \u001b[0m 273.5   \u001b[0m | \u001b[0m 0.5     \u001b[0m |\n",
      "| \u001b[0m 64      \u001b[0m | \u001b[0m-3.722e+1\u001b[0m | \u001b[0m 0.0005  \u001b[0m | \u001b[0m 7.376   \u001b[0m | \u001b[0m 5.0     \u001b[0m | \u001b[0m 2.0     \u001b[0m | \u001b[0m 387.4   \u001b[0m | \u001b[0m 1.0     \u001b[0m |\n",
      "| \u001b[0m 65      \u001b[0m | \u001b[0m-1.11e+12\u001b[0m | \u001b[0m 0.08238 \u001b[0m | \u001b[0m 9.502   \u001b[0m | \u001b[0m 4.988   \u001b[0m | \u001b[0m 4.681   \u001b[0m | \u001b[0m 104.0   \u001b[0m | \u001b[0m 0.536   \u001b[0m |\n",
      "| \u001b[0m 66      \u001b[0m | \u001b[0m-1.157e+1\u001b[0m | \u001b[0m 0.1541  \u001b[0m | \u001b[0m 3.626   \u001b[0m | \u001b[0m 4.243   \u001b[0m | \u001b[0m 2.037   \u001b[0m | \u001b[0m 183.7   \u001b[0m | \u001b[0m 0.7663  \u001b[0m |\n",
      "| \u001b[0m 67      \u001b[0m | \u001b[0m-1.321e+1\u001b[0m | \u001b[0m 0.1912  \u001b[0m | \u001b[0m 9.844   \u001b[0m | \u001b[0m 2.368   \u001b[0m | \u001b[0m 3.553   \u001b[0m | \u001b[0m 212.6   \u001b[0m | \u001b[0m 0.5419  \u001b[0m |\n",
      "| \u001b[0m 68      \u001b[0m | \u001b[0m-1.108e+1\u001b[0m | \u001b[0m 0.07651 \u001b[0m | \u001b[0m 3.157   \u001b[0m | \u001b[0m 1.604   \u001b[0m | \u001b[0m 2.49    \u001b[0m | \u001b[0m 123.2   \u001b[0m | \u001b[0m 0.8759  \u001b[0m |\n",
      "| \u001b[0m 69      \u001b[0m | \u001b[0m-1.136e+1\u001b[0m | \u001b[0m 0.2     \u001b[0m | \u001b[0m 3.0     \u001b[0m | \u001b[0m 5.0     \u001b[0m | \u001b[0m 2.0     \u001b[0m | \u001b[0m 177.5   \u001b[0m | \u001b[0m 0.5     \u001b[0m |\n",
      "| \u001b[0m 70      \u001b[0m | \u001b[0m-1.144e+1\u001b[0m | \u001b[0m 0.1529  \u001b[0m | \u001b[0m 7.247   \u001b[0m | \u001b[0m 4.69    \u001b[0m | \u001b[0m 4.939   \u001b[0m | \u001b[0m 175.2   \u001b[0m | \u001b[0m 0.8974  \u001b[0m |\n",
      "| \u001b[0m 71      \u001b[0m | \u001b[0m-1.223e+1\u001b[0m | \u001b[0m 0.02032 \u001b[0m | \u001b[0m 3.52    \u001b[0m | \u001b[0m 1.424   \u001b[0m | \u001b[0m 4.762   \u001b[0m | \u001b[0m 175.6   \u001b[0m | \u001b[0m 0.9629  \u001b[0m |\n",
      "| \u001b[0m 72      \u001b[0m | \u001b[0m-1.08e+12\u001b[0m | \u001b[0m 0.03661 \u001b[0m | \u001b[0m 4.692   \u001b[0m | \u001b[0m 4.261   \u001b[0m | \u001b[0m 2.124   \u001b[0m | \u001b[0m 171.9   \u001b[0m | \u001b[0m 0.7624  \u001b[0m |\n",
      "| \u001b[0m 73      \u001b[0m | \u001b[0m-1.26e+12\u001b[0m | \u001b[0m 0.04192 \u001b[0m | \u001b[0m 9.167   \u001b[0m | \u001b[0m 1.743   \u001b[0m | \u001b[0m 3.333   \u001b[0m | \u001b[0m 171.0   \u001b[0m | \u001b[0m 0.8385  \u001b[0m |\n",
      "| \u001b[0m 74      \u001b[0m | \u001b[0m-1.198e+1\u001b[0m | \u001b[0m 0.09694 \u001b[0m | \u001b[0m 3.031   \u001b[0m | \u001b[0m 1.211   \u001b[0m | \u001b[0m 4.615   \u001b[0m | \u001b[0m 168.7   \u001b[0m | \u001b[0m 0.9777  \u001b[0m |\n",
      "| \u001b[0m 75      \u001b[0m | \u001b[0m-4.348e+1\u001b[0m | \u001b[0m 0.0005  \u001b[0m | \u001b[0m 6.569   \u001b[0m | \u001b[0m 5.0     \u001b[0m | \u001b[0m 5.0     \u001b[0m | \u001b[0m 167.7   \u001b[0m | \u001b[0m 0.5     \u001b[0m |\n",
      "| \u001b[0m 76      \u001b[0m | \u001b[0m-1.39e+12\u001b[0m | \u001b[0m 0.1934  \u001b[0m | \u001b[0m 6.772   \u001b[0m | \u001b[0m 1.211   \u001b[0m | \u001b[0m 2.193   \u001b[0m | \u001b[0m 176.1   \u001b[0m | \u001b[0m 0.8327  \u001b[0m |\n",
      "| \u001b[0m 77      \u001b[0m | \u001b[0m-1.094e+1\u001b[0m | \u001b[0m 0.04784 \u001b[0m | \u001b[0m 3.46    \u001b[0m | \u001b[0m 4.923   \u001b[0m | \u001b[0m 4.703   \u001b[0m | \u001b[0m 484.7   \u001b[0m | \u001b[0m 0.7112  \u001b[0m |\n",
      "| \u001b[0m 78      \u001b[0m | \u001b[0m-1.2e+12 \u001b[0m | \u001b[0m 0.2     \u001b[0m | \u001b[0m 3.0     \u001b[0m | \u001b[0m 5.0     \u001b[0m | \u001b[0m 2.0     \u001b[0m | \u001b[0m 126.6   \u001b[0m | \u001b[0m 0.5     \u001b[0m |\n",
      "| \u001b[0m 79      \u001b[0m | \u001b[0m-4.482e+1\u001b[0m | \u001b[0m 0.0005  \u001b[0m | \u001b[0m 3.0     \u001b[0m | \u001b[0m 1.0     \u001b[0m | \u001b[0m 5.0     \u001b[0m | \u001b[0m 127.6   \u001b[0m | \u001b[0m 1.0     \u001b[0m |\n",
      "| \u001b[0m 80      \u001b[0m | \u001b[0m-1.212e+1\u001b[0m | \u001b[0m 0.07083 \u001b[0m | \u001b[0m 5.466   \u001b[0m | \u001b[0m 1.361   \u001b[0m | \u001b[0m 2.639   \u001b[0m | \u001b[0m 187.1   \u001b[0m | \u001b[0m 0.901   \u001b[0m |\n",
      "| \u001b[0m 81      \u001b[0m | \u001b[0m-4.057e+1\u001b[0m | \u001b[0m 0.0005  \u001b[0m | \u001b[0m 6.392   \u001b[0m | \u001b[0m 1.0     \u001b[0m | \u001b[0m 5.0     \u001b[0m | \u001b[0m 272.0   \u001b[0m | \u001b[0m 1.0     \u001b[0m |\n",
      "| \u001b[0m 82      \u001b[0m | \u001b[0m-1.088e+1\u001b[0m | \u001b[0m 0.06218 \u001b[0m | \u001b[0m 8.498   \u001b[0m | \u001b[0m 4.618   \u001b[0m | \u001b[0m 2.307   \u001b[0m | \u001b[0m 267.0   \u001b[0m | \u001b[0m 0.593   \u001b[0m |\n",
      "| \u001b[0m 83      \u001b[0m | \u001b[0m-4.128e+1\u001b[0m | \u001b[0m 0.0005  \u001b[0m | \u001b[0m 6.328   \u001b[0m | \u001b[0m 1.943   \u001b[0m | \u001b[0m 5.0     \u001b[0m | \u001b[0m 244.5   \u001b[0m | \u001b[0m 1.0     \u001b[0m |\n",
      "| \u001b[0m 84      \u001b[0m | \u001b[0m-1.074e+1\u001b[0m | \u001b[0m 0.1065  \u001b[0m | \u001b[0m 5.755   \u001b[0m | \u001b[0m 4.991   \u001b[0m | \u001b[0m 4.306   \u001b[0m | \u001b[0m 249.3   \u001b[0m | \u001b[0m 0.6694  \u001b[0m |\n",
      "| \u001b[0m 85      \u001b[0m | \u001b[0m-1.085e+1\u001b[0m | \u001b[0m 0.0967  \u001b[0m | \u001b[0m 4.583   \u001b[0m | \u001b[0m 4.22    \u001b[0m | \u001b[0m 3.006   \u001b[0m | \u001b[0m 174.9   \u001b[0m | \u001b[0m 0.7886  \u001b[0m |\n",
      "| \u001b[0m 86      \u001b[0m | \u001b[0m-1.071e+1\u001b[0m | \u001b[0m 0.1162  \u001b[0m | \u001b[0m 6.775   \u001b[0m | \u001b[0m 4.515   \u001b[0m | \u001b[0m 4.791   \u001b[0m | \u001b[0m 112.1   \u001b[0m | \u001b[0m 0.6811  \u001b[0m |\n",
      "| \u001b[0m 87      \u001b[0m | \u001b[0m-1.106e+1\u001b[0m | \u001b[0m 0.0384  \u001b[0m | \u001b[0m 8.842   \u001b[0m | \u001b[0m 4.991   \u001b[0m | \u001b[0m 3.001   \u001b[0m | \u001b[0m 249.3   \u001b[0m | \u001b[0m 0.832   \u001b[0m |\n",
      "| \u001b[0m 88      \u001b[0m | \u001b[0m-1.217e+1\u001b[0m | \u001b[0m 0.1496  \u001b[0m | \u001b[0m 7.302   \u001b[0m | \u001b[0m 1.661   \u001b[0m | \u001b[0m 2.838   \u001b[0m | \u001b[0m 398.1   \u001b[0m | \u001b[0m 0.8616  \u001b[0m |\n",
      "| \u001b[0m 89      \u001b[0m | \u001b[0m-4.286e+1\u001b[0m | \u001b[0m 0.0005  \u001b[0m | \u001b[0m 3.665   \u001b[0m | \u001b[0m 5.0     \u001b[0m | \u001b[0m 4.369   \u001b[0m | \u001b[0m 186.7   \u001b[0m | \u001b[0m 1.0     \u001b[0m |\n",
      "| \u001b[0m 90      \u001b[0m | \u001b[0m-1.161e+1\u001b[0m | \u001b[0m 0.1234  \u001b[0m | \u001b[0m 6.773   \u001b[0m | \u001b[0m 2.315   \u001b[0m | \u001b[0m 2.351   \u001b[0m | \u001b[0m 234.0   \u001b[0m | \u001b[0m 0.6007  \u001b[0m |\n",
      "| \u001b[0m 91      \u001b[0m | \u001b[0m-1.256e+1\u001b[0m | \u001b[0m 0.1992  \u001b[0m | \u001b[0m 9.08    \u001b[0m | \u001b[0m 3.782   \u001b[0m | \u001b[0m 4.437   \u001b[0m | \u001b[0m 266.3   \u001b[0m | \u001b[0m 0.8367  \u001b[0m |\n",
      "| \u001b[0m 92      \u001b[0m | \u001b[0m-1.059e+1\u001b[0m | \u001b[0m 0.04843 \u001b[0m | \u001b[0m 5.48    \u001b[0m | \u001b[0m 4.409   \u001b[0m | \u001b[0m 4.077   \u001b[0m | \u001b[0m 177.7   \u001b[0m | \u001b[0m 0.7281  \u001b[0m |\n",
      "| \u001b[0m 93      \u001b[0m | \u001b[0m-1.13e+12\u001b[0m | \u001b[0m 0.1326  \u001b[0m | \u001b[0m 8.492   \u001b[0m | \u001b[0m 4.271   \u001b[0m | \u001b[0m 2.584   \u001b[0m | \u001b[0m 112.5   \u001b[0m | \u001b[0m 0.7407  \u001b[0m |\n",
      "| \u001b[0m 94      \u001b[0m | \u001b[0m-1.238e+1\u001b[0m | \u001b[0m 0.1302  \u001b[0m | \u001b[0m 4.381   \u001b[0m | \u001b[0m 1.044   \u001b[0m | \u001b[0m 2.744   \u001b[0m | \u001b[0m 183.2   \u001b[0m | \u001b[0m 0.8766  \u001b[0m |\n",
      "| \u001b[0m 95      \u001b[0m | \u001b[0m-1.06e+12\u001b[0m | \u001b[0m 0.06012 \u001b[0m | \u001b[0m 3.743   \u001b[0m | \u001b[0m 3.077   \u001b[0m | \u001b[0m 2.211   \u001b[0m | \u001b[0m 180.2   \u001b[0m | \u001b[0m 0.8375  \u001b[0m |\n",
      "| \u001b[0m 96      \u001b[0m | \u001b[0m-1.07e+12\u001b[0m | \u001b[0m 0.07813 \u001b[0m | \u001b[0m 7.948   \u001b[0m | \u001b[0m 4.906   \u001b[0m | \u001b[0m 2.0     \u001b[0m | \u001b[0m 496.3   \u001b[0m | \u001b[0m 0.5     \u001b[0m |\n",
      "| \u001b[0m 97      \u001b[0m | \u001b[0m-1.112e+1\u001b[0m | \u001b[0m 0.01048 \u001b[0m | \u001b[0m 7.516   \u001b[0m | \u001b[0m 4.896   \u001b[0m | \u001b[0m 2.002   \u001b[0m | \u001b[0m 238.3   \u001b[0m | \u001b[0m 0.6502  \u001b[0m |\n",
      "| \u001b[0m 98      \u001b[0m | \u001b[0m-1.17e+12\u001b[0m | \u001b[0m 0.0598  \u001b[0m | \u001b[0m 9.441   \u001b[0m | \u001b[0m 3.683   \u001b[0m | \u001b[0m 2.345   \u001b[0m | \u001b[0m 185.6   \u001b[0m | \u001b[0m 0.9399  \u001b[0m |\n",
      "| \u001b[0m 99      \u001b[0m | \u001b[0m-1.117e+1\u001b[0m | \u001b[0m 0.2     \u001b[0m | \u001b[0m 5.244   \u001b[0m | \u001b[0m 3.979   \u001b[0m | \u001b[0m 2.657   \u001b[0m | \u001b[0m 193.1   \u001b[0m | \u001b[0m 0.5     \u001b[0m |\n",
      "| \u001b[0m 100     \u001b[0m | \u001b[0m-1.436e+1\u001b[0m | \u001b[0m 0.007034\u001b[0m | \u001b[0m 8.113   \u001b[0m | \u001b[0m 4.52    \u001b[0m | \u001b[0m 2.222   \u001b[0m | \u001b[0m 190.0   \u001b[0m | \u001b[0m 0.7225  \u001b[0m |\n",
      "| \u001b[0m 101     \u001b[0m | \u001b[0m-1.106e+1\u001b[0m | \u001b[0m 0.06911 \u001b[0m | \u001b[0m 6.504   \u001b[0m | \u001b[0m 4.639   \u001b[0m | \u001b[0m 4.486   \u001b[0m | \u001b[0m 395.1   \u001b[0m | \u001b[0m 0.8444  \u001b[0m |\n"
     ]
    },
    {
     "name": "stdout",
     "output_type": "stream",
     "text": [
      "| \u001b[0m 102     \u001b[0m | \u001b[0m-1.143e+1\u001b[0m | \u001b[0m 0.02718 \u001b[0m | \u001b[0m 3.004   \u001b[0m | \u001b[0m 1.251   \u001b[0m | \u001b[0m 2.779   \u001b[0m | \u001b[0m 171.9   \u001b[0m | \u001b[0m 0.7543  \u001b[0m |\n",
      "| \u001b[0m 103     \u001b[0m | \u001b[0m-1.113e+1\u001b[0m | \u001b[0m 0.09141 \u001b[0m | \u001b[0m 3.262   \u001b[0m | \u001b[0m 4.629   \u001b[0m | \u001b[0m 2.547   \u001b[0m | \u001b[0m 122.6   \u001b[0m | \u001b[0m 0.9722  \u001b[0m |\n",
      "| \u001b[0m 104     \u001b[0m | \u001b[0m-1.187e+1\u001b[0m | \u001b[0m 0.1387  \u001b[0m | \u001b[0m 3.293   \u001b[0m | \u001b[0m 1.396   \u001b[0m | \u001b[0m 3.021   \u001b[0m | \u001b[0m 191.8   \u001b[0m | \u001b[0m 0.8009  \u001b[0m |\n",
      "| \u001b[0m 105     \u001b[0m | \u001b[0m-1.115e+1\u001b[0m | \u001b[0m 0.2     \u001b[0m | \u001b[0m 3.0     \u001b[0m | \u001b[0m 5.0     \u001b[0m | \u001b[0m 5.0     \u001b[0m | \u001b[0m 193.5   \u001b[0m | \u001b[0m 0.5     \u001b[0m |\n",
      "| \u001b[0m 106     \u001b[0m | \u001b[0m-1.206e+1\u001b[0m | \u001b[0m 0.06508 \u001b[0m | \u001b[0m 9.961   \u001b[0m | \u001b[0m 1.748   \u001b[0m | \u001b[0m 2.082   \u001b[0m | \u001b[0m 496.4   \u001b[0m | \u001b[0m 0.7855  \u001b[0m |\n",
      "| \u001b[0m 107     \u001b[0m | \u001b[0m-1.157e+1\u001b[0m | \u001b[0m 0.02529 \u001b[0m | \u001b[0m 8.461   \u001b[0m | \u001b[0m 1.807   \u001b[0m | \u001b[0m 4.803   \u001b[0m | \u001b[0m 186.1   \u001b[0m | \u001b[0m 0.5828  \u001b[0m |\n",
      "| \u001b[0m 108     \u001b[0m | \u001b[0m-1.163e+1\u001b[0m | \u001b[0m 0.1993  \u001b[0m | \u001b[0m 6.852   \u001b[0m | \u001b[0m 4.727   \u001b[0m | \u001b[0m 4.67    \u001b[0m | \u001b[0m 261.9   \u001b[0m | \u001b[0m 0.8412  \u001b[0m |\n",
      "| \u001b[0m 109     \u001b[0m | \u001b[0m-1.08e+12\u001b[0m | \u001b[0m 0.02495 \u001b[0m | \u001b[0m 3.198   \u001b[0m | \u001b[0m 3.735   \u001b[0m | \u001b[0m 4.833   \u001b[0m | \u001b[0m 255.4   \u001b[0m | \u001b[0m 0.5303  \u001b[0m |\n",
      "| \u001b[0m 110     \u001b[0m | \u001b[0m-1.138e+1\u001b[0m | \u001b[0m 0.09884 \u001b[0m | \u001b[0m 3.102   \u001b[0m | \u001b[0m 4.604   \u001b[0m | \u001b[0m 4.404   \u001b[0m | \u001b[0m 398.4   \u001b[0m | \u001b[0m 0.7096  \u001b[0m |\n",
      "| \u001b[0m 111     \u001b[0m | \u001b[0m-1.135e+1\u001b[0m | \u001b[0m 0.1072  \u001b[0m | \u001b[0m 3.009   \u001b[0m | \u001b[0m 1.713   \u001b[0m | \u001b[0m 2.207   \u001b[0m | \u001b[0m 117.7   \u001b[0m | \u001b[0m 0.9423  \u001b[0m |\n",
      "| \u001b[0m 112     \u001b[0m | \u001b[0m-1.235e+1\u001b[0m | \u001b[0m 0.2     \u001b[0m | \u001b[0m 8.814   \u001b[0m | \u001b[0m 5.0     \u001b[0m | \u001b[0m 2.0     \u001b[0m | \u001b[0m 270.9   \u001b[0m | \u001b[0m 0.5     \u001b[0m |\n",
      "| \u001b[0m 113     \u001b[0m | \u001b[0m-1.243e+1\u001b[0m | \u001b[0m 0.1953  \u001b[0m | \u001b[0m 9.242   \u001b[0m | \u001b[0m 4.807   \u001b[0m | \u001b[0m 4.902   \u001b[0m | \u001b[0m 183.4   \u001b[0m | \u001b[0m 0.5837  \u001b[0m |\n",
      "| \u001b[0m 114     \u001b[0m | \u001b[0m-1.49e+12\u001b[0m | \u001b[0m 0.2     \u001b[0m | \u001b[0m 3.934   \u001b[0m | \u001b[0m 1.291   \u001b[0m | \u001b[0m 5.0     \u001b[0m | \u001b[0m 196.3   \u001b[0m | \u001b[0m 0.5     \u001b[0m |\n",
      "| \u001b[0m 115     \u001b[0m | \u001b[0m-1.2e+12 \u001b[0m | \u001b[0m 0.05488 \u001b[0m | \u001b[0m 9.794   \u001b[0m | \u001b[0m 2.012   \u001b[0m | \u001b[0m 4.762   \u001b[0m | \u001b[0m 107.6   \u001b[0m | \u001b[0m 0.7375  \u001b[0m |\n",
      "| \u001b[0m 116     \u001b[0m | \u001b[0m-1.566e+1\u001b[0m | \u001b[0m 0.2     \u001b[0m | \u001b[0m 10.0    \u001b[0m | \u001b[0m 1.0     \u001b[0m | \u001b[0m 5.0     \u001b[0m | \u001b[0m 102.4   \u001b[0m | \u001b[0m 1.0     \u001b[0m |\n",
      "| \u001b[0m 117     \u001b[0m | \u001b[0m-1.188e+1\u001b[0m | \u001b[0m 0.1796  \u001b[0m | \u001b[0m 3.288   \u001b[0m | \u001b[0m 1.454   \u001b[0m | \u001b[0m 4.927   \u001b[0m | \u001b[0m 120.5   \u001b[0m | \u001b[0m 0.9252  \u001b[0m |\n",
      "| \u001b[0m 118     \u001b[0m | \u001b[0m-1.24e+12\u001b[0m | \u001b[0m 0.2     \u001b[0m | \u001b[0m 3.0     \u001b[0m | \u001b[0m 5.0     \u001b[0m | \u001b[0m 5.0     \u001b[0m | \u001b[0m 480.3   \u001b[0m | \u001b[0m 0.5     \u001b[0m |\n",
      "| \u001b[0m 119     \u001b[0m | \u001b[0m-3.766e+1\u001b[0m | \u001b[0m 0.0005  \u001b[0m | \u001b[0m 3.243   \u001b[0m | \u001b[0m 1.0     \u001b[0m | \u001b[0m 5.0     \u001b[0m | \u001b[0m 400.1   \u001b[0m | \u001b[0m 1.0     \u001b[0m |\n",
      "| \u001b[0m 120     \u001b[0m | \u001b[0m-1.078e+1\u001b[0m | \u001b[0m 0.02361 \u001b[0m | \u001b[0m 8.931   \u001b[0m | \u001b[0m 4.785   \u001b[0m | \u001b[0m 2.824   \u001b[0m | \u001b[0m 402.8   \u001b[0m | \u001b[0m 0.5498  \u001b[0m |\n",
      "| \u001b[0m 121     \u001b[0m | \u001b[0m-1.146e+1\u001b[0m | \u001b[0m 0.09002 \u001b[0m | \u001b[0m 7.324   \u001b[0m | \u001b[0m 3.195   \u001b[0m | \u001b[0m 2.192   \u001b[0m | \u001b[0m 406.2   \u001b[0m | \u001b[0m 0.8399  \u001b[0m |\n",
      "| \u001b[0m 122     \u001b[0m | \u001b[0m-1.092e+1\u001b[0m | \u001b[0m 0.06998 \u001b[0m | \u001b[0m 9.875   \u001b[0m | \u001b[0m 4.912   \u001b[0m | \u001b[0m 4.801   \u001b[0m | \u001b[0m 406.8   \u001b[0m | \u001b[0m 0.5165  \u001b[0m |\n",
      "| \u001b[0m 123     \u001b[0m | \u001b[0m-1.238e+1\u001b[0m | \u001b[0m 0.004904\u001b[0m | \u001b[0m 5.708   \u001b[0m | \u001b[0m 4.95    \u001b[0m | \u001b[0m 2.313   \u001b[0m | \u001b[0m 398.6   \u001b[0m | \u001b[0m 0.7859  \u001b[0m |\n",
      "| \u001b[0m 124     \u001b[0m | \u001b[0m-1.112e+1\u001b[0m | \u001b[0m 0.1864  \u001b[0m | \u001b[0m 9.69    \u001b[0m | \u001b[0m 4.94    \u001b[0m | \u001b[0m 2.155   \u001b[0m | \u001b[0m 107.0   \u001b[0m | \u001b[0m 0.8395  \u001b[0m |\n",
      "| \u001b[0m 125     \u001b[0m | \u001b[0m-1.162e+1\u001b[0m | \u001b[0m 0.2     \u001b[0m | \u001b[0m 9.346   \u001b[0m | \u001b[0m 5.0     \u001b[0m | \u001b[0m 2.0     \u001b[0m | \u001b[0m 410.0   \u001b[0m | \u001b[0m 0.5     \u001b[0m |\n",
      "| \u001b[0m 126     \u001b[0m | \u001b[0m-1.56e+12\u001b[0m | \u001b[0m 0.1499  \u001b[0m | \u001b[0m 9.426   \u001b[0m | \u001b[0m 1.322   \u001b[0m | \u001b[0m 4.023   \u001b[0m | \u001b[0m 408.2   \u001b[0m | \u001b[0m 0.9038  \u001b[0m |\n",
      "| \u001b[0m 127     \u001b[0m | \u001b[0m-1.098e+1\u001b[0m | \u001b[0m 0.07479 \u001b[0m | \u001b[0m 5.478   \u001b[0m | \u001b[0m 4.989   \u001b[0m | \u001b[0m 4.228   \u001b[0m | \u001b[0m 409.6   \u001b[0m | \u001b[0m 0.953   \u001b[0m |\n",
      "| \u001b[0m 128     \u001b[0m | \u001b[0m-1.089e+1\u001b[0m | \u001b[0m 0.06664 \u001b[0m | \u001b[0m 7.365   \u001b[0m | \u001b[0m 4.789   \u001b[0m | \u001b[0m 4.846   \u001b[0m | \u001b[0m 413.2   \u001b[0m | \u001b[0m 0.8069  \u001b[0m |\n",
      "| \u001b[0m 129     \u001b[0m | \u001b[0m-1.099e+1\u001b[0m | \u001b[0m 0.01224 \u001b[0m | \u001b[0m 5.416   \u001b[0m | \u001b[0m 1.924   \u001b[0m | \u001b[0m 2.362   \u001b[0m | \u001b[0m 412.2   \u001b[0m | \u001b[0m 0.7143  \u001b[0m |\n",
      "| \u001b[0m 130     \u001b[0m | \u001b[0m-1.174e+1\u001b[0m | \u001b[0m 0.1641  \u001b[0m | \u001b[0m 3.176   \u001b[0m | \u001b[0m 3.721   \u001b[0m | \u001b[0m 4.484   \u001b[0m | \u001b[0m 414.2   \u001b[0m | \u001b[0m 0.8678  \u001b[0m |\n",
      "| \u001b[0m 131     \u001b[0m | \u001b[0m-1.133e+1\u001b[0m | \u001b[0m 0.1109  \u001b[0m | \u001b[0m 8.153   \u001b[0m | \u001b[0m 2.569   \u001b[0m | \u001b[0m 2.192   \u001b[0m | \u001b[0m 415.6   \u001b[0m | \u001b[0m 0.5113  \u001b[0m |\n",
      "| \u001b[0m 132     \u001b[0m | \u001b[0m-1.421e+1\u001b[0m | \u001b[0m 0.176   \u001b[0m | \u001b[0m 4.921   \u001b[0m | \u001b[0m 1.16    \u001b[0m | \u001b[0m 4.584   \u001b[0m | \u001b[0m 417.3   \u001b[0m | \u001b[0m 0.8694  \u001b[0m |\n",
      "| \u001b[0m 133     \u001b[0m | \u001b[0m-3.672e+1\u001b[0m | \u001b[0m 0.0005  \u001b[0m | \u001b[0m 10.0    \u001b[0m | \u001b[0m 5.0     \u001b[0m | \u001b[0m 5.0     \u001b[0m | \u001b[0m 417.0   \u001b[0m | \u001b[0m 0.5     \u001b[0m |\n",
      "| \u001b[0m 134     \u001b[0m | \u001b[0m-1.174e+1\u001b[0m | \u001b[0m 0.05848 \u001b[0m | \u001b[0m 5.01    \u001b[0m | \u001b[0m 4.236   \u001b[0m | \u001b[0m 2.717   \u001b[0m | \u001b[0m 214.1   \u001b[0m | \u001b[0m 0.9822  \u001b[0m |\n",
      "| \u001b[0m 135     \u001b[0m | \u001b[0m-1.087e+1\u001b[0m | \u001b[0m 0.1885  \u001b[0m | \u001b[0m 3.022   \u001b[0m | \u001b[0m 4.806   \u001b[0m | \u001b[0m 2.679   \u001b[0m | \u001b[0m 241.4   \u001b[0m | \u001b[0m 0.8744  \u001b[0m |\n",
      "| \u001b[0m 136     \u001b[0m | \u001b[0m-1.094e+1\u001b[0m | \u001b[0m 0.1639  \u001b[0m | \u001b[0m 5.554   \u001b[0m | \u001b[0m 4.945   \u001b[0m | \u001b[0m 2.234   \u001b[0m | \u001b[0m 414.4   \u001b[0m | \u001b[0m 0.5623  \u001b[0m |\n",
      "| \u001b[0m 137     \u001b[0m | \u001b[0m-1.098e+1\u001b[0m | \u001b[0m 0.2     \u001b[0m | \u001b[0m 3.44    \u001b[0m | \u001b[0m 5.0     \u001b[0m | \u001b[0m 2.0     \u001b[0m | \u001b[0m 406.0   \u001b[0m | \u001b[0m 0.5     \u001b[0m |\n",
      "| \u001b[0m 138     \u001b[0m | \u001b[0m-1.199e+1\u001b[0m | \u001b[0m 0.0727  \u001b[0m | \u001b[0m 4.445   \u001b[0m | \u001b[0m 1.303   \u001b[0m | \u001b[0m 4.768   \u001b[0m | \u001b[0m 216.8   \u001b[0m | \u001b[0m 0.9695  \u001b[0m |\n",
      "| \u001b[0m 139     \u001b[0m | \u001b[0m-1.208e+1\u001b[0m | \u001b[0m 0.08165 \u001b[0m | \u001b[0m 4.57    \u001b[0m | \u001b[0m 1.279   \u001b[0m | \u001b[0m 3.791   \u001b[0m | \u001b[0m 210.5   \u001b[0m | \u001b[0m 0.5362  \u001b[0m |\n",
      "| \u001b[0m 140     \u001b[0m | \u001b[0m-1.166e+1\u001b[0m | \u001b[0m 0.1584  \u001b[0m | \u001b[0m 6.631   \u001b[0m | \u001b[0m 4.962   \u001b[0m | \u001b[0m 4.908   \u001b[0m | \u001b[0m 209.9   \u001b[0m | \u001b[0m 0.8678  \u001b[0m |\n",
      "| \u001b[0m 141     \u001b[0m | \u001b[0m-1.11e+12\u001b[0m | \u001b[0m 0.1471  \u001b[0m | \u001b[0m 3.058   \u001b[0m | \u001b[0m 4.528   \u001b[0m | \u001b[0m 4.708   \u001b[0m | \u001b[0m 394.5   \u001b[0m | \u001b[0m 0.6255  \u001b[0m |\n",
      "| \u001b[0m 142     \u001b[0m | \u001b[0m-1.173e+1\u001b[0m | \u001b[0m 0.1441  \u001b[0m | \u001b[0m 8.36    \u001b[0m | \u001b[0m 2.203   \u001b[0m | \u001b[0m 2.757   \u001b[0m | \u001b[0m 206.6   \u001b[0m | \u001b[0m 0.8082  \u001b[0m |\n",
      "| \u001b[0m 143     \u001b[0m | \u001b[0m-1.168e+1\u001b[0m | \u001b[0m 0.1778  \u001b[0m | \u001b[0m 3.675   \u001b[0m | \u001b[0m 4.135   \u001b[0m | \u001b[0m 2.401   \u001b[0m | \u001b[0m 206.9   \u001b[0m | \u001b[0m 0.929   \u001b[0m |\n",
      "| \u001b[0m 144     \u001b[0m | \u001b[0m-4.244e+1\u001b[0m | \u001b[0m 0.0005  \u001b[0m | \u001b[0m 4.713   \u001b[0m | \u001b[0m 1.0     \u001b[0m | \u001b[0m 5.0     \u001b[0m | \u001b[0m 205.4   \u001b[0m | \u001b[0m 0.5     \u001b[0m |\n",
      "| \u001b[0m 145     \u001b[0m | \u001b[0m-1.164e+1\u001b[0m | \u001b[0m 0.1387  \u001b[0m | \u001b[0m 8.383   \u001b[0m | \u001b[0m 4.973   \u001b[0m | \u001b[0m 2.222   \u001b[0m | \u001b[0m 209.4   \u001b[0m | \u001b[0m 0.7438  \u001b[0m |\n",
      "| \u001b[0m 146     \u001b[0m | \u001b[0m-1.318e+1\u001b[0m | \u001b[0m 0.1479  \u001b[0m | \u001b[0m 3.73    \u001b[0m | \u001b[0m 1.382   \u001b[0m | \u001b[0m 4.478   \u001b[0m | \u001b[0m 409.3   \u001b[0m | \u001b[0m 0.5222  \u001b[0m |\n",
      "| \u001b[0m 147     \u001b[0m | \u001b[0m-1.18e+12\u001b[0m | \u001b[0m 0.2     \u001b[0m | \u001b[0m 3.0     \u001b[0m | \u001b[0m 5.0     \u001b[0m | \u001b[0m 2.0     \u001b[0m | \u001b[0m 210.4   \u001b[0m | \u001b[0m 1.0     \u001b[0m |\n",
      "| \u001b[0m 148     \u001b[0m | \u001b[0m-1.08e+12\u001b[0m | \u001b[0m 0.1344  \u001b[0m | \u001b[0m 6.134   \u001b[0m | \u001b[0m 4.743   \u001b[0m | \u001b[0m 4.531   \u001b[0m | \u001b[0m 404.5   \u001b[0m | \u001b[0m 0.6036  \u001b[0m |\n",
      "| \u001b[0m 149     \u001b[0m | \u001b[0m-1.139e+1\u001b[0m | \u001b[0m 0.2     \u001b[0m | \u001b[0m 7.427   \u001b[0m | \u001b[0m 5.0     \u001b[0m | \u001b[0m 5.0     \u001b[0m | \u001b[0m 482.2   \u001b[0m | \u001b[0m 0.5     \u001b[0m |\n",
      "| \u001b[0m 150     \u001b[0m | \u001b[0m-1.233e+1\u001b[0m | \u001b[0m 0.2     \u001b[0m | \u001b[0m 4.686   \u001b[0m | \u001b[0m 2.486   \u001b[0m | \u001b[0m 2.0     \u001b[0m | \u001b[0m 481.8   \u001b[0m | \u001b[0m 0.5     \u001b[0m |\n",
      "| \u001b[0m 151     \u001b[0m | \u001b[0m-3.508e+1\u001b[0m | \u001b[0m 0.0005  \u001b[0m | \u001b[0m 7.259   \u001b[0m | \u001b[0m 5.0     \u001b[0m | \u001b[0m 2.62    \u001b[0m | \u001b[0m 478.1   \u001b[0m | \u001b[0m 1.0     \u001b[0m |\n",
      "| \u001b[0m 152     \u001b[0m | \u001b[0m-1.272e+1\u001b[0m | \u001b[0m 0.2     \u001b[0m | \u001b[0m 3.0     \u001b[0m | \u001b[0m 1.0     \u001b[0m | \u001b[0m 2.0     \u001b[0m | \u001b[0m 213.8   \u001b[0m | \u001b[0m 0.5     \u001b[0m |\n"
     ]
    },
    {
     "name": "stdout",
     "output_type": "stream",
     "text": [
      "| \u001b[0m 153     \u001b[0m | \u001b[0m-1.158e+1\u001b[0m | \u001b[0m 0.1825  \u001b[0m | \u001b[0m 3.006   \u001b[0m | \u001b[0m 1.344   \u001b[0m | \u001b[0m 4.569   \u001b[0m | \u001b[0m 251.2   \u001b[0m | \u001b[0m 0.8496  \u001b[0m |\n",
      "| \u001b[0m 154     \u001b[0m | \u001b[0m-1.244e+1\u001b[0m | \u001b[0m 0.1388  \u001b[0m | \u001b[0m 9.532   \u001b[0m | \u001b[0m 1.779   \u001b[0m | \u001b[0m 2.021   \u001b[0m | \u001b[0m 395.4   \u001b[0m | \u001b[0m 0.8311  \u001b[0m |\n",
      "| \u001b[0m 155     \u001b[0m | \u001b[0m-1.128e+1\u001b[0m | \u001b[0m 0.1663  \u001b[0m | \u001b[0m 8.879   \u001b[0m | \u001b[0m 4.978   \u001b[0m | \u001b[0m 2.294   \u001b[0m | \u001b[0m 277.7   \u001b[0m | \u001b[0m 0.6548  \u001b[0m |\n",
      "| \u001b[0m 156     \u001b[0m | \u001b[0m-1.202e+1\u001b[0m | \u001b[0m 0.2     \u001b[0m | \u001b[0m 4.293   \u001b[0m | \u001b[0m 5.0     \u001b[0m | \u001b[0m 2.0     \u001b[0m | \u001b[0m 277.6   \u001b[0m | \u001b[0m 0.5     \u001b[0m |\n",
      "| \u001b[0m 157     \u001b[0m | \u001b[0m-1.138e+1\u001b[0m | \u001b[0m 0.1917  \u001b[0m | \u001b[0m 7.861   \u001b[0m | \u001b[0m 4.688   \u001b[0m | \u001b[0m 4.082   \u001b[0m | \u001b[0m 281.7   \u001b[0m | \u001b[0m 0.9742  \u001b[0m |\n",
      "| \u001b[0m 158     \u001b[0m | \u001b[0m-1.437e+1\u001b[0m | \u001b[0m 0.2     \u001b[0m | \u001b[0m 6.628   \u001b[0m | \u001b[0m 1.268   \u001b[0m | \u001b[0m 2.0     \u001b[0m | \u001b[0m 280.7   \u001b[0m | \u001b[0m 0.5     \u001b[0m |\n",
      "| \u001b[0m 159     \u001b[0m | \u001b[0m-1.38e+12\u001b[0m | \u001b[0m 0.1185  \u001b[0m | \u001b[0m 3.243   \u001b[0m | \u001b[0m 1.222   \u001b[0m | \u001b[0m 4.966   \u001b[0m | \u001b[0m 483.8   \u001b[0m | \u001b[0m 0.5308  \u001b[0m |\n",
      "| \u001b[0m 160     \u001b[0m | \u001b[0m-1.192e+1\u001b[0m | \u001b[0m 0.2     \u001b[0m | \u001b[0m 3.221   \u001b[0m | \u001b[0m 5.0     \u001b[0m | \u001b[0m 5.0     \u001b[0m | \u001b[0m 281.6   \u001b[0m | \u001b[0m 1.0     \u001b[0m |\n",
      "| \u001b[0m 161     \u001b[0m | \u001b[0m-4.022e+1\u001b[0m | \u001b[0m 0.0005  \u001b[0m | \u001b[0m 5.243   \u001b[0m | \u001b[0m 5.0     \u001b[0m | \u001b[0m 2.664   \u001b[0m | \u001b[0m 285.5   \u001b[0m | \u001b[0m 0.5     \u001b[0m |\n",
      "| \u001b[0m 162     \u001b[0m | \u001b[0m-1.149e+1\u001b[0m | \u001b[0m 0.09914 \u001b[0m | \u001b[0m 9.838   \u001b[0m | \u001b[0m 4.99    \u001b[0m | \u001b[0m 2.158   \u001b[0m | \u001b[0m 178.8   \u001b[0m | \u001b[0m 0.9765  \u001b[0m |\n",
      "| \u001b[0m 163     \u001b[0m | \u001b[0m-1.228e+1\u001b[0m | \u001b[0m 0.1976  \u001b[0m | \u001b[0m 9.682   \u001b[0m | \u001b[0m 1.876   \u001b[0m | \u001b[0m 4.738   \u001b[0m | \u001b[0m 279.5   \u001b[0m | \u001b[0m 0.6397  \u001b[0m |\n",
      "| \u001b[0m 164     \u001b[0m | \u001b[0m-1.131e+1\u001b[0m | \u001b[0m 0.197   \u001b[0m | \u001b[0m 6.408   \u001b[0m | \u001b[0m 4.974   \u001b[0m | \u001b[0m 3.548   \u001b[0m | \u001b[0m 99.99   \u001b[0m | \u001b[0m 0.8784  \u001b[0m |\n",
      "| \u001b[0m 165     \u001b[0m | \u001b[0m-1.149e+1\u001b[0m | \u001b[0m 0.1042  \u001b[0m | \u001b[0m 6.896   \u001b[0m | \u001b[0m 4.613   \u001b[0m | \u001b[0m 4.628   \u001b[0m | \u001b[0m 278.5   \u001b[0m | \u001b[0m 0.7783  \u001b[0m |\n",
      "| \u001b[0m 166     \u001b[0m | \u001b[0m-1.097e+1\u001b[0m | \u001b[0m 0.1027  \u001b[0m | \u001b[0m 7.471   \u001b[0m | \u001b[0m 4.561   \u001b[0m | \u001b[0m 3.746   \u001b[0m | \u001b[0m 95.25   \u001b[0m | \u001b[0m 0.9201  \u001b[0m |\n",
      "| \u001b[0m 167     \u001b[0m | \u001b[0m-1.125e+1\u001b[0m | \u001b[0m 0.1735  \u001b[0m | \u001b[0m 3.398   \u001b[0m | \u001b[0m 5.0     \u001b[0m | \u001b[0m 5.0     \u001b[0m | \u001b[0m 96.61   \u001b[0m | \u001b[0m 0.5     \u001b[0m |\n",
      "| \u001b[0m 168     \u001b[0m | \u001b[0m-1.329e+1\u001b[0m | \u001b[0m 0.1304  \u001b[0m | \u001b[0m 4.929   \u001b[0m | \u001b[0m 1.237   \u001b[0m | \u001b[0m 2.406   \u001b[0m | \u001b[0m 96.49   \u001b[0m | \u001b[0m 0.8461  \u001b[0m |\n",
      "| \u001b[0m 169     \u001b[0m | \u001b[0m-1.129e+1\u001b[0m | \u001b[0m 0.187   \u001b[0m | \u001b[0m 4.044   \u001b[0m | \u001b[0m 4.861   \u001b[0m | \u001b[0m 3.672   \u001b[0m | \u001b[0m 92.26   \u001b[0m | \u001b[0m 0.9304  \u001b[0m |\n",
      "| \u001b[0m 170     \u001b[0m | \u001b[0m-1.209e+1\u001b[0m | \u001b[0m 0.2     \u001b[0m | \u001b[0m 7.076   \u001b[0m | \u001b[0m 1.635   \u001b[0m | \u001b[0m 5.0     \u001b[0m | \u001b[0m 91.9    \u001b[0m | \u001b[0m 0.5     \u001b[0m |\n",
      "| \u001b[0m 171     \u001b[0m | \u001b[0m-1.134e+1\u001b[0m | \u001b[0m 0.08932 \u001b[0m | \u001b[0m 9.053   \u001b[0m | \u001b[0m 4.609   \u001b[0m | \u001b[0m 3.438   \u001b[0m | \u001b[0m 90.21   \u001b[0m | \u001b[0m 0.9133  \u001b[0m |\n",
      "| \u001b[0m 172     \u001b[0m | \u001b[0m-1.372e+1\u001b[0m | \u001b[0m 0.02139 \u001b[0m | \u001b[0m 5.389   \u001b[0m | \u001b[0m 2.981   \u001b[0m | \u001b[0m 2.294   \u001b[0m | \u001b[0m 88.06   \u001b[0m | \u001b[0m 1.0     \u001b[0m |\n",
      "| \u001b[0m 173     \u001b[0m | \u001b[0m-1.293e+1\u001b[0m | \u001b[0m 0.1294  \u001b[0m | \u001b[0m 9.908   \u001b[0m | \u001b[0m 1.012   \u001b[0m | \u001b[0m 4.407   \u001b[0m | \u001b[0m 87.9    \u001b[0m | \u001b[0m 0.5325  \u001b[0m |\n",
      "| \u001b[0m 174     \u001b[0m | \u001b[0m-1.174e+1\u001b[0m | \u001b[0m 0.1873  \u001b[0m | \u001b[0m 9.946   \u001b[0m | \u001b[0m 4.47    \u001b[0m | \u001b[0m 2.062   \u001b[0m | \u001b[0m 98.94   \u001b[0m | \u001b[0m 0.635   \u001b[0m |\n",
      "| \u001b[0m 175     \u001b[0m | \u001b[0m-1.187e+1\u001b[0m | \u001b[0m 0.1108  \u001b[0m | \u001b[0m 9.494   \u001b[0m | \u001b[0m 1.514   \u001b[0m | \u001b[0m 2.122   \u001b[0m | \u001b[0m 93.06   \u001b[0m | \u001b[0m 0.6826  \u001b[0m |\n",
      "| \u001b[0m 176     \u001b[0m | \u001b[0m-1.188e+1\u001b[0m | \u001b[0m 0.2     \u001b[0m | \u001b[0m 9.444   \u001b[0m | \u001b[0m 5.0     \u001b[0m | \u001b[0m 5.0     \u001b[0m | \u001b[0m 84.86   \u001b[0m | \u001b[0m 1.0     \u001b[0m |\n",
      "| \u001b[0m 177     \u001b[0m | \u001b[0m-1.127e+1\u001b[0m | \u001b[0m 0.0411  \u001b[0m | \u001b[0m 9.875   \u001b[0m | \u001b[0m 4.653   \u001b[0m | \u001b[0m 2.056   \u001b[0m | \u001b[0m 204.4   \u001b[0m | \u001b[0m 0.8748  \u001b[0m |\n",
      "| \u001b[0m 178     \u001b[0m | \u001b[0m-1.086e+1\u001b[0m | \u001b[0m 0.04286 \u001b[0m | \u001b[0m 8.358   \u001b[0m | \u001b[0m 1.904   \u001b[0m | \u001b[0m 4.201   \u001b[0m | \u001b[0m 81.07   \u001b[0m | \u001b[0m 0.5688  \u001b[0m |\n",
      "| \u001b[0m 179     \u001b[0m | \u001b[0m-1.105e+1\u001b[0m | \u001b[0m 0.08595 \u001b[0m | \u001b[0m 5.222   \u001b[0m | \u001b[0m 4.372   \u001b[0m | \u001b[0m 3.131   \u001b[0m | \u001b[0m 81.54   \u001b[0m | \u001b[0m 0.8864  \u001b[0m |\n",
      "| \u001b[0m 180     \u001b[0m | \u001b[0m-1.202e+1\u001b[0m | \u001b[0m 0.2     \u001b[0m | \u001b[0m 7.75    \u001b[0m | \u001b[0m 5.0     \u001b[0m | \u001b[0m 5.0     \u001b[0m | \u001b[0m 78.26   \u001b[0m | \u001b[0m 1.0     \u001b[0m |\n",
      "| \u001b[0m 181     \u001b[0m | \u001b[0m-1.415e+1\u001b[0m | \u001b[0m 0.2     \u001b[0m | \u001b[0m 5.655   \u001b[0m | \u001b[0m 1.421   \u001b[0m | \u001b[0m 2.0     \u001b[0m | \u001b[0m 78.2    \u001b[0m | \u001b[0m 1.0     \u001b[0m |\n",
      "| \u001b[0m 182     \u001b[0m | \u001b[0m-1.137e+1\u001b[0m | \u001b[0m 0.1013  \u001b[0m | \u001b[0m 5.831   \u001b[0m | \u001b[0m 1.008   \u001b[0m | \u001b[0m 4.309   \u001b[0m | \u001b[0m 83.82   \u001b[0m | \u001b[0m 0.64    \u001b[0m |\n",
      "| \u001b[0m 183     \u001b[0m | \u001b[0m-1.15e+12\u001b[0m | \u001b[0m 0.1705  \u001b[0m | \u001b[0m 8.95    \u001b[0m | \u001b[0m 4.602   \u001b[0m | \u001b[0m 2.232   \u001b[0m | \u001b[0m 81.2    \u001b[0m | \u001b[0m 0.6411  \u001b[0m |\n",
      "| \u001b[0m 184     \u001b[0m | \u001b[0m-1.145e+1\u001b[0m | \u001b[0m 0.05284 \u001b[0m | \u001b[0m 9.75    \u001b[0m | \u001b[0m 3.319   \u001b[0m | \u001b[0m 3.299   \u001b[0m | \u001b[0m 73.16   \u001b[0m | \u001b[0m 0.6504  \u001b[0m |\n",
      "| \u001b[0m 185     \u001b[0m | \u001b[0m-4.65e+12\u001b[0m | \u001b[0m 0.0005  \u001b[0m | \u001b[0m 5.632   \u001b[0m | \u001b[0m 5.0     \u001b[0m | \u001b[0m 5.0     \u001b[0m | \u001b[0m 73.03   \u001b[0m | \u001b[0m 0.5     \u001b[0m |\n",
      "| \u001b[0m 186     \u001b[0m | \u001b[0m-1.154e+1\u001b[0m | \u001b[0m 0.1699  \u001b[0m | \u001b[0m 9.765   \u001b[0m | \u001b[0m 4.331   \u001b[0m | \u001b[0m 2.88    \u001b[0m | \u001b[0m 198.3   \u001b[0m | \u001b[0m 0.8794  \u001b[0m |\n",
      "| \u001b[0m 187     \u001b[0m | \u001b[0m-2.143e+1\u001b[0m | \u001b[0m 0.008841\u001b[0m | \u001b[0m 9.611   \u001b[0m | \u001b[0m 1.66    \u001b[0m | \u001b[0m 2.722   \u001b[0m | \u001b[0m 76.59   \u001b[0m | \u001b[0m 0.7051  \u001b[0m |\n",
      "| \u001b[0m 188     \u001b[0m | \u001b[0m-4.349e+1\u001b[0m | \u001b[0m 0.001155\u001b[0m | \u001b[0m 9.656   \u001b[0m | \u001b[0m 1.113   \u001b[0m | \u001b[0m 2.948   \u001b[0m | \u001b[0m 69.66   \u001b[0m | \u001b[0m 0.6607  \u001b[0m |\n",
      "| \u001b[0m 189     \u001b[0m | \u001b[0m-1.186e+1\u001b[0m | \u001b[0m 0.07648 \u001b[0m | \u001b[0m 9.277   \u001b[0m | \u001b[0m 2.483   \u001b[0m | \u001b[0m 2.063   \u001b[0m | \u001b[0m 84.23   \u001b[0m | \u001b[0m 0.7684  \u001b[0m |\n",
      "| \u001b[0m 190     \u001b[0m | \u001b[0m-1.094e+1\u001b[0m | \u001b[0m 0.1052  \u001b[0m | \u001b[0m 4.814   \u001b[0m | \u001b[0m 4.983   \u001b[0m | \u001b[0m 4.649   \u001b[0m | \u001b[0m 84.98   \u001b[0m | \u001b[0m 0.5826  \u001b[0m |\n",
      "| \u001b[0m 191     \u001b[0m | \u001b[0m-1.122e+1\u001b[0m | \u001b[0m 0.06213 \u001b[0m | \u001b[0m 3.049   \u001b[0m | \u001b[0m 4.712   \u001b[0m | \u001b[0m 2.968   \u001b[0m | \u001b[0m 218.3   \u001b[0m | \u001b[0m 0.6466  \u001b[0m |\n",
      "| \u001b[0m 192     \u001b[0m | \u001b[0m-1.381e+1\u001b[0m | \u001b[0m 0.1389  \u001b[0m | \u001b[0m 9.803   \u001b[0m | \u001b[0m 1.258   \u001b[0m | \u001b[0m 4.637   \u001b[0m | \u001b[0m 97.07   \u001b[0m | \u001b[0m 0.5427  \u001b[0m |\n",
      "| \u001b[0m 193     \u001b[0m | \u001b[0m-4.536e+1\u001b[0m | \u001b[0m 0.0005  \u001b[0m | \u001b[0m 6.69    \u001b[0m | \u001b[0m 5.0     \u001b[0m | \u001b[0m 2.0     \u001b[0m | \u001b[0m 103.8   \u001b[0m | \u001b[0m 1.0     \u001b[0m |\n",
      "| \u001b[0m 194     \u001b[0m | \u001b[0m-1.082e+1\u001b[0m | \u001b[0m 0.1988  \u001b[0m | \u001b[0m 3.467   \u001b[0m | \u001b[0m 4.841   \u001b[0m | \u001b[0m 2.191   \u001b[0m | \u001b[0m 249.2   \u001b[0m | \u001b[0m 0.5303  \u001b[0m |\n",
      "| \u001b[0m 195     \u001b[0m | \u001b[0m-1.148e+1\u001b[0m | \u001b[0m 0.1287  \u001b[0m | \u001b[0m 9.274   \u001b[0m | \u001b[0m 4.884   \u001b[0m | \u001b[0m 4.513   \u001b[0m | \u001b[0m 194.3   \u001b[0m | \u001b[0m 0.9867  \u001b[0m |\n",
      "| \u001b[0m 196     \u001b[0m | \u001b[0m-1.122e+1\u001b[0m | \u001b[0m 0.153   \u001b[0m | \u001b[0m 5.481   \u001b[0m | \u001b[0m 4.861   \u001b[0m | \u001b[0m 2.301   \u001b[0m | \u001b[0m 197.3   \u001b[0m | \u001b[0m 0.9628  \u001b[0m |\n",
      "| \u001b[0m 197     \u001b[0m | \u001b[0m-1.394e+1\u001b[0m | \u001b[0m 0.1373  \u001b[0m | \u001b[0m 9.444   \u001b[0m | \u001b[0m 1.416   \u001b[0m | \u001b[0m 2.098   \u001b[0m | \u001b[0m 195.1   \u001b[0m | \u001b[0m 0.8015  \u001b[0m |\n",
      "| \u001b[0m 198     \u001b[0m | \u001b[0m-1.13e+12\u001b[0m | \u001b[0m 0.1644  \u001b[0m | \u001b[0m 3.079   \u001b[0m | \u001b[0m 1.912   \u001b[0m | \u001b[0m 4.986   \u001b[0m | \u001b[0m 82.23   \u001b[0m | \u001b[0m 0.9011  \u001b[0m |\n",
      "| \u001b[0m 199     \u001b[0m | \u001b[0m-4.607e+1\u001b[0m | \u001b[0m 0.0005  \u001b[0m | \u001b[0m 3.0     \u001b[0m | \u001b[0m 1.0     \u001b[0m | \u001b[0m 5.0     \u001b[0m | \u001b[0m 93.14   \u001b[0m | \u001b[0m 0.5     \u001b[0m |\n",
      "| \u001b[0m 200     \u001b[0m | \u001b[0m-4.205e+1\u001b[0m | \u001b[0m 0.0005  \u001b[0m | \u001b[0m 6.549   \u001b[0m | \u001b[0m 1.0     \u001b[0m | \u001b[0m 5.0     \u001b[0m | \u001b[0m 213.7   \u001b[0m | \u001b[0m 0.5     \u001b[0m |\n",
      "| \u001b[0m 201     \u001b[0m | \u001b[0m-1.274e+1\u001b[0m | \u001b[0m 0.1406  \u001b[0m | \u001b[0m 4.515   \u001b[0m | \u001b[0m 1.456   \u001b[0m | \u001b[0m 2.743   \u001b[0m | \u001b[0m 219.1   \u001b[0m | \u001b[0m 0.5036  \u001b[0m |\n",
      "| \u001b[0m 202     \u001b[0m | \u001b[0m-1.124e+1\u001b[0m | \u001b[0m 0.1487  \u001b[0m | \u001b[0m 3.202   \u001b[0m | \u001b[0m 4.654   \u001b[0m | \u001b[0m 2.241   \u001b[0m | \u001b[0m 98.09   \u001b[0m | \u001b[0m 0.7817  \u001b[0m |\n",
      "| \u001b[0m 203     \u001b[0m | \u001b[0m-1.262e+1\u001b[0m | \u001b[0m 0.2     \u001b[0m | \u001b[0m 7.323   \u001b[0m | \u001b[0m 5.0     \u001b[0m | \u001b[0m 5.0     \u001b[0m | \u001b[0m 492.9   \u001b[0m | \u001b[0m 0.5     \u001b[0m |\n"
     ]
    },
    {
     "name": "stdout",
     "output_type": "stream",
     "text": [
      "| \u001b[0m 204     \u001b[0m | \u001b[0m-1.165e+1\u001b[0m | \u001b[0m 0.06678 \u001b[0m | \u001b[0m 7.191   \u001b[0m | \u001b[0m 3.96    \u001b[0m | \u001b[0m 4.689   \u001b[0m | \u001b[0m 98.16   \u001b[0m | \u001b[0m 0.6295  \u001b[0m |\n",
      "| \u001b[0m 205     \u001b[0m | \u001b[0m-1.101e+1\u001b[0m | \u001b[0m 0.0505  \u001b[0m | \u001b[0m 3.08    \u001b[0m | \u001b[0m 3.894   \u001b[0m | \u001b[0m 4.879   \u001b[0m | \u001b[0m 235.3   \u001b[0m | \u001b[0m 0.7892  \u001b[0m |\n",
      "| \u001b[0m 206     \u001b[0m | \u001b[0m-3.304e+1\u001b[0m | \u001b[0m 0.001667\u001b[0m | \u001b[0m 9.515   \u001b[0m | \u001b[0m 4.901   \u001b[0m | \u001b[0m 2.082   \u001b[0m | \u001b[0m 174.2   \u001b[0m | \u001b[0m 0.5126  \u001b[0m |\n",
      "| \u001b[0m 207     \u001b[0m | \u001b[0m-1.065e+1\u001b[0m | \u001b[0m 0.112   \u001b[0m | \u001b[0m 6.231   \u001b[0m | \u001b[0m 4.847   \u001b[0m | \u001b[0m 4.871   \u001b[0m | \u001b[0m 88.88   \u001b[0m | \u001b[0m 0.6955  \u001b[0m |\n",
      "| \u001b[0m 208     \u001b[0m | \u001b[0m-1.148e+1\u001b[0m | \u001b[0m 0.05848 \u001b[0m | \u001b[0m 9.96    \u001b[0m | \u001b[0m 4.04    \u001b[0m | \u001b[0m 4.801   \u001b[0m | \u001b[0m 207.1   \u001b[0m | \u001b[0m 0.6391  \u001b[0m |\n",
      "| \u001b[0m 209     \u001b[0m | \u001b[0m-1.165e+1\u001b[0m | \u001b[0m 0.1913  \u001b[0m | \u001b[0m 7.535   \u001b[0m | \u001b[0m 4.43    \u001b[0m | \u001b[0m 2.049   \u001b[0m | \u001b[0m 92.0    \u001b[0m | \u001b[0m 0.5863  \u001b[0m |\n",
      "| \u001b[0m 210     \u001b[0m | \u001b[0m-1.407e+1\u001b[0m | \u001b[0m 0.1309  \u001b[0m | \u001b[0m 9.344   \u001b[0m | \u001b[0m 1.247   \u001b[0m | \u001b[0m 4.856   \u001b[0m | \u001b[0m 112.0   \u001b[0m | \u001b[0m 0.9003  \u001b[0m |\n",
      "=================================================================================================\n"
     ]
    }
   ],
   "source": [
    "BO_gbm.maximize(init_points = 10, n_iter = 200)"
   ]
  },
  {
   "cell_type": "code",
   "execution_count": 67,
   "metadata": {
    "colab": {
     "base_uri": "https://localhost:8080/"
    },
    "executionInfo": {
     "elapsed": 1484,
     "status": "ok",
     "timestamp": 1606877671267,
     "user": {
      "displayName": "설재형",
      "photoUrl": "",
      "userId": "14774941427314282713"
     },
     "user_tz": -540
    },
    "id": "UaeEyu9p_1gJ",
    "outputId": "988cf2e7-0e72-46f9-d2db-31354d0fa7d1"
   },
   "outputs": [
    {
     "data": {
      "text/plain": [
       "{'target': -1037174811024.0879,\n",
       " 'params': {'learning_rate': 0.030557011409722508,\n",
       "  'max_depth': 3.9429737098421787,\n",
       "  'min_samples_leaf': 3.22187220977282,\n",
       "  'min_samples_split': 2.6134814238850232,\n",
       "  'n_estimators': 232.84243392359306,\n",
       "  'subsample': 0.6107963560307076}}"
      ]
     },
     "execution_count": 67,
     "metadata": {},
     "output_type": "execute_result"
    }
   ],
   "source": [
    "BO_gbm.max"
   ]
  },
  {
   "cell_type": "code",
   "execution_count": 68,
   "metadata": {
    "id": "vLXifNNl_9YN"
   },
   "outputs": [],
   "source": [
    "params = BO_gbm.max['params']\n",
    "params['max_depth'] = int(round(params['max_depth']))\n",
    "params['n_estimators'] = int(round(params['n_estimators']))\n",
    "params['min_samples_leaf'] = int(round(params['min_samples_leaf']))\n",
    "params['min_samples_split'] = int(round(params['min_samples_split']))"
   ]
  },
  {
   "cell_type": "code",
   "execution_count": 69,
   "metadata": {
    "colab": {
     "base_uri": "https://localhost:8080/"
    },
    "executionInfo": {
     "elapsed": 1954,
     "status": "ok",
     "timestamp": 1606877679452,
     "user": {
      "displayName": "설재형",
      "photoUrl": "",
      "userId": "14774941427314282713"
     },
     "user_tz": -540
    },
    "id": "KqP821bKADLK",
    "outputId": "08eda835-69af-42a1-c336-ea03beca834c"
   },
   "outputs": [
    {
     "name": "stderr",
     "output_type": "stream",
     "text": [
      "C:\\Users\\user\\anaconda3\\lib\\site-packages\\sklearn\\utils\\validation.py:73: DataConversionWarning: A column-vector y was passed when a 1d array was expected. Please change the shape of y to (n_samples, ), for example using ravel().\n",
      "  return f(**kwargs)\n"
     ]
    }
   ],
   "source": [
    "gbm = GradientBoostingRegressor(random_state = 777, **params)\n",
    "gbm.fit(x_train, y_train)\n",
    "finalgbm = show_test_data.copy()\n",
    "finalgbm['num_off_box'] = gbm.predict(x_test)"
   ]
  },
  {
   "cell_type": "code",
   "execution_count": 70,
   "metadata": {
    "colab": {
     "base_uri": "https://localhost:8080/"
    },
    "executionInfo": {
     "elapsed": 1302,
     "status": "ok",
     "timestamp": 1606877685245,
     "user": {
      "displayName": "설재형",
      "photoUrl": "",
      "userId": "14774941427314282713"
     },
     "user_tz": -540
    },
    "id": "6yWUQnFYPL6k",
    "outputId": "bf0be11b-327a-49ab-e548-ac00a41ea7d8"
   },
   "outputs": [
    {
     "name": "stdout",
     "output_type": "stream",
     "text": [
      "파라미터 조정후 lgb 모델의 Mean_Squared_Error =  432870950787.87115\n",
      "파라미터 조정후 lgb 모델의 RMSE =  657929.2901124491\n",
      "파라미터 조정후 lgb 모델의 결정계수 = 0.8573106653237061\n"
     ]
    }
   ],
   "source": [
    "print('파라미터 조정후 lgb 모델의 Mean_Squared_Error = ', mean_squared_error(movie_data_test['num_off_box'], finalgbm['num_off_box']))\n",
    "print('파라미터 조정후 lgb 모델의 RMSE = ',  mean_squared_error(movie_data_test['num_off_box'], finalgbm['num_off_box'])**0.5)\n",
    "print(\"파라미터 조정후 lgb 모델의 결정계수 =\", r2_score(movie_data_test['num_off_box'], finalgbm['num_off_box']))"
   ]
  },
  {
   "cell_type": "code",
   "execution_count": 71,
   "metadata": {
    "colab": {
     "base_uri": "https://localhost:8080/",
     "height": 419
    },
    "executionInfo": {
     "elapsed": 1143,
     "status": "ok",
     "timestamp": 1606884232190,
     "user": {
      "displayName": "설재형",
      "photoUrl": "",
      "userId": "14774941427314282713"
     },
     "user_tz": -540
    },
    "id": "eTkDDEVyADB-",
    "outputId": "aa3a635b-bb2b-4cc6-d3b0-33a1489e4529"
   },
   "outputs": [
    {
     "data": {
      "text/html": [
       "<div>\n",
       "<style scoped>\n",
       "    .dataframe tbody tr th:only-of-type {\n",
       "        vertical-align: middle;\n",
       "    }\n",
       "\n",
       "    .dataframe tbody tr th {\n",
       "        vertical-align: top;\n",
       "    }\n",
       "\n",
       "    .dataframe thead th {\n",
       "        text-align: right;\n",
       "    }\n",
       "</style>\n",
       "<table border=\"1\" class=\"dataframe\">\n",
       "  <thead>\n",
       "    <tr style=\"text-align: right;\">\n",
       "      <th></th>\n",
       "      <th>title</th>\n",
       "      <th>genre</th>\n",
       "      <th>national</th>\n",
       "      <th>num_off_box</th>\n",
       "    </tr>\n",
       "  </thead>\n",
       "  <tbody>\n",
       "    <tr>\n",
       "      <th>0</th>\n",
       "      <td>메이즈 러너: 스코치 트라이얼</td>\n",
       "      <td>action</td>\n",
       "      <td>America</td>\n",
       "      <td>2.256244e+06</td>\n",
       "    </tr>\n",
       "    <tr>\n",
       "      <th>1</th>\n",
       "      <td>극장판 프리파라 모두의 동경♪ 렛츠고☆프리파리</td>\n",
       "      <td>animation</td>\n",
       "      <td>Japan</td>\n",
       "      <td>1.223597e+05</td>\n",
       "    </tr>\n",
       "    <tr>\n",
       "      <th>2</th>\n",
       "      <td>스타워즈: 깨어난 포스</td>\n",
       "      <td>action</td>\n",
       "      <td>America</td>\n",
       "      <td>2.184723e+06</td>\n",
       "    </tr>\n",
       "    <tr>\n",
       "      <th>3</th>\n",
       "      <td>약장수</td>\n",
       "      <td>dramas</td>\n",
       "      <td>SouthKorea</td>\n",
       "      <td>1.093927e+05</td>\n",
       "    </tr>\n",
       "    <tr>\n",
       "      <th>4</th>\n",
       "      <td>헝거게임: 캣칭 파이어</td>\n",
       "      <td>fantasy</td>\n",
       "      <td>America</td>\n",
       "      <td>1.954392e+06</td>\n",
       "    </tr>\n",
       "    <tr>\n",
       "      <th>...</th>\n",
       "      <td>...</td>\n",
       "      <td>...</td>\n",
       "      <td>...</td>\n",
       "      <td>...</td>\n",
       "    </tr>\n",
       "    <tr>\n",
       "      <th>260</th>\n",
       "      <td>범죄도시</td>\n",
       "      <td>crime</td>\n",
       "      <td>SouthKorea</td>\n",
       "      <td>8.532145e+06</td>\n",
       "    </tr>\n",
       "    <tr>\n",
       "      <th>261</th>\n",
       "      <td>빅뱅 메이드</td>\n",
       "      <td>documentry</td>\n",
       "      <td>SouthKorea</td>\n",
       "      <td>8.578440e+04</td>\n",
       "    </tr>\n",
       "    <tr>\n",
       "      <th>262</th>\n",
       "      <td>그레이의 50가지 그림자</td>\n",
       "      <td>dramas</td>\n",
       "      <td>America</td>\n",
       "      <td>5.089228e+05</td>\n",
       "    </tr>\n",
       "    <tr>\n",
       "      <th>263</th>\n",
       "      <td>블랙 팬서</td>\n",
       "      <td>action</td>\n",
       "      <td>America</td>\n",
       "      <td>4.652492e+06</td>\n",
       "    </tr>\n",
       "    <tr>\n",
       "      <th>264</th>\n",
       "      <td>마이 리틀 히어로</td>\n",
       "      <td>dramas</td>\n",
       "      <td>SouthKorea</td>\n",
       "      <td>2.907322e+05</td>\n",
       "    </tr>\n",
       "  </tbody>\n",
       "</table>\n",
       "<p>265 rows × 4 columns</p>\n",
       "</div>"
      ],
      "text/plain": [
       "                         title       genre    national   num_off_box\n",
       "0             메이즈 러너: 스코치 트라이얼      action     America  2.256244e+06\n",
       "1    극장판 프리파라 모두의 동경♪ 렛츠고☆프리파리   animation       Japan  1.223597e+05\n",
       "2                 스타워즈: 깨어난 포스      action     America  2.184723e+06\n",
       "3                          약장수      dramas  SouthKorea  1.093927e+05\n",
       "4                 헝거게임: 캣칭 파이어     fantasy     America  1.954392e+06\n",
       "..                         ...         ...         ...           ...\n",
       "260                       범죄도시       crime  SouthKorea  8.532145e+06\n",
       "261                     빅뱅 메이드  documentry  SouthKorea  8.578440e+04\n",
       "262              그레이의 50가지 그림자      dramas     America  5.089228e+05\n",
       "263                      블랙 팬서      action     America  4.652492e+06\n",
       "264                  마이 리틀 히어로      dramas  SouthKorea  2.907322e+05\n",
       "\n",
       "[265 rows x 4 columns]"
      ]
     },
     "execution_count": 71,
     "metadata": {},
     "output_type": "execute_result"
    }
   ],
   "source": [
    "finalgbm"
   ]
  },
  {
   "cell_type": "code",
   "execution_count": 72,
   "metadata": {
    "colab": {
     "base_uri": "https://localhost:8080/"
    },
    "executionInfo": {
     "elapsed": 1221,
     "status": "ok",
     "timestamp": 1606877696572,
     "user": {
      "displayName": "설재형",
      "photoUrl": "",
      "userId": "14774941427314282713"
     },
     "user_tz": -540
    },
    "id": "z4zSFGZDrcnS",
    "outputId": "8fbf9d40-49c3-43b7-b3a2-7fd640e0bc8b"
   },
   "outputs": [
    {
     "name": "stdout",
     "output_type": "stream",
     "text": [
      "GradientBoostingRegressor(learning_rate=0.030557011409722508, max_depth=4,\n",
      "                          min_samples_leaf=3, min_samples_split=3,\n",
      "                          n_estimators=233, random_state=777,\n",
      "                          subsample=0.6107963560307076)\n",
      "LGBMRegressor(colsample_bytree=0.9912664767877215,\n",
      "              learning_rate=0.19443159578980238, max_depth=8,\n",
      "              min_child_weight=7.3717217915267526, n_estimators=148,\n",
      "              num_leaves=5, random_state=777, subsample=0.5319290011403701)\n",
      "XGBRegressor(base_score=0.5, booster='gbtree', colsample_bylevel=1,\n",
      "             colsample_bynode=1, colsample_bytree=0.7622323087547037,\n",
      "             gamma=4.668891654884576, gpu_id=-1, importance_type='gain',\n",
      "             interaction_constraints='', learning_rate=0.0799426516186475,\n",
      "             max_delta_step=0, max_depth=5, min_child_weight=1, missing=nan,\n",
      "             monotone_constraints='()', n_estimators=882, n_jobs=8,\n",
      "             num_parallel_tree=1, random_state=777, reg_alpha=0, reg_lambda=1,\n",
      "             scale_pos_weight=1, subsample=0.7463609410494453,\n",
      "             tree_method='exact', validate_parameters=1, verbosity=None)\n",
      "RandomForestRegressor(n_estimators=1000, random_state=777)\n"
     ]
    }
   ],
   "source": [
    "print(gbm)\n",
    "print(final_lgb)\n",
    "print(final_xgb)\n",
    "print(model_rf)"
   ]
  },
  {
   "cell_type": "code",
   "execution_count": 73,
   "metadata": {
    "id": "etxLhxTd9pCR"
   },
   "outputs": [],
   "source": [
    "final_model= show_test_data.copy()"
   ]
  },
  {
   "cell_type": "code",
   "execution_count": 74,
   "metadata": {
    "id": "5jizFQX196-5"
   },
   "outputs": [],
   "source": [
    "final_model['num_off_box']=(gbm.predict(x_test)+final_lgb.predict(x_test)+final_xgb.predict(x_test)+model_rf.predict(x_test))/4"
   ]
  },
  {
   "cell_type": "code",
   "execution_count": 75,
   "metadata": {
    "colab": {
     "base_uri": "https://localhost:8080/"
    },
    "executionInfo": {
     "elapsed": 1374,
     "status": "ok",
     "timestamp": 1606877711733,
     "user": {
      "displayName": "설재형",
      "photoUrl": "",
      "userId": "14774941427314282713"
     },
     "user_tz": -540
    },
    "id": "Y1k_ER8SAYQk",
    "outputId": "be9c2144-59f8-4d5b-8e0e-be84c7c84d25"
   },
   "outputs": [
    {
     "name": "stdout",
     "output_type": "stream",
     "text": [
      "<class 'pandas.core.frame.DataFrame'>\n",
      "RangeIndex: 265 entries, 0 to 264\n",
      "Data columns (total 4 columns):\n",
      " #   Column       Non-Null Count  Dtype  \n",
      "---  ------       --------------  -----  \n",
      " 0   title        265 non-null    object \n",
      " 1   genre        265 non-null    object \n",
      " 2   national     265 non-null    object \n",
      " 3   num_off_box  265 non-null    float64\n",
      "dtypes: float64(1), object(3)\n",
      "memory usage: 8.4+ KB\n"
     ]
    }
   ],
   "source": [
    "final_model.info()"
   ]
  },
  {
   "cell_type": "code",
   "execution_count": 76,
   "metadata": {
    "colab": {
     "base_uri": "https://localhost:8080/"
    },
    "executionInfo": {
     "elapsed": 1021,
     "status": "ok",
     "timestamp": 1606877713851,
     "user": {
      "displayName": "설재형",
      "photoUrl": "",
      "userId": "14774941427314282713"
     },
     "user_tz": -540
    },
    "id": "R7aW6x8HAbeU",
    "outputId": "419e1b48-c43c-42cc-b66c-d2a4365990c6"
   },
   "outputs": [
    {
     "name": "stdout",
     "output_type": "stream",
     "text": [
      "최종 모델의 Mean_Squared_Error =  411544558661.7484\n",
      "최종 모델의 RMSE =  641517.3876534824\n",
      "최종 모델의 결정계수 = 0.864340586592351\n"
     ]
    }
   ],
   "source": [
    "print('최종 모델의 Mean_Squared_Error = ', mean_squared_error(movie_data_test['num_off_box'], final_model['num_off_box']))\n",
    "print('최종 모델의 RMSE = ',  mean_squared_error(movie_data_test['num_off_box'], final_model['num_off_box'])**0.5)\n",
    "print(\"최종 모델의 결정계수 =\", r2_score(movie_data_test['num_off_box'], final_model['num_off_box']))"
   ]
  },
  {
   "cell_type": "code",
   "execution_count": 77,
   "metadata": {
    "colab": {
     "base_uri": "https://localhost:8080/",
     "height": 419
    },
    "executionInfo": {
     "elapsed": 1792,
     "status": "ok",
     "timestamp": 1606877763873,
     "user": {
      "displayName": "설재형",
      "photoUrl": "",
      "userId": "14774941427314282713"
     },
     "user_tz": -540
    },
    "id": "bI2MMJ8QAg1S",
    "outputId": "9624e504-494e-4544-ece8-f55e66fa7ba8"
   },
   "outputs": [
    {
     "data": {
      "text/html": [
       "<div>\n",
       "<style scoped>\n",
       "    .dataframe tbody tr th:only-of-type {\n",
       "        vertical-align: middle;\n",
       "    }\n",
       "\n",
       "    .dataframe tbody tr th {\n",
       "        vertical-align: top;\n",
       "    }\n",
       "\n",
       "    .dataframe thead th {\n",
       "        text-align: right;\n",
       "    }\n",
       "</style>\n",
       "<table border=\"1\" class=\"dataframe\">\n",
       "  <thead>\n",
       "    <tr style=\"text-align: right;\">\n",
       "      <th></th>\n",
       "      <th>title</th>\n",
       "      <th>genre</th>\n",
       "      <th>national</th>\n",
       "      <th>num_off_box</th>\n",
       "    </tr>\n",
       "  </thead>\n",
       "  <tbody>\n",
       "    <tr>\n",
       "      <th>0</th>\n",
       "      <td>메이즈 러너: 스코치 트라이얼</td>\n",
       "      <td>action</td>\n",
       "      <td>America</td>\n",
       "      <td>2.315854e+06</td>\n",
       "    </tr>\n",
       "    <tr>\n",
       "      <th>1</th>\n",
       "      <td>극장판 프리파라 모두의 동경♪ 렛츠고☆프리파리</td>\n",
       "      <td>animation</td>\n",
       "      <td>Japan</td>\n",
       "      <td>1.272992e+05</td>\n",
       "    </tr>\n",
       "    <tr>\n",
       "      <th>2</th>\n",
       "      <td>스타워즈: 깨어난 포스</td>\n",
       "      <td>action</td>\n",
       "      <td>America</td>\n",
       "      <td>2.383206e+06</td>\n",
       "    </tr>\n",
       "    <tr>\n",
       "      <th>3</th>\n",
       "      <td>약장수</td>\n",
       "      <td>dramas</td>\n",
       "      <td>SouthKorea</td>\n",
       "      <td>1.008907e+05</td>\n",
       "    </tr>\n",
       "    <tr>\n",
       "      <th>4</th>\n",
       "      <td>헝거게임: 캣칭 파이어</td>\n",
       "      <td>fantasy</td>\n",
       "      <td>America</td>\n",
       "      <td>1.948094e+06</td>\n",
       "    </tr>\n",
       "    <tr>\n",
       "      <th>...</th>\n",
       "      <td>...</td>\n",
       "      <td>...</td>\n",
       "      <td>...</td>\n",
       "      <td>...</td>\n",
       "    </tr>\n",
       "    <tr>\n",
       "      <th>260</th>\n",
       "      <td>범죄도시</td>\n",
       "      <td>crime</td>\n",
       "      <td>SouthKorea</td>\n",
       "      <td>8.401467e+06</td>\n",
       "    </tr>\n",
       "    <tr>\n",
       "      <th>261</th>\n",
       "      <td>빅뱅 메이드</td>\n",
       "      <td>documentry</td>\n",
       "      <td>SouthKorea</td>\n",
       "      <td>6.950885e+04</td>\n",
       "    </tr>\n",
       "    <tr>\n",
       "      <th>262</th>\n",
       "      <td>그레이의 50가지 그림자</td>\n",
       "      <td>dramas</td>\n",
       "      <td>America</td>\n",
       "      <td>5.324724e+05</td>\n",
       "    </tr>\n",
       "    <tr>\n",
       "      <th>263</th>\n",
       "      <td>블랙 팬서</td>\n",
       "      <td>action</td>\n",
       "      <td>America</td>\n",
       "      <td>5.161488e+06</td>\n",
       "    </tr>\n",
       "    <tr>\n",
       "      <th>264</th>\n",
       "      <td>마이 리틀 히어로</td>\n",
       "      <td>dramas</td>\n",
       "      <td>SouthKorea</td>\n",
       "      <td>2.545697e+05</td>\n",
       "    </tr>\n",
       "  </tbody>\n",
       "</table>\n",
       "<p>265 rows × 4 columns</p>\n",
       "</div>"
      ],
      "text/plain": [
       "                         title       genre    national   num_off_box\n",
       "0             메이즈 러너: 스코치 트라이얼      action     America  2.315854e+06\n",
       "1    극장판 프리파라 모두의 동경♪ 렛츠고☆프리파리   animation       Japan  1.272992e+05\n",
       "2                 스타워즈: 깨어난 포스      action     America  2.383206e+06\n",
       "3                          약장수      dramas  SouthKorea  1.008907e+05\n",
       "4                 헝거게임: 캣칭 파이어     fantasy     America  1.948094e+06\n",
       "..                         ...         ...         ...           ...\n",
       "260                       범죄도시       crime  SouthKorea  8.401467e+06\n",
       "261                     빅뱅 메이드  documentry  SouthKorea  6.950885e+04\n",
       "262              그레이의 50가지 그림자      dramas     America  5.324724e+05\n",
       "263                      블랙 팬서      action     America  5.161488e+06\n",
       "264                  마이 리틀 히어로      dramas  SouthKorea  2.545697e+05\n",
       "\n",
       "[265 rows x 4 columns]"
      ]
     },
     "execution_count": 77,
     "metadata": {},
     "output_type": "execute_result"
    }
   ],
   "source": [
    "final_model"
   ]
  },
  {
   "cell_type": "code",
   "execution_count": 78,
   "metadata": {
    "id": "93aNYRVwZkjN"
   },
   "outputs": [],
   "source": [
    "# 테스트데이터의 관객수를 장르별로 분류\n",
    "subset_data_test_action= movie_data_test[movie_data_test['genre'].str.contains(\"action\")]\n",
    "subset_data_test_adventure = movie_data_test[movie_data_test['genre'].str.contains(\"adventure\")]\n",
    "subset_data_test_animation = movie_data_test[movie_data_test['genre'].str.contains(\"animation\")]\n",
    "subset_data_test_comedy = movie_data_test[movie_data_test['genre'].str.contains(\"comedy\")]\n",
    "subset_data_test_crime = movie_data_test[movie_data_test['genre'].str.contains(\"crime\")]\n",
    "subset_data_test_documentry = movie_data_test[movie_data_test['genre'].str.contains(\"documentry\")]\n",
    "subset_data_test_dramas = movie_data_test[movie_data_test['genre'].str.contains(\"dramas\")]\n",
    "subset_data_test_family = movie_data_test[movie_data_test['genre'].str.contains(\"family\")]\n",
    "subset_data_test_fantasy = movie_data_test[movie_data_test['genre'].str.contains(\"fantasy\")]\n",
    "subset_data_test_historical_drama = movie_data_test[movie_data_test['genre'].str.contains(\"historical_drama\")]\n",
    "subset_data_test_horror = movie_data_test[movie_data_test['genre'].str.contains(\"horror\")]\n",
    "subset_data_test_melo_romance = movie_data_test[movie_data_test['genre'].str.contains(\"melo/romance\")]\n",
    "subset_data_test_musical = movie_data_test[movie_data_test['genre'].str.contains(\"musical\")]\n",
    "subset_data_test_mystery = movie_data_test[movie_data_test['genre'].str.contains(\"mystery\")]\n",
    "subset_data_test_SF = movie_data_test[movie_data_test['genre'].str.contains(\"SF\")]\n",
    "subset_data_test_show = movie_data_test[movie_data_test['genre'].str.contains(\"show\")]\n",
    "subset_data_test_thriller = movie_data_test[movie_data_test['genre'].str.contains(\"thriller\")]\n",
    "subset_data_test_war = movie_data_test[movie_data_test['genre'].str.contains(\"war\")]\n",
    "\n",
    "\n",
    "subset_data_test_genre=[subset_data_test_action,subset_data_test_adventure,subset_data_test_animation,subset_data_test_comedy,subset_data_test_crime,subset_data_test_documentry,subset_data_test_dramas,subset_data_test_family,\n",
    "                       subset_data_test_fantasy,subset_data_test_historical_drama,subset_data_test_horror,subset_data_test_melo_romance,subset_data_test_musical,subset_data_test_mystery,subset_data_test_SF\n",
    "                       ,subset_data_test_show,subset_data_test_thriller,subset_data_test_war]"
   ]
  },
  {
   "cell_type": "code",
   "execution_count": 79,
   "metadata": {
    "id": "T99Ak_EfZAoi"
   },
   "outputs": [],
   "source": [
    "# 최종 모델에서 예측된 관객수를 장르별로 분류\n",
    "subset_final_model_action = final_model[final_model['genre'].str.contains(\"action\")]\n",
    "subset_final_model_adventure = final_model[final_model['genre'].str.contains(\"adventure\")]\n",
    "subset_final_model_animation = final_model[final_model['genre'].str.contains(\"animation\")]\n",
    "subset_final_model_comedy = final_model[final_model['genre'].str.contains(\"comedy\")]\n",
    "subset_final_model_crime = final_model[final_model['genre'].str.contains(\"crime\")]\n",
    "subset_final_model_documentry = final_model[final_model['genre'].str.contains(\"documentry\")]\n",
    "subset_final_model_dramas = final_model[final_model['genre'].str.contains(\"dramas\")]\n",
    "subset_final_model_family = final_model[final_model['genre'].str.contains(\"family\")]\n",
    "subset_final_model_fantasy = final_model[final_model['genre'].str.contains(\"fantasy\")]\n",
    "subset_final_model_historical_drama = final_model[final_model['genre'].str.contains(\"historical_drama\")]\n",
    "subset_final_model_horror = final_model[final_model['genre'].str.contains(\"horror\")]\n",
    "subset_final_model_melo_romance = final_model[final_model['genre'].str.contains(\"melo/romance\")]\n",
    "subset_final_model_musical = final_model[final_model['genre'].str.contains(\"musical\")]\n",
    "subset_final_model_mystery = final_model[final_model['genre'].str.contains(\"mystery\")]\n",
    "subset_final_model_SF =final_model[final_model['genre'].str.contains(\"SF\")]\n",
    "subset_final_model_show = final_model[final_model['genre'].str.contains(\"show\")]\n",
    "subset_final_model_thriller = final_model[final_model['genre'].str.contains(\"thriller\")]\n",
    "subset_final_model_war = final_model[final_model['genre'].str.contains(\"war\")]\n",
    "\n",
    "\n",
    "subset_final_model_genre=[subset_final_model_action,subset_final_model_adventure,subset_final_model_animation,subset_final_model_comedy,subset_final_model_crime,subset_final_model_documentry,subset_final_model_dramas,subset_final_model_family,\n",
    "                      subset_final_model_fantasy,subset_final_model_historical_drama,subset_final_model_horror,subset_final_model_melo_romance,subset_final_model_musical,subset_final_model_mystery,subset_final_model_SF\n",
    "                       ,subset_final_model_show,subset_final_model_thriller,subset_final_model_war]"
   ]
  },
  {
   "cell_type": "code",
   "execution_count": 80,
   "metadata": {
    "colab": {
     "base_uri": "https://localhost:8080/"
    },
    "executionInfo": {
     "elapsed": 1202,
     "status": "ok",
     "timestamp": 1606883694851,
     "user": {
      "displayName": "설재형",
      "photoUrl": "",
      "userId": "14774941427314282713"
     },
     "user_tz": -540
    },
    "id": "y7r4N-35BSn6",
    "outputId": "f88c71d3-52e4-4f76-b6f1-3c4cbbb92f51"
   },
   "outputs": [
    {
     "name": "stderr",
     "output_type": "stream",
     "text": [
      "C:\\Users\\user\\anaconda3\\lib\\site-packages\\sklearn\\metrics\\_regression.py:589: UndefinedMetricWarning: R^2 score is not well-defined with less than two samples.\n",
      "  warnings.warn(msg, UndefinedMetricWarning)\n",
      "C:\\Users\\user\\anaconda3\\lib\\site-packages\\sklearn\\metrics\\_regression.py:589: UndefinedMetricWarning: R^2 score is not well-defined with less than two samples.\n",
      "  warnings.warn(msg, UndefinedMetricWarning)\n",
      "C:\\Users\\user\\anaconda3\\lib\\site-packages\\sklearn\\metrics\\_regression.py:589: UndefinedMetricWarning: R^2 score is not well-defined with less than two samples.\n",
      "  warnings.warn(msg, UndefinedMetricWarning)\n"
     ]
    }
   ],
   "source": [
    "genre_rmse = []\n",
    "genre_r2score = []\n",
    "for m in range(len(subset_data_test_genre)) :\n",
    "    genre_rmse.append(mean_squared_error(subset_data_test_genre[m]['num_off_box'], subset_final_model_genre[m]['num_off_box'])**0.5)\n",
    "    genre_r2score.append(r2_score(subset_data_test_genre[m]['num_off_box'], subset_final_model_genre[m]['num_off_box']))"
   ]
  },
  {
   "cell_type": "code",
   "execution_count": 81,
   "metadata": {
    "colab": {
     "base_uri": "https://localhost:8080/"
    },
    "executionInfo": {
     "elapsed": 1314,
     "status": "ok",
     "timestamp": 1606887571170,
     "user": {
      "displayName": "설재형",
      "photoUrl": "",
      "userId": "14774941427314282713"
     },
     "user_tz": -540
    },
    "id": "7So4HdzM9lmK",
    "outputId": "4b2ac507-7124-4adf-ba57-2ca226db6fdd"
   },
   "outputs": [
    {
     "data": {
      "text/plain": [
       "[624772.6513600488,\n",
       " 1681714.152370453,\n",
       " 511029.1222851775,\n",
       " 543813.4406046981,\n",
       " 907363.9580178242,\n",
       " 14730.368392917771,\n",
       " 647225.5140892607,\n",
       " 58668.32674693321,\n",
       " 415806.085653567,\n",
       " 700360.287895519,\n",
       " 185385.68699930276,\n",
       " 497783.3562058059,\n",
       " 54579.81845542992,\n",
       " 1380169.5624202807,\n",
       " 193724.80929689508,\n",
       " 36706.90594659102,\n",
       " 390139.55683158746,\n",
       " 2555.7942787377688]"
      ]
     },
     "execution_count": 81,
     "metadata": {},
     "output_type": "execute_result"
    }
   ],
   "source": [
    "genre_rmse"
   ]
  },
  {
   "cell_type": "code",
   "execution_count": 82,
   "metadata": {
    "colab": {
     "base_uri": "https://localhost:8080/"
    },
    "executionInfo": {
     "elapsed": 1327,
     "status": "ok",
     "timestamp": 1606883698150,
     "user": {
      "displayName": "설재형",
      "photoUrl": "",
      "userId": "14774941427314282713"
     },
     "user_tz": -540
    },
    "id": "id6wrAB1obsD",
    "outputId": "3d446ba1-5f80-4900-8868-b1f8559a1dd6"
   },
   "outputs": [
    {
     "data": {
      "text/plain": [
       "[0.9192196110312153,\n",
       " 0.6831831886175401,\n",
       " 0.5350934267375842,\n",
       " 0.8740243238108327,\n",
       " 0.8161128156554813,\n",
       " -2.199482001154361,\n",
       " 0.8947292197495196,\n",
       " 0.8904422115037837,\n",
       " 0.10930626964871992,\n",
       " 0.0606555508249349,\n",
       " 0.8412052173612246,\n",
       " 0.8431612622779544,\n",
       " nan,\n",
       " 0.5947600230554904,\n",
       " 0.1260491610087291,\n",
       " nan,\n",
       " 0.8426514114608468,\n",
       " nan]"
      ]
     },
     "execution_count": 82,
     "metadata": {},
     "output_type": "execute_result"
    }
   ],
   "source": [
    "genre_r2score"
   ]
  },
  {
   "cell_type": "code",
   "execution_count": 83,
   "metadata": {
    "id": "rK_WY1kQZL2I"
   },
   "outputs": [],
   "source": [
    "genre_rmse_data = pd.read_csv('movie_data/show_genre_rmse_r2score.csv')"
   ]
  },
  {
   "cell_type": "code",
   "execution_count": 84,
   "metadata": {
    "id": "AWVmDZxeZ3tH"
   },
   "outputs": [],
   "source": [
    "genre_rmse_data['rmse'] = genre_rmse"
   ]
  },
  {
   "cell_type": "code",
   "execution_count": 85,
   "metadata": {
    "id": "c1b9GKBlulkA"
   },
   "outputs": [],
   "source": [
    "genre_rmse_data['r2score'] = genre_r2score"
   ]
  },
  {
   "cell_type": "code",
   "execution_count": 86,
   "metadata": {
    "colab": {
     "base_uri": "https://localhost:8080/",
     "height": 607
    },
    "executionInfo": {
     "elapsed": 1006,
     "status": "ok",
     "timestamp": 1606884532702,
     "user": {
      "displayName": "설재형",
      "photoUrl": "",
      "userId": "14774941427314282713"
     },
     "user_tz": -540
    },
    "id": "LqbM1ZsLabQ_",
    "outputId": "ebe46e71-272b-4769-d1dd-0afb06092e81"
   },
   "outputs": [
    {
     "data": {
      "text/html": [
       "<div>\n",
       "<style scoped>\n",
       "    .dataframe tbody tr th:only-of-type {\n",
       "        vertical-align: middle;\n",
       "    }\n",
       "\n",
       "    .dataframe tbody tr th {\n",
       "        vertical-align: top;\n",
       "    }\n",
       "\n",
       "    .dataframe thead th {\n",
       "        text-align: right;\n",
       "    }\n",
       "</style>\n",
       "<table border=\"1\" class=\"dataframe\">\n",
       "  <thead>\n",
       "    <tr style=\"text-align: right;\">\n",
       "      <th></th>\n",
       "      <th>genre</th>\n",
       "      <th>rmse</th>\n",
       "      <th>r2score</th>\n",
       "    </tr>\n",
       "  </thead>\n",
       "  <tbody>\n",
       "    <tr>\n",
       "      <th>0</th>\n",
       "      <td>action</td>\n",
       "      <td>6.247727e+05</td>\n",
       "      <td>0.919220</td>\n",
       "    </tr>\n",
       "    <tr>\n",
       "      <th>1</th>\n",
       "      <td>adventure</td>\n",
       "      <td>1.681714e+06</td>\n",
       "      <td>0.683183</td>\n",
       "    </tr>\n",
       "    <tr>\n",
       "      <th>2</th>\n",
       "      <td>animation</td>\n",
       "      <td>5.110291e+05</td>\n",
       "      <td>0.535093</td>\n",
       "    </tr>\n",
       "    <tr>\n",
       "      <th>3</th>\n",
       "      <td>comedy</td>\n",
       "      <td>5.438134e+05</td>\n",
       "      <td>0.874024</td>\n",
       "    </tr>\n",
       "    <tr>\n",
       "      <th>4</th>\n",
       "      <td>crime</td>\n",
       "      <td>9.073640e+05</td>\n",
       "      <td>0.816113</td>\n",
       "    </tr>\n",
       "    <tr>\n",
       "      <th>5</th>\n",
       "      <td>documentry</td>\n",
       "      <td>1.473037e+04</td>\n",
       "      <td>-2.199482</td>\n",
       "    </tr>\n",
       "    <tr>\n",
       "      <th>6</th>\n",
       "      <td>dramas</td>\n",
       "      <td>6.472255e+05</td>\n",
       "      <td>0.894729</td>\n",
       "    </tr>\n",
       "    <tr>\n",
       "      <th>7</th>\n",
       "      <td>family</td>\n",
       "      <td>5.866833e+04</td>\n",
       "      <td>0.890442</td>\n",
       "    </tr>\n",
       "    <tr>\n",
       "      <th>8</th>\n",
       "      <td>fantasy</td>\n",
       "      <td>4.158061e+05</td>\n",
       "      <td>0.109306</td>\n",
       "    </tr>\n",
       "    <tr>\n",
       "      <th>9</th>\n",
       "      <td>historical_drama</td>\n",
       "      <td>7.003603e+05</td>\n",
       "      <td>0.060656</td>\n",
       "    </tr>\n",
       "    <tr>\n",
       "      <th>10</th>\n",
       "      <td>horror</td>\n",
       "      <td>1.853857e+05</td>\n",
       "      <td>0.841205</td>\n",
       "    </tr>\n",
       "    <tr>\n",
       "      <th>11</th>\n",
       "      <td>melo_romance</td>\n",
       "      <td>4.977834e+05</td>\n",
       "      <td>0.843161</td>\n",
       "    </tr>\n",
       "    <tr>\n",
       "      <th>12</th>\n",
       "      <td>musical</td>\n",
       "      <td>5.457982e+04</td>\n",
       "      <td>NaN</td>\n",
       "    </tr>\n",
       "    <tr>\n",
       "      <th>13</th>\n",
       "      <td>mystery</td>\n",
       "      <td>1.380170e+06</td>\n",
       "      <td>0.594760</td>\n",
       "    </tr>\n",
       "    <tr>\n",
       "      <th>14</th>\n",
       "      <td>SF</td>\n",
       "      <td>1.937248e+05</td>\n",
       "      <td>0.126049</td>\n",
       "    </tr>\n",
       "    <tr>\n",
       "      <th>15</th>\n",
       "      <td>show</td>\n",
       "      <td>3.670691e+04</td>\n",
       "      <td>NaN</td>\n",
       "    </tr>\n",
       "    <tr>\n",
       "      <th>16</th>\n",
       "      <td>thriller</td>\n",
       "      <td>3.901396e+05</td>\n",
       "      <td>0.842651</td>\n",
       "    </tr>\n",
       "    <tr>\n",
       "      <th>17</th>\n",
       "      <td>war</td>\n",
       "      <td>2.555794e+03</td>\n",
       "      <td>NaN</td>\n",
       "    </tr>\n",
       "  </tbody>\n",
       "</table>\n",
       "</div>"
      ],
      "text/plain": [
       "               genre          rmse   r2score\n",
       "0             action  6.247727e+05  0.919220\n",
       "1          adventure  1.681714e+06  0.683183\n",
       "2          animation  5.110291e+05  0.535093\n",
       "3             comedy  5.438134e+05  0.874024\n",
       "4              crime  9.073640e+05  0.816113\n",
       "5         documentry  1.473037e+04 -2.199482\n",
       "6             dramas  6.472255e+05  0.894729\n",
       "7             family  5.866833e+04  0.890442\n",
       "8            fantasy  4.158061e+05  0.109306\n",
       "9   historical_drama  7.003603e+05  0.060656\n",
       "10            horror  1.853857e+05  0.841205\n",
       "11      melo_romance  4.977834e+05  0.843161\n",
       "12           musical  5.457982e+04       NaN\n",
       "13           mystery  1.380170e+06  0.594760\n",
       "14                SF  1.937248e+05  0.126049\n",
       "15              show  3.670691e+04       NaN\n",
       "16          thriller  3.901396e+05  0.842651\n",
       "17               war  2.555794e+03       NaN"
      ]
     },
     "execution_count": 86,
     "metadata": {},
     "output_type": "execute_result"
    }
   ],
   "source": [
    "genre_rmse_data"
   ]
  },
  {
   "cell_type": "code",
   "execution_count": 87,
   "metadata": {
    "id": "Nw7y7h60lODS"
   },
   "outputs": [],
   "source": [
    "genre_rmse_data.to_csv('genre_rmse_r2score_data.csv', index = False, encoding='cp949')"
   ]
  },
  {
   "cell_type": "code",
   "execution_count": 88,
   "metadata": {
    "id": "jkCA8etyyNQt"
   },
   "outputs": [],
   "source": [
    "final_model.to_csv('final_model_predict_num_off_box.csv', index = False, encoding='cp949')"
   ]
  }
 ],
 "metadata": {
  "colab": {
   "authorship_tag": "ABX9TyOZKj+EYTgHcbkCjtt5XoXu",
   "collapsed_sections": [
    "0Br_0GlU2ea-"
   ],
   "mount_file_id": "1rNdL04XAKbB63ogRnZDYTzT3R-e1DEDr",
   "name": "영화관걕수예측모델_1조.ipynb",
   "provenance": []
  },
  "kernelspec": {
   "display_name": "Python 3",
   "language": "python",
   "name": "python3"
  },
  "language_info": {
   "codemirror_mode": {
    "name": "ipython",
    "version": 3
   },
   "file_extension": ".py",
   "mimetype": "text/x-python",
   "name": "python",
   "nbconvert_exporter": "python",
   "pygments_lexer": "ipython3",
   "version": "3.8.3"
  }
 },
 "nbformat": 4,
 "nbformat_minor": 1
}
