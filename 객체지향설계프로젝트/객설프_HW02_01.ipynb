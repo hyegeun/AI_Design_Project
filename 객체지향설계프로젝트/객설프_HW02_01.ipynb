{
 "cells": [
  {
   "cell_type": "code",
   "execution_count": 2,
   "metadata": {
    "scrolled": false
   },
   "outputs": [
    {
     "name": "stdout",
     "output_type": "stream",
     "text": [
      "오차 제곱 합\n",
      " (150*a + b - 45)**2 + (155*a + b - 50)**2 + (165*a + b - 55)**2 + (170*a + b - 65)**2 + (175*a + b - 70)**2 + (180*a + b - 80)**2\n",
      "\n",
      "a에 대해 편미분:  331350*a + 1990*b - 122550\n",
      "b에 대해 편미분:  1990*a + 12*b - 730\n",
      "\n",
      "a는 1.1118, b는 -123.5404\n"
     ]
    },
    {
     "data": {
      "image/png": "[encoded data removed]",
      "text/plain": [
       "<Figure size 432x288 with 1 Axes>"
      ]
     },
     "metadata": {
      "needs_background": "light"
     },
     "output_type": "display_data"
    },
    {
     "name": "stdout",
     "output_type": "stream",
     "text": [
      "키  190 인 사람의 몸무게:  87.70186335403773\n",
      "None\n"
     ]
    }
   ],
   "source": [
    "import sympy as sym\n",
    "import numpy as np\n",
    "\n",
    "file = open(\"Linear_regression.txt\", 'r')\n",
    "a1 = file.readline()\n",
    "list_a1 = a1.split(' ')\n",
    "b1 = file.readline()\n",
    "list_b1 = b1.split(' ')\n",
    "c1 = file.readline()\n",
    "list_c1 = c1.split(' ')\n",
    "d1 = file.readline()\n",
    "list_d1 = d1.split(' ')\n",
    "e1 = file.readline()\n",
    "list_e1 = e1.split(' ')\n",
    "f1 = file.readline()\n",
    "list_f1 = f1.split(' ')\n",
    "\n",
    "a = sym.Symbol('a')\n",
    "b = sym.Symbol('b')\n",
    "\n",
    "# int형으로 바꿔줌 \n",
    "for i in range(2):\n",
    "    list_a1[i] = (int)(list_a1[i])\n",
    "    list_b1[i] = (int)(list_b1[i])\n",
    "    list_c1[i] = (int)(list_c1[i])\n",
    "    list_d1[i] = (int)(list_d1[i])\n",
    "    list_e1[i] = (int)(list_e1[i])\n",
    "    list_f1[i] = (int)(list_f1[i])\n",
    "\n",
    "# 각 샘플에 대한 오차\n",
    "ra1 = a*list_a1[0] + b - list_a1[1]\n",
    "rb1 = a*list_b1[0] + b - list_b1[1]\n",
    "rc1 = a*list_c1[0] + b - list_c1[1]\n",
    "rd1 = a*list_d1[0] + b - list_d1[1]\n",
    "re1 = a*list_e1[0] + b - list_e1[1]\n",
    "rf1 = a*list_f1[0] + b - list_f1[1]\n",
    "\n",
    "R2 = ra1**2 + rb1**2 + rc1**2 + rd1**2 + re1**2 + rf1**2  # 오차 제곱 합\n",
    "print(\"오차 제곱 합\\n\", R2)\n",
    "\n",
    "ra = sym.diff(R2, a) # a에 대해 편미분\n",
    "print(\"\\na에 대해 편미분: \", ra)\n",
    "rb = sym.diff(R2, b)  # b에 대해 편미분\n",
    "print(\"b에 대해 편미분: \", rb)\n",
    "\n",
    "# 편미분한 각 식의 상수들 \n",
    "z1 = -float(ra.subs({a: 0, b: 0}))\n",
    "z2 = -float(rb.subs({a: 0, b: 0}))\n",
    "zlist = [[z1], [z2]] \n",
    "\n",
    "# 편미분한 각 식의 a 계수\n",
    "x1 = float(sym.diff(ra, a))\n",
    "x2 = float(sym.diff(rb, a))\n",
    "\n",
    "# 편미분한 각 식의 b 계수\n",
    "y1 = float(sym.diff(ra, b))\n",
    "y2 = float(sym.diff(rb, b))\n",
    "\n",
    "rlist = [[x1, y1], [x2, y2]]\n",
    "ablist = [[a], [b]]\n",
    "\n",
    "# 행렬로 계산\n",
    "inv_r = np.linalg.inv(rlist) \n",
    "result = np.dot(inv_r, zlist)\n",
    "print('\\na는 %.4f, b는 %.4f' %(result[0], result[1]))\n",
    "\n",
    "# 2차원 그래프\n",
    "from matplotlib import pyplot as plt\n",
    "\n",
    "x = [list_a1[0], list_b1[0], list_c1[0], list_d1[0], list_e1[0], list_f1[0]]  # 각 샘플들의 키\n",
    "y = [list_a1[1], list_b1[1], list_c1[1], list_d1[1], list_e1[1], list_f1[1]]  # 각 샘플들의 몸무게\n",
    "\n",
    "plt.plot(x,y,'ro')\n",
    "\n",
    "plt.plot([0,190],[-102.2,83.421])\n",
    "\n",
    "plt.xlabel('height')\n",
    "\n",
    "plt.ylabel('weight')\n",
    "\n",
    "plt.xlim([130,190])\n",
    "\n",
    "plt.ylim([30,90])\n",
    "\n",
    "plt.legend(['Samples', 'Linear regression'])\n",
    "\n",
    "plt.show()\n",
    "\n",
    "\n",
    "def checkpoint(ca):\n",
    "    weight = float(result[0]*ca + result[1])\n",
    "    print(\"키 \", ca, \"인 사람의 몸무게: \", weight)\n",
    "\n",
    "print(checkpoint(190))"
   ]
  },
  {
   "cell_type": "code",
   "execution_count": null,
   "metadata": {},
   "outputs": [],
   "source": []
  }
 ],
 "metadata": {
  "kernelspec": {
   "display_name": "Python 3",
   "language": "python",
   "name": "python3"
  },
  "language_info": {
   "codemirror_mode": {
    "name": "ipython",
    "version": 3
   },
   "file_extension": ".py",
   "mimetype": "text/x-python",
   "name": "python",
   "nbconvert_exporter": "python",
   "pygments_lexer": "ipython3",
   "version": "3.8.3"
  }
 },
 "nbformat": 4,
 "nbformat_minor": 4
}
