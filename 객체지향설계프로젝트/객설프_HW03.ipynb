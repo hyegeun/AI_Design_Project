{
 "cells": [
  {
   "cell_type": "code",
   "execution_count": 3,
   "metadata": {},
   "outputs": [
    {
     "name": "stdout",
     "output_type": "stream",
     "text": [
      "W의 값: w1 = 8.6420, w2 = -9.4432\n",
      "b의 값은 1.8125\n"
     ]
    },
    {
     "data": {
      "image/png": "[encoded data removed]",
      "text/plain": [
       "<Figure size 432x288 with 1 Axes>"
      ]
     },
     "metadata": {
      "needs_background": "light"
     },
     "output_type": "display_data"
    }
   ],
   "source": [
    "import pandas as pd\n",
    "import math\n",
    "import numpy as np\n",
    "from matplotlib import pyplot as plt\n",
    "\n",
    "df = pd.read_csv('ann_data.csv')\n",
    "\n",
    "w = [0.5, 0.5]\n",
    "b = 0\n",
    "mu = 0.1\n",
    "\n",
    "x1 = np.array(df.iloc[:, 0:1])\n",
    "x2 = np.array(df.iloc[:, 1:2])\n",
    "tn = np.array(df.iloc[:, 2:3])\n",
    "\n",
    "def sigmoid_list(x_list):\n",
    "    y = np.zeros((len(x_list), 1))\n",
    "    \n",
    "    for i in range(len(x_list)):\n",
    "        y[i] = 1 / ( 1 + math.exp(-x_list[i]))\n",
    "\n",
    "    return y\n",
    "\n",
    "def zeta(w, b, x1, x2):\n",
    "    z = np.zeros((6, 1))\n",
    "    \n",
    "    for i in range(6):\n",
    "        z[i] = w[0]*x1[i] + w[1]*x2[i] + b\n",
    "    \n",
    "    return z\n",
    "\n",
    "for i in range(10000):\n",
    "    y = sigmoid_list(zeta(w, b, x1, x2))\n",
    "    ym = np.ones((6,1)) - y\n",
    "    \n",
    "    w0 = 0\n",
    "    w1 = 0\n",
    "    bp = 0\n",
    "    \n",
    "    for j in range(6):\n",
    "        w0 += mu * (tn[j] - y[j]) * y[j] * ym[j] * x1[j]\n",
    "        w1 += mu * (tn[j] - y[j]) * y[j] * ym[j] * x2[j]\n",
    "        bp += mu * (tn[j] - y[j]) * y[j] * ym[j]\n",
    "    \n",
    "    w[0] += w0[0]\n",
    "    w[1] += w1[0]\n",
    "    b += bp[0]\n",
    "\n",
    "print(\"W의 값: w1 = %.4f, w2 = %.4f\" %(w[0], w[1]))\n",
    "print(\"b의 값은 %.4f\" %b)\n",
    "\n",
    "def visualize(df, w, b):\n",
    "    for i in range(len(df)):\n",
    "        x1_1 = 0\n",
    "        y1_1 = (-w[0] * x1_1 - b) / w[1]\n",
    "        \n",
    "        x1_2 = 0.8\n",
    "        y1_2 = (-w[0] * x1_2 - b) / w[1]\n",
    "        \n",
    "        if df.iloc[i, 2] == 1:\n",
    "            plt.plot(df.iloc[i, 0], df.iloc[i, 1], 'bo')\n",
    "        else:\n",
    "            plt.plot(df.iloc[i, 0], df.iloc[i, 1], 'ro')\n",
    "        \n",
    "        plt.plot([x1_1, x1_2], [y1_1, y1_2], 'skyblue')\n",
    "\n",
    "visualize(df, w, b)"
   ]
  }
 ],
 "metadata": {
  "kernelspec": {
   "display_name": "Python 3",
   "language": "python",
   "name": "python3"
  },
  "language_info": {
   "codemirror_mode": {
    "name": "ipython",
    "version": 3
   },
   "file_extension": ".py",
   "mimetype": "text/x-python",
   "name": "python",
   "nbconvert_exporter": "python",
   "pygments_lexer": "ipython3",
   "version": "3.8.3"
  }
 },
 "nbformat": 4,
 "nbformat_minor": 4
}
